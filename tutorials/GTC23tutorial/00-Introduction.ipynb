{
 "cells": [
  {
   "cell_type": "code",
   "execution_count": 1,
   "id": "937a9069-f99c-4d1d-a616-199656cd54d3",
   "metadata": {},
   "outputs": [],
   "source": [
    "# Copyright 2022 NVIDIA Corporation. All Rights Reserved.\n",
    "#\n",
    "# Licensed under the Apache License, Version 2.0 (the \"License\");\n",
    "# you may not use this file except in compliance with the License.\n",
    "# You may obtain a copy of the License at\n",
    "#\n",
    "#     http://www.apache.org/licenses/LICENSE-2.0\n",
    "#\n",
    "# Unless required by applicable law or agreed to in writing, software\n",
    "# distributed under the License is distributed on an \"AS IS\" BASIS,\n",
    "# WITHOUT WARRANTIES OR CONDITIONS OF ANY KIND, either express or implied.\n",
    "# See the License for the specific language governing permissions and\n",
    "# limitations under the License.\n",
    "# ================================\n",
    "\n",
    "# Each user is responsible for checking the content of datasets and the\n",
    "# applicable licenses and determining if suitable for the intended use."
   ]
  },
  {
   "cell_type": "markdown",
   "id": "bc88f16e-e89c-45d9-ab93-870e9c4b5608",
   "metadata": {},
   "source": [
    "# Building Session-based Recommendation Models with Merlin"
   ]
  },
  {
   "cell_type": "markdown",
   "id": "2fb3f169-f626-42ea-af6e-045f5d1fd46d",
   "metadata": {},
   "source": [
    "**Session-based recommendation (SBR)** has been an important task in online services like e-commerce and news portals, where users may have very distinct interests in different sessions. SBR models have been proposed to model the sequence of interactions within the current user session. They have gained popularity due to their ability to capture short-term or contextual user preferences towards items, and to provide promising model accuracy results. \n",
    "\n",
    "\n",
    "In this tutorial participants will learn: \n",
    "- the main concepts and algorithms for SBR\n",
    "- how to process the data and create sequential features \n",
    "- how to create a SBR model starting with an MLP architecture, then with an RNN-based architecture and finally a Transformer-based one using NVIDIA Merlin \n",
    "- how to train & evaluate the models on GPU. "
   ]
  },
  {
   "cell_type": "markdown",
   "id": "bb664d4c-d01a-49be-a862-8af5c73f3e43",
   "metadata": {},
   "source": [
    "## NVIDIA Merlin\n",
    "Merlin is an open-source framework for building large-scale (deep learning) recommender systems. It is designed to support recommender systems end-to-end from ETL to training to deployment on CPU or GPU. Common deep learning frameworks are integrated such as TensorFlow or PyTorch. Its key benefits are the easy-to-use APIs, accelerations with GPU and scaling to multi-GPU or multi-node systems."
   ]
  },
  {
   "cell_type": "markdown",
   "id": "57faa6b7-8265-4d3b-a1fc-e0a43e32e6ac",
   "metadata": {},
   "source": [
    "<img src=\"./images/Merlin.png\" width=800 height=400/>"
   ]
  },
  {
   "cell_type": "markdown",
   "id": "c506e4ba-628b-424e-89ed-9597ad53607e",
   "metadata": {},
   "source": [
    "## Next City Prediction Task"
   ]
  },
  {
   "cell_type": "markdown",
   "id": "85cc1122-a1e1-4877-81b3-5d570dc0c890",
   "metadata": {},
   "source": [
    "When we were creating this tutorial, we wanted to focus on a session-based task that is valid in real-life and also meaningful for the tutorial participants.\n",
    "\n",
    "We are inspired from the [Booking.com challenge](https://dl.acm.org/doi/10.1145/3404835.3463240) that focused on predicting the last city destination for a traveler’s trip given their previous booking history within the trip. Therefore, we use [Booking.com dataset](https://github.com/bookingcom/ml-dataset-mdt) to train a session-based model. The raw train dataset contains 1,166,835 of anonymized hotel reservations given 217,686 unique trip ids made across 39,000 destinations. Each reservation is a part of a customer's trip (identified by utrip_id) which includes consecutive reservations. For more details, please refer to [Booking.com Multi-Destination Trips Dataset](https://dl.acm.org/doi/10.1145/3404835.3463240) published as a resource paper at SIGIR'21.\n",
    "\n",
    "The main task is to use a dataset based on over a million of real anonymized accommodation reservations to come up with a strategy for making the best recommendation for travelers' next destination."
   ]
  },
  {
   "cell_type": "markdown",
   "id": "a214ac94-67bb-405b-a983-50b083f90035",
   "metadata": {},
   "source": [
    "<img src=\"./images/trips.png\" width=600 height=400/>"
   ]
  },
  {
   "cell_type": "markdown",
   "id": "00b55f03-0e1f-48ae-9ab1-7498cc950c48",
   "metadata": {},
   "source": [
    "We created the tutorial content considering what would a data scientist's or deep learning engineer's approach be when handling this task. As most of us do, we will start with analyzing the data, then move on with transforming the data, and creating features. When it comes to modeling part, we can start with a simple deep learning model, before creating more complicated models.\n",
    "\n",
    "The tutorial consists of 5 notebooks:<br>\n",
    "- [01-Data-analysis-and-preparation](./01-Data-analysis-and-preparation.ipynb)\n",
    "- [02-ETL-with-NVTabular](./02-ETL-with-NVTabular.ipynb)\n",
    "- [03-Next-item-prediction-with-MLP](./03-Next-item-prediction-with-MLP.ipynb)\n",
    "- [04-Next-item-prediction-with-LSTM](./04-Next-item-prediction-with-LSTM.ipynb)\n",
    "- [05-Next-item-prediction-with-Transformers](./05-Next-item-prediction-with-Transformers.ipynb)"
   ]
  },
  {
   "cell_type": "markdown",
   "id": "1c62ff84-e631-4cad-ad9b-d8905966617f",
   "metadata": {},
   "source": [
    "Please execute the cell below to shut down the kernel before moving on to the next notebook 02-ETL-with-NVTabular."
   ]
  },
  {
   "cell_type": "code",
   "execution_count": null,
   "id": "2b061998-3dc5-42bc-b92e-66918ab59064",
   "metadata": {},
   "outputs": [],
   "source": [
    "import IPython\n",
    "app = IPython.Application.instance()\n",
    "app.kernel.do_shutdown(True)"
   ]
  }
 ],
 "metadata": {
  "kernelspec": {
   "display_name": "Python 3",
   "language": "python",
   "name": "python3"
  },
  "language_info": {
   "codemirror_mode": {
    "name": "ipython",
    "version": 3
   },
   "file_extension": ".py",
   "mimetype": "text/x-python",
   "name": "python",
   "nbconvert_exporter": "python",
   "pygments_lexer": "ipython3",
   "version": "3.8.13"
  }
 },
 "nbformat": 4,
 "nbformat_minor": 5
}
