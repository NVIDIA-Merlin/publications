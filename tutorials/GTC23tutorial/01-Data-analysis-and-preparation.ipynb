{
 "cells": [
  {
   "cell_type": "code",
   "execution_count": 1,
   "id": "97e94c3a-9568-4d9d-a8b6-390c61f24ca6",
   "metadata": {},
   "outputs": [],
   "source": [
    "# Copyright 2022 NVIDIA Corporation. All Rights Reserved.\n",
    "#\n",
    "# Licensed under the Apache License, Version 2.0 (the \"License\");\n",
    "# you may not use this file except in compliance with the License.\n",
    "# You may obtain a copy of the License at\n",
    "#\n",
    "#     http://www.apache.org/licenses/LICENSE-2.0\n",
    "#\n",
    "# Unless required by applicable law or agreed to in writing, software\n",
    "# distributed under the License is distributed on an \"AS IS\" BASIS,\n",
    "# WITHOUT WARRANTIES OR CONDITIONS OF ANY KIND, either express or implied.\n",
    "# See the License for the specific language governing permissions and\n",
    "# limitations under the License.\n",
    "# ================================\n",
    "\n",
    "# Each user is responsible for checking the content of datasets and the\n",
    "# applicable licenses and determining if suitable for the intended use."
   ]
  },
  {
   "cell_type": "markdown",
   "id": "d4407f70-9ac3-4b14-8443-3e96ae302b60",
   "metadata": {},
   "source": [
    "## 1. Data Analysis & Preparation"
   ]
  },
  {
   "cell_type": "markdown",
   "id": "a5f4c4f3-d681-4390-b701-524cf6b055cc",
   "metadata": {},
   "source": [
    "We are using [Booking.com dataset](https://github.com/bookingcom/ml-dataset-mdt) to train a session-based model. The raw train dataset contains 1,166,835 of anonymized hotel reservations given 217,686 unique trip ids made across 39,000 destinations. Each reservation is a part of a customer's trip (identified by utrip_id) which includes consecutive reservations. For more details, please refer to [Booking.com Multi-Destination Trips Dataset](https://dl.acm.org/doi/10.1145/3404835.3463240) published as a resource paper at SIGIR'21.\n",
    "\n",
    "The main task is to use a dataset based on over a million of real anonymized accommodation reservations to come up with a strategy for making the best recommendation for travelers' next destination.\n",
    "\n",
    "The goal is to create a DL model that can predict the `city_id` of the final reservation of each trip."
   ]
  },
  {
   "cell_type": "markdown",
   "id": "bd668593-a8fe-4bcf-a83a-3f429ebbab62",
   "metadata": {},
   "source": [
    "**Learning Objectives**\n",
    "\n",
    "- Analyze and prepare the train and validation datasets for feature engineering and transformation"
   ]
  },
  {
   "cell_type": "markdown",
   "id": "f225c4b0-9e73-4193-a059-a81221f19f4d",
   "metadata": {},
   "source": [
    "### 1.1. Import Libraries"
   ]
  },
  {
   "cell_type": "code",
   "execution_count": 2,
   "id": "3d03a3ba-b876-409c-8a0a-2e57d0a80359",
   "metadata": {},
   "outputs": [],
   "source": [
    "import os\n",
    "\n",
    "import cudf \n",
    "import gc\n",
    "import numpy as np\n",
    "import pandas as pd"
   ]
  },
  {
   "cell_type": "markdown",
   "id": "ae6db59b-b21b-4066-9d92-8d56e49bf4a2",
   "metadata": {},
   "source": [
    "### 1.2. Download Dataset"
   ]
  },
  {
   "cell_type": "markdown",
   "id": "c2b62473-f8d1-4997-96da-8d4b9e804615",
   "metadata": {},
   "source": [
    "Let's start with defining the data path."
   ]
  },
  {
   "cell_type": "code",
   "execution_count": 3,
   "id": "cb920d50-dc3a-43fd-96ab-c8066cfa4fc9",
   "metadata": {},
   "outputs": [],
   "source": [
    "DATA_FOLDER = os.environ.get(\n",
    "    \"DATA_FOLDER\", \n",
    "    '/workspace/data/'\n",
    ")"
   ]
  },
  {
   "cell_type": "markdown",
   "id": "a7c04967-df56-4f86-a51c-52961c839776",
   "metadata": {},
   "source": [
    "Download the booking dataset via a utility function."
   ]
  },
  {
   "cell_type": "code",
   "execution_count": 4,
   "id": "d1bee00b-21d9-422e-b829-d57e01e44735",
   "metadata": {},
   "outputs": [
    {
     "name": "stderr",
     "output_type": "stream",
     "text": [
      "2023-02-24 01:46:50.912358: I tensorflow/core/platform/cpu_feature_guard.cc:194] This TensorFlow binary is optimized with oneAPI Deep Neural Network Library (oneDNN) to use the following CPU instructions in performance-critical operations:  SSE3 SSE4.1 SSE4.2 AVX\n",
      "To enable them in other operations, rebuild TensorFlow with the appropriate compiler flags.\n",
      "/usr/local/lib/python3.8/dist-packages/merlin/dtypes/mappings/torch.py:43: UserWarning: PyTorch dtype mappings did not load successfully due to an error: No module named 'torch'\n",
      "  warn(f\"PyTorch dtype mappings did not load successfully due to an error: {exc.msg}\")\n"
     ]
    }
   ],
   "source": [
    "from download_data import download_booking\n",
    "#download_booking(DATA_FOLDER)"
   ]
  },
  {
   "cell_type": "markdown",
   "id": "9fdd389c-f2e3-4436-b08e-6fa5030ab3c7",
   "metadata": {},
   "source": [
    "### 1.3. Analyze Dataset"
   ]
  },
  {
   "cell_type": "markdown",
   "id": "643a20df-56a5-4f0c-bbb3-bac40c0a5121",
   "metadata": {},
   "source": [
    "We downloaded the dataset, now we can take a look at the training set."
   ]
  },
  {
   "cell_type": "code",
   "execution_count": 5,
   "id": "3939fc7c-3ca0-40a5-b461-508b9f932d7c",
   "metadata": {},
   "outputs": [],
   "source": [
    "raw_df = cudf.read_csv(os.path.join(DATA_FOLDER, \"train_set.csv\"), parse_dates=['checkin', 'checkout'])"
   ]
  },
  {
   "cell_type": "markdown",
   "id": "d753a2c0-fb34-4559-a628-b034d8e598fe",
   "metadata": {},
   "source": [
    "Each reservation has a unique `utrip_id`. During each trip a customer vists several destinations."
   ]
  },
  {
   "cell_type": "code",
   "execution_count": 6,
   "id": "813009f9-b1c4-4100-8c66-3c0e09b32b4a",
   "metadata": {},
   "outputs": [
    {
     "name": "stdout",
     "output_type": "stream",
     "text": [
      "   user_id    checkin   checkout  city_id device_class  affiliate_id  \\\n",
      "0  1000027 2016-08-13 2016-08-14     8183      desktop          7168   \n",
      "1  1000027 2016-08-14 2016-08-16    15626      desktop          7168   \n",
      "2  1000027 2016-08-16 2016-08-18    60902      desktop          7168   \n",
      "3  1000027 2016-08-18 2016-08-21    30628      desktop           253   \n",
      "4  1000033 2016-04-09 2016-04-11    38677       mobile           359   \n",
      "\n",
      "  booker_country hotel_country   utrip_id  \n",
      "0        Elbonia        Gondal  1000027_1  \n",
      "1        Elbonia        Gondal  1000027_1  \n",
      "2        Elbonia        Gondal  1000027_1  \n",
      "3        Elbonia        Gondal  1000027_1  \n",
      "4         Gondal  Cobra Island  1000033_1  \n"
     ]
    }
   ],
   "source": [
    "print(raw_df.head())"
   ]
  },
  {
   "cell_type": "markdown",
   "id": "03e5b74c-a397-4857-abeb-643046aceeb8",
   "metadata": {},
   "source": [
    "The training dataset consists of hotel reservations, based on real data (fully anonymized), with the following features:\n",
    "\n",
    "- user_id - User ID\n",
    "- checkin - Reservation check-in date\n",
    "- checkout - Reservation check-out date- created_date - Date when the reservation was made\n",
    "- city_id - city_id of the hotel's city\n",
    "- affiliate_id - An anonymized ID of affiliate channels where the booker came from (e.g. direct, some third party referrals, paid search engine, etc.)\n",
    "- device_class - desktop/mobile\n",
    "- booker_country - Country from which the reservation was made\n",
    "- hotel_country - Country of the hotel \n",
    "- utrip_id - Unique identification of user's trip (a group of multi-destinations bookings within the same trip)."
   ]
  },
  {
   "cell_type": "markdown",
   "id": "2f7d166f-7f75-488b-9838-2de00b63d121",
   "metadata": {},
   "source": [
    "#### Basic Stats"
   ]
  },
  {
   "cell_type": "markdown",
   "id": "e30901da-edca-455c-ab5f-36f296637d1a",
   "metadata": {},
   "source": [
    "Let's check the size of the dataset. Our dataset has 1,166,835 rows."
   ]
  },
  {
   "cell_type": "code",
   "execution_count": 7,
   "id": "7e5ae50b-2c62-4c53-82fd-d34721ac6cec",
   "metadata": {},
   "outputs": [
    {
     "name": "stdout",
     "output_type": "stream",
     "text": [
      "(1166835, 9)\n"
     ]
    }
   ],
   "source": [
    "print(raw_df.shape)"
   ]
  },
  {
   "cell_type": "markdown",
   "id": "4795a5c8-830c-45f4-8472-7d7e164e4b7c",
   "metadata": {},
   "source": [
    "Check out the dtypes of the dataset. We can see that we have string and integer columns that represent categorical features, and two columns with two datetime features. Dataset does not have a continuous column with float dtype."
   ]
  },
  {
   "cell_type": "code",
   "execution_count": 8,
   "id": "71d79a1a-4b19-426a-90bd-97aaaff7393b",
   "metadata": {},
   "outputs": [
    {
     "data": {
      "text/plain": [
       "user_id                    int64\n",
       "checkin           datetime64[ns]\n",
       "checkout          datetime64[ns]\n",
       "city_id                    int64\n",
       "device_class              object\n",
       "affiliate_id               int64\n",
       "booker_country            object\n",
       "hotel_country             object\n",
       "utrip_id                  object\n",
       "dtype: object"
      ]
     },
     "execution_count": 8,
     "metadata": {},
     "output_type": "execute_result"
    }
   ],
   "source": [
    "raw_df.dtypes"
   ]
  },
  {
   "cell_type": "markdown",
   "id": "e79dbf1b-8776-486b-9c2e-e674be05ece3",
   "metadata": {},
   "source": [
    "Check out if data set has any nulls values."
   ]
  },
  {
   "cell_type": "code",
   "execution_count": 9,
   "id": "c9b69cfe-bde1-4702-bd1b-ad951779b7e2",
   "metadata": {},
   "outputs": [
    {
     "data": {
      "text/plain": [
       "user_id           False\n",
       "checkin           False\n",
       "checkout          False\n",
       "city_id           False\n",
       "device_class      False\n",
       "affiliate_id      False\n",
       "booker_country    False\n",
       "hotel_country     False\n",
       "utrip_id          False\n",
       "dtype: bool"
      ]
     },
     "execution_count": 9,
     "metadata": {},
     "output_type": "execute_result"
    }
   ],
   "source": [
    "raw_df.isnull().any()"
   ]
  },
  {
   "cell_type": "markdown",
   "id": "2411baee-fb47-4b34-bb97-8fa88d035a35",
   "metadata": {},
   "source": [
    "Our dataset does not have any nulls. If we had nulls, we could think of how to handle these null values. We could fill them out with a certain value, or remove the rows with nulls, etc."
   ]
  },
  {
   "cell_type": "markdown",
   "id": "9d2d22a5-5319-4de2-9fa7-e38ea4c73dff",
   "metadata": {},
   "source": [
    "Let's take a look at how many cities our dataset has. Note that we want to predict the next city to visit, therefore, `city_id` is our target column, as well. We deal with multi-class classification problem. That means we will use `Categorical Cross Entropy` as our loss function during model training."
   ]
  },
  {
   "cell_type": "code",
   "execution_count": 10,
   "id": "f82ecc47-8673-4ba3-ae6b-0a77723b2e54",
   "metadata": {},
   "outputs": [
    {
     "data": {
      "text/plain": [
       "39901"
      ]
     },
     "execution_count": 10,
     "metadata": {},
     "output_type": "execute_result"
    }
   ],
   "source": [
    "raw_df.city_id.nunique()"
   ]
  },
  {
   "cell_type": "markdown",
   "id": "2b88f9da-88e9-4e8c-99cb-426a1f9f3595",
   "metadata": {},
   "source": [
    "Similarly let's check the number of unique trips."
   ]
  },
  {
   "cell_type": "code",
   "execution_count": 11,
   "id": "a64c404f-820f-4056-a613-2386ad85b340",
   "metadata": {},
   "outputs": [
    {
     "data": {
      "text/plain": [
       "217686"
      ]
     },
     "execution_count": 11,
     "metadata": {},
     "output_type": "execute_result"
    }
   ],
   "source": [
    "raw_df.utrip_id.nunique()"
   ]
  },
  {
   "cell_type": "markdown",
   "id": "67e77815-bec1-4fcd-a1b3-f2fe2494daa9",
   "metadata": {},
   "source": [
    "Check min and max timestamp values. We will use these timestamps to split dataset as train and validation sets, also we can create temporal features from checkin and checkout columns, which can give information about users' temporal behaviours, and, thus, play a role in increasing model's accuracy in predicting the next city."
   ]
  },
  {
   "cell_type": "code",
   "execution_count": 12,
   "id": "5e370cb9-7cf1-4195-8ba7-e77c8c821f19",
   "metadata": {},
   "outputs": [
    {
     "data": {
      "text/plain": [
       "(numpy.datetime64('2015-12-31T00:00:00.000000000'),\n",
       " numpy.datetime64('2017-02-27T00:00:00.000000000'))"
      ]
     },
     "execution_count": 12,
     "metadata": {},
     "output_type": "execute_result"
    }
   ],
   "source": [
    "raw_df.checkin.min(), raw_df.checkin.max()"
   ]
  },
  {
   "cell_type": "markdown",
   "id": "e4443c9a-257d-43f1-bed2-56ecc38bfef6",
   "metadata": {},
   "source": [
    "**Distribution of cities**"
   ]
  },
  {
   "cell_type": "markdown",
   "id": "999b153d-5b83-460d-a048-c755b8884263",
   "metadata": {},
   "source": [
    "We can check the frequency distribution of the cities using city frequency statistic."
   ]
  },
  {
   "cell_type": "code",
   "execution_count": 37,
   "id": "e740e2d3-7b31-49d5-808b-20c58aa9a778",
   "metadata": {},
   "outputs": [
    {
     "name": "stdout",
     "output_type": "stream",
     "text": [
      "47499    11242\n",
      "23921    10511\n",
      "36063     9559\n",
      "17013     9011\n",
      "29319     8179\n",
      "         ...  \n",
      "10377        1\n",
      "54696        1\n",
      "4028         1\n",
      "41726        1\n",
      "5692         1\n",
      "Name: city_id, Length: 39901, dtype: int64\n"
     ]
    }
   ],
   "source": [
    "city_counts = raw_df.to_pandas().city_id.value_counts()\n",
    "print(city_counts)"
   ]
  },
  {
   "cell_type": "markdown",
   "id": "83a655f9-f065-4126-811f-93c08b87c9f4",
   "metadata": {},
   "source": [
    "Note that some cities are more popular than the others. That might give us some idea in building a baseline model. One simplest approach could be recommending the most popular items to the users. Although this approach does not really take the personalization aspect of the recommendations into account, it still can be a baseline approach. However we are not going to start with that approach. We will instead start with a simple `multi-layer-perceptron (MLP)` model."
   ]
  },
  {
   "cell_type": "code",
   "execution_count": null,
   "id": "da2d526c-b0af-4e08-93da-3a06aea0fe85",
   "metadata": {},
   "outputs": [],
   "source": [
    "#!python -m pip install -U matplotlib"
   ]
  },
  {
   "cell_type": "code",
   "execution_count": 55,
   "id": "0cd630d2-6f3f-4626-b7ad-b36a989df289",
   "metadata": {},
   "outputs": [
    {
     "data": {
      "text/plain": [
       "Text(0, 0.5, 'frequency')"
      ]
     },
     "execution_count": 55,
     "metadata": {},
     "output_type": "execute_result"
    },
    {
     "data": {
      "image/png": "[encoded data removed]",
      "text/plain": [
       "<Figure size 750x350 with 1 Axes>"
      ]
     },
     "metadata": {},
     "output_type": "display_data"
    }
   ],
   "source": [
    "# plot the most frequent 40 cities frequencies.\n",
    "ax = city_counts[:30].plot(kind='bar')\n",
    "ax.set_xlabel(\"city_id\")\n",
    "ax.set_ylabel(\"frequency\")"
   ]
  },
  {
   "cell_type": "markdown",
   "id": "e690666f-3867-4786-932c-5019e4028fe8",
   "metadata": {},
   "source": [
    "**Interactions per day**"
   ]
  },
  {
   "cell_type": "markdown",
   "id": "ed8774ad-d375-4b7f-a770-f587c3e319f4",
   "metadata": {},
   "source": [
    "We can plot the how many trips are done per day to see if there is a seasonal pattern. The plot below shows that, the most of the trip have been done between June-September time period, we can observe the peak. We can think that these trips were done in northern hemisphere where these months correspond to summer time, and when the schools are closed. "
   ]
  },
  {
   "cell_type": "code",
   "execution_count": 54,
   "id": "31727fc1-2852-4e38-afa8-f85e551c6747",
   "metadata": {},
   "outputs": [
    {
     "data": {
      "image/png": "[encoded data removed]",
      "text/plain": [
       "<Figure size 1200x600 with 1 Axes>"
      ]
     },
     "metadata": {},
     "output_type": "display_data"
    }
   ],
   "source": [
    "from matplotlib import pyplot as plt\n",
    "import matplotlib.dates as mdates\n",
    "ax= raw_df.groupby('checkin').size().to_pandas().sort_index().plot.line(figsize=(12,6))\n",
    "\n",
    "ax.xaxis.set_major_locator(mdates.DayLocator(interval=30))\n",
    "ax.xaxis.set_major_formatter(mdates.DateFormatter('%Y-%m-%d'))\n",
    "plt.gcf().autofmt_xdate()\n",
    "\n",
    "plt.show()"
   ]
  },
  {
   "cell_type": "markdown",
   "id": "3b259ad5-ddef-4b67-b71b-428815767749",
   "metadata": {},
   "source": [
    "### 1.4. Split the train set as train and validation sets"
   ]
  },
  {
   "cell_type": "markdown",
   "id": "4e91eac9-2b79-4003-98b6-56d4d05de231",
   "metadata": {},
   "source": [
    "Let's split the data into a train and validation set based on checkin time, and trip id. We first sort the train dataset according to `checkin` date, and reserve the last two months as validation set."
   ]
  },
  {
   "cell_type": "code",
   "execution_count": 15,
   "id": "7c3b0c7f-b748-46dd-b9ff-064e9ed83a2f",
   "metadata": {},
   "outputs": [],
   "source": [
    "train_set = raw_df.sort_values(['checkin', 'utrip_id']).reset_index(drop=True)"
   ]
  },
  {
   "cell_type": "code",
   "execution_count": 16,
   "id": "efed93e7-2172-4a2c-a317-d018915f3f72",
   "metadata": {},
   "outputs": [
    {
     "data": {
      "text/plain": [
       "151"
      ]
     },
     "execution_count": 16,
     "metadata": {},
     "output_type": "execute_result"
    }
   ],
   "source": [
    "del raw_df\n",
    "gc.collect()"
   ]
  },
  {
   "cell_type": "markdown",
   "id": "4ed104de-95ea-4395-b141-5f351213dd60",
   "metadata": {},
   "source": [
    "Check if there are any duplicated (user, checkin) pairs."
   ]
  },
  {
   "cell_type": "code",
   "execution_count": 17,
   "id": "ab4c4e99-f9cd-45f8-9c83-3ce92ddba979",
   "metadata": {},
   "outputs": [
    {
     "data": {
      "text/plain": [
       "0"
      ]
     },
     "execution_count": 17,
     "metadata": {},
     "output_type": "execute_result"
    }
   ],
   "source": [
    "train_set.to_pandas().duplicated(subset=['user_id', 'checkin']).sum()"
   ]
  },
  {
   "cell_type": "markdown",
   "id": "75be392a-42e0-4184-b3e8-3d6b3ef8b0b1",
   "metadata": {},
   "source": [
    "Apply timebased split."
   ]
  },
  {
   "cell_type": "code",
   "execution_count": 18,
   "id": "31eaaa01-2e10-4f91-a999-282677181d03",
   "metadata": {},
   "outputs": [],
   "source": [
    "train = train_set[(train_set['checkin'] < pd.Timestamp(\"2017-01-01\"))]\n",
    "valid = train_set[(train_set['checkin'] >= pd.Timestamp(\"2017-01-01\"))]"
   ]
  },
  {
   "cell_type": "code",
   "execution_count": 19,
   "id": "da004a21-c93c-4a13-882a-12015f6eead2",
   "metadata": {},
   "outputs": [
    {
     "data": {
      "text/plain": [
       "((1116574, 9), (50261, 9))"
      ]
     },
     "execution_count": 19,
     "metadata": {},
     "output_type": "execute_result"
    }
   ],
   "source": [
    "train.shape, valid.shape"
   ]
  },
  {
   "cell_type": "markdown",
   "id": "0fdb6bfb-037e-4245-b787-3a1405b03c1c",
   "metadata": {},
   "source": [
    "When we do the timebased split some of the user trips might be split between train and validation, meaning a certain portion of the same trip can be in train set while remaning portion might end up in the validation set. To avoid that we find the `utrip_ids` that are also in the train set, and remove them from validation set, and add them back to train set."
   ]
  },
  {
   "cell_type": "code",
   "execution_count": null,
   "id": "b5a372a8-0533-4f4e-a85c-42ab3e7d44cb",
   "metadata": {},
   "outputs": [],
   "source": [
    "valid_tmp = valid[valid.utrip_id.isin(train.utrip_id)]\n",
    "print(valid_tmp.shape)\n",
    "valid = valid[~valid.utrip_id.isin(train.utrip_id)].reset_index(drop=True)"
   ]
  },
  {
   "cell_type": "code",
   "execution_count": 21,
   "id": "8642e2d8-fd96-4ede-8315-5892e5a42062",
   "metadata": {},
   "outputs": [
    {
     "data": {
      "text/plain": [
       "(44133, 9)"
      ]
     },
     "execution_count": 21,
     "metadata": {},
     "output_type": "execute_result"
    }
   ],
   "source": [
    "valid.shape"
   ]
  },
  {
   "cell_type": "markdown",
   "id": "f8c2fe85-6a23-4f1e-a946-96bb8393967f",
   "metadata": {},
   "source": [
    "Print the shape of the tran and validation sets, and number of unique trip ids in each dataset."
   ]
  },
  {
   "cell_type": "code",
   "execution_count": 23,
   "id": "1d3a6a77-7234-43e7-a50d-c0bfc29f99bd",
   "metadata": {},
   "outputs": [
    {
     "data": {
      "text/plain": [
       "((1116574, 9), (44133, 9))"
      ]
     },
     "execution_count": 23,
     "metadata": {},
     "output_type": "execute_result"
    }
   ],
   "source": [
    "train.shape, valid.shape"
   ]
  },
  {
   "cell_type": "code",
   "execution_count": 24,
   "id": "12cd6380-96c7-4e55-8cd9-c17cf89dde1d",
   "metadata": {},
   "outputs": [],
   "source": [
    "train = cudf.concat([train, valid_tmp]).reset_index(drop=True)"
   ]
  },
  {
   "cell_type": "markdown",
   "id": "ed38b2a5-2052-4d2c-a69e-428df7a0881f",
   "metadata": {},
   "source": [
    "Check out if there are any duplicated (user, checkin) pairs. The dataset should not have duplicated pairs, meaning, same user cannot checkin multiple times at the same time, therefore we see the output as `0`."
   ]
  },
  {
   "cell_type": "code",
   "execution_count": 25,
   "id": "a33c4270-4ea2-481e-866c-3085a0660db5",
   "metadata": {},
   "outputs": [
    {
     "data": {
      "text/plain": [
       "0"
      ]
     },
     "execution_count": 25,
     "metadata": {},
     "output_type": "execute_result"
    }
   ],
   "source": [
    "train.to_pandas().duplicated(subset=['user_id', 'checkin']).sum()"
   ]
  },
  {
   "cell_type": "code",
   "execution_count": 26,
   "id": "eac811c8-be12-488d-a6d9-f91c31ed053c",
   "metadata": {},
   "outputs": [
    {
     "data": {
      "text/plain": [
       "0"
      ]
     },
     "execution_count": 26,
     "metadata": {},
     "output_type": "execute_result"
    }
   ],
   "source": [
    "valid.to_pandas().duplicated(subset=['user_id', 'checkin']).sum()"
   ]
  },
  {
   "cell_type": "code",
   "execution_count": 27,
   "id": "7af29976-dbfc-481b-8dad-9469a2439f59",
   "metadata": {},
   "outputs": [
    {
     "name": "stdout",
     "output_type": "stream",
     "text": [
      "209342 8344\n"
     ]
    }
   ],
   "source": [
    "num_unique_trips_train,  num_unique_trips_valid= train.utrip_id.nunique(), valid.utrip_id.nunique()\n",
    "print (num_unique_trips_train,  num_unique_trips_valid)"
   ]
  },
  {
   "cell_type": "markdown",
   "id": "b0732f7b-c6b9-40c4-afef-d37180956a71",
   "metadata": {},
   "source": [
    "We can check out the number of visits per trip in the train dataset. We see that the median of the session lenghts are `5` and 75% of the sessions have less than 6 cities visited."
   ]
  },
  {
   "cell_type": "code",
   "execution_count": 28,
   "id": "4442205b-2407-42fa-84a4-5f8543b789b4",
   "metadata": {},
   "outputs": [
    {
     "data": {
      "text/plain": [
       "count    209342.000000\n",
       "mean          5.363004\n",
       "std           2.020633\n",
       "min           1.000000\n",
       "25%           4.000000\n",
       "50%           5.000000\n",
       "75%           6.000000\n",
       "max          48.000000\n",
       "dtype: float64"
      ]
     },
     "execution_count": 28,
     "metadata": {},
     "output_type": "execute_result"
    }
   ],
   "source": [
    "train.groupby('utrip_id')['city_id'].size().describe()"
   ]
  },
  {
   "cell_type": "markdown",
   "id": "9ebdcddd-47ea-4794-909e-4605c54cf8d4",
   "metadata": {},
   "source": [
    "We can check the percentage of the trips (sessions) that have more than 10 cities."
   ]
  },
  {
   "cell_type": "code",
   "execution_count": 29,
   "id": "43776e7e-1a97-4e72-a605-7c4cb6fd08dd",
   "metadata": {},
   "outputs": [
    {
     "data": {
      "text/plain": [
       "2.9005168575823292"
      ]
     },
     "execution_count": 29,
     "metadata": {},
     "output_type": "execute_result"
    }
   ],
   "source": [
    "num_unique_trips= train.utrip_id.nunique()\n",
    "((train.groupby('utrip_id')['city_id'].size()>10).sum() / num_unique_trips_train) *100"
   ]
  },
  {
   "cell_type": "markdown",
   "id": "646f35e0-408b-4e04-a707-6869a0be5a3b",
   "metadata": {},
   "source": [
    "We can also calculate the percentage of the trips that have only 1 city visited. "
   ]
  },
  {
   "cell_type": "code",
   "execution_count": 30,
   "id": "6ec50ade-f178-48fd-a46a-f4d2f7ac34f2",
   "metadata": {},
   "outputs": [
    {
     "data": {
      "text/plain": [
       "0.051112533557527866"
      ]
     },
     "execution_count": 30,
     "metadata": {},
     "output_type": "execute_result"
    }
   ],
   "source": [
    "((train.groupby('utrip_id')['city_id'].size()<2).sum() / num_unique_trips_train) *100"
   ]
  },
  {
   "cell_type": "markdown",
   "id": "7ad6608e-350e-441b-a84d-a40de0d91e29",
   "metadata": {},
   "source": [
    "Most of the trips have multiple city visits. That gives us the idea that we can treat the `next city prediction task` as a session-based recommendation task and leverage the sequential patterrns per user trip (session)."
   ]
  },
  {
   "cell_type": "markdown",
   "id": "4d197615-9b5c-4510-aa69-24e487cd4fa0",
   "metadata": {},
   "source": [
    "Similarly, we see that validation set does not have any trip that have more than 10 cities visited."
   ]
  },
  {
   "cell_type": "code",
   "execution_count": 31,
   "id": "6368d8d1-f4f7-4e20-a673-1501d8e23b14",
   "metadata": {},
   "outputs": [
    {
     "data": {
      "text/plain": [
       "2.3010546500479387"
      ]
     },
     "execution_count": 31,
     "metadata": {},
     "output_type": "execute_result"
    }
   ],
   "source": [
    "((valid.groupby('utrip_id')['city_id'].size()>10).sum()/ num_unique_trips_valid) *100"
   ]
  },
  {
   "cell_type": "markdown",
   "id": "a8433fe6-30c2-429c-9995-5918d0c5917e",
   "metadata": {},
   "source": [
    "However, validation set has more trips that has only one city."
   ]
  },
  {
   "cell_type": "code",
   "execution_count": 32,
   "id": "1692b940-2d24-488a-9076-d2906b4c7bcf",
   "metadata": {},
   "outputs": [
    {
     "data": {
      "text/plain": [
       "0.07190795781399809"
      ]
     },
     "execution_count": 32,
     "metadata": {},
     "output_type": "execute_result"
    }
   ],
   "source": [
    "((valid.groupby('utrip_id')['city_id'].size()<2).sum() / num_unique_trips_valid) *100"
   ]
  },
  {
   "cell_type": "markdown",
   "id": "2e7bbe86-f483-45e2-a1b5-02da17ae1fcd",
   "metadata": {},
   "source": [
    "Considering this, we can set the max sequence length to 30 in the next notebook where we will transform the datasets and create features."
   ]
  },
  {
   "cell_type": "markdown",
   "id": "de7d7cd3-cbbf-4d22-a4b5-66dc7a59e856",
   "metadata": {},
   "source": [
    "Now, let's check out how many of the last visited city_id (target city) in the validation set are not in the train set. The reason we check this is because, when we encode validation set's city_id column in the next notebook, the city ids that are not seen train set will be mapped to `0`. We call them as out-of-vocabular (OOV) city ids. Since they are not in significant amount, in the next notebook we can remove the rows where city_id is `0` after encoding."
   ]
  },
  {
   "cell_type": "code",
   "execution_count": 33,
   "id": "00051a02-413c-4ac8-825c-d66f15bc5abb",
   "metadata": {},
   "outputs": [],
   "source": [
    "valid_grouped = valid.groupby('utrip_id')['city_id'].agg(['last']).reset_index()"
   ]
  },
  {
   "cell_type": "code",
   "execution_count": 33,
   "id": "99154885-3c32-4e82-864f-b765077b07e6",
   "metadata": {},
   "outputs": [
    {
     "data": {
      "text/plain": [
       "(40, 2)"
      ]
     },
     "execution_count": 33,
     "metadata": {},
     "output_type": "execute_result"
    }
   ],
   "source": [
    "valid_grouped[~valid_grouped['last'].isin(train.city_id)].shape"
   ]
  },
  {
   "cell_type": "code",
   "execution_count": 34,
   "id": "0ee1ae3b-5a06-4fc8-a70d-535f605d362c",
   "metadata": {},
   "outputs": [
    {
     "data": {
      "text/plain": [
       "147"
      ]
     },
     "execution_count": 34,
     "metadata": {},
     "output_type": "execute_result"
    }
   ],
   "source": [
    "del valid_grouped, valid_tmp\n",
    "gc.collect()"
   ]
  },
  {
   "cell_type": "markdown",
   "id": "a40f477e-cfb1-4b06-830b-b8e7e1f5246c",
   "metadata": {},
   "source": [
    "Save parquet files to disk."
   ]
  },
  {
   "cell_type": "code",
   "execution_count": 35,
   "id": "596de4cf-a0ee-41cb-8624-514c6c9886fa",
   "metadata": {},
   "outputs": [],
   "source": [
    "train.to_parquet(os.path.join(DATA_FOLDER, \"train.parquet\"))\n",
    "valid.to_parquet(os.path.join(DATA_FOLDER, \"valid.parquet\"))"
   ]
  },
  {
   "cell_type": "markdown",
   "id": "73c85cb9-8df4-45c3-8c13-778a5fc34473",
   "metadata": {},
   "source": [
    "### Summary\n",
    "\n",
    "In this notebook, we have done the following steps:\n",
    "    \n",
    "- download the dataset\n",
    "- analyze the dataset\n",
    "- split the dataset based on timestamp as train and validation sets\n",
    "- save the train and validation sets to disk as parquet files"
   ]
  },
  {
   "cell_type": "markdown",
   "id": "2ba16555-4852-4471-864a-d251dfe0741d",
   "metadata": {},
   "source": [
    "Please execute the cell below to shut down the kernel before moving on to the next notebook `02-ETL-with-NVTabular`."
   ]
  },
  {
   "cell_type": "code",
   "execution_count": 36,
   "id": "01ca3140-2f14-4a34-9530-4f0ac34ec495",
   "metadata": {},
   "outputs": [
    {
     "data": {
      "text/plain": [
       "{'status': 'ok', 'restart': True}"
      ]
     },
     "execution_count": 36,
     "metadata": {},
     "output_type": "execute_result"
    }
   ],
   "source": [
    "import IPython\n",
    "app = IPython.Application.instance()\n",
    "app.kernel.do_shutdown(True)"
   ]
  }
 ],
 "metadata": {
  "kernelspec": {
   "display_name": "Python 3 (ipykernel)",
   "language": "python",
   "name": "python3"
  },
  "language_info": {
   "codemirror_mode": {
    "name": "ipython",
    "version": 3
   },
   "file_extension": ".py",
   "mimetype": "text/x-python",
   "name": "python",
   "nbconvert_exporter": "python",
   "pygments_lexer": "ipython3",
   "version": "3.8.10"
  }
 },
 "nbformat": 4,
 "nbformat_minor": 5
}
