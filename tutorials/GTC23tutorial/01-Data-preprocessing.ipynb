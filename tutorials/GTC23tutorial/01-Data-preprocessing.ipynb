{
 "cells": [
  {
   "cell_type": "code",
   "execution_count": 1,
   "id": "97e94c3a-9568-4d9d-a8b6-390c61f24ca6",
   "metadata": {},
   "outputs": [],
   "source": [
    "# Copyright 2022 NVIDIA Corporation. All Rights Reserved.\n",
    "#\n",
    "# Licensed under the Apache License, Version 2.0 (the \"License\");\n",
    "# you may not use this file except in compliance with the License.\n",
    "# You may obtain a copy of the License at\n",
    "#\n",
    "#     http://www.apache.org/licenses/LICENSE-2.0\n",
    "#\n",
    "# Unless required by applicable law or agreed to in writing, software\n",
    "# distributed under the License is distributed on an \"AS IS\" BASIS,\n",
    "# WITHOUT WARRANTIES OR CONDITIONS OF ANY KIND, either express or implied.\n",
    "# See the License for the specific language governing permissions and\n",
    "# limitations under the License.\n",
    "# ================================\n",
    "\n",
    "# Each user is responsible for checking the content of datasets and the\n",
    "# applicable licenses and determining if suitable for the intended use."
   ]
  },
  {
   "cell_type": "markdown",
   "id": "e4173d05-280c-4384-a1f3-1f298b809621",
   "metadata": {},
   "source": [
    "# Building Session-Based Recommendation Models with Merlin"
   ]
  },
  {
   "cell_type": "markdown",
   "id": "0d905340-08a7-4fa7-a42d-5ebcb245626f",
   "metadata": {},
   "source": [
    "**Session-based recommendation (SBR)** has been an important task in online services like e-commerce and news portals, where users may have very distinct interests in different sessions. SBR models have been proposed to model the sequence of interactions within the current user session. They have gained popularity due to their ability to capture short-term or contextual user preferences towards items, and to provide promising model accuracy results. \n",
    "\n",
    "\n",
    "In this tutorial participants will learn: \n",
    "- the main concepts and algorithms for SBR\n",
    "- how to process the data and create sequential features \n",
    "- how to create a SBR model starting with an MLP architecture, then with an RNN-based architecture and finally a Transformer-based one using NVIDIA Merlin \n",
    "- how to train & evaluate the models on GPU. "
   ]
  },
  {
   "cell_type": "markdown",
   "id": "d4407f70-9ac3-4b14-8443-3e96ae302b60",
   "metadata": {},
   "source": [
    "## 1. Data Analysis & Preparation"
   ]
  },
  {
   "cell_type": "markdown",
   "id": "bd668593-a8fe-4bcf-a83a-3f429ebbab62",
   "metadata": {},
   "source": [
    "**Learning Objectives**\n",
    "\n",
    "- Analyze and prepare the train and validation datasets for feature engineering and transformation"
   ]
  },
  {
   "cell_type": "markdown",
   "id": "f225c4b0-9e73-4193-a059-a81221f19f4d",
   "metadata": {},
   "source": [
    "### 1.1. Import Libraries"
   ]
  },
  {
   "cell_type": "code",
   "execution_count": 2,
   "id": "3d03a3ba-b876-409c-8a0a-2e57d0a80359",
   "metadata": {},
   "outputs": [
    {
     "name": "stderr",
     "output_type": "stream",
     "text": [
      "2023-02-14 00:03:51.670220: I tensorflow/core/platform/cpu_feature_guard.cc:194] This TensorFlow binary is optimized with oneAPI Deep Neural Network Library (oneDNN) to use the following CPU instructions in performance-critical operations:  SSE3 SSE4.1 SSE4.2 AVX\n",
      "To enable them in other operations, rebuild TensorFlow with the appropriate compiler flags.\n",
      "/usr/local/lib/python3.8/dist-packages/merlin/dtypes/mappings/torch.py:43: UserWarning: PyTorch dtype mappings did not load successfully due to an error: No module named 'torch'\n",
      "  warn(f\"PyTorch dtype mappings did not load successfully due to an error: {exc.msg}\")\n"
     ]
    }
   ],
   "source": [
    "import os\n",
    "\n",
    "import glob\n",
    "import cudf \n",
    "import pandas as pd\n",
    "import numpy as np\n",
    "import nvtabular as nvt\n",
    "from nvtabular.ops import *\n",
    "import gc\n",
    "\n",
    "from merlin.schema.tags import Tags\n",
    "from merlin.io.dataset import Dataset"
   ]
  },
  {
   "cell_type": "markdown",
   "id": "ae6db59b-b21b-4066-9d92-8d56e49bf4a2",
   "metadata": {},
   "source": [
    "### 1.2. Download Dataset"
   ]
  },
  {
   "cell_type": "markdown",
   "id": "55bd4adf-555a-4b57-a9ca-a4cf8ab7d1aa",
   "metadata": {},
   "source": [
    "We are using [Booking.com dataset](https://github.com/bookingcom/ml-dataset-mdt) to train a session-based model. The raw train dataset contains 1,166,835 of anonymized hotel reservations given 217,686 unique trip ids made across 39,000 destinations. Each reservation is a part of a customer's trip (identified by utrip_id) which includes consecutive reservations. For more details, please refer to [Booking.com Multi-Destination Trips Dataset](https://dl.acm.org/doi/10.1145/3404835.3463240) published as a resource paper at SIGIR'21.\n",
    "\n",
    "The main task is to use a dataset based on over a million of real anonymized accommodation reservations to come up with a strategy for making the best recommendation for travelers' next destination.\n",
    "\n",
    "The goal is to create a DL model that can predict the `city_id` of the final reservation of each trip."
   ]
  },
  {
   "cell_type": "markdown",
   "id": "c2b62473-f8d1-4997-96da-8d4b9e804615",
   "metadata": {},
   "source": [
    "Let's start with defining the data path."
   ]
  },
  {
   "cell_type": "code",
   "execution_count": 3,
   "id": "cb920d50-dc3a-43fd-96ab-c8066cfa4fc9",
   "metadata": {},
   "outputs": [],
   "source": [
    "from merlin.core.dispatch import get_lib\n",
    "\n",
    "DATA_FOLDER = os.environ.get(\n",
    "    \"DATA_FOLDER\", \n",
    "    '/dli/task/data/'\n",
    ")"
   ]
  },
  {
   "cell_type": "markdown",
   "id": "a7c04967-df56-4f86-a51c-52961c839776",
   "metadata": {},
   "source": [
    "Download the booking dataset via a utilitiy function."
   ]
  },
  {
   "cell_type": "code",
   "execution_count": 4,
   "id": "d1bee00b-21d9-422e-b829-d57e01e44735",
   "metadata": {},
   "outputs": [
    {
     "name": "stderr",
     "output_type": "stream",
     "text": [
      "downloading ground_truth.csv: 1.85MB [00:00, 171MB/s]                    \n",
      "downloading test_set.csv: 29.2MB [00:00, 258MB/s]                            \n",
      "downloading train_set.csv: 92.7MB [00:00, 391MB/s]                            \n"
     ]
    }
   ],
   "source": [
    "from download_data import download_booking\n",
    "download_booking(DATA_FOLDER)"
   ]
  },
  {
   "cell_type": "markdown",
   "id": "9fdd389c-f2e3-4436-b08e-6fa5030ab3c7",
   "metadata": {},
   "source": [
    "### 1.3. Analyze Dataset"
   ]
  },
  {
   "cell_type": "markdown",
   "id": "643a20df-56a5-4f0c-bbb3-bac40c0a5121",
   "metadata": {},
   "source": [
    "We downloaded the dataset, now we can check out the training set."
   ]
  },
  {
   "cell_type": "code",
   "execution_count": 58,
   "id": "3939fc7c-3ca0-40a5-b461-508b9f932d7c",
   "metadata": {},
   "outputs": [],
   "source": [
    "import os\n",
    "train = get_lib().read_csv(os.path.join(DATA_FOLDER, \"train_set.csv\"), parse_dates=['checkin', 'checkout'])"
   ]
  },
  {
   "cell_type": "markdown",
   "id": "d753a2c0-fb34-4559-a628-b034d8e598fe",
   "metadata": {},
   "source": [
    "Each reservation has a unique `utrip_id`. During each trip a customer vists several destinations."
   ]
  },
  {
   "cell_type": "code",
   "execution_count": 59,
   "id": "813009f9-b1c4-4100-8c66-3c0e09b32b4a",
   "metadata": {},
   "outputs": [
    {
     "name": "stdout",
     "output_type": "stream",
     "text": [
      "   user_id    checkin   checkout  city_id device_class  affiliate_id  \\\n",
      "0  1000027 2016-08-13 2016-08-14     8183      desktop          7168   \n",
      "1  1000027 2016-08-14 2016-08-16    15626      desktop          7168   \n",
      "2  1000027 2016-08-16 2016-08-18    60902      desktop          7168   \n",
      "3  1000027 2016-08-18 2016-08-21    30628      desktop           253   \n",
      "4  1000033 2016-04-09 2016-04-11    38677       mobile           359   \n",
      "\n",
      "  booker_country hotel_country   utrip_id  \n",
      "0        Elbonia        Gondal  1000027_1  \n",
      "1        Elbonia        Gondal  1000027_1  \n",
      "2        Elbonia        Gondal  1000027_1  \n",
      "3        Elbonia        Gondal  1000027_1  \n",
      "4         Gondal  Cobra Island  1000033_1  \n"
     ]
    }
   ],
   "source": [
    "print(train.head())"
   ]
  },
  {
   "cell_type": "markdown",
   "id": "03e5b74c-a397-4857-abeb-643046aceeb8",
   "metadata": {},
   "source": [
    "The training dataset consists of 1,166,835 of v hotel reservations, based on real data (fully anonymized), with the following features:\n",
    "\n",
    "- user_id - User ID\n",
    "- checkin - Reservation check-in date\n",
    "- checkout - Reservation check-out date- created_date - Date when the reservation was made\n",
    "- affiliate_id - An anonymized ID of affiliate channels where the booker came from (e.g. direct, some third party referrals, paid search engine, etc.)\n",
    "- device_class - desktop/mobile\n",
    "- booker_country - Country from which the reservation was made\n",
    "- hotel_country - Country of the hotel \n",
    "- city_id - city_id of the hotel's city\n",
    "- utrip_id - Unique identification of user's trip (a group of multi-destinations bookings within the same trip)."
   ]
  },
  {
   "cell_type": "markdown",
   "id": "1d302218-010d-478c-b5ea-5a07bf1c917f",
   "metadata": {},
   "source": [
    "Check out the dtypes of the dataset."
   ]
  },
  {
   "cell_type": "code",
   "execution_count": 60,
   "id": "9dda49c5-ab93-4a43-ae85-c462bc29bdad",
   "metadata": {},
   "outputs": [
    {
     "data": {
      "text/plain": [
       "user_id                    int64\n",
       "checkin           datetime64[ns]\n",
       "checkout          datetime64[ns]\n",
       "city_id                    int64\n",
       "device_class              object\n",
       "affiliate_id               int64\n",
       "booker_country            object\n",
       "hotel_country             object\n",
       "utrip_id                  object\n",
       "dtype: object"
      ]
     },
     "execution_count": 60,
     "metadata": {},
     "output_type": "execute_result"
    }
   ],
   "source": [
    "train.dtypes"
   ]
  },
  {
   "cell_type": "markdown",
   "id": "4625adad-6a98-4f8e-901d-a2a8cc18f73e",
   "metadata": {},
   "source": [
    "Check if data set has any nulls values."
   ]
  },
  {
   "cell_type": "code",
   "execution_count": 61,
   "id": "e3780023-8848-42da-ba82-5838071a8ab7",
   "metadata": {},
   "outputs": [
    {
     "data": {
      "text/plain": [
       "user_id           False\n",
       "checkin           False\n",
       "checkout          False\n",
       "city_id           False\n",
       "device_class      False\n",
       "affiliate_id      False\n",
       "booker_country    False\n",
       "hotel_country     False\n",
       "utrip_id          False\n",
       "dtype: bool"
      ]
     },
     "execution_count": 61,
     "metadata": {},
     "output_type": "execute_result"
    }
   ],
   "source": [
    "train.isnull().any()"
   ]
  },
  {
   "cell_type": "markdown",
   "id": "2f7d166f-7f75-488b-9838-2de00b63d121",
   "metadata": {},
   "source": [
    "#### Basic Stats"
   ]
  },
  {
   "cell_type": "code",
   "execution_count": 62,
   "id": "7e5ae50b-2c62-4c53-82fd-d34721ac6cec",
   "metadata": {},
   "outputs": [
    {
     "name": "stdout",
     "output_type": "stream",
     "text": [
      "(1166835, 9)\n"
     ]
    }
   ],
   "source": [
    "print(train.shape)"
   ]
  },
  {
   "cell_type": "code",
   "execution_count": 63,
   "id": "f82ecc47-8673-4ba3-ae6b-0a77723b2e54",
   "metadata": {},
   "outputs": [
    {
     "data": {
      "text/plain": [
       "(217686, 39901, 200153)"
      ]
     },
     "execution_count": 63,
     "metadata": {},
     "output_type": "execute_result"
    }
   ],
   "source": [
    "train.utrip_id.nunique(), train.city_id.nunique(), train.user_id.nunique()"
   ]
  },
  {
   "cell_type": "markdown",
   "id": "67e77815-bec1-4fcd-a1b3-f2fe2494daa9",
   "metadata": {},
   "source": [
    "Check min and max timestamp values."
   ]
  },
  {
   "cell_type": "code",
   "execution_count": null,
   "id": "5e370cb9-7cf1-4195-8ba7-e77c8c821f19",
   "metadata": {},
   "outputs": [
    {
     "data": {
      "text/plain": [
       "(numpy.datetime64('2015-12-31T00:00:00.000000000'),\n",
       " numpy.datetime64('2017-02-27T00:00:00.000000000'))"
      ]
     },
     "execution_count": 10,
     "metadata": {},
     "output_type": "execute_result"
    }
   ],
   "source": [
    "train.checkin.min(), train.checkin.max()"
   ]
  },
  {
   "cell_type": "markdown",
   "id": "e690666f-3867-4786-932c-5019e4028fe8",
   "metadata": {},
   "source": [
    "**Interactions per day**"
   ]
  },
  {
   "cell_type": "code",
   "execution_count": null,
   "id": "e22779a3-fb00-420d-a8e7-4ab86cd203c7",
   "metadata": {},
   "outputs": [],
   "source": [
    "#!python -m pip install -U matplotlib"
   ]
  },
  {
   "cell_type": "code",
   "execution_count": 68,
   "id": "31727fc1-2852-4e38-afa8-f85e551c6747",
   "metadata": {},
   "outputs": [
    {
     "data": {
      "text/plain": [
       "<Axes: xlabel='checkin'>"
      ]
     },
     "execution_count": 68,
     "metadata": {},
     "output_type": "execute_result"
    },
    {
     "data": {
      "image/png": "[encoded data removed]",
      "text/plain": [
       "<Figure size 1200x600 with 1 Axes>"
      ]
     },
     "metadata": {},
     "output_type": "display_data"
    }
   ],
   "source": [
    "train.groupby('checkin').size().to_pandas().sort_index().plot.line(figsize=(12,6))"
   ]
  },
  {
   "cell_type": "markdown",
   "id": "23e4752c-25fb-41e4-9b32-b2fc24c5c49c",
   "metadata": {},
   "source": [
    "We see more trips between July-October time period."
   ]
  },
  {
   "cell_type": "markdown",
   "id": "3b259ad5-ddef-4b67-b71b-428815767749",
   "metadata": {},
   "source": [
    "### 1.4. Split the train set as train and validation sets"
   ]
  },
  {
   "cell_type": "markdown",
   "id": "4e91eac9-2b79-4003-98b6-56d4d05de231",
   "metadata": {},
   "source": [
    "Let's split the data into a train and validation set based on checkin time, and trip id. We first sort the train dataset according to `checkin` date, and reserve the last two months as validation set."
   ]
  },
  {
   "cell_type": "code",
   "execution_count": 11,
   "id": "7c3b0c7f-b748-46dd-b9ff-064e9ed83a2f",
   "metadata": {},
   "outputs": [],
   "source": [
    "train_set = train.sort_values(['checkin', 'utrip_id']).reset_index(drop=True)"
   ]
  },
  {
   "cell_type": "markdown",
   "id": "4ed104de-95ea-4395-b141-5f351213dd60",
   "metadata": {},
   "source": [
    "Check if there are any duplicated (user, checkin) pairs."
   ]
  },
  {
   "cell_type": "code",
   "execution_count": 12,
   "id": "ab4c4e99-f9cd-45f8-9c83-3ce92ddba979",
   "metadata": {},
   "outputs": [
    {
     "data": {
      "text/plain": [
       "0"
      ]
     },
     "execution_count": 12,
     "metadata": {},
     "output_type": "execute_result"
    }
   ],
   "source": [
    "train_set.to_pandas().duplicated(subset=['user_id', 'checkin']).sum()"
   ]
  },
  {
   "cell_type": "markdown",
   "id": "75be392a-42e0-4184-b3e8-3d6b3ef8b0b1",
   "metadata": {},
   "source": [
    "Apply timebased split."
   ]
  },
  {
   "cell_type": "code",
   "execution_count": 13,
   "id": "31eaaa01-2e10-4f91-a999-282677181d03",
   "metadata": {},
   "outputs": [],
   "source": [
    "train = train_set[(train_set['checkin'] < pd.Timestamp(\"2017-01-01\"))]\n",
    "valid = train_set[(train_set['checkin'] >= pd.Timestamp(\"2017-01-01\"))]"
   ]
  },
  {
   "cell_type": "markdown",
   "id": "f8c2fe85-6a23-4f1e-a946-96bb8393967f",
   "metadata": {},
   "source": [
    "Print the shape of the tran and validation sets, and number of unique trip ids in each dataset."
   ]
  },
  {
   "cell_type": "code",
   "execution_count": 14,
   "id": "1d3a6a77-7234-43e7-a50d-c0bfc29f99bd",
   "metadata": {},
   "outputs": [
    {
     "data": {
      "text/plain": [
       "((1116574, 9), (50261, 9))"
      ]
     },
     "execution_count": 14,
     "metadata": {},
     "output_type": "execute_result"
    }
   ],
   "source": [
    "train.shape, valid.shape"
   ]
  },
  {
   "cell_type": "code",
   "execution_count": 32,
   "id": "7af29976-dbfc-481b-8dad-9469a2439f59",
   "metadata": {},
   "outputs": [
    {
     "name": "stdout",
     "output_type": "stream",
     "text": [
      "209342 10767\n"
     ]
    }
   ],
   "source": [
    "num_unique_trips_train,  num_unique_trips_valid= train.utrip_id.nunique(), valid.utrip_id.nunique()\n",
    "print (num_unique_trips_train,  num_unique_trips_valid)"
   ]
  },
  {
   "cell_type": "markdown",
   "id": "61fa29c5-50bd-43ea-8ad5-b559bebb8931",
   "metadata": {},
   "source": [
    "We can check the number of visits per trip per dataset, and find the percentage of the number of trips that have more than 30 visits. This shows that majority of the trips have less than 30 cities visited."
   ]
  },
  {
   "cell_type": "code",
   "execution_count": 33,
   "id": "8616fa84-e5ea-4aee-b7fb-878183410e4f",
   "metadata": {},
   "outputs": [
    {
     "data": {
      "text/plain": [
       "0.00907605736068252"
      ]
     },
     "execution_count": 33,
     "metadata": {},
     "output_type": "execute_result"
    }
   ],
   "source": [
    "num_unique_trips= train.utrip_id.nunique()\n",
    "((train.groupby('utrip_id')['city_id'].size()>30).sum() / num_unique_trips_train) *100"
   ]
  },
  {
   "cell_type": "markdown",
   "id": "646f35e0-408b-4e04-a707-6869a0be5a3b",
   "metadata": {},
   "source": [
    "We can also calculate the percentage of the trips that have only 1 city visited. "
   ]
  },
  {
   "cell_type": "code",
   "execution_count": null,
   "id": "6ec50ade-f178-48fd-a46a-f4d2f7ac34f2",
   "metadata": {},
   "outputs": [
    {
     "data": {
      "text/plain": [
       "0.2770585931155717"
      ]
     },
     "execution_count": 35,
     "metadata": {},
     "output_type": "execute_result"
    }
   ],
   "source": [
    "((train.groupby('utrip_id')['city_id'].size()<2).sum() / num_unique_trips_train) *100"
   ]
  },
  {
   "cell_type": "markdown",
   "id": "4d197615-9b5c-4510-aa69-24e487cd4fa0",
   "metadata": {},
   "source": [
    "Similarly, we see that validation set does not have any trip that have more than 30 cities visited."
   ]
  },
  {
   "cell_type": "code",
   "execution_count": 39,
   "id": "6368d8d1-f4f7-4e20-a673-1501d8e23b14",
   "metadata": {},
   "outputs": [
    {
     "data": {
      "text/plain": [
       "0.0"
      ]
     },
     "execution_count": 39,
     "metadata": {},
     "output_type": "execute_result"
    }
   ],
   "source": [
    "((valid.groupby('utrip_id')['city_id'].size()>30).sum()/ num_unique_trips_valid) *100"
   ]
  },
  {
   "cell_type": "markdown",
   "id": "a8433fe6-30c2-429c-9995-5918d0c5917e",
   "metadata": {},
   "source": [
    "However, validation set has more trips that has only one city visited."
   ]
  },
  {
   "cell_type": "code",
   "execution_count": 40,
   "id": "1692b940-2d24-488a-9076-d2906b4c7bcf",
   "metadata": {},
   "outputs": [
    {
     "data": {
      "text/plain": [
       "8.405312529023869"
      ]
     },
     "execution_count": 40,
     "metadata": {},
     "output_type": "execute_result"
    }
   ],
   "source": [
    "((valid.groupby('utrip_id')['city_id'].size()<2).sum() / num_unique_trips_valid) *100"
   ]
  },
  {
   "cell_type": "markdown",
   "id": "2e7bbe86-f483-45e2-a1b5-02da17ae1fcd",
   "metadata": {},
   "source": [
    "Considering this, we can set the max sequence length to 30 in the next notebook where we will transform the datasets and create features."
   ]
  },
  {
   "cell_type": "markdown",
   "id": "de7d7cd3-cbbf-4d22-a4b5-66dc7a59e856",
   "metadata": {},
   "source": [
    "Now, let's check out how many of the last visited city_id (target city) in the validation set are not in the train set. The reason we check this is because, when we encode validation set's city_id column in the next notebook, the city ids that are not seen train set will be mapped to `0`. We call them as out-of-vocabular (OOV) city ids. Since they are not in significant amount, in the next notebook we can remove the rows where city_id is `0` after encoding."
   ]
  },
  {
   "cell_type": "code",
   "execution_count": 23,
   "id": "00051a02-413c-4ac8-825c-d66f15bc5abb",
   "metadata": {},
   "outputs": [
    {
     "data": {
      "text/html": [
       "<div>\n",
       "<style scoped>\n",
       "    .dataframe tbody tr th:only-of-type {\n",
       "        vertical-align: middle;\n",
       "    }\n",
       "\n",
       "    .dataframe tbody tr th {\n",
       "        vertical-align: top;\n",
       "    }\n",
       "\n",
       "    .dataframe thead th {\n",
       "        text-align: right;\n",
       "    }\n",
       "</style>\n",
       "<table border=\"1\" class=\"dataframe\">\n",
       "  <thead>\n",
       "    <tr style=\"text-align: right;\">\n",
       "      <th></th>\n",
       "      <th>utrip_id</th>\n",
       "      <th>last</th>\n",
       "    </tr>\n",
       "  </thead>\n",
       "  <tbody>\n",
       "    <tr>\n",
       "      <th>98</th>\n",
       "      <td>1056954_1</td>\n",
       "      <td>33994</td>\n",
       "    </tr>\n",
       "    <tr>\n",
       "      <th>141</th>\n",
       "      <td>1077067_1</td>\n",
       "      <td>43849</td>\n",
       "    </tr>\n",
       "    <tr>\n",
       "      <th>222</th>\n",
       "      <td>1119551_3</td>\n",
       "      <td>10084</td>\n",
       "    </tr>\n",
       "    <tr>\n",
       "      <th>296</th>\n",
       "      <td>1157265_1</td>\n",
       "      <td>47263</td>\n",
       "    </tr>\n",
       "    <tr>\n",
       "      <th>318</th>\n",
       "      <td>1165937_2</td>\n",
       "      <td>42761</td>\n",
       "    </tr>\n",
       "    <tr>\n",
       "      <th>...</th>\n",
       "      <td>...</td>\n",
       "      <td>...</td>\n",
       "    </tr>\n",
       "    <tr>\n",
       "      <th>9659</th>\n",
       "      <td>6031094_1</td>\n",
       "      <td>33356</td>\n",
       "    </tr>\n",
       "    <tr>\n",
       "      <th>9699</th>\n",
       "      <td>6050318_1</td>\n",
       "      <td>59112</td>\n",
       "    </tr>\n",
       "    <tr>\n",
       "      <th>10363</th>\n",
       "      <td>787466_1</td>\n",
       "      <td>10396</td>\n",
       "    </tr>\n",
       "    <tr>\n",
       "      <th>10512</th>\n",
       "      <td>867686_1</td>\n",
       "      <td>33824</td>\n",
       "    </tr>\n",
       "    <tr>\n",
       "      <th>10577</th>\n",
       "      <td>907591_2</td>\n",
       "      <td>33340</td>\n",
       "    </tr>\n",
       "  </tbody>\n",
       "</table>\n",
       "<p>65 rows × 2 columns</p>\n",
       "</div>"
      ],
      "text/plain": [
       "        utrip_id   last\n",
       "98     1056954_1  33994\n",
       "141    1077067_1  43849\n",
       "222    1119551_3  10084\n",
       "296    1157265_1  47263\n",
       "318    1165937_2  42761\n",
       "...          ...    ...\n",
       "9659   6031094_1  33356\n",
       "9699   6050318_1  59112\n",
       "10363   787466_1  10396\n",
       "10512   867686_1  33824\n",
       "10577   907591_2  33340\n",
       "\n",
       "[65 rows x 2 columns]"
      ]
     },
     "execution_count": 23,
     "metadata": {},
     "output_type": "execute_result"
    }
   ],
   "source": [
    "valid_grouped = valid.groupby('utrip_id')['city_id'].agg(['last']).reset_index()\n",
    "valid_grouped[~valid_grouped['last'].isin(train.city_id)]"
   ]
  },
  {
   "cell_type": "markdown",
   "id": "a40f477e-cfb1-4b06-830b-b8e7e1f5246c",
   "metadata": {},
   "source": [
    "Save parquet files to disk."
   ]
  },
  {
   "cell_type": "code",
   "execution_count": null,
   "id": "596de4cf-a0ee-41cb-8624-514c6c9886fa",
   "metadata": {},
   "outputs": [],
   "source": [
    "train.to_parquet(os.path.join(DATA_FOLDER, \"train.parquet\"))\n",
    "valid.to_parquet(os.path.join(DATA_FOLDER, \"valid.parquet\"))"
   ]
  },
  {
   "cell_type": "code",
   "execution_count": null,
   "id": "0d483e19-2e15-4664-962b-1616afea939e",
   "metadata": {},
   "outputs": [],
   "source": [
    "del train, valid, train_set\n",
    "gc.collect()"
   ]
  },
  {
   "cell_type": "markdown",
   "id": "73c85cb9-8df4-45c3-8c13-778a5fc34473",
   "metadata": {},
   "source": [
    "### Summary\n",
    "\n",
    "In this notebook, we have done the following steps:\n",
    "    \n",
    "- download the dataset\n",
    "- analyze the dataset\n",
    "- split the dataset based on timestamp as train and validation sets\n",
    "- save the train and validation sets to disk as parquet files"
   ]
  },
  {
   "cell_type": "markdown",
   "id": "2ba16555-4852-4471-864a-d251dfe0741d",
   "metadata": {},
   "source": [
    "Please execute the cell below to shut down the kernel before moving on to the next notebook `02-ETL-with-NVTabular`."
   ]
  },
  {
   "cell_type": "code",
   "execution_count": 1,
   "id": "01ca3140-2f14-4a34-9530-4f0ac34ec495",
   "metadata": {},
   "outputs": [
    {
     "data": {
      "text/plain": [
       "{'status': 'ok', 'restart': True}"
      ]
     },
     "execution_count": 1,
     "metadata": {},
     "output_type": "execute_result"
    }
   ],
   "source": [
    "import IPython\n",
    "app = IPython.Application.instance()\n",
    "app.kernel.do_shutdown(True)"
   ]
  }
 ],
 "metadata": {
  "kernelspec": {
   "display_name": "Python 3",
   "language": "python",
   "name": "python3"
  },
  "language_info": {
   "codemirror_mode": {
    "name": "ipython",
    "version": 3
   },
   "file_extension": ".py",
   "mimetype": "text/x-python",
   "name": "python",
   "nbconvert_exporter": "python",
   "pygments_lexer": "ipython3",
   "version": "3.8.13"
  }
 },
 "nbformat": 4,
 "nbformat_minor": 5
}
