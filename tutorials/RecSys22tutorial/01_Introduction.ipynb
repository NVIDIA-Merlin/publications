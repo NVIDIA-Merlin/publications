{
 "cells": [
  {
   "cell_type": "code",
   "execution_count": 1,
   "id": "5c657d9a-c65a-459d-b766-296968a2e294",
   "metadata": {},
   "outputs": [],
   "source": [
    "# Copyright 2021 NVIDIA Corporation. All Rights Reserved.\n",
    "#\n",
    "# Licensed under the Apache License, Version 2.0 (the \"License\");\n",
    "# you may not use this file except in compliance with the License.\n",
    "# You may obtain a copy of the License at\n",
    "#\n",
    "#     http://www.apache.org/licenses/LICENSE-2.0\n",
    "#\n",
    "# Unless required by applicable law or agreed to in writing, software\n",
    "# distributed under the License is distributed on an \"AS IS\" BASIS,\n",
    "# WITHOUT WARRANTIES OR CONDITIONS OF ANY KIND, either express or implied.\n",
    "# See the License for the specific language governing permissions and\n",
    "# limitations under the License.\n",
    "# ====="
   ]
  },
  {
   "cell_type": "markdown",
   "id": "55908574-e93b-4ad7-bbd4-0c719d9fbf91",
   "metadata": {},
   "source": [
    "# Training and Deploying Multi-Stage Recommender Systems"
   ]
  },
  {
   "cell_type": "markdown",
   "id": "46845be7-b046-42d0-8c57-362bcdba4e43",
   "metadata": {},
   "source": [
    "In this notebook, we are going to use a subset of a publicly available eCommerce dataset. The full dataset contains 7 months data (from October 2019 to April 2020) from a large multi-category online store. Each row in the file represents an event. All events are related to products and users. Each event is like many-to-many relation between products and users. Data collected by Open CDP project and the source of the dataset is [REES46 Marketing Platform](https://rees46.com/).\n",
    "\n",
    "We use csv files from 2019-Oct to 2020-April for training and validating our models, so you can visit this site and download the csv files: https://www.kaggle.com/mkechinov/ecommerce-behavior-data-from-multi-category-store.\n",
    "\n",
    "**Learning Objectives**\n",
    "\n",
    "- Preliminary pre-processing and cleaning of the 7 months of Ecom-REES46 datasets."
   ]
  },
  {
   "cell_type": "code",
   "execution_count": 2,
   "id": "93efea67-dc01-46fe-87fb-de87b4b65585",
   "metadata": {},
   "outputs": [],
   "source": [
    "import os\n",
    "import pandas as pd\n",
    "import glob\n",
    "import cudf\n",
    "import numpy as np\n",
    "import gc"
   ]
  },
  {
   "cell_type": "code",
   "execution_count": 3,
   "id": "5795ef84-5a6c-47ad-a402-16536e283a34",
   "metadata": {},
   "outputs": [],
   "source": [
    "list_files = glob.glob('/workspace/data/ecom/*.csv')"
   ]
  },
  {
   "cell_type": "code",
   "execution_count": 4,
   "id": "2e309c7e-7794-474b-ae3a-601a0fb18ced",
   "metadata": {},
   "outputs": [
    {
     "data": {
      "text/plain": [
       "['/workspace/data/ecom/2019-Dec.csv',\n",
       " '/workspace/data/ecom/2020-Jan.csv',\n",
       " '/workspace/data/ecom/2020-Feb.csv',\n",
       " '/workspace/data/ecom/2019-Oct.csv',\n",
       " '/workspace/data/ecom/2020-Mar.csv',\n",
       " '/workspace/data/ecom/2020-Apr.csv',\n",
       " '/workspace/data/ecom/2019-Nov.csv']"
      ]
     },
     "execution_count": 4,
     "metadata": {},
     "output_type": "execute_result"
    }
   ],
   "source": [
    "list_files"
   ]
  },
  {
   "cell_type": "markdown",
   "id": "5588fb70-6726-441c-bb3b-35256e45e0ef",
   "metadata": {},
   "source": [
    "Next, we process a single .csv file and extract/filter the rows"
   ]
  },
  {
   "cell_type": "code",
   "execution_count": 5,
   "id": "8809a874-b7a9-4e6a-882e-16a0267fd03d",
   "metadata": {},
   "outputs": [],
   "source": [
    "# def process_files(file):\n",
    "#     df_tmp = pd.read_csv(file)\n",
    "#     df_tmp['session_purchase'] =  df_tmp['user_session'] + '_' + df_tmp['product_id'].astype(str)\n",
    "#     df_purchase = df_tmp[df_tmp['event_type']=='purchase']\n",
    "#     df_cart = df_tmp[df_tmp['event_type']=='cart']\n",
    "#     df_purchase = df_purchase[df_purchase['session_purchase'].isin(df_cart['session_purchase'])]\n",
    "#     df_cart = df_cart[~(df_cart['session_purchase'].isin(df_purchase['session_purchase']))]\n",
    "#     df_cart['target'] = 0\n",
    "#     df_purchase['target'] = 1\n",
    "#     df = pd.concat([df_cart, df_purchase])\n",
    "#     df = df.drop('category_id', axis=1)\n",
    "#     df = df.drop('session_purchase', axis=1)\n",
    "#     df[['cat_0', 'cat_1', 'cat_2', 'cat_3']] = df['category_code'].str.split(\"\\.\", n = 3, expand = True).fillna('NA')\n",
    "#     df['brand'] = df['brand'].fillna('NA')\n",
    "#     df = df.drop('category_code', axis=1)\n",
    "#     df['timestamp'] = pd.to_datetime(df['event_time'].str.replace(' UTC', ''))\n",
    "#     df['ts_month'] = df['timestamp'].dt.month\n",
    "#     df['event_time_ts']= df['timestamp'].astype('int')\n",
    "\n",
    "#     df.to_csv('./' + file.replace('/workspace/data/ecom', ''), index=False)"
   ]
  },
  {
   "cell_type": "code",
   "execution_count": 6,
   "id": "eb0b5ed6-a591-4a85-8c3a-680e45a467d4",
   "metadata": {},
   "outputs": [],
   "source": [
    "# for file in list_files:\n",
    "#     print(file)\n",
    "#     process_files(file)"
   ]
  },
  {
   "cell_type": "code",
   "execution_count": 7,
   "id": "ba249efd-e967-488a-8d9d-0a5998746d0a",
   "metadata": {},
   "outputs": [],
   "source": [
    "lp = []\n",
    "list_files = glob.glob('./*.csv')"
   ]
  },
  {
   "cell_type": "code",
   "execution_count": 8,
   "id": "d9182cd3-126f-4060-bc9b-9f314f45d569",
   "metadata": {},
   "outputs": [],
   "source": [
    "for file in list_files:\n",
    "    lp.append(cudf.read_csv(file))"
   ]
  },
  {
   "cell_type": "code",
   "execution_count": 9,
   "id": "1b6476de-e817-418e-872a-80d3ca0eac1e",
   "metadata": {},
   "outputs": [],
   "source": [
    "df = cudf.concat(lp)"
   ]
  },
  {
   "cell_type": "markdown",
   "id": "ccf8ec97-0486-4d38-b3f9-4d2787c003ad",
   "metadata": {},
   "source": [
    "Cast dtypes. Be sure the timestamp column is a datetime object."
   ]
  },
  {
   "cell_type": "code",
   "execution_count": 10,
   "id": "7b4e77b0-fd0f-4089-9f77-79f22ba69fc0",
   "metadata": {},
   "outputs": [],
   "source": [
    "df['timestamp'] = df['timestamp'].astype('datetime64[s]')\n",
    "df['user_id'] = df['user_id'].astype('int32')\n",
    "df['product_id'] = df['product_id'].astype('int32')\n",
    "df['target'] = df['target'].astype('int32')\n",
    "df['ts_month'] = df['ts_month'].astype('int32')\n",
    "df['price'] = df['price'].astype('float32')"
   ]
  },
  {
   "cell_type": "code",
   "execution_count": 11,
   "id": "c1ff1d16-0c27-42ab-bfa2-b44b954c7cf6",
   "metadata": {},
   "outputs": [
    {
     "data": {
      "text/plain": [
       "(16695562, 15)"
      ]
     },
     "execution_count": 11,
     "metadata": {},
     "output_type": "execute_result"
    }
   ],
   "source": [
    "df.shape"
   ]
  },
  {
   "cell_type": "markdown",
   "id": "cec7cbfe-203d-498c-a3e2-61b87ba58426",
   "metadata": {},
   "source": [
    "Add day and hour columns"
   ]
  },
  {
   "cell_type": "code",
   "execution_count": 12,
   "id": "eef6bd9b-6b5a-40e3-a025-e8a32a1e4bdf",
   "metadata": {},
   "outputs": [
    {
     "data": {
      "text/html": [
       "<div>\n",
       "<style scoped>\n",
       "    .dataframe tbody tr th:only-of-type {\n",
       "        vertical-align: middle;\n",
       "    }\n",
       "\n",
       "    .dataframe tbody tr th {\n",
       "        vertical-align: top;\n",
       "    }\n",
       "\n",
       "    .dataframe thead th {\n",
       "        text-align: right;\n",
       "    }\n",
       "</style>\n",
       "<table border=\"1\" class=\"dataframe\">\n",
       "  <thead>\n",
       "    <tr style=\"text-align: right;\">\n",
       "      <th></th>\n",
       "      <th>event_time</th>\n",
       "      <th>event_type</th>\n",
       "      <th>product_id</th>\n",
       "      <th>brand</th>\n",
       "      <th>price</th>\n",
       "      <th>user_id</th>\n",
       "      <th>user_session</th>\n",
       "      <th>target</th>\n",
       "      <th>cat_0</th>\n",
       "      <th>cat_1</th>\n",
       "      <th>cat_2</th>\n",
       "      <th>cat_3</th>\n",
       "      <th>timestamp</th>\n",
       "      <th>ts_month</th>\n",
       "      <th>event_time_ts</th>\n",
       "    </tr>\n",
       "  </thead>\n",
       "  <tbody>\n",
       "    <tr>\n",
       "      <th>0</th>\n",
       "      <td>2019-12-01 00:00:28 UTC</td>\n",
       "      <td>cart</td>\n",
       "      <td>17800342</td>\n",
       "      <td>zeta</td>\n",
       "      <td>66.900002</td>\n",
       "      <td>550465671</td>\n",
       "      <td>22650a62-2d9c-4151-9f41-2674ec6d32d5</td>\n",
       "      <td>0</td>\n",
       "      <td>computers</td>\n",
       "      <td>desktop</td>\n",
       "      <td>&lt;NA&gt;</td>\n",
       "      <td>&lt;NA&gt;</td>\n",
       "      <td>2019-12-01 00:00:28</td>\n",
       "      <td>12</td>\n",
       "      <td>1575158428000000000</td>\n",
       "    </tr>\n",
       "    <tr>\n",
       "      <th>1</th>\n",
       "      <td>2019-12-01 00:00:39 UTC</td>\n",
       "      <td>cart</td>\n",
       "      <td>3701309</td>\n",
       "      <td>polaris</td>\n",
       "      <td>89.320000</td>\n",
       "      <td>543733099</td>\n",
       "      <td>a65116f4-ac53-4a41-ad68-6606788e674c</td>\n",
       "      <td>0</td>\n",
       "      <td>appliances</td>\n",
       "      <td>environment</td>\n",
       "      <td>vacuum</td>\n",
       "      <td>&lt;NA&gt;</td>\n",
       "      <td>2019-12-01 00:00:39</td>\n",
       "      <td>12</td>\n",
       "      <td>1575158439000000000</td>\n",
       "    </tr>\n",
       "  </tbody>\n",
       "</table>\n",
       "</div>"
      ],
      "text/plain": [
       "                event_time event_type  product_id    brand      price  \\\n",
       "0  2019-12-01 00:00:28 UTC       cart    17800342     zeta  66.900002   \n",
       "1  2019-12-01 00:00:39 UTC       cart     3701309  polaris  89.320000   \n",
       "\n",
       "     user_id                          user_session  target       cat_0  \\\n",
       "0  550465671  22650a62-2d9c-4151-9f41-2674ec6d32d5       0   computers   \n",
       "1  543733099  a65116f4-ac53-4a41-ad68-6606788e674c       0  appliances   \n",
       "\n",
       "         cat_1   cat_2 cat_3           timestamp  ts_month  \\\n",
       "0      desktop    <NA>  <NA> 2019-12-01 00:00:28        12   \n",
       "1  environment  vacuum  <NA> 2019-12-01 00:00:39        12   \n",
       "\n",
       "         event_time_ts  \n",
       "0  1575158428000000000  \n",
       "1  1575158439000000000  "
      ]
     },
     "execution_count": 12,
     "metadata": {},
     "output_type": "execute_result"
    }
   ],
   "source": [
    "df.head(2)"
   ]
  },
  {
   "cell_type": "code",
   "execution_count": 13,
   "id": "50d1d96c-6e51-4efd-aa3f-0dcbde182a29",
   "metadata": {},
   "outputs": [],
   "source": [
    "# Remove repeated interactions within the same hour, keeping only the last time the user has viewed a product\n",
    "df = df.groupby(['user_id', 'product_id']).last().reset_index()"
   ]
  },
  {
   "cell_type": "code",
   "execution_count": 14,
   "id": "6a121ad3-9e9b-4c60-a1bd-f9ec521a8bd9",
   "metadata": {},
   "outputs": [
    {
     "data": {
      "text/plain": [
       "(9279526, 15)"
      ]
     },
     "execution_count": 14,
     "metadata": {},
     "output_type": "execute_result"
    }
   ],
   "source": [
    "df.shape"
   ]
  },
  {
   "cell_type": "code",
   "execution_count": 15,
   "id": "3ec7179b-5887-4007-809b-6702b34a4189",
   "metadata": {},
   "outputs": [
    {
     "data": {
      "text/plain": [
       "0"
      ]
     },
     "execution_count": 15,
     "metadata": {},
     "output_type": "execute_result"
    }
   ],
   "source": [
    "# check if there are any duplicated (user, item) pairs\n",
    "df.to_pandas().duplicated(subset=['user_id', 'product_id']).sum()"
   ]
  },
  {
   "cell_type": "code",
   "execution_count": 16,
   "id": "348d4011-3e11-4dfa-be2e-3468fd6bf721",
   "metadata": {},
   "outputs": [
    {
     "data": {
      "text/plain": [
       "(numpy.datetime64('2019-10-01T00:05:14'),\n",
       " numpy.datetime64('2020-04-30T23:59:55'))"
      ]
     },
     "execution_count": 16,
     "metadata": {},
     "output_type": "execute_result"
    }
   ],
   "source": [
    "df['timestamp'].min(), df['timestamp'].max()"
   ]
  },
  {
   "cell_type": "code",
   "execution_count": 17,
   "id": "3faca6cd-7a9e-4441-b1a4-150e12d0d175",
   "metadata": {},
   "outputs": [],
   "source": [
    "#df.to_parquet('/workspace/data/ecom/df_Oct_Apr.parquet')"
   ]
  },
  {
   "cell_type": "code",
   "execution_count": 18,
   "id": "b5a805c6-9394-48f3-9ba3-542b8a85ab92",
   "metadata": {},
   "outputs": [],
   "source": [
    "df_train = df[(df['ts_month']!=4)]\n",
    "df_valid = df[(df['ts_month']==4)]"
   ]
  },
  {
   "cell_type": "code",
   "execution_count": 19,
   "id": "be6f165e-aa12-41e3-af96-aec7c084c5da",
   "metadata": {},
   "outputs": [
    {
     "data": {
      "text/plain": [
       "((7613270, 15), (1666256, 15))"
      ]
     },
     "execution_count": 19,
     "metadata": {},
     "output_type": "execute_result"
    }
   ],
   "source": [
    "df_train.shape, df_valid.shape"
   ]
  },
  {
   "cell_type": "code",
   "execution_count": 20,
   "id": "1350363d-4631-43b9-8f75-05e4a679e5a0",
   "metadata": {},
   "outputs": [
    {
     "data": {
      "text/plain": [
       "cart        4222002\n",
       "purchase    3391268\n",
       "Name: event_type, dtype: int32"
      ]
     },
     "execution_count": 20,
     "metadata": {},
     "output_type": "execute_result"
    }
   ],
   "source": [
    "df_train['event_type'].value_counts()"
   ]
  },
  {
   "cell_type": "code",
   "execution_count": 21,
   "id": "240a9ca7-0cd7-4b9d-83fe-5a739d4b878c",
   "metadata": {},
   "outputs": [
    {
     "data": {
      "text/plain": [
       "33"
      ]
     },
     "execution_count": 21,
     "metadata": {},
     "output_type": "execute_result"
    }
   ],
   "source": [
    "df =None\n",
    "del df\n",
    "gc.collect()"
   ]
  },
  {
   "cell_type": "markdown",
   "id": "439351dc-9dc8-4616-9e2e-b8b7639e5f3b",
   "metadata": {},
   "source": [
    "### Select users with minimum interactions in both train and valid sets"
   ]
  },
  {
   "cell_type": "code",
   "execution_count": 22,
   "id": "51e76453-cb78-4990-9494-12126176502c",
   "metadata": {},
   "outputs": [
    {
     "data": {
      "text/plain": [
       "(2969453, 186755)"
      ]
     },
     "execution_count": 22,
     "metadata": {},
     "output_type": "execute_result"
    }
   ],
   "source": [
    "df_train.user_id.nunique(), df_train.product_id.nunique()"
   ]
  },
  {
   "cell_type": "code",
   "execution_count": 23,
   "id": "9078faee-1380-448a-a74a-9adf920dc3f2",
   "metadata": {},
   "outputs": [
    {
     "data": {
      "text/plain": [
       "count    2.969453e+06\n",
       "mean     2.563863e+00\n",
       "std      3.508274e+00\n",
       "min      1.000000e+00\n",
       "0%       1.000000e+00\n",
       "5%       1.000000e+00\n",
       "10%      1.000000e+00\n",
       "15%      1.000000e+00\n",
       "20%      1.000000e+00\n",
       "25%      1.000000e+00\n",
       "30%      1.000000e+00\n",
       "35%      1.000000e+00\n",
       "40%      1.000000e+00\n",
       "45%      1.000000e+00\n",
       "50%      1.000000e+00\n",
       "55%      2.000000e+00\n",
       "60%      2.000000e+00\n",
       "65%      2.000000e+00\n",
       "70%      2.000000e+00\n",
       "75%      3.000000e+00\n",
       "80%      3.000000e+00\n",
       "85%      4.000000e+00\n",
       "90%      5.000000e+00\n",
       "95%      8.000000e+00\n",
       "100%     4.750000e+02\n",
       "max      4.750000e+02\n",
       "dtype: float64"
      ]
     },
     "execution_count": 23,
     "metadata": {},
     "output_type": "execute_result"
    }
   ],
   "source": [
    "df_train.groupby('user_id').size().describe(percentiles=np.arange(0.0, 1.05, 0.05))"
   ]
  },
  {
   "cell_type": "code",
   "execution_count": 24,
   "id": "36f750a3-280f-4440-a7c2-ac87e0c03ec6",
   "metadata": {},
   "outputs": [
    {
     "data": {
      "text/plain": [
       "count    186755.000000\n",
       "mean         40.766084\n",
       "std         859.462202\n",
       "min           1.000000\n",
       "0%            1.000000\n",
       "5%            1.000000\n",
       "10%           1.000000\n",
       "15%           1.000000\n",
       "20%           1.000000\n",
       "25%           1.000000\n",
       "30%           2.000000\n",
       "35%           2.000000\n",
       "40%           2.000000\n",
       "45%           3.000000\n",
       "50%           3.000000\n",
       "55%           4.000000\n",
       "60%           5.000000\n",
       "65%           6.000000\n",
       "70%           8.000000\n",
       "75%          11.000000\n",
       "80%          15.000000\n",
       "85%          22.000000\n",
       "90%          37.000000\n",
       "95%          83.000000\n",
       "100%     170297.000000\n",
       "max      170297.000000\n",
       "dtype: float64"
      ]
     },
     "execution_count": 24,
     "metadata": {},
     "output_type": "execute_result"
    }
   ],
   "source": [
    "df_train.groupby('product_id').size().describe(percentiles=np.arange(0.0, 1.05, 0.05))"
   ]
  },
  {
   "cell_type": "code",
   "execution_count": 25,
   "id": "36ac6618-2218-49a3-8cb9-dce5d664d197",
   "metadata": {},
   "outputs": [
    {
     "data": {
      "text/plain": [
       "(2969453, 186755)"
      ]
     },
     "execution_count": 25,
     "metadata": {},
     "output_type": "execute_result"
    }
   ],
   "source": [
    "df_train.user_id.nunique(), df_train.product_id.nunique()"
   ]
  },
  {
   "cell_type": "markdown",
   "id": "b5d1dbec-1ade-4c8c-864b-13e06e390c84",
   "metadata": {},
   "source": [
    "Avoid heavy users- cap users' high interactions keeping only the last 50 (max) interactions"
   ]
  },
  {
   "cell_type": "code",
   "execution_count": 26,
   "id": "c7ffbad9-f231-442f-961c-33416e63238c",
   "metadata": {},
   "outputs": [],
   "source": [
    "df_train = df_train.sort_values(['user_id', 'event_time_ts'], ascending=False)\n",
    "df_train[\"ones\"] = 1\n",
    "df_train['cumsum'] = df_train.groupby('user_id')['ones'].cumsum()\n",
    "df_train = df_train[df_train['cumsum'] <= 50]"
   ]
  },
  {
   "cell_type": "code",
   "execution_count": 27,
   "id": "53c38502-ab02-4007-86a5-5a4c2bc43452",
   "metadata": {},
   "outputs": [
    {
     "data": {
      "text/plain": [
       "count    2.969453e+06\n",
       "mean     2.553940e+00\n",
       "std      3.278977e+00\n",
       "min      1.000000e+00\n",
       "0%       1.000000e+00\n",
       "5%       1.000000e+00\n",
       "10%      1.000000e+00\n",
       "15%      1.000000e+00\n",
       "20%      1.000000e+00\n",
       "25%      1.000000e+00\n",
       "30%      1.000000e+00\n",
       "35%      1.000000e+00\n",
       "40%      1.000000e+00\n",
       "45%      1.000000e+00\n",
       "50%      1.000000e+00\n",
       "55%      2.000000e+00\n",
       "60%      2.000000e+00\n",
       "65%      2.000000e+00\n",
       "70%      2.000000e+00\n",
       "75%      3.000000e+00\n",
       "80%      3.000000e+00\n",
       "85%      4.000000e+00\n",
       "90%      5.000000e+00\n",
       "95%      8.000000e+00\n",
       "100%     5.000000e+01\n",
       "max      5.000000e+01\n",
       "dtype: float64"
      ]
     },
     "execution_count": 27,
     "metadata": {},
     "output_type": "execute_result"
    }
   ],
   "source": [
    "df_train.groupby('user_id').size().describe(percentiles=np.arange(0.0, 1.05, 0.05))"
   ]
  },
  {
   "cell_type": "code",
   "execution_count": 28,
   "id": "9407abf7-26d6-4b96-afed-333089418fb5",
   "metadata": {},
   "outputs": [],
   "source": [
    "def filter_by_freq(df_to_filter: cudf.DataFrame, df_for_stats: cudf.DataFrame, column: str, min_freq: int) -> cudf.DataFrame:\n",
    "    # Frequencies of each value in the column.\n",
    "    freq = df_for_stats[column].value_counts()\n",
    "    # Select frequent values. Value is in the index.\n",
    "    frequent_values = freq[freq >= min_freq].index\n",
    "    # Return only rows with value frequency above threshold.\n",
    "    return df_to_filter[df_to_filter[column].isin(frequent_values)]"
   ]
  },
  {
   "cell_type": "code",
   "execution_count": 29,
   "id": "1f144a94-f9eb-418a-9852-0a398f442cee",
   "metadata": {},
   "outputs": [],
   "source": [
    "NUM_ROUNDS_MIN_FREQ_FILTERING=10\n",
    "MIN_USER_FREQ=5\n",
    "MIN_ITEM_FREQ=5"
   ]
  },
  {
   "cell_type": "code",
   "execution_count": 30,
   "id": "0b2ce2a7-67fb-4d28-9524-ac7381fbe9a2",
   "metadata": {},
   "outputs": [
    {
     "name": "stdout",
     "output_type": "stream",
     "text": [
      "Before filtering:  7583804\n",
      "Round #0\n",
      "After filtering users:  3302384\n",
      "After filtering items:  3118824\n",
      "Round #1\n",
      "After filtering users:  3031772\n",
      "After filtering items:  3020691\n",
      "Round #2\n",
      "After filtering users:  3013789\n",
      "After filtering items:  3012746\n",
      "Round #3\n",
      "After filtering users:  3011940\n",
      "After filtering items:  3011844\n",
      "Round #4\n",
      "After filtering users:  3011772\n",
      "After filtering items:  3011754\n",
      "Round #5\n",
      "After filtering users:  3011746\n",
      "After filtering items:  3011746\n",
      "Round #6\n",
      "After filtering users:  3011746\n",
      "After filtering items:  3011746\n",
      "Round #7\n",
      "After filtering users:  3011746\n",
      "After filtering items:  3011746\n",
      "Round #8\n",
      "After filtering users:  3011746\n",
      "After filtering items:  3011746\n",
      "Round #9\n",
      "After filtering users:  3011746\n",
      "After filtering items:  3011746\n"
     ]
    }
   ],
   "source": [
    "print('Before filtering: ', len(df_train))\n",
    "for r in range(NUM_ROUNDS_MIN_FREQ_FILTERING):\n",
    "    print(f'Round #{r}')\n",
    "    df_train = filter_by_freq(df_to_filter=df_train, df_for_stats=df_train, \n",
    "                                      column='user_id', min_freq=MIN_USER_FREQ)\n",
    "    print('After filtering users: ',len(df_train))\n",
    "    df_train = filter_by_freq(df_to_filter=df_train, df_for_stats=df_train, \n",
    "                                      column='product_id', min_freq=MIN_ITEM_FREQ)\n",
    "    print('After filtering items: ',len(df_train))\n"
   ]
  },
  {
   "cell_type": "code",
   "execution_count": 31,
   "id": "fb126a9d-a2f8-401b-a45d-c4b4ca63264f",
   "metadata": {},
   "outputs": [
    {
     "data": {
      "text/plain": [
       "(351049, 51424)"
      ]
     },
     "execution_count": 31,
     "metadata": {},
     "output_type": "execute_result"
    }
   ],
   "source": [
    "df_train.user_id.nunique(), df_train.product_id.nunique()"
   ]
  },
  {
   "cell_type": "code",
   "execution_count": 32,
   "id": "86d88091-9d55-42e4-8179-ab73ebbc9cbb",
   "metadata": {},
   "outputs": [
    {
     "data": {
      "text/plain": [
       "174"
      ]
     },
     "execution_count": 32,
     "metadata": {},
     "output_type": "execute_result"
    }
   ],
   "source": [
    "gc.collect()"
   ]
  },
  {
   "cell_type": "code",
   "execution_count": 33,
   "id": "47ba142a-b9fe-4e0e-99fd-8d12eeacc3bc",
   "metadata": {},
   "outputs": [
    {
     "data": {
      "text/plain": [
       "user_id          False\n",
       "product_id       False\n",
       "event_time       False\n",
       "event_type       False\n",
       "brand             True\n",
       "price            False\n",
       "user_session     False\n",
       "target           False\n",
       "cat_0             True\n",
       "cat_1             True\n",
       "cat_2             True\n",
       "cat_3             True\n",
       "timestamp        False\n",
       "ts_month         False\n",
       "event_time_ts    False\n",
       "ones             False\n",
       "cumsum           False\n",
       "dtype: bool"
      ]
     },
     "execution_count": 33,
     "metadata": {},
     "output_type": "execute_result"
    }
   ],
   "source": [
    "df_train.isnull().any()"
   ]
  },
  {
   "cell_type": "code",
   "execution_count": 34,
   "id": "e304ef2e-caf6-4c6d-a2a0-0969344934df",
   "metadata": {},
   "outputs": [],
   "source": [
    "df_train = df_train.drop(['ones', 'cumsum'], axis=1)"
   ]
  },
  {
   "cell_type": "code",
   "execution_count": 35,
   "id": "d93f7622-7d2b-4cdc-9902-c726638eb617",
   "metadata": {},
   "outputs": [
    {
     "data": {
      "text/html": [
       "<div>\n",
       "<style scoped>\n",
       "    .dataframe tbody tr th:only-of-type {\n",
       "        vertical-align: middle;\n",
       "    }\n",
       "\n",
       "    .dataframe tbody tr th {\n",
       "        vertical-align: top;\n",
       "    }\n",
       "\n",
       "    .dataframe thead th {\n",
       "        text-align: right;\n",
       "    }\n",
       "</style>\n",
       "<table border=\"1\" class=\"dataframe\">\n",
       "  <thead>\n",
       "    <tr style=\"text-align: right;\">\n",
       "      <th></th>\n",
       "      <th>user_id</th>\n",
       "      <th>product_id</th>\n",
       "      <th>event_time</th>\n",
       "      <th>event_type</th>\n",
       "      <th>brand</th>\n",
       "      <th>price</th>\n",
       "      <th>user_session</th>\n",
       "      <th>target</th>\n",
       "      <th>cat_0</th>\n",
       "      <th>cat_1</th>\n",
       "      <th>cat_2</th>\n",
       "      <th>cat_3</th>\n",
       "      <th>timestamp</th>\n",
       "      <th>ts_month</th>\n",
       "      <th>event_time_ts</th>\n",
       "    </tr>\n",
       "  </thead>\n",
       "  <tbody>\n",
       "    <tr>\n",
       "      <th>8850950</th>\n",
       "      <td>635096898</td>\n",
       "      <td>26205398</td>\n",
       "      <td>2020-03-31 20:00:17 UTC</td>\n",
       "      <td>purchase</td>\n",
       "      <td>&lt;NA&gt;</td>\n",
       "      <td>178.380005</td>\n",
       "      <td>27282c23-cf25-436f-87f9-b1fefa8ecee3</td>\n",
       "      <td>1</td>\n",
       "      <td>construction</td>\n",
       "      <td>components</td>\n",
       "      <td>faucet</td>\n",
       "      <td>&lt;NA&gt;</td>\n",
       "      <td>2020-03-31 20:00:17</td>\n",
       "      <td>3</td>\n",
       "      <td>1585684817000000000</td>\n",
       "    </tr>\n",
       "    <tr>\n",
       "      <th>8850949</th>\n",
       "      <td>635096898</td>\n",
       "      <td>26205378</td>\n",
       "      <td>2020-03-31 19:58:21 UTC</td>\n",
       "      <td>purchase</td>\n",
       "      <td>&lt;NA&gt;</td>\n",
       "      <td>263.070007</td>\n",
       "      <td>27282c23-cf25-436f-87f9-b1fefa8ecee3</td>\n",
       "      <td>1</td>\n",
       "      <td>construction</td>\n",
       "      <td>components</td>\n",
       "      <td>faucet</td>\n",
       "      <td>&lt;NA&gt;</td>\n",
       "      <td>2020-03-31 19:58:21</td>\n",
       "      <td>3</td>\n",
       "      <td>1585684701000000000</td>\n",
       "    </tr>\n",
       "  </tbody>\n",
       "</table>\n",
       "</div>"
      ],
      "text/plain": [
       "           user_id  product_id               event_time event_type brand  \\\n",
       "8850950  635096898    26205398  2020-03-31 20:00:17 UTC   purchase  <NA>   \n",
       "8850949  635096898    26205378  2020-03-31 19:58:21 UTC   purchase  <NA>   \n",
       "\n",
       "              price                          user_session  target  \\\n",
       "8850950  178.380005  27282c23-cf25-436f-87f9-b1fefa8ecee3       1   \n",
       "8850949  263.070007  27282c23-cf25-436f-87f9-b1fefa8ecee3       1   \n",
       "\n",
       "                cat_0       cat_1   cat_2 cat_3           timestamp  ts_month  \\\n",
       "8850950  construction  components  faucet  <NA> 2020-03-31 20:00:17         3   \n",
       "8850949  construction  components  faucet  <NA> 2020-03-31 19:58:21         3   \n",
       "\n",
       "               event_time_ts  \n",
       "8850950  1585684817000000000  \n",
       "8850949  1585684701000000000  "
      ]
     },
     "execution_count": 35,
     "metadata": {},
     "output_type": "execute_result"
    }
   ],
   "source": [
    "df_train.head(2)"
   ]
  },
  {
   "cell_type": "code",
   "execution_count": 36,
   "id": "4a07b244-51d1-461e-b69c-83e7f3c2f5b2",
   "metadata": {},
   "outputs": [
    {
     "data": {
      "text/plain": [
       "(351049, 51424)"
      ]
     },
     "execution_count": 36,
     "metadata": {},
     "output_type": "execute_result"
    }
   ],
   "source": [
    "df_train.user_id.nunique(), df_train.product_id.nunique()"
   ]
  },
  {
   "cell_type": "code",
   "execution_count": 37,
   "id": "f9a143b7-f13f-47e5-b5f4-ddb363a9c394",
   "metadata": {},
   "outputs": [],
   "source": [
    "df_train = df_train.reset_index(drop=True)"
   ]
  },
  {
   "cell_type": "code",
   "execution_count": 38,
   "id": "a81e98f2-ba36-4432-aa78-c236ec9f778f",
   "metadata": {},
   "outputs": [
    {
     "data": {
      "text/plain": [
       "(3011746, 15)"
      ]
     },
     "execution_count": 38,
     "metadata": {},
     "output_type": "execute_result"
    }
   ],
   "source": [
    "df_train.shape"
   ]
  },
  {
   "cell_type": "code",
   "execution_count": 39,
   "id": "1d3997f4-d0da-436d-a204-3cdf29ae0d70",
   "metadata": {},
   "outputs": [],
   "source": [
    "df_train.to_parquet('/workspace/data/ecom/train.parquet')"
   ]
  },
  {
   "cell_type": "markdown",
   "id": "b012bd2a-0964-4672-beb1-b525458ae9e0",
   "metadata": {},
   "source": [
    "### Valid and Test Sets"
   ]
  },
  {
   "cell_type": "markdown",
   "id": "0708cfa5-47d1-48f7-a04c-969fd57f36e7",
   "metadata": {},
   "source": [
    "Be sure that test set does not have OOV."
   ]
  },
  {
   "cell_type": "code",
   "execution_count": 40,
   "id": "d1cdd5e7-18ed-41e6-be5b-2a83eed90e56",
   "metadata": {},
   "outputs": [
    {
     "data": {
      "text/plain": [
       "(1666256, 15)"
      ]
     },
     "execution_count": 40,
     "metadata": {},
     "output_type": "execute_result"
    }
   ],
   "source": [
    "df_valid.shape"
   ]
  },
  {
   "cell_type": "code",
   "execution_count": 41,
   "id": "cb0ead02-736c-46e2-a842-4382a1b41eb6",
   "metadata": {},
   "outputs": [
    {
     "data": {
      "text/plain": [
       "4    1666256\n",
       "Name: ts_month, dtype: int32"
      ]
     },
     "execution_count": 41,
     "metadata": {},
     "output_type": "execute_result"
    }
   ],
   "source": [
    "df_valid['ts_month'].value_counts()"
   ]
  },
  {
   "cell_type": "markdown",
   "id": "a857272b-d12d-42d6-8001-c572e1f98856",
   "metadata": {},
   "source": [
    "Be sure valid dataset does not have unseen user_id and product_id"
   ]
  },
  {
   "cell_type": "code",
   "execution_count": 42,
   "id": "5975f76a-9212-467d-887c-03122a92c867",
   "metadata": {},
   "outputs": [
    {
     "data": {
      "text/plain": [
       "181502"
      ]
     },
     "execution_count": 42,
     "metadata": {},
     "output_type": "execute_result"
    }
   ],
   "source": [
    "df_valid = df_valid[df_valid['user_id'].isin(df_train['user_id'].unique()) & df_valid['product_id'].isin(df_train['product_id'].unique())]\n",
    "len(df_valid)"
   ]
  },
  {
   "cell_type": "code",
   "execution_count": 43,
   "id": "0849888b-29d0-4b1c-acb4-f8da9b3bd17a",
   "metadata": {},
   "outputs": [
    {
     "data": {
      "text/plain": [
       "4    181502\n",
       "Name: ts_month, dtype: int32"
      ]
     },
     "execution_count": 43,
     "metadata": {},
     "output_type": "execute_result"
    }
   ],
   "source": [
    "df_valid['ts_month'].value_counts()"
   ]
  },
  {
   "cell_type": "code",
   "execution_count": 44,
   "id": "94839087-8d30-40f3-8c28-dc73e5dd679b",
   "metadata": {},
   "outputs": [
    {
     "data": {
      "text/plain": [
       "count    81827.000000\n",
       "mean         2.218119\n",
       "std          2.263735\n",
       "min          1.000000\n",
       "0%           1.000000\n",
       "5%           1.000000\n",
       "10%          1.000000\n",
       "15%          1.000000\n",
       "20%          1.000000\n",
       "25%          1.000000\n",
       "30%          1.000000\n",
       "35%          1.000000\n",
       "40%          1.000000\n",
       "45%          1.000000\n",
       "50%          1.000000\n",
       "55%          2.000000\n",
       "60%          2.000000\n",
       "65%          2.000000\n",
       "70%          2.000000\n",
       "75%          3.000000\n",
       "80%          3.000000\n",
       "85%          4.000000\n",
       "90%          4.000000\n",
       "95%          6.000000\n",
       "100%       132.000000\n",
       "max        132.000000\n",
       "dtype: float64"
      ]
     },
     "execution_count": 44,
     "metadata": {},
     "output_type": "execute_result"
    }
   ],
   "source": [
    "df_valid.groupby('user_id').size().describe(percentiles=np.arange(0.0, 1.05, 0.05))"
   ]
  },
  {
   "cell_type": "code",
   "execution_count": 45,
   "id": "d22b7331-ebd7-4a68-860c-13cdccbdc78a",
   "metadata": {},
   "outputs": [
    {
     "data": {
      "text/plain": [
       "count    20405.000000\n",
       "mean         8.894977\n",
       "std         52.264027\n",
       "min          1.000000\n",
       "0%           1.000000\n",
       "5%           1.000000\n",
       "10%          1.000000\n",
       "15%          1.000000\n",
       "20%          1.000000\n",
       "25%          1.000000\n",
       "30%          1.000000\n",
       "35%          1.000000\n",
       "40%          2.000000\n",
       "45%          2.000000\n",
       "50%          2.000000\n",
       "55%          3.000000\n",
       "60%          3.000000\n",
       "65%          4.000000\n",
       "70%          5.000000\n",
       "75%          6.000000\n",
       "80%          7.000000\n",
       "85%          9.000000\n",
       "90%         14.000000\n",
       "95%         26.000000\n",
       "100%      3373.000000\n",
       "max       3373.000000\n",
       "dtype: float64"
      ]
     },
     "execution_count": 45,
     "metadata": {},
     "output_type": "execute_result"
    }
   ],
   "source": [
    "df_valid.groupby('product_id').size().describe(percentiles=np.arange(0.0, 1.05, 0.05))"
   ]
  },
  {
   "cell_type": "markdown",
   "id": "128f6d40-5799-4a12-8f07-6b768f0189d1",
   "metadata": {},
   "source": [
    "Avoid heavy users- cap users' high interactions keeping only the last 50 (max) interactions"
   ]
  },
  {
   "cell_type": "code",
   "execution_count": 46,
   "id": "08c129fa-1fd4-4a9e-b19b-f17c5a25a3bb",
   "metadata": {},
   "outputs": [],
   "source": [
    "valid = df_valid.sort_values(['user_id', 'event_time_ts'], ascending=False)\n",
    "valid[\"ones\"] = 1\n",
    "valid['cumsum'] = valid.groupby('user_id')['ones'].cumsum()\n",
    "valid = valid[valid['cumsum'] <= 50]"
   ]
  },
  {
   "cell_type": "code",
   "execution_count": 47,
   "id": "efb8a752-526a-4216-9a85-4f5ba7ab0daa",
   "metadata": {},
   "outputs": [
    {
     "data": {
      "text/plain": [
       "count    81827.000000\n",
       "mean         2.215858\n",
       "std          2.189142\n",
       "min          1.000000\n",
       "0%           1.000000\n",
       "5%           1.000000\n",
       "10%          1.000000\n",
       "15%          1.000000\n",
       "20%          1.000000\n",
       "25%          1.000000\n",
       "30%          1.000000\n",
       "35%          1.000000\n",
       "40%          1.000000\n",
       "45%          1.000000\n",
       "50%          1.000000\n",
       "55%          2.000000\n",
       "60%          2.000000\n",
       "65%          2.000000\n",
       "70%          2.000000\n",
       "75%          3.000000\n",
       "80%          3.000000\n",
       "85%          4.000000\n",
       "90%          4.000000\n",
       "95%          6.000000\n",
       "100%        50.000000\n",
       "max         50.000000\n",
       "dtype: float64"
      ]
     },
     "execution_count": 47,
     "metadata": {},
     "output_type": "execute_result"
    }
   ],
   "source": [
    "valid.groupby('user_id').size().describe(percentiles=np.arange(0.0, 1.05, 0.05))"
   ]
  },
  {
   "cell_type": "code",
   "execution_count": 48,
   "id": "80b3bc37-c23e-4eb0-a20f-0716683d0106",
   "metadata": {},
   "outputs": [],
   "source": [
    "valid = valid.drop(['ones', 'cumsum'], axis=1)"
   ]
  },
  {
   "cell_type": "code",
   "execution_count": 49,
   "id": "daafc98d-b901-40bc-8127-d7e1a83b04d9",
   "metadata": {},
   "outputs": [
    {
     "data": {
      "text/plain": [
       "4    181317\n",
       "Name: ts_month, dtype: int32"
      ]
     },
     "execution_count": 49,
     "metadata": {},
     "output_type": "execute_result"
    }
   ],
   "source": [
    "valid['ts_month'].value_counts()"
   ]
  },
  {
   "cell_type": "code",
   "execution_count": 50,
   "id": "c68f27b1-14ad-4693-b94c-1f0d8859305a",
   "metadata": {},
   "outputs": [
    {
     "data": {
      "text/html": [
       "<div>\n",
       "<style scoped>\n",
       "    .dataframe tbody tr th:only-of-type {\n",
       "        vertical-align: middle;\n",
       "    }\n",
       "\n",
       "    .dataframe tbody tr th {\n",
       "        vertical-align: top;\n",
       "    }\n",
       "\n",
       "    .dataframe thead th {\n",
       "        text-align: right;\n",
       "    }\n",
       "</style>\n",
       "<table border=\"1\" class=\"dataframe\">\n",
       "  <thead>\n",
       "    <tr style=\"text-align: right;\">\n",
       "      <th></th>\n",
       "      <th>user_id</th>\n",
       "      <th>product_id</th>\n",
       "      <th>event_time</th>\n",
       "      <th>event_type</th>\n",
       "      <th>brand</th>\n",
       "      <th>price</th>\n",
       "      <th>user_session</th>\n",
       "      <th>target</th>\n",
       "      <th>cat_0</th>\n",
       "      <th>cat_1</th>\n",
       "      <th>cat_2</th>\n",
       "      <th>cat_3</th>\n",
       "      <th>timestamp</th>\n",
       "      <th>ts_month</th>\n",
       "      <th>event_time_ts</th>\n",
       "    </tr>\n",
       "  </thead>\n",
       "  <tbody>\n",
       "    <tr>\n",
       "      <th>8850948</th>\n",
       "      <td>635096898</td>\n",
       "      <td>1005243</td>\n",
       "      <td>2020-04-15 11:45:02 UTC</td>\n",
       "      <td>purchase</td>\n",
       "      <td>vivo</td>\n",
       "      <td>411.829987</td>\n",
       "      <td>52322b04-c196-46c0-b924-a06fff38727d</td>\n",
       "      <td>1</td>\n",
       "      <td>electronics</td>\n",
       "      <td>smartphone</td>\n",
       "      <td>&lt;NA&gt;</td>\n",
       "      <td>&lt;NA&gt;</td>\n",
       "      <td>2020-04-15 11:45:02</td>\n",
       "      <td>4</td>\n",
       "      <td>1586951102000000000</td>\n",
       "    </tr>\n",
       "    <tr>\n",
       "      <th>8850955</th>\n",
       "      <td>635096898</td>\n",
       "      <td>100023409</td>\n",
       "      <td>2020-04-15 11:43:07 UTC</td>\n",
       "      <td>purchase</td>\n",
       "      <td>lenovo</td>\n",
       "      <td>491.649994</td>\n",
       "      <td>52322b04-c196-46c0-b924-a06fff38727d</td>\n",
       "      <td>1</td>\n",
       "      <td>construction</td>\n",
       "      <td>tools</td>\n",
       "      <td>light</td>\n",
       "      <td>&lt;NA&gt;</td>\n",
       "      <td>2020-04-15 11:43:07</td>\n",
       "      <td>4</td>\n",
       "      <td>1586950987000000000</td>\n",
       "    </tr>\n",
       "  </tbody>\n",
       "</table>\n",
       "</div>"
      ],
      "text/plain": [
       "           user_id  product_id               event_time event_type   brand  \\\n",
       "8850948  635096898     1005243  2020-04-15 11:45:02 UTC   purchase    vivo   \n",
       "8850955  635096898   100023409  2020-04-15 11:43:07 UTC   purchase  lenovo   \n",
       "\n",
       "              price                          user_session  target  \\\n",
       "8850948  411.829987  52322b04-c196-46c0-b924-a06fff38727d       1   \n",
       "8850955  491.649994  52322b04-c196-46c0-b924-a06fff38727d       1   \n",
       "\n",
       "                cat_0       cat_1  cat_2 cat_3           timestamp  ts_month  \\\n",
       "8850948   electronics  smartphone   <NA>  <NA> 2020-04-15 11:45:02         4   \n",
       "8850955  construction       tools  light  <NA> 2020-04-15 11:43:07         4   \n",
       "\n",
       "               event_time_ts  \n",
       "8850948  1586951102000000000  \n",
       "8850955  1586950987000000000  "
      ]
     },
     "execution_count": 50,
     "metadata": {},
     "output_type": "execute_result"
    }
   ],
   "source": [
    "valid.head(2)"
   ]
  },
  {
   "cell_type": "code",
   "execution_count": 51,
   "id": "15ebddb3-445e-4486-a59f-5d2a5e9e11b9",
   "metadata": {},
   "outputs": [
    {
     "data": {
      "text/plain": [
       "14"
      ]
     },
     "execution_count": 51,
     "metadata": {},
     "output_type": "execute_result"
    }
   ],
   "source": [
    "df_valid=None\n",
    "del df_valid\n",
    "gc.collect()"
   ]
  },
  {
   "cell_type": "code",
   "execution_count": 52,
   "id": "9e96cf0e-c2ac-4671-9f4c-fdcd3f8e5bb8",
   "metadata": {},
   "outputs": [],
   "source": [
    "valid = valid.reset_index(drop=True)\n",
    "valid.to_parquet('/workspace/data/ecom/valid.parquet')"
   ]
  },
  {
   "cell_type": "code",
   "execution_count": 53,
   "id": "b3548e73-82d1-464b-a4cc-568c77b6a5f5",
   "metadata": {},
   "outputs": [
    {
     "data": {
      "text/plain": [
       "85"
      ]
     },
     "execution_count": 53,
     "metadata": {},
     "output_type": "execute_result"
    }
   ],
   "source": [
    "valid=None\n",
    "del valid\n",
    "gc.collect()"
   ]
  }
 ],
 "metadata": {
  "kernelspec": {
   "display_name": "Python 3 (ipykernel)",
   "language": "python",
   "name": "python3"
  },
  "language_info": {
   "codemirror_mode": {
    "name": "ipython",
    "version": 3
   },
   "file_extension": ".py",
   "mimetype": "text/x-python",
   "name": "python",
   "nbconvert_exporter": "python",
   "pygments_lexer": "ipython3",
   "version": "3.8.10"
  }
 },
 "nbformat": 4,
 "nbformat_minor": 5
}
