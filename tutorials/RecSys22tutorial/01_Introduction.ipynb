{
 "cells": [
  {
   "cell_type": "code",
   "execution_count": null,
   "id": "5c657d9a-c65a-459d-b766-296968a2e294",
   "metadata": {},
   "outputs": [],
   "source": [
    "# Copyright 2021 NVIDIA Corporation. All Rights Reserved.\n",
    "#\n",
    "# Licensed under the Apache License, Version 2.0 (the \"License\");\n",
    "# you may not use this file except in compliance with the License.\n",
    "# You may obtain a copy of the License at\n",
    "#\n",
    "#     http://www.apache.org/licenses/LICENSE-2.0\n",
    "#\n",
    "# Unless required by applicable law or agreed to in writing, software\n",
    "# distributed under the License is distributed on an \"AS IS\" BASIS,\n",
    "# WITHOUT WARRANTIES OR CONDITIONS OF ANY KIND, either express or implied.\n",
    "# See the License for the specific language governing permissions and\n",
    "# limitations under the License.\n",
    "# ====="
   ]
  },
  {
   "cell_type": "markdown",
   "id": "55908574-e93b-4ad7-bbd4-0c719d9fbf91",
   "metadata": {},
   "source": [
    "# Training and Deploying Multi-Stage Recommender Systems"
   ]
  },
  {
   "cell_type": "markdown",
   "id": "46845be7-b046-42d0-8c57-362bcdba4e43",
   "metadata": {},
   "source": [
    "In this notebook, we are going to use publicly available [eCommerce](https://www.kaggle.com/mkechinov/ecommerce-behavior-data-from-multi-category-store) behavior dataset. The full dataset contains 7 months data (from October 2019 to April 2020) from a large multi-category online store. Each row in the file represents an event. All events are related to products and users. Each event is like many-to-many relation between products and users. Data collected by Open CDP project and the source of the dataset is [REES46 Marketing Platform](https://rees46.com/).\n",
    "\n",
    "We use csv files from 2019-Oct to 2020-April for training and validating our models, so you can visit this site and download the csv files: https://www.kaggle.com/mkechinov/ecommerce-behavior-data-from-multi-category-store.\n",
    "\n",
    "**Learning Objectives**\n",
    "\n",
    "- Preliminary pre-processing and cleaning of the 7 months of Ecom-REES46 datasets."
   ]
  },
  {
   "cell_type": "code",
   "execution_count": 1,
   "id": "93efea67-dc01-46fe-87fb-de87b4b65585",
   "metadata": {},
   "outputs": [],
   "source": [
    "import os\n",
    "import pandas as pd\n",
    "import glob\n",
    "import cudf\n",
    "import numpy as np\n",
    "import gc"
   ]
  },
  {
   "cell_type": "code",
   "execution_count": 2,
   "id": "5795ef84-5a6c-47ad-a402-16536e283a34",
   "metadata": {},
   "outputs": [],
   "source": [
    "list_files = glob.glob('/workspace/data/ecom/*.csv')"
   ]
  },
  {
   "cell_type": "code",
   "execution_count": 3,
   "id": "2e309c7e-7794-474b-ae3a-601a0fb18ced",
   "metadata": {},
   "outputs": [
    {
     "data": {
      "text/plain": [
       "['/workspace/data/ecom/2019-Dec.csv',\n",
       " '/workspace/data/ecom/2020-Jan.csv',\n",
       " '/workspace/data/ecom/2020-Feb.csv',\n",
       " '/workspace/data/ecom/2019-Oct.csv',\n",
       " '/workspace/data/ecom/2020-Mar.csv',\n",
       " '/workspace/data/ecom/2020-Apr.csv',\n",
       " '/workspace/data/ecom/2019-Nov.csv']"
      ]
     },
     "execution_count": 3,
     "metadata": {},
     "output_type": "execute_result"
    }
   ],
   "source": [
    "list_files"
   ]
  },
  {
   "cell_type": "markdown",
   "id": "5588fb70-6726-441c-bb3b-35256e45e0ef",
   "metadata": {},
   "source": [
    "Next, we process a single .csv file and extract/filter the rows"
   ]
  },
  {
   "cell_type": "code",
   "execution_count": 6,
   "id": "8809a874-b7a9-4e6a-882e-16a0267fd03d",
   "metadata": {},
   "outputs": [],
   "source": [
    "def process_files(file):\n",
    "    df_tmp = pd.read_csv(file)\n",
    "    df_tmp['session_purchase'] =  df_tmp['user_session'] + '_' + df_tmp['product_id'].astype(str)\n",
    "    df_purchase = df_tmp[df_tmp['event_type']=='purchase']\n",
    "    df_cart = df_tmp[df_tmp['event_type']=='cart']\n",
    "    df_purchase = df_purchase[df_purchase['session_purchase'].isin(df_cart['session_purchase'])]\n",
    "    df_cart = df_cart[~(df_cart['session_purchase'].isin(df_purchase['session_purchase']))]\n",
    "    df_cart['target'] = 0\n",
    "    df_purchase['target'] = 1\n",
    "    df = pd.concat([df_cart, df_purchase])\n",
    "    df = df.drop('category_id', axis=1)\n",
    "    df = df.drop('session_purchase', axis=1)\n",
    "    df[['cat_0', 'cat_1', 'cat_2', 'cat_3']] = df['category_code'].str.split(\"\\.\", n = 3, expand = True).fillna('NA')\n",
    "    df['brand'] = df['brand'].fillna('NA')\n",
    "    df = df.drop('category_code', axis=1)\n",
    "    df['timestamp'] = pd.to_datetime(df['event_time'].str.replace(' UTC', ''))\n",
    "    df['ts_month'] = df['timestamp'].dt.month\n",
    "    df['event_time_ts']= df['timestamp'].astype('int')\n",
    "\n",
    "    df.to_csv('./' + file.replace('/workspace/data/ecom', ''), index=False)"
   ]
  },
  {
   "cell_type": "code",
   "execution_count": 7,
   "id": "eb0b5ed6-a591-4a85-8c3a-680e45a467d4",
   "metadata": {},
   "outputs": [
    {
     "name": "stdout",
     "output_type": "stream",
     "text": [
      "/workspace/data/ecom/2019-Dec.csv\n"
     ]
    },
    {
     "name": "stderr",
     "output_type": "stream",
     "text": [
      "/tmp/ipykernel_33140/1275188845.py:18: FutureWarning: casting datetime64[ns] values to int64 with .astype(...) is deprecated and will raise in a future version. Use .view(...) instead.\n",
      "  df['event_time_ts']= df['timestamp'].astype('int')\n"
     ]
    },
    {
     "name": "stdout",
     "output_type": "stream",
     "text": [
      "/workspace/data/ecom/2020-Jan.csv\n",
      "/workspace/data/ecom/2020-Feb.csv\n",
      "/workspace/data/ecom/2019-Oct.csv\n",
      "/workspace/data/ecom/2020-Mar.csv\n",
      "/workspace/data/ecom/2020-Apr.csv\n",
      "/workspace/data/ecom/2019-Nov.csv\n"
     ]
    }
   ],
   "source": [
    "for file in list_files:\n",
    "    print(file)\n",
    "    process_files(file)"
   ]
  },
  {
   "cell_type": "code",
   "execution_count": 2,
   "id": "ba249efd-e967-488a-8d9d-0a5998746d0a",
   "metadata": {},
   "outputs": [],
   "source": [
    "lp = []\n",
    "list_files = glob.glob('./*.csv')"
   ]
  },
  {
   "cell_type": "code",
   "execution_count": 3,
   "id": "d9182cd3-126f-4060-bc9b-9f314f45d569",
   "metadata": {},
   "outputs": [],
   "source": [
    "for file in list_files:\n",
    "    lp.append(cudf.read_csv(file))"
   ]
  },
  {
   "cell_type": "code",
   "execution_count": 4,
   "id": "1b6476de-e817-418e-872a-80d3ca0eac1e",
   "metadata": {},
   "outputs": [],
   "source": [
    "df = cudf.concat(lp)"
   ]
  },
  {
   "cell_type": "code",
   "execution_count": 5,
   "id": "44a66f9c-e308-4878-b5e7-f7735c132039",
   "metadata": {},
   "outputs": [],
   "source": [
    "# Be sure the timestamp column is a datetime object "
   ]
  },
  {
   "cell_type": "code",
   "execution_count": 6,
   "id": "7b4e77b0-fd0f-4089-9f77-79f22ba69fc0",
   "metadata": {},
   "outputs": [],
   "source": [
    "df['timestamp'] = df['timestamp'].astype('datetime64[s]')"
   ]
  },
  {
   "cell_type": "code",
   "execution_count": 7,
   "id": "c1ff1d16-0c27-42ab-bfa2-b44b954c7cf6",
   "metadata": {},
   "outputs": [
    {
     "data": {
      "text/plain": [
       "(16695562, 15)"
      ]
     },
     "execution_count": 7,
     "metadata": {},
     "output_type": "execute_result"
    }
   ],
   "source": [
    "df.shape"
   ]
  },
  {
   "cell_type": "code",
   "execution_count": 8,
   "id": "f5d1ff82-cde4-4df9-9b01-60a7dea013be",
   "metadata": {},
   "outputs": [
    {
     "data": {
      "text/html": [
       "<div>\n",
       "<style scoped>\n",
       "    .dataframe tbody tr th:only-of-type {\n",
       "        vertical-align: middle;\n",
       "    }\n",
       "\n",
       "    .dataframe tbody tr th {\n",
       "        vertical-align: top;\n",
       "    }\n",
       "\n",
       "    .dataframe thead th {\n",
       "        text-align: right;\n",
       "    }\n",
       "</style>\n",
       "<table border=\"1\" class=\"dataframe\">\n",
       "  <thead>\n",
       "    <tr style=\"text-align: right;\">\n",
       "      <th></th>\n",
       "      <th>event_time</th>\n",
       "      <th>event_type</th>\n",
       "      <th>product_id</th>\n",
       "      <th>brand</th>\n",
       "      <th>price</th>\n",
       "      <th>user_id</th>\n",
       "      <th>user_session</th>\n",
       "      <th>target</th>\n",
       "      <th>cat_0</th>\n",
       "      <th>cat_1</th>\n",
       "      <th>cat_2</th>\n",
       "      <th>cat_3</th>\n",
       "      <th>timestamp</th>\n",
       "      <th>ts_month</th>\n",
       "      <th>event_time_ts</th>\n",
       "    </tr>\n",
       "  </thead>\n",
       "  <tbody>\n",
       "    <tr>\n",
       "      <th>0</th>\n",
       "      <td>2019-12-01 00:00:28 UTC</td>\n",
       "      <td>cart</td>\n",
       "      <td>17800342</td>\n",
       "      <td>zeta</td>\n",
       "      <td>66.90</td>\n",
       "      <td>550465671</td>\n",
       "      <td>22650a62-2d9c-4151-9f41-2674ec6d32d5</td>\n",
       "      <td>0</td>\n",
       "      <td>computers</td>\n",
       "      <td>desktop</td>\n",
       "      <td>&lt;NA&gt;</td>\n",
       "      <td>&lt;NA&gt;</td>\n",
       "      <td>2019-12-01 00:00:28</td>\n",
       "      <td>12</td>\n",
       "      <td>1575158428000000000</td>\n",
       "    </tr>\n",
       "    <tr>\n",
       "      <th>1</th>\n",
       "      <td>2019-12-01 00:00:39 UTC</td>\n",
       "      <td>cart</td>\n",
       "      <td>3701309</td>\n",
       "      <td>polaris</td>\n",
       "      <td>89.32</td>\n",
       "      <td>543733099</td>\n",
       "      <td>a65116f4-ac53-4a41-ad68-6606788e674c</td>\n",
       "      <td>0</td>\n",
       "      <td>appliances</td>\n",
       "      <td>environment</td>\n",
       "      <td>vacuum</td>\n",
       "      <td>&lt;NA&gt;</td>\n",
       "      <td>2019-12-01 00:00:39</td>\n",
       "      <td>12</td>\n",
       "      <td>1575158439000000000</td>\n",
       "    </tr>\n",
       "  </tbody>\n",
       "</table>\n",
       "</div>"
      ],
      "text/plain": [
       "                event_time event_type  product_id    brand  price    user_id  \\\n",
       "0  2019-12-01 00:00:28 UTC       cart    17800342     zeta  66.90  550465671   \n",
       "1  2019-12-01 00:00:39 UTC       cart     3701309  polaris  89.32  543733099   \n",
       "\n",
       "                           user_session  target       cat_0        cat_1  \\\n",
       "0  22650a62-2d9c-4151-9f41-2674ec6d32d5       0   computers      desktop   \n",
       "1  a65116f4-ac53-4a41-ad68-6606788e674c       0  appliances  environment   \n",
       "\n",
       "    cat_2 cat_3           timestamp  ts_month        event_time_ts  \n",
       "0    <NA>  <NA> 2019-12-01 00:00:28        12  1575158428000000000  \n",
       "1  vacuum  <NA> 2019-12-01 00:00:39        12  1575158439000000000  "
      ]
     },
     "execution_count": 8,
     "metadata": {},
     "output_type": "execute_result"
    }
   ],
   "source": [
    "df.head(2)"
   ]
  },
  {
   "cell_type": "code",
   "execution_count": 9,
   "id": "383da40f-6ebd-49cc-9b14-54180f0021f8",
   "metadata": {},
   "outputs": [
    {
     "data": {
      "text/plain": [
       "event_time              object\n",
       "event_type              object\n",
       "product_id               int64\n",
       "brand                   object\n",
       "price                  float64\n",
       "user_id                  int64\n",
       "user_session            object\n",
       "target                   int64\n",
       "cat_0                   object\n",
       "cat_1                   object\n",
       "cat_2                   object\n",
       "cat_3                   object\n",
       "timestamp        datetime64[s]\n",
       "ts_month                 int64\n",
       "event_time_ts            int64\n",
       "dtype: object"
      ]
     },
     "execution_count": 9,
     "metadata": {},
     "output_type": "execute_result"
    }
   ],
   "source": [
    "df.dtypes"
   ]
  },
  {
   "cell_type": "code",
   "execution_count": 10,
   "id": "348d4011-3e11-4dfa-be2e-3468fd6bf721",
   "metadata": {},
   "outputs": [
    {
     "data": {
      "text/plain": [
       "(numpy.datetime64('2019-10-01T00:05:14'),\n",
       " numpy.datetime64('2020-04-30T23:59:55'))"
      ]
     },
     "execution_count": 10,
     "metadata": {},
     "output_type": "execute_result"
    }
   ],
   "source": [
    "df['timestamp'].min(), df['timestamp'].max()"
   ]
  },
  {
   "cell_type": "code",
   "execution_count": 8,
   "id": "3faca6cd-7a9e-4441-b1a4-150e12d0d175",
   "metadata": {},
   "outputs": [],
   "source": [
    "df.to_parquet('/workspace/data/ecom/df_Oct_Apr.parquet')"
   ]
  },
  {
   "cell_type": "code",
   "execution_count": 8,
   "id": "b5a805c6-9394-48f3-9ba3-542b8a85ab92",
   "metadata": {},
   "outputs": [],
   "source": [
    "df_train = df[(df['ts_month']!=3)&(df['ts_month']!=4)]"
   ]
  },
  {
   "cell_type": "code",
   "execution_count": 9,
   "id": "6f626297-f79f-46cc-bc0f-b39b2ffb753c",
   "metadata": {},
   "outputs": [],
   "source": [
    "df_valid = df[~((df['ts_month']!=3)&(df['ts_month']!=4))]"
   ]
  },
  {
   "cell_type": "code",
   "execution_count": 10,
   "id": "be6f165e-aa12-41e3-af96-aec7c084c5da",
   "metadata": {},
   "outputs": [
    {
     "data": {
      "text/plain": [
       "((11461357, 15), (5234205, 15))"
      ]
     },
     "execution_count": 10,
     "metadata": {},
     "output_type": "execute_result"
    }
   ],
   "source": [
    "df_train.shape, df_valid.shape"
   ]
  },
  {
   "cell_type": "code",
   "execution_count": 11,
   "id": "1350363d-4631-43b9-8f75-05e4a679e5a0",
   "metadata": {},
   "outputs": [
    {
     "data": {
      "text/plain": [
       "cart        7255909\n",
       "purchase    4205448\n",
       "Name: event_type, dtype: int32"
      ]
     },
     "execution_count": 11,
     "metadata": {},
     "output_type": "execute_result"
    }
   ],
   "source": [
    "df_train['event_type'].value_counts()"
   ]
  },
  {
   "cell_type": "code",
   "execution_count": 12,
   "id": "54760494-22af-4aa9-82ee-43db451c8120",
   "metadata": {},
   "outputs": [
    {
     "data": {
      "text/html": [
       "<div>\n",
       "<style scoped>\n",
       "    .dataframe tbody tr th:only-of-type {\n",
       "        vertical-align: middle;\n",
       "    }\n",
       "\n",
       "    .dataframe tbody tr th {\n",
       "        vertical-align: top;\n",
       "    }\n",
       "\n",
       "    .dataframe thead th {\n",
       "        text-align: right;\n",
       "    }\n",
       "</style>\n",
       "<table border=\"1\" class=\"dataframe\">\n",
       "  <thead>\n",
       "    <tr style=\"text-align: right;\">\n",
       "      <th></th>\n",
       "      <th>event_time</th>\n",
       "      <th>event_type</th>\n",
       "      <th>product_id</th>\n",
       "      <th>brand</th>\n",
       "      <th>price</th>\n",
       "      <th>user_id</th>\n",
       "      <th>user_session</th>\n",
       "      <th>target</th>\n",
       "      <th>cat_0</th>\n",
       "      <th>cat_1</th>\n",
       "      <th>cat_2</th>\n",
       "      <th>cat_3</th>\n",
       "      <th>timestamp</th>\n",
       "      <th>ts_month</th>\n",
       "      <th>event_time_ts</th>\n",
       "    </tr>\n",
       "  </thead>\n",
       "  <tbody>\n",
       "    <tr>\n",
       "      <th>0</th>\n",
       "      <td>2019-12-01 00:00:28 UTC</td>\n",
       "      <td>cart</td>\n",
       "      <td>17800342</td>\n",
       "      <td>zeta</td>\n",
       "      <td>66.90</td>\n",
       "      <td>550465671</td>\n",
       "      <td>22650a62-2d9c-4151-9f41-2674ec6d32d5</td>\n",
       "      <td>0</td>\n",
       "      <td>computers</td>\n",
       "      <td>desktop</td>\n",
       "      <td>&lt;NA&gt;</td>\n",
       "      <td>&lt;NA&gt;</td>\n",
       "      <td>2019-12-01 00:00:28</td>\n",
       "      <td>12</td>\n",
       "      <td>1575158428000000000</td>\n",
       "    </tr>\n",
       "    <tr>\n",
       "      <th>1</th>\n",
       "      <td>2019-12-01 00:00:39 UTC</td>\n",
       "      <td>cart</td>\n",
       "      <td>3701309</td>\n",
       "      <td>polaris</td>\n",
       "      <td>89.32</td>\n",
       "      <td>543733099</td>\n",
       "      <td>a65116f4-ac53-4a41-ad68-6606788e674c</td>\n",
       "      <td>0</td>\n",
       "      <td>appliances</td>\n",
       "      <td>environment</td>\n",
       "      <td>vacuum</td>\n",
       "      <td>&lt;NA&gt;</td>\n",
       "      <td>2019-12-01 00:00:39</td>\n",
       "      <td>12</td>\n",
       "      <td>1575158439000000000</td>\n",
       "    </tr>\n",
       "  </tbody>\n",
       "</table>\n",
       "</div>"
      ],
      "text/plain": [
       "                event_time event_type  product_id    brand  price    user_id  \\\n",
       "0  2019-12-01 00:00:28 UTC       cart    17800342     zeta  66.90  550465671   \n",
       "1  2019-12-01 00:00:39 UTC       cart     3701309  polaris  89.32  543733099   \n",
       "\n",
       "                           user_session  target       cat_0        cat_1  \\\n",
       "0  22650a62-2d9c-4151-9f41-2674ec6d32d5       0   computers      desktop   \n",
       "1  a65116f4-ac53-4a41-ad68-6606788e674c       0  appliances  environment   \n",
       "\n",
       "    cat_2 cat_3            timestamp  ts_month        event_time_ts  \n",
       "0    <NA>  <NA>  2019-12-01 00:00:28        12  1575158428000000000  \n",
       "1  vacuum  <NA>  2019-12-01 00:00:39        12  1575158439000000000  "
      ]
     },
     "execution_count": 12,
     "metadata": {},
     "output_type": "execute_result"
    }
   ],
   "source": [
    "df_train.head(2)"
   ]
  },
  {
   "cell_type": "code",
   "execution_count": 13,
   "id": "240a9ca7-0cd7-4b9d-83fe-5a739d4b878c",
   "metadata": {},
   "outputs": [
    {
     "data": {
      "text/plain": [
       "91"
      ]
     },
     "execution_count": 13,
     "metadata": {},
     "output_type": "execute_result"
    }
   ],
   "source": [
    "df =None\n",
    "del df\n",
    "gc.collect()"
   ]
  },
  {
   "cell_type": "markdown",
   "id": "439351dc-9dc8-4616-9e2e-b8b7639e5f3b",
   "metadata": {},
   "source": [
    "### Select users with minimum interactions in both train and valid sets"
   ]
  },
  {
   "cell_type": "code",
   "execution_count": 14,
   "id": "9078faee-1380-448a-a74a-9adf920dc3f2",
   "metadata": {},
   "outputs": [
    {
     "data": {
      "text/plain": [
       "count    2.547058e+06\n",
       "mean     4.499841e+00\n",
       "std      9.173176e+00\n",
       "min      1.000000e+00\n",
       "0%       1.000000e+00\n",
       "5%       1.000000e+00\n",
       "10%      1.000000e+00\n",
       "15%      1.000000e+00\n",
       "20%      1.000000e+00\n",
       "25%      1.000000e+00\n",
       "30%      1.000000e+00\n",
       "35%      1.000000e+00\n",
       "40%      2.000000e+00\n",
       "45%      2.000000e+00\n",
       "50%      2.000000e+00\n",
       "55%      2.000000e+00\n",
       "60%      3.000000e+00\n",
       "65%      3.000000e+00\n",
       "70%      4.000000e+00\n",
       "75%      5.000000e+00\n",
       "80%      6.000000e+00\n",
       "85%      7.000000e+00\n",
       "90%      1.000000e+01\n",
       "95%      1.500000e+01\n",
       "100%     2.134000e+03\n",
       "max      2.134000e+03\n",
       "dtype: float64"
      ]
     },
     "execution_count": 14,
     "metadata": {},
     "output_type": "execute_result"
    }
   ],
   "source": [
    "df_train.groupby('user_id').size().describe(percentiles=np.arange(0.0, 1.05, 0.05))"
   ]
  },
  {
   "cell_type": "code",
   "execution_count": 15,
   "id": "36f750a3-280f-4440-a7c2-ac87e0c03ec6",
   "metadata": {},
   "outputs": [
    {
     "data": {
      "text/plain": [
       "count    164453.000000\n",
       "mean         69.693815\n",
       "std        1719.608272\n",
       "min           1.000000\n",
       "0%            1.000000\n",
       "5%            1.000000\n",
       "10%           1.000000\n",
       "15%           1.000000\n",
       "20%           1.000000\n",
       "25%           2.000000\n",
       "30%           2.000000\n",
       "35%           3.000000\n",
       "40%           3.000000\n",
       "45%           4.000000\n",
       "50%           5.000000\n",
       "55%           6.000000\n",
       "60%           7.000000\n",
       "65%           9.000000\n",
       "70%          12.000000\n",
       "75%          16.000000\n",
       "80%          22.000000\n",
       "85%          33.000000\n",
       "90%          55.000000\n",
       "95%         126.000000\n",
       "100%     317711.000000\n",
       "max      317711.000000\n",
       "dtype: float64"
      ]
     },
     "execution_count": 15,
     "metadata": {},
     "output_type": "execute_result"
    }
   ],
   "source": [
    "df_train.groupby('product_id').size().describe(percentiles=np.arange(0.0, 1.05, 0.05))"
   ]
  },
  {
   "cell_type": "code",
   "execution_count": 16,
   "id": "36ac6618-2218-49a3-8cb9-dce5d664d197",
   "metadata": {},
   "outputs": [
    {
     "data": {
      "text/plain": [
       "(2547058, 164453)"
      ]
     },
     "execution_count": 16,
     "metadata": {},
     "output_type": "execute_result"
    }
   ],
   "source": [
    "df_train.user_id.nunique(), df_train.product_id.nunique()"
   ]
  },
  {
   "cell_type": "markdown",
   "id": "b5d1dbec-1ade-4c8c-864b-13e06e390c84",
   "metadata": {},
   "source": [
    "Avoid heavy users- cap users' high interactions keeping only the last 50 (max) interactions"
   ]
  },
  {
   "cell_type": "code",
   "execution_count": 17,
   "id": "c7ffbad9-f231-442f-961c-33416e63238c",
   "metadata": {},
   "outputs": [],
   "source": [
    "df_train = df_train.sort_values(['user_id', 'event_time_ts'], ascending=False)\n",
    "df_train[\"ones\"] = 1\n",
    "df_train['cumsum'] = df_train.groupby('user_id')['ones'].cumsum()\n",
    "df_train = df_train[df_train['cumsum'] <= 50]"
   ]
  },
  {
   "cell_type": "code",
   "execution_count": 18,
   "id": "53c38502-ab02-4007-86a5-5a4c2bc43452",
   "metadata": {},
   "outputs": [
    {
     "data": {
      "text/plain": [
       "count    2.547058e+06\n",
       "mean     4.317207e+00\n",
       "std      6.332042e+00\n",
       "min      1.000000e+00\n",
       "0%       1.000000e+00\n",
       "5%       1.000000e+00\n",
       "10%      1.000000e+00\n",
       "15%      1.000000e+00\n",
       "20%      1.000000e+00\n",
       "25%      1.000000e+00\n",
       "30%      1.000000e+00\n",
       "35%      1.000000e+00\n",
       "40%      2.000000e+00\n",
       "45%      2.000000e+00\n",
       "50%      2.000000e+00\n",
       "55%      2.000000e+00\n",
       "60%      3.000000e+00\n",
       "65%      3.000000e+00\n",
       "70%      4.000000e+00\n",
       "75%      5.000000e+00\n",
       "80%      6.000000e+00\n",
       "85%      7.000000e+00\n",
       "90%      1.000000e+01\n",
       "95%      1.500000e+01\n",
       "100%     5.000000e+01\n",
       "max      5.000000e+01\n",
       "dtype: float64"
      ]
     },
     "execution_count": 18,
     "metadata": {},
     "output_type": "execute_result"
    }
   ],
   "source": [
    "df_train.groupby('user_id').size().describe(percentiles=np.arange(0.0, 1.05, 0.05))"
   ]
  },
  {
   "cell_type": "code",
   "execution_count": 19,
   "id": "9407abf7-26d6-4b96-afed-333089418fb5",
   "metadata": {},
   "outputs": [],
   "source": [
    "def filter_by_freq(df_to_filter: cudf.DataFrame, df_for_stats: cudf.DataFrame, column: str, min_freq: int) -> cudf.DataFrame:\n",
    "    # Frequencies of each value in the column.\n",
    "    freq = df_for_stats[column].value_counts()\n",
    "    # Select frequent values. Value is in the index.\n",
    "    frequent_values = freq[freq >= min_freq].index\n",
    "    # Return only rows with value frequency above threshold.\n",
    "    return df_to_filter[df_to_filter[column].isin(frequent_values)]"
   ]
  },
  {
   "cell_type": "code",
   "execution_count": 20,
   "id": "1f144a94-f9eb-418a-9852-0a398f442cee",
   "metadata": {},
   "outputs": [],
   "source": [
    "NUM_ROUNDS_MIN_FREQ_FILTERING=5\n",
    "MIN_USER_FREQ=2\n",
    "MIN_ITEM_FREQ=2"
   ]
  },
  {
   "cell_type": "code",
   "execution_count": 21,
   "id": "0b2ce2a7-67fb-4d28-9524-ac7381fbe9a2",
   "metadata": {},
   "outputs": [
    {
     "name": "stdout",
     "output_type": "stream",
     "text": [
      "Before filtering:  10996177\n",
      "Round #0\n",
      "After filtering users:  10040841\n",
      "After filtering items:  10007541\n",
      "Round #1\n",
      "After filtering users:  10003785\n",
      "After filtering items:  10003589\n",
      "Round #2\n",
      "After filtering users:  10003563\n",
      "After filtering items:  10003561\n",
      "Round #3\n",
      "After filtering users:  10003561\n",
      "After filtering items:  10003561\n",
      "Round #4\n",
      "After filtering users:  10003561\n",
      "After filtering items:  10003561\n"
     ]
    }
   ],
   "source": [
    "print('Before filtering: ', len(df_train))\n",
    "for r in range(NUM_ROUNDS_MIN_FREQ_FILTERING):\n",
    "    print(f'Round #{r}')\n",
    "    df_train = filter_by_freq(df_to_filter=df_train, df_for_stats=df_train, \n",
    "                                      column='user_id', min_freq=MIN_USER_FREQ)\n",
    "    print('After filtering users: ',len(df_train))\n",
    "    df_train = filter_by_freq(df_to_filter=df_train, df_for_stats=df_train, \n",
    "                                      column='product_id', min_freq=MIN_ITEM_FREQ)\n",
    "    print('After filtering items: ',len(df_train))\n"
   ]
  },
  {
   "cell_type": "code",
   "execution_count": 22,
   "id": "5f3ac957-2e14-4065-87c9-be6f4d6f4e45",
   "metadata": {},
   "outputs": [
    {
     "data": {
      "text/plain": [
       "190"
      ]
     },
     "execution_count": 22,
     "metadata": {},
     "output_type": "execute_result"
    }
   ],
   "source": [
    "gc.collect()"
   ]
  },
  {
   "cell_type": "code",
   "execution_count": 23,
   "id": "5fdc89ae-1aaf-4b40-a3a2-e5c518d54c94",
   "metadata": {},
   "outputs": [
    {
     "data": {
      "text/plain": [
       "count    123167.000000\n",
       "mean         81.219491\n",
       "std        1722.880563\n",
       "min           2.000000\n",
       "0%            2.000000\n",
       "5%            2.000000\n",
       "10%           2.000000\n",
       "15%           2.000000\n",
       "20%           3.000000\n",
       "25%           3.000000\n",
       "30%           4.000000\n",
       "35%           4.000000\n",
       "40%           5.000000\n",
       "45%           6.000000\n",
       "50%           7.000000\n",
       "55%           9.000000\n",
       "60%          11.000000\n",
       "65%          13.000000\n",
       "70%          16.000000\n",
       "75%          21.000000\n",
       "80%          29.000000\n",
       "85%          42.000000\n",
       "90%          69.000000\n",
       "95%         154.000000\n",
       "100%     269776.000000\n",
       "max      269776.000000\n",
       "dtype: float64"
      ]
     },
     "execution_count": 23,
     "metadata": {},
     "output_type": "execute_result"
    }
   ],
   "source": [
    "df_train.groupby('product_id').size().describe(percentiles=np.arange(0.0, 1.05, 0.05))"
   ]
  },
  {
   "cell_type": "code",
   "execution_count": 24,
   "id": "4da23805-f05f-45d8-bb2c-09d2f6bacb15",
   "metadata": {},
   "outputs": [
    {
     "data": {
      "text/plain": [
       "count    1.587740e+06\n",
       "mean     6.300503e+00\n",
       "std      7.304085e+00\n",
       "min      2.000000e+00\n",
       "0%       2.000000e+00\n",
       "5%       2.000000e+00\n",
       "10%      2.000000e+00\n",
       "15%      2.000000e+00\n",
       "20%      2.000000e+00\n",
       "25%      2.000000e+00\n",
       "30%      3.000000e+00\n",
       "35%      3.000000e+00\n",
       "40%      3.000000e+00\n",
       "45%      3.000000e+00\n",
       "50%      4.000000e+00\n",
       "55%      4.000000e+00\n",
       "60%      5.000000e+00\n",
       "65%      5.000000e+00\n",
       "70%      6.000000e+00\n",
       "75%      7.000000e+00\n",
       "80%      8.000000e+00\n",
       "85%      1.000000e+01\n",
       "90%      1.300000e+01\n",
       "95%      2.000000e+01\n",
       "100%     5.000000e+01\n",
       "max      5.000000e+01\n",
       "dtype: float64"
      ]
     },
     "execution_count": 24,
     "metadata": {},
     "output_type": "execute_result"
    }
   ],
   "source": [
    "df_train.groupby('user_id').size().describe(percentiles=np.arange(0.0, 1.05, 0.05))"
   ]
  },
  {
   "cell_type": "code",
   "execution_count": 25,
   "id": "86d88091-9d55-42e4-8179-ab73ebbc9cbb",
   "metadata": {},
   "outputs": [
    {
     "data": {
      "text/plain": [
       "50"
      ]
     },
     "execution_count": 25,
     "metadata": {},
     "output_type": "execute_result"
    }
   ],
   "source": [
    "gc.collect()"
   ]
  },
  {
   "cell_type": "code",
   "execution_count": 26,
   "id": "47ba142a-b9fe-4e0e-99fd-8d12eeacc3bc",
   "metadata": {},
   "outputs": [
    {
     "data": {
      "text/plain": [
       "event_time       False\n",
       "event_type       False\n",
       "product_id       False\n",
       "brand             True\n",
       "price            False\n",
       "user_id          False\n",
       "user_session      True\n",
       "target           False\n",
       "cat_0             True\n",
       "cat_1             True\n",
       "cat_2             True\n",
       "cat_3             True\n",
       "timestamp        False\n",
       "ts_month         False\n",
       "event_time_ts    False\n",
       "ones             False\n",
       "cumsum           False\n",
       "dtype: bool"
      ]
     },
     "execution_count": 26,
     "metadata": {},
     "output_type": "execute_result"
    }
   ],
   "source": [
    "df_train.isnull().any()"
   ]
  },
  {
   "cell_type": "code",
   "execution_count": 27,
   "id": "e304ef2e-caf6-4c6d-a2a0-0969344934df",
   "metadata": {},
   "outputs": [],
   "source": [
    "df_train = df_train.drop(['ones', 'cumsum'], axis=1)"
   ]
  },
  {
   "cell_type": "code",
   "execution_count": 28,
   "id": "d93f7622-7d2b-4cdc-9902-c726638eb617",
   "metadata": {},
   "outputs": [
    {
     "data": {
      "text/html": [
       "<div>\n",
       "<style scoped>\n",
       "    .dataframe tbody tr th:only-of-type {\n",
       "        vertical-align: middle;\n",
       "    }\n",
       "\n",
       "    .dataframe tbody tr th {\n",
       "        vertical-align: top;\n",
       "    }\n",
       "\n",
       "    .dataframe thead th {\n",
       "        text-align: right;\n",
       "    }\n",
       "</style>\n",
       "<table border=\"1\" class=\"dataframe\">\n",
       "  <thead>\n",
       "    <tr style=\"text-align: right;\">\n",
       "      <th></th>\n",
       "      <th>event_time</th>\n",
       "      <th>event_type</th>\n",
       "      <th>product_id</th>\n",
       "      <th>brand</th>\n",
       "      <th>price</th>\n",
       "      <th>user_id</th>\n",
       "      <th>user_session</th>\n",
       "      <th>target</th>\n",
       "      <th>cat_0</th>\n",
       "      <th>cat_1</th>\n",
       "      <th>cat_2</th>\n",
       "      <th>cat_3</th>\n",
       "      <th>timestamp</th>\n",
       "      <th>ts_month</th>\n",
       "      <th>event_time_ts</th>\n",
       "    </tr>\n",
       "  </thead>\n",
       "  <tbody>\n",
       "    <tr>\n",
       "      <th>1629589</th>\n",
       "      <td>2020-02-29 23:55:06 UTC</td>\n",
       "      <td>cart</td>\n",
       "      <td>1004767</td>\n",
       "      <td>samsung</td>\n",
       "      <td>241.83</td>\n",
       "      <td>622090083</td>\n",
       "      <td>65966337-af0b-48c9-922a-f68fa8ff7764</td>\n",
       "      <td>0</td>\n",
       "      <td>construction</td>\n",
       "      <td>tools</td>\n",
       "      <td>light</td>\n",
       "      <td>&lt;NA&gt;</td>\n",
       "      <td>2020-02-29 23:55:06</td>\n",
       "      <td>2</td>\n",
       "      <td>1583020506000000000</td>\n",
       "    </tr>\n",
       "    <tr>\n",
       "      <th>1629590</th>\n",
       "      <td>2020-02-29 23:55:06 UTC</td>\n",
       "      <td>cart</td>\n",
       "      <td>1004767</td>\n",
       "      <td>samsung</td>\n",
       "      <td>241.83</td>\n",
       "      <td>622090083</td>\n",
       "      <td>65966337-af0b-48c9-922a-f68fa8ff7764</td>\n",
       "      <td>0</td>\n",
       "      <td>construction</td>\n",
       "      <td>tools</td>\n",
       "      <td>light</td>\n",
       "      <td>&lt;NA&gt;</td>\n",
       "      <td>2020-02-29 23:55:06</td>\n",
       "      <td>2</td>\n",
       "      <td>1583020506000000000</td>\n",
       "    </tr>\n",
       "  </tbody>\n",
       "</table>\n",
       "</div>"
      ],
      "text/plain": [
       "                      event_time event_type  product_id    brand   price  \\\n",
       "1629589  2020-02-29 23:55:06 UTC       cart     1004767  samsung  241.83   \n",
       "1629590  2020-02-29 23:55:06 UTC       cart     1004767  samsung  241.83   \n",
       "\n",
       "           user_id                          user_session  target  \\\n",
       "1629589  622090083  65966337-af0b-48c9-922a-f68fa8ff7764       0   \n",
       "1629590  622090083  65966337-af0b-48c9-922a-f68fa8ff7764       0   \n",
       "\n",
       "                cat_0  cat_1  cat_2 cat_3            timestamp  ts_month  \\\n",
       "1629589  construction  tools  light  <NA>  2020-02-29 23:55:06         2   \n",
       "1629590  construction  tools  light  <NA>  2020-02-29 23:55:06         2   \n",
       "\n",
       "               event_time_ts  \n",
       "1629589  1583020506000000000  \n",
       "1629590  1583020506000000000  "
      ]
     },
     "execution_count": 28,
     "metadata": {},
     "output_type": "execute_result"
    }
   ],
   "source": [
    "df_train.head(2)"
   ]
  },
  {
   "cell_type": "code",
   "execution_count": 29,
   "id": "4a07b244-51d1-461e-b69c-83e7f3c2f5b2",
   "metadata": {},
   "outputs": [
    {
     "data": {
      "text/plain": [
       "(1587740, 123167)"
      ]
     },
     "execution_count": 29,
     "metadata": {},
     "output_type": "execute_result"
    }
   ],
   "source": [
    "df_train.user_id.nunique(), df_train.product_id.nunique()"
   ]
  },
  {
   "cell_type": "code",
   "execution_count": 31,
   "id": "f9a143b7-f13f-47e5-b5f4-ddb363a9c394",
   "metadata": {},
   "outputs": [],
   "source": [
    "df_train = df_train.reset_index(drop=True)"
   ]
  },
  {
   "cell_type": "code",
   "execution_count": 32,
   "id": "36294075-5791-4f06-a24f-29635ec591c6",
   "metadata": {},
   "outputs": [
    {
     "data": {
      "text/html": [
       "<div>\n",
       "<style scoped>\n",
       "    .dataframe tbody tr th:only-of-type {\n",
       "        vertical-align: middle;\n",
       "    }\n",
       "\n",
       "    .dataframe tbody tr th {\n",
       "        vertical-align: top;\n",
       "    }\n",
       "\n",
       "    .dataframe thead th {\n",
       "        text-align: right;\n",
       "    }\n",
       "</style>\n",
       "<table border=\"1\" class=\"dataframe\">\n",
       "  <thead>\n",
       "    <tr style=\"text-align: right;\">\n",
       "      <th></th>\n",
       "      <th>event_time</th>\n",
       "      <th>event_type</th>\n",
       "      <th>product_id</th>\n",
       "      <th>brand</th>\n",
       "      <th>price</th>\n",
       "      <th>user_id</th>\n",
       "      <th>user_session</th>\n",
       "      <th>target</th>\n",
       "      <th>cat_0</th>\n",
       "      <th>cat_1</th>\n",
       "      <th>cat_2</th>\n",
       "      <th>cat_3</th>\n",
       "      <th>timestamp</th>\n",
       "      <th>ts_month</th>\n",
       "      <th>event_time_ts</th>\n",
       "    </tr>\n",
       "  </thead>\n",
       "  <tbody>\n",
       "    <tr>\n",
       "      <th>0</th>\n",
       "      <td>2020-02-29 23:55:06 UTC</td>\n",
       "      <td>cart</td>\n",
       "      <td>1004767</td>\n",
       "      <td>samsung</td>\n",
       "      <td>241.83</td>\n",
       "      <td>622090083</td>\n",
       "      <td>65966337-af0b-48c9-922a-f68fa8ff7764</td>\n",
       "      <td>0</td>\n",
       "      <td>construction</td>\n",
       "      <td>tools</td>\n",
       "      <td>light</td>\n",
       "      <td>&lt;NA&gt;</td>\n",
       "      <td>2020-02-29 23:55:06</td>\n",
       "      <td>2</td>\n",
       "      <td>1583020506000000000</td>\n",
       "    </tr>\n",
       "    <tr>\n",
       "      <th>1</th>\n",
       "      <td>2020-02-29 23:55:06 UTC</td>\n",
       "      <td>cart</td>\n",
       "      <td>1004767</td>\n",
       "      <td>samsung</td>\n",
       "      <td>241.83</td>\n",
       "      <td>622090083</td>\n",
       "      <td>65966337-af0b-48c9-922a-f68fa8ff7764</td>\n",
       "      <td>0</td>\n",
       "      <td>construction</td>\n",
       "      <td>tools</td>\n",
       "      <td>light</td>\n",
       "      <td>&lt;NA&gt;</td>\n",
       "      <td>2020-02-29 23:55:06</td>\n",
       "      <td>2</td>\n",
       "      <td>1583020506000000000</td>\n",
       "    </tr>\n",
       "    <tr>\n",
       "      <th>2</th>\n",
       "      <td>2020-02-29 23:49:59 UTC</td>\n",
       "      <td>cart</td>\n",
       "      <td>1004856</td>\n",
       "      <td>samsung</td>\n",
       "      <td>130.39</td>\n",
       "      <td>622087347</td>\n",
       "      <td>3dbfaab7-a223-45d1-a98f-65a5026f4266</td>\n",
       "      <td>0</td>\n",
       "      <td>construction</td>\n",
       "      <td>tools</td>\n",
       "      <td>light</td>\n",
       "      <td>&lt;NA&gt;</td>\n",
       "      <td>2020-02-29 23:49:59</td>\n",
       "      <td>2</td>\n",
       "      <td>1583020199000000000</td>\n",
       "    </tr>\n",
       "    <tr>\n",
       "      <th>3</th>\n",
       "      <td>2020-02-29 23:44:07 UTC</td>\n",
       "      <td>purchase</td>\n",
       "      <td>1005160</td>\n",
       "      <td>xiaomi</td>\n",
       "      <td>176.90</td>\n",
       "      <td>622087347</td>\n",
       "      <td>3dbfaab7-a223-45d1-a98f-65a5026f4266</td>\n",
       "      <td>1</td>\n",
       "      <td>construction</td>\n",
       "      <td>tools</td>\n",
       "      <td>light</td>\n",
       "      <td>&lt;NA&gt;</td>\n",
       "      <td>2020-02-29 23:44:07</td>\n",
       "      <td>2</td>\n",
       "      <td>1583019847000000000</td>\n",
       "    </tr>\n",
       "    <tr>\n",
       "      <th>4</th>\n",
       "      <td>2020-02-29 23:17:12 UTC</td>\n",
       "      <td>cart</td>\n",
       "      <td>1005236</td>\n",
       "      <td>oppo</td>\n",
       "      <td>205.67</td>\n",
       "      <td>622081857</td>\n",
       "      <td>20607bd6-27d7-45b3-b898-2dcf7f8d40fd</td>\n",
       "      <td>0</td>\n",
       "      <td>construction</td>\n",
       "      <td>tools</td>\n",
       "      <td>light</td>\n",
       "      <td>&lt;NA&gt;</td>\n",
       "      <td>2020-02-29 23:17:12</td>\n",
       "      <td>2</td>\n",
       "      <td>1583018232000000000</td>\n",
       "    </tr>\n",
       "  </tbody>\n",
       "</table>\n",
       "</div>"
      ],
      "text/plain": [
       "                event_time event_type  product_id    brand   price    user_id  \\\n",
       "0  2020-02-29 23:55:06 UTC       cart     1004767  samsung  241.83  622090083   \n",
       "1  2020-02-29 23:55:06 UTC       cart     1004767  samsung  241.83  622090083   \n",
       "2  2020-02-29 23:49:59 UTC       cart     1004856  samsung  130.39  622087347   \n",
       "3  2020-02-29 23:44:07 UTC   purchase     1005160   xiaomi  176.90  622087347   \n",
       "4  2020-02-29 23:17:12 UTC       cart     1005236     oppo  205.67  622081857   \n",
       "\n",
       "                           user_session  target         cat_0  cat_1  cat_2  \\\n",
       "0  65966337-af0b-48c9-922a-f68fa8ff7764       0  construction  tools  light   \n",
       "1  65966337-af0b-48c9-922a-f68fa8ff7764       0  construction  tools  light   \n",
       "2  3dbfaab7-a223-45d1-a98f-65a5026f4266       0  construction  tools  light   \n",
       "3  3dbfaab7-a223-45d1-a98f-65a5026f4266       1  construction  tools  light   \n",
       "4  20607bd6-27d7-45b3-b898-2dcf7f8d40fd       0  construction  tools  light   \n",
       "\n",
       "  cat_3            timestamp  ts_month        event_time_ts  \n",
       "0  <NA>  2020-02-29 23:55:06         2  1583020506000000000  \n",
       "1  <NA>  2020-02-29 23:55:06         2  1583020506000000000  \n",
       "2  <NA>  2020-02-29 23:49:59         2  1583020199000000000  \n",
       "3  <NA>  2020-02-29 23:44:07         2  1583019847000000000  \n",
       "4  <NA>  2020-02-29 23:17:12         2  1583018232000000000  "
      ]
     },
     "execution_count": 32,
     "metadata": {},
     "output_type": "execute_result"
    }
   ],
   "source": [
    "df_train.head()"
   ]
  },
  {
   "cell_type": "code",
   "execution_count": 33,
   "id": "1d3997f4-d0da-436d-a204-3cdf29ae0d70",
   "metadata": {},
   "outputs": [],
   "source": [
    "df_train.to_parquet('/workspace/data/ecom/train.parquet')"
   ]
  },
  {
   "cell_type": "markdown",
   "id": "b012bd2a-0964-4672-beb1-b525458ae9e0",
   "metadata": {},
   "source": [
    "### Valid and Test Sets"
   ]
  },
  {
   "cell_type": "markdown",
   "id": "0708cfa5-47d1-48f7-a04c-969fd57f36e7",
   "metadata": {},
   "source": [
    "Be sure that test set does not have OOV."
   ]
  },
  {
   "cell_type": "code",
   "execution_count": 34,
   "id": "d1cdd5e7-18ed-41e6-be5b-2a83eed90e56",
   "metadata": {},
   "outputs": [
    {
     "data": {
      "text/plain": [
       "(5234205, 15)"
      ]
     },
     "execution_count": 34,
     "metadata": {},
     "output_type": "execute_result"
    }
   ],
   "source": [
    "df_valid.shape"
   ]
  },
  {
   "cell_type": "code",
   "execution_count": 35,
   "id": "cb0ead02-736c-46e2-a842-4382a1b41eb6",
   "metadata": {},
   "outputs": [
    {
     "data": {
      "text/plain": [
       "4    2772486\n",
       "3    2461719\n",
       "Name: ts_month, dtype: int32"
      ]
     },
     "execution_count": 35,
     "metadata": {},
     "output_type": "execute_result"
    }
   ],
   "source": [
    "df_valid['ts_month'].value_counts()"
   ]
  },
  {
   "cell_type": "code",
   "execution_count": 36,
   "id": "5975f76a-9212-467d-887c-03122a92c867",
   "metadata": {},
   "outputs": [
    {
     "data": {
      "text/plain": [
       "1752723"
      ]
     },
     "execution_count": 36,
     "metadata": {},
     "output_type": "execute_result"
    }
   ],
   "source": [
    "df_valid = df_valid[df_valid['user_id'].isin(df_train['user_id'].unique()) & df_valid['product_id'].isin(df_train['product_id'].unique())]\n",
    "len(df_valid)"
   ]
  },
  {
   "cell_type": "code",
   "execution_count": 37,
   "id": "0849888b-29d0-4b1c-acb4-f8da9b3bd17a",
   "metadata": {},
   "outputs": [
    {
     "data": {
      "text/plain": [
       "3    1080744\n",
       "4     671979\n",
       "Name: ts_month, dtype: int32"
      ]
     },
     "execution_count": 37,
     "metadata": {},
     "output_type": "execute_result"
    }
   ],
   "source": [
    "df_valid['ts_month'].value_counts()"
   ]
  },
  {
   "cell_type": "code",
   "execution_count": 38,
   "id": "94839087-8d30-40f3-8c28-dc73e5dd679b",
   "metadata": {},
   "outputs": [
    {
     "data": {
      "text/plain": [
       "count    403410.000000\n",
       "mean          4.344768\n",
       "std           7.149802\n",
       "min           1.000000\n",
       "0%            1.000000\n",
       "5%            1.000000\n",
       "10%           1.000000\n",
       "15%           1.000000\n",
       "20%           1.000000\n",
       "25%           1.000000\n",
       "30%           1.000000\n",
       "35%           2.000000\n",
       "40%           2.000000\n",
       "45%           2.000000\n",
       "50%           2.000000\n",
       "55%           3.000000\n",
       "60%           3.000000\n",
       "65%           4.000000\n",
       "70%           4.000000\n",
       "75%           5.000000\n",
       "80%           6.000000\n",
       "85%           7.000000\n",
       "90%           9.000000\n",
       "95%          14.000000\n",
       "100%        939.000000\n",
       "max         939.000000\n",
       "dtype: float64"
      ]
     },
     "execution_count": 38,
     "metadata": {},
     "output_type": "execute_result"
    }
   ],
   "source": [
    "df_valid.groupby('user_id').size().describe(percentiles=np.arange(0.0, 1.05, 0.05))"
   ]
  },
  {
   "cell_type": "code",
   "execution_count": 39,
   "id": "d22b7331-ebd7-4a68-860c-13cdccbdc78a",
   "metadata": {},
   "outputs": [
    {
     "data": {
      "text/plain": [
       "count    59670.000000\n",
       "mean        29.373605\n",
       "std        364.985269\n",
       "min          1.000000\n",
       "0%           1.000000\n",
       "5%           1.000000\n",
       "10%          1.000000\n",
       "15%          1.000000\n",
       "20%          1.000000\n",
       "25%          2.000000\n",
       "30%          2.000000\n",
       "35%          2.000000\n",
       "40%          3.000000\n",
       "45%          3.000000\n",
       "50%          4.000000\n",
       "55%          5.000000\n",
       "60%          6.000000\n",
       "65%          7.000000\n",
       "70%          9.000000\n",
       "75%         12.000000\n",
       "80%         16.000000\n",
       "85%         22.000000\n",
       "90%         34.000000\n",
       "95%         72.000000\n",
       "100%     32654.000000\n",
       "max      32654.000000\n",
       "dtype: float64"
      ]
     },
     "execution_count": 39,
     "metadata": {},
     "output_type": "execute_result"
    }
   ],
   "source": [
    "df_valid.groupby('product_id').size().describe(percentiles=np.arange(0.0, 1.05, 0.05))"
   ]
  },
  {
   "cell_type": "markdown",
   "id": "128f6d40-5799-4a12-8f07-6b768f0189d1",
   "metadata": {},
   "source": [
    "Avoid heavy users- cap users' high interactions keeping only the last 50 (max) interactions"
   ]
  },
  {
   "cell_type": "code",
   "execution_count": 40,
   "id": "08c129fa-1fd4-4a9e-b19b-f17c5a25a3bb",
   "metadata": {},
   "outputs": [],
   "source": [
    "valid = df_valid.sort_values(['user_id', 'event_time_ts'], ascending=False)\n",
    "valid[\"ones\"] = 1\n",
    "valid['cumsum'] = valid.groupby('user_id')['ones'].cumsum()\n",
    "valid = valid[valid['cumsum'] <= 50]"
   ]
  },
  {
   "cell_type": "code",
   "execution_count": 41,
   "id": "efb8a752-526a-4216-9a85-4f5ba7ab0daa",
   "metadata": {},
   "outputs": [
    {
     "data": {
      "text/plain": [
       "count    403410.000000\n",
       "mean          4.245519\n",
       "std           5.588955\n",
       "min           1.000000\n",
       "0%            1.000000\n",
       "5%            1.000000\n",
       "10%           1.000000\n",
       "15%           1.000000\n",
       "20%           1.000000\n",
       "25%           1.000000\n",
       "30%           1.000000\n",
       "35%           2.000000\n",
       "40%           2.000000\n",
       "45%           2.000000\n",
       "50%           2.000000\n",
       "55%           3.000000\n",
       "60%           3.000000\n",
       "65%           4.000000\n",
       "70%           4.000000\n",
       "75%           5.000000\n",
       "80%           6.000000\n",
       "85%           7.000000\n",
       "90%           9.000000\n",
       "95%          14.000000\n",
       "100%         50.000000\n",
       "max          50.000000\n",
       "dtype: float64"
      ]
     },
     "execution_count": 41,
     "metadata": {},
     "output_type": "execute_result"
    }
   ],
   "source": [
    "valid.groupby('user_id').size().describe(percentiles=np.arange(0.0, 1.05, 0.05))"
   ]
  },
  {
   "cell_type": "code",
   "execution_count": 42,
   "id": "80b3bc37-c23e-4eb0-a20f-0716683d0106",
   "metadata": {},
   "outputs": [],
   "source": [
    "valid = valid.drop(['ones', 'cumsum'], axis=1)"
   ]
  },
  {
   "cell_type": "code",
   "execution_count": 43,
   "id": "daafc98d-b901-40bc-8127-d7e1a83b04d9",
   "metadata": {},
   "outputs": [
    {
     "data": {
      "text/plain": [
       "3    1046793\n",
       "4     665892\n",
       "Name: ts_month, dtype: int32"
      ]
     },
     "execution_count": 43,
     "metadata": {},
     "output_type": "execute_result"
    }
   ],
   "source": [
    "valid['ts_month'].value_counts()"
   ]
  },
  {
   "cell_type": "code",
   "execution_count": 44,
   "id": "15ebddb3-445e-4486-a59f-5d2a5e9e11b9",
   "metadata": {},
   "outputs": [
    {
     "data": {
      "text/plain": [
       "202"
      ]
     },
     "execution_count": 44,
     "metadata": {},
     "output_type": "execute_result"
    }
   ],
   "source": [
    "df_valid=None\n",
    "del df_valid\n",
    "gc.collect()"
   ]
  },
  {
   "cell_type": "markdown",
   "id": "d1b22360-0ee0-43b0-b4d4-756b0063af7a",
   "metadata": {},
   "source": [
    "### Split Valid set as validation and test sets"
   ]
  },
  {
   "cell_type": "code",
   "execution_count": 45,
   "id": "b07eb1fb-8784-4f73-be9b-75a05dea4bfe",
   "metadata": {},
   "outputs": [],
   "source": [
    "valid_final = valid[(valid['ts_month']==3)]\n",
    "test = valid[(valid['ts_month']==4)]"
   ]
  },
  {
   "cell_type": "code",
   "execution_count": 46,
   "id": "23e746d8-60dc-475e-b3c5-aef693a74013",
   "metadata": {},
   "outputs": [
    {
     "data": {
      "text/plain": [
       "(209477, 36269)"
      ]
     },
     "execution_count": 46,
     "metadata": {},
     "output_type": "execute_result"
    }
   ],
   "source": [
    "test.user_id.nunique(), test.product_id.nunique()"
   ]
  },
  {
   "cell_type": "code",
   "execution_count": 47,
   "id": "0617c905-60ad-4c5a-b66d-7b33049d03c2",
   "metadata": {},
   "outputs": [
    {
     "data": {
      "text/plain": [
       "(403410, 59451)"
      ]
     },
     "execution_count": 47,
     "metadata": {},
     "output_type": "execute_result"
    }
   ],
   "source": [
    "valid.user_id.nunique(), valid.product_id.nunique()"
   ]
  },
  {
   "cell_type": "code",
   "execution_count": 59,
   "id": "b5b7cd1a-b6de-43c7-8057-8e37a85e4a27",
   "metadata": {},
   "outputs": [
    {
     "data": {
      "text/plain": [
       "((1046793, 15), (665892, 15))"
      ]
     },
     "execution_count": 59,
     "metadata": {},
     "output_type": "execute_result"
    }
   ],
   "source": [
    "valid_final.shape, test.shape"
   ]
  },
  {
   "cell_type": "code",
   "execution_count": 49,
   "id": "68b39abe-125b-493d-93e5-64e8531cdc09",
   "metadata": {},
   "outputs": [
    {
     "data": {
      "text/plain": [
       "(3    1046793\n",
       " Name: ts_month, dtype: int32,\n",
       " 4    665892\n",
       " Name: ts_month, dtype: int32)"
      ]
     },
     "execution_count": 49,
     "metadata": {},
     "output_type": "execute_result"
    }
   ],
   "source": [
    "valid_final['ts_month'].value_counts(), test['ts_month'].value_counts()"
   ]
  },
  {
   "cell_type": "code",
   "execution_count": 50,
   "id": "f87d00b1-39d6-4e32-a732-aae061a6e311",
   "metadata": {},
   "outputs": [
    {
     "data": {
      "text/plain": [
       "23"
      ]
     },
     "execution_count": 50,
     "metadata": {},
     "output_type": "execute_result"
    }
   ],
   "source": [
    "valid=None\n",
    "del valid\n",
    "gc.collect()"
   ]
  },
  {
   "cell_type": "code",
   "execution_count": 51,
   "id": "9e96cf0e-c2ac-4671-9f4c-fdcd3f8e5bb8",
   "metadata": {},
   "outputs": [],
   "source": [
    "valid_final = valid_final.reset_index(drop=True)\n",
    "test = test.reset_index(drop=True)"
   ]
  },
  {
   "cell_type": "code",
   "execution_count": 54,
   "id": "9b67b953-3e5c-4809-8027-961845c83438",
   "metadata": {},
   "outputs": [],
   "source": [
    "valid_final.to_parquet('/workspace/data/ecom/valid.parquet')\n",
    "test.to_parquet('/workspace/data/ecom/test.parquet')"
   ]
  }
 ],
 "metadata": {
  "kernelspec": {
   "display_name": "Python 3",
   "language": "python",
   "name": "python3"
  },
  "language_info": {
   "codemirror_mode": {
    "name": "ipython",
    "version": 3
   },
   "file_extension": ".py",
   "mimetype": "text/x-python",
   "name": "python",
   "nbconvert_exporter": "python",
   "pygments_lexer": "ipython3",
   "version": "3.8.12"
  }
 },
 "nbformat": 4,
 "nbformat_minor": 5
}
