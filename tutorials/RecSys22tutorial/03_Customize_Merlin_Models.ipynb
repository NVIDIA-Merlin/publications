{
 "cells": [
  {
   "cell_type": "code",
   "execution_count": 2,
   "id": "f62c3c8c-b14e-4933-8b70-fc5a833f2e5e",
   "metadata": {},
   "outputs": [],
   "source": [
    "# Copyright 2022 NVIDIA Corporation. All Rights Reserved.\n",
    "#\n",
    "# Licensed under the Apache License, Version 2.0 (the \"License\");\n",
    "# you may not use this file except in compliance with the License.\n",
    "# You may obtain a copy of the License at\n",
    "#\n",
    "#     http://www.apache.org/licenses/LICENSE-2.0\n",
    "#\n",
    "# Unless required by applicable law or agreed to in writing, software\n",
    "# distributed under the License is distributed on an \"AS IS\" BASIS,\n",
    "# WITHOUT WARRANTIES OR CONDITIONS OF ANY KIND, either express or implied.\n",
    "# See the License for the specific language governing permissions and\n",
    "# limitations under the License.\n",
    "# ====="
   ]
  },
  {
   "cell_type": "markdown",
   "id": "6b4cca29-4c9e-411d-8aa8-dd10b7d7aa00",
   "metadata": {},
   "source": [
    "## 3. Customize and Extend Merlin Models"
   ]
  },
  {
   "cell_type": "markdown",
   "id": "ebc9c8c6-9fab-435f-958b-923b0f3d6ff4",
   "metadata": {},
   "source": [
    "Merlin Models provides common and state-of-the-art RecSys architectures in a high-level API as well as all the required low-level building blocks (e.g., input blocks, MLP layers, prediction tasks, loss functions, etc.) for you to create your own architecture. \n",
    "\n",
    "In this lab, we define DLRM model architecture from scratch and customize it with Merlin Models."
   ]
  },
  {
   "cell_type": "markdown",
   "id": "4bbe7611-8697-487d-983c-a8ec0187f773",
   "metadata": {},
   "source": [
    "**Learning Objectives**\n",
    "\n",
    "- Understand the building blocks of Merlin Models\n",
    "- Define DLRM model architecture with low-level api\n",
    "- Customize DLRM model with Merlin Models: \n",
    "    - Add cross-product transformation (see [Wide & Deep](https://arxiv.org/abs/1606.07792) paper) to the DLRM model.\n",
    "    - Replace the pairwise interaction layer of DLRM by a cross network (see [DCN-v2](https://arxiv.org/abs/2008.13535) paper).   "
   ]
  },
  {
   "cell_type": "markdown",
   "id": "3b54d3c6-fe6c-4a41-ab5e-c80c92efd91d",
   "metadata": {},
   "source": [
    "**Import Required Libraries**"
   ]
  },
  {
   "cell_type": "code",
   "execution_count": 3,
   "id": "1423d7a5-1ec7-4c9b-a65d-4ac6216f9817",
   "metadata": {},
   "outputs": [
    {
     "name": "stderr",
     "output_type": "stream",
     "text": [
      "2022-09-09 15:56:58.965415: I tensorflow/core/platform/cpu_feature_guard.cc:194] This TensorFlow binary is optimized with oneAPI Deep Neural Network Library (oneDNN) to use the following CPU instructions in performance-critical operations:  SSE3 SSE4.1 SSE4.2 AVX\n",
      "To enable them in other operations, rebuild TensorFlow with the appropriate compiler flags.\n",
      "2022-09-09 15:57:01.655431: I tensorflow/core/common_runtime/gpu/gpu_device.cc:1532] Created device /job:localhost/replica:0/task:0/device:GPU:0 with 16255 MB memory:  -> device: 0, name: Tesla V100-SXM2-32GB-LS, pci bus id: 0000:8a:00.0, compute capability: 7.0\n"
     ]
    }
   ],
   "source": [
    "import os\n",
    "\n",
    "import glob\n",
    "import cudf \n",
    "import pandas as pd\n",
    "import numpy as np\n",
    "import nvtabular as nvt\n",
    "from nvtabular.ops import *\n",
    "import gc\n",
    "\n",
    "from merlin.schema.tags import Tags\n",
    "import merlin.models.tf as mm\n",
    "from merlin.io.dataset import Dataset\n",
    "\n",
    "import tensorflow as tf"
   ]
  },
  {
   "cell_type": "code",
   "execution_count": 4,
   "id": "a85c3587-4c2f-41b8-bf64-a15a6fe73c48",
   "metadata": {},
   "outputs": [],
   "source": [
    "seed = 42\n",
    "tf.random.set_seed(seed)\n",
    "np.random.seed(seed)"
   ]
  },
  {
   "cell_type": "markdown",
   "id": "83e50199-066b-4475-8a9e-4ee0cc230b1b",
   "metadata": {},
   "source": [
    "Define data paths."
   ]
  },
  {
   "cell_type": "code",
   "execution_count": 5,
   "id": "8efaea78-8cc2-4483-a200-21fbb88f1125",
   "metadata": {},
   "outputs": [],
   "source": [
    "data_path = '/workspace/data/ecom/'\n",
    "output_path = os.path.join(data_path,'processed_nvt')"
   ]
  },
  {
   "cell_type": "markdown",
   "id": "372a3a0c-ba22-4efe-b32b-58b3833cfabd",
   "metadata": {},
   "source": [
    "Read processed parquet files as Dataset objects."
   ]
  },
  {
   "cell_type": "code",
   "execution_count": 6,
   "id": "b1a8f783-91e9-4890-801b-46adfe504d6c",
   "metadata": {},
   "outputs": [
    {
     "name": "stderr",
     "output_type": "stream",
     "text": [
      "/usr/local/lib/python3.8/dist-packages/cudf/core/frame.py:384: UserWarning: The deep parameter is ignored and is only included for pandas compatibility.\n",
      "  warnings.warn(\n",
      "/usr/local/lib/python3.8/dist-packages/merlin/schema/tags.py:148: UserWarning: Compound tags like Tags.USER_ID have been deprecated and will be removed in a future version. Please use the atomic versions of these tags, like [<Tags.USER: 'user'>, <Tags.ID: 'id'>].\n",
      "  warnings.warn(\n",
      "/usr/local/lib/python3.8/dist-packages/merlin/schema/tags.py:148: UserWarning: Compound tags like Tags.ITEM_ID have been deprecated and will be removed in a future version. Please use the atomic versions of these tags, like [<Tags.ITEM: 'item'>, <Tags.ID: 'id'>].\n",
      "  warnings.warn(\n"
     ]
    }
   ],
   "source": [
    "train = Dataset(os.path.join(output_path, \"train\", \"*.parquet\"), part_size=\"500MB\")\n",
    "valid = Dataset(os.path.join(output_path, \"valid\", \"*.parquet\"), part_size=\"500MB\")\n",
    "\n",
    "# define schema object\n",
    "schema = train.schema.without(['event_time_ts', 'user_id_raw', 'product_id_raw'])"
   ]
  },
  {
   "cell_type": "code",
   "execution_count": 7,
   "id": "68f54857-5c5e-4720-aa4b-dff9f81ef3a4",
   "metadata": {},
   "outputs": [
    {
     "data": {
      "text/plain": [
       "'target'"
      ]
     },
     "execution_count": 7,
     "metadata": {},
     "output_type": "execute_result"
    }
   ],
   "source": [
    "target_column = schema.select_by_tag(Tags.TARGET).column_names[0]\n",
    "target_column"
   ]
  },
  {
   "cell_type": "markdown",
   "id": "68cb8a3b-e60e-4815-9d72-c7d0e6c6ca6f",
   "metadata": {},
   "source": [
    "### 3.1. Introduction to Merlin Models' core building blocks"
   ]
  },
  {
   "cell_type": "markdown",
   "id": "a6cbd690-fb76-4ce4-b52d-c9540a4cacf7",
   "metadata": {},
   "source": [
    "Let's explain the functions and blocks that we use to build our DLRM model using Merlin Models' blocks and methods:\n",
    "\n",
    "The `Block` is the core abstraction in Merlin Models and is the class from which all blocks inherit. The class extends the `tf.keras.layers.Layer` base class and implements a number of properties that simplify the creation of custom blocks and models. These properties include the Schema object for determining the embedding dimensions, input shapes, and output shapes."
   ]
  },
  {
   "cell_type": "markdown",
   "id": "8ef933f6-6d90-4b28-92c3-e50f67a4f6dd",
   "metadata": {},
   "source": [
    "**Features Blocks** <br>\n",
    "\n",
    "`Embeddings:` Creates a ParallelBlock with an EmbeddingTable for each categorical feature in the schema. <br>\n",
    "`ContinuousFeatures:` Input block for continuous features."
   ]
  },
  {
   "cell_type": "markdown",
   "id": "28bbe8bf-43c5-4cc4-aa48-032eb51bdb3f",
   "metadata": {},
   "source": [
    "**Connects Methods** <br>\n",
    "The base class `Block` implements different connects methods that control how to link a given block to other blocks. In this lab, we use the following methods:\n",
    "\n",
    "- `connect:` Connect the block to other blocks sequentially. The output is a tensor returned by the last block.\n",
    "- `connect_with_shortcut:` Connect the block to other blocks sequentially and apply a skip connection with the block's output.\n",
    "\n",
    "To learn more about other `connect` methods you can visit [here](https://github.com/NVIDIA-Merlin/models/blob/main/merlin/models/tf/core/base.py)."
   ]
  },
  {
   "cell_type": "markdown",
   "id": "ed5820ac-184c-4537-8d54-e29fb46f8855",
   "metadata": {},
   "source": [
    "### 3.2. Build a DLRM model using Merlin Models low-level API"
   ]
  },
  {
   "cell_type": "markdown",
   "id": "6ba4ffcf-2bb4-40a3-9d6e-160fb7360bd3",
   "metadata": {},
   "source": [
    "In this lab, we follow the steps below build our DLRM model from scratch:\n",
    "\n",
    "- build bottom MLP block that processes numerical features\n",
    "- build embeddings layer for categorical features\n",
    "- combine the output of continuous and categorical blocks into one dictionary\n",
    "- apply a dot product between all continuous and categorical features to learn pairwise interactions\n",
    "- concat the resulting pairwise interaction with the deep representation of continuous features (skip-connection)\n",
    "- apply top MLP block with a series of dense layers to the concatenated tensor.\n",
    "\n",
    "<img src=\"./images/DLRM.png\" width=\"400\" height=\"200\">"
   ]
  },
  {
   "cell_type": "markdown",
   "id": "e38bcf17-ca8f-49d2-ada0-fd446f61ce50",
   "metadata": {},
   "source": [
    "We can feed an example batch through Merlin Models layers and get the results. So, let's  convert the first five rows of the valid dataset to a batch of input tensors, so that we can check out the outputs from each block below."
   ]
  },
  {
   "cell_type": "code",
   "execution_count": 8,
   "id": "599f2326-d921-4085-886c-39b0e190fedc",
   "metadata": {},
   "outputs": [
    {
     "name": "stdout",
     "output_type": "stream",
     "text": [
      "{'user_id': <tf.Tensor: shape=(5, 1), dtype=int32, numpy=\n",
      "array([[184309],\n",
      "       [184309],\n",
      "       [184309],\n",
      "       [184309],\n",
      "       [184309]], dtype=int32)>, 'ts_weekday': <tf.Tensor: shape=(5, 1), dtype=int32, numpy=\n",
      "array([[4],\n",
      "       [7],\n",
      "       [7],\n",
      "       [3],\n",
      "       [3]], dtype=int32)>, 'ts_hour': <tf.Tensor: shape=(5, 1), dtype=int32, numpy=\n",
      "array([[19],\n",
      "       [ 6],\n",
      "       [ 6],\n",
      "       [15],\n",
      "       [15]], dtype=int32)>, 'product_id': <tf.Tensor: shape=(5, 1), dtype=int32, numpy=\n",
      "array([[3372],\n",
      "       [1822],\n",
      "       [ 460],\n",
      "       [ 183],\n",
      "       [2230]], dtype=int32)>, 'cat_0': <tf.Tensor: shape=(5, 1), dtype=int32, numpy=\n",
      "array([[1],\n",
      "       [2],\n",
      "       [1],\n",
      "       [1],\n",
      "       [1]], dtype=int32)>, 'cat_1': <tf.Tensor: shape=(5, 1), dtype=int32, numpy=\n",
      "array([[1],\n",
      "       [3],\n",
      "       [1],\n",
      "       [1],\n",
      "       [1]], dtype=int32)>, 'cat_2': <tf.Tensor: shape=(5, 1), dtype=int32, numpy=\n",
      "array([[1],\n",
      "       [0],\n",
      "       [1],\n",
      "       [1],\n",
      "       [1]], dtype=int32)>, 'brand': <tf.Tensor: shape=(5, 1), dtype=int32, numpy=\n",
      "array([[13],\n",
      "       [45],\n",
      "       [ 3],\n",
      "       [ 1],\n",
      "       [13]], dtype=int32)>, 'price': <tf.Tensor: shape=(5, 1), dtype=float32, numpy=\n",
      "array([[1.0036721 ],\n",
      "       [0.86666507],\n",
      "       [1.2039791 ],\n",
      "       [0.64332473],\n",
      "       [1.0186374 ]], dtype=float32)>, 'relative_price': <tf.Tensor: shape=(5, 1), dtype=float32, numpy=\n",
      "array([[-0.0670252 ],\n",
      "       [-0.03655583],\n",
      "       [ 0.08952092],\n",
      "       [-0.0848495 ],\n",
      "       [-0.0449205 ]], dtype=float32)>, 'TE_user_id_target': <tf.Tensor: shape=(5, 1), dtype=float32, numpy=\n",
      "array([[0.657176  ],\n",
      "       [0.43412507],\n",
      "       [1.1355263 ],\n",
      "       [1.1355263 ],\n",
      "       [0.43412507]], dtype=float32)>, 'TE_brand_target': <tf.Tensor: shape=(5, 1), dtype=float32, numpy=\n",
      "array([[0.36400566],\n",
      "       [0.42630896],\n",
      "       [0.27878827],\n",
      "       [0.52409333],\n",
      "       [0.36629993]], dtype=float32)>, 'TE_cat_1_target': <tf.Tensor: shape=(5, 1), dtype=float32, numpy=\n",
      "array([[0.5736734 ],\n",
      "       [0.332066  ],\n",
      "       [0.57252383],\n",
      "       [0.57252383],\n",
      "       [0.57481176]], dtype=float32)>, 'TE_cat_2_target': <tf.Tensor: shape=(5, 1), dtype=float32, numpy=\n",
      "array([[ 0.909615  ],\n",
      "       [-1.2208394 ],\n",
      "       [ 0.90870255],\n",
      "       [ 0.90870255],\n",
      "       [ 0.9101348 ]], dtype=float32)>}\n"
     ]
    }
   ],
   "source": [
    "batch = mm.sample_batch(valid, batch_size=5, shuffle=False, include_targets=False)\n",
    "print(batch)"
   ]
  },
  {
   "cell_type": "markdown",
   "id": "4efbdfc1-ea3b-4e48-8f4b-d4c0353f2c9a",
   "metadata": {},
   "source": [
    "We define the continuous layer based on the schema."
   ]
  },
  {
   "cell_type": "code",
   "execution_count": 9,
   "id": "8e00940a-ea06-4cc5-8903-eec4dc632da8",
   "metadata": {},
   "outputs": [
    {
     "data": {
      "text/plain": [
       "{'price': <tf.Tensor: shape=(5, 1), dtype=float32, numpy=\n",
       " array([[1.0036721 ],\n",
       "        [0.86666507],\n",
       "        [1.2039791 ],\n",
       "        [0.64332473],\n",
       "        [1.0186374 ]], dtype=float32)>,\n",
       " 'relative_price': <tf.Tensor: shape=(5, 1), dtype=float32, numpy=\n",
       " array([[-0.0670252 ],\n",
       "        [-0.03655583],\n",
       "        [ 0.08952092],\n",
       "        [-0.0848495 ],\n",
       "        [-0.0449205 ]], dtype=float32)>,\n",
       " 'TE_user_id_target': <tf.Tensor: shape=(5, 1), dtype=float32, numpy=\n",
       " array([[0.657176  ],\n",
       "        [0.43412507],\n",
       "        [1.1355263 ],\n",
       "        [1.1355263 ],\n",
       "        [0.43412507]], dtype=float32)>,\n",
       " 'TE_brand_target': <tf.Tensor: shape=(5, 1), dtype=float32, numpy=\n",
       " array([[0.36400566],\n",
       "        [0.42630896],\n",
       "        [0.27878827],\n",
       "        [0.52409333],\n",
       "        [0.36629993]], dtype=float32)>,\n",
       " 'TE_cat_1_target': <tf.Tensor: shape=(5, 1), dtype=float32, numpy=\n",
       " array([[0.5736734 ],\n",
       "        [0.332066  ],\n",
       "        [0.57252383],\n",
       "        [0.57252383],\n",
       "        [0.57481176]], dtype=float32)>,\n",
       " 'TE_cat_2_target': <tf.Tensor: shape=(5, 1), dtype=float32, numpy=\n",
       " array([[ 0.909615  ],\n",
       "        [-1.2208394 ],\n",
       "        [ 0.90870255],\n",
       "        [ 0.90870255],\n",
       "        [ 0.9101348 ]], dtype=float32)>}"
      ]
     },
     "execution_count": 9,
     "metadata": {},
     "output_type": "execute_result"
    }
   ],
   "source": [
    "continuous_block = mm.ContinuousFeatures.from_schema(schema, tags=Tags.CONTINUOUS)\n",
    "continuous_block(batch)"
   ]
  },
  {
   "cell_type": "markdown",
   "id": "8c78e389-f55d-4eba-82db-97ce12a93df2",
   "metadata": {},
   "source": [
    "We connect the continuous block to an `MLPBlock` to project them into the same dimensionality as the embedding width of categorical features."
   ]
  },
  {
   "cell_type": "code",
   "execution_count": 10,
   "id": "47d2b697-7225-40c8-926a-057b4d350e1f",
   "metadata": {},
   "outputs": [
    {
     "data": {
      "text/plain": [
       "<tf.Tensor: shape=(5, 64), dtype=float32, numpy=\n",
       "array([[0.24168067, 0.        , 0.        , 0.        , 0.        ,\n",
       "        0.12457348, 0.06815903, 0.        , 0.33162716, 0.        ,\n",
       "        0.33803773, 0.3546738 , 0.18753652, 0.23609668, 0.        ,\n",
       "        0.        , 0.12242705, 0.        , 0.2776879 , 0.        ,\n",
       "        0.11242545, 0.41953292, 0.        , 0.        , 0.01660733,\n",
       "        0.11212933, 0.17494613, 0.2146942 , 0.43573064, 0.01884168,\n",
       "        0.03417264, 0.11854244, 0.6272503 , 0.        , 0.07257415,\n",
       "        0.        , 0.2819846 , 0.20729566, 0.        , 0.5770575 ,\n",
       "        0.        , 0.04364566, 0.00127549, 0.        , 0.        ,\n",
       "        0.        , 0.        , 0.1251218 , 0.        , 0.        ,\n",
       "        0.        , 0.        , 0.        , 0.        , 0.        ,\n",
       "        0.35589513, 0.        , 0.        , 0.11736025, 0.        ,\n",
       "        0.16131279, 0.        , 0.23884481, 0.03296663],\n",
       "       [0.        , 0.24042037, 0.12846799, 0.19597757, 0.        ,\n",
       "        0.        , 0.06953666, 0.        , 0.14606173, 0.05001001,\n",
       "        0.        , 0.        , 0.        , 0.16134325, 0.32049423,\n",
       "        0.36069256, 0.        , 0.        , 0.44934723, 0.        ,\n",
       "        0.        , 0.        , 0.        , 0.43658325, 0.        ,\n",
       "        0.        , 0.37338737, 0.5206084 , 0.06577519, 0.        ,\n",
       "        0.4815748 , 0.        , 0.5796082 , 0.02441877, 0.15569223,\n",
       "        0.        , 0.10504699, 0.        , 0.19549197, 0.05214968,\n",
       "        0.2334048 , 0.        , 0.52903634, 0.        , 0.20281036,\n",
       "        0.32345647, 0.        , 0.        , 0.        , 0.19849572,\n",
       "        0.31364274, 0.04007414, 0.        , 0.38624278, 0.        ,\n",
       "        0.45386007, 0.        , 0.        , 0.4413787 , 0.5319444 ,\n",
       "        0.06094474, 0.        , 0.        , 0.24872525],\n",
       "       [0.12777638, 0.        , 0.        , 0.        , 0.        ,\n",
       "        0.17087898, 0.14164922, 0.        , 0.46039015, 0.        ,\n",
       "        0.4036094 , 0.36229193, 0.27167535, 0.36828482, 0.        ,\n",
       "        0.        , 0.31307364, 0.        , 0.37109223, 0.        ,\n",
       "        0.06714182, 0.59025866, 0.        , 0.01099394, 0.        ,\n",
       "        0.01036689, 0.2893343 , 0.34793794, 0.5059351 , 0.        ,\n",
       "        0.01073374, 0.06075973, 0.8073376 , 0.        , 0.15580666,\n",
       "        0.        , 0.24801612, 0.0848235 , 0.        , 0.71209437,\n",
       "        0.        , 0.00734527, 0.        , 0.        , 0.        ,\n",
       "        0.        , 0.        , 0.12800768, 0.        , 0.        ,\n",
       "        0.        , 0.02909148, 0.        , 0.        , 0.        ,\n",
       "        0.43276024, 0.02051729, 0.        , 0.23271313, 0.04494125,\n",
       "        0.13397327, 0.        , 0.2764468 , 0.09085767],\n",
       "       [0.0891265 , 0.        , 0.        , 0.        , 0.        ,\n",
       "        0.26828307, 0.10683779, 0.        , 0.31326592, 0.        ,\n",
       "        0.39727646, 0.38774952, 0.2156964 , 0.30587113, 0.        ,\n",
       "        0.        , 0.13085365, 0.        , 0.37026483, 0.        ,\n",
       "        0.10384186, 0.4850808 , 0.        , 0.0939216 , 0.        ,\n",
       "        0.        , 0.18921563, 0.24452955, 0.38977867, 0.        ,\n",
       "        0.        , 0.03808654, 0.682452  , 0.        , 0.09343616,\n",
       "        0.        , 0.12044507, 0.15614802, 0.        , 0.6188718 ,\n",
       "        0.        , 0.13975435, 0.        , 0.        , 0.        ,\n",
       "        0.08014757, 0.        , 0.07494862, 0.        , 0.        ,\n",
       "        0.        , 0.10361119, 0.13992397, 0.        , 0.        ,\n",
       "        0.38125885, 0.12353331, 0.        , 0.05997247, 0.        ,\n",
       "        0.        , 0.        , 0.3870921 , 0.14478321],\n",
       "       [0.29622543, 0.        , 0.        , 0.        , 0.        ,\n",
       "        0.0941954 , 0.05817264, 0.        , 0.2906809 , 0.        ,\n",
       "        0.29553473, 0.34688842, 0.16813764, 0.18690896, 0.02402675,\n",
       "        0.        , 0.07705817, 0.        , 0.22761077, 0.        ,\n",
       "        0.1347212 , 0.37450337, 0.        , 0.        , 0.07229865,\n",
       "        0.15425353, 0.13723405, 0.1530106 , 0.43814862, 0.03299801,\n",
       "        0.03486823, 0.15478614, 0.573315  , 0.        , 0.03916248,\n",
       "        0.        , 0.33004797, 0.24135074, 0.        , 0.5460639 ,\n",
       "        0.        , 0.0256541 , 0.02711064, 0.        , 0.        ,\n",
       "        0.        , 0.        , 0.11516422, 0.        , 0.        ,\n",
       "        0.        , 0.        , 0.        , 0.        , 0.        ,\n",
       "        0.31673798, 0.        , 0.        , 0.11626235, 0.01576817,\n",
       "        0.20246422, 0.        , 0.19008377, 0.        ]], dtype=float32)>"
      ]
     },
     "execution_count": 10,
     "metadata": {},
     "output_type": "execute_result"
    }
   ],
   "source": [
    "bottom_block = continuous_block.connect(mm.MLPBlock([64]))\n",
    "bottom_block(batch)"
   ]
  },
  {
   "cell_type": "markdown",
   "id": "ea9c77c0-b8cd-4a07-a602-45b3dfc4f00d",
   "metadata": {},
   "source": [
    "We define the categorical embedding block based on the schema. We display the output tensor of the categorical embedding block using the data from the first batch. We can see the embeddings tensors of categorical features with a default dimension of 64."
   ]
  },
  {
   "cell_type": "code",
   "execution_count": 11,
   "id": "ab7f6ef7-c516-458f-bf9c-11ceb76ea72a",
   "metadata": {},
   "outputs": [
    {
     "data": {
      "text/plain": [
       "{'user_id': <tf.Tensor: shape=(5, 64), dtype=float32, numpy=\n",
       " array([[-0.0030684 ,  0.04588665,  0.02369252, -0.04817641, -0.02404811,\n",
       "         -0.03262407, -0.01784763,  0.02128987,  0.03647913, -0.01208849,\n",
       "          0.02840331,  0.02881254, -0.0313934 , -0.02020936, -0.0109046 ,\n",
       "          0.0033321 ,  0.01262108,  0.02360431,  0.01518716,  0.03210591,\n",
       "         -0.01987057,  0.00957217, -0.01579005, -0.03097498, -0.04053762,\n",
       "         -0.00797368, -0.03997766, -0.03261774, -0.01614944, -0.04255729,\n",
       "          0.01050658,  0.02750127,  0.03751229,  0.02619976, -0.02484912,\n",
       "         -0.02298819,  0.03241647, -0.02462848,  0.02332423,  0.00559973,\n",
       "         -0.02477183,  0.00516224, -0.01597665,  0.01938793, -0.03212832,\n",
       "         -0.0299018 , -0.01360755,  0.0384554 ,  0.03403345,  0.00648155,\n",
       "          0.0200499 ,  0.04552804,  0.01207328,  0.03589824,  0.01733079,\n",
       "          0.01685769,  0.00346895, -0.03348974, -0.00527056, -0.0014535 ,\n",
       "          0.04884484,  0.04587479,  0.00918368,  0.01959381],\n",
       "        [-0.0030684 ,  0.04588665,  0.02369252, -0.04817641, -0.02404811,\n",
       "         -0.03262407, -0.01784763,  0.02128987,  0.03647913, -0.01208849,\n",
       "          0.02840331,  0.02881254, -0.0313934 , -0.02020936, -0.0109046 ,\n",
       "          0.0033321 ,  0.01262108,  0.02360431,  0.01518716,  0.03210591,\n",
       "         -0.01987057,  0.00957217, -0.01579005, -0.03097498, -0.04053762,\n",
       "         -0.00797368, -0.03997766, -0.03261774, -0.01614944, -0.04255729,\n",
       "          0.01050658,  0.02750127,  0.03751229,  0.02619976, -0.02484912,\n",
       "         -0.02298819,  0.03241647, -0.02462848,  0.02332423,  0.00559973,\n",
       "         -0.02477183,  0.00516224, -0.01597665,  0.01938793, -0.03212832,\n",
       "         -0.0299018 , -0.01360755,  0.0384554 ,  0.03403345,  0.00648155,\n",
       "          0.0200499 ,  0.04552804,  0.01207328,  0.03589824,  0.01733079,\n",
       "          0.01685769,  0.00346895, -0.03348974, -0.00527056, -0.0014535 ,\n",
       "          0.04884484,  0.04587479,  0.00918368,  0.01959381],\n",
       "        [-0.0030684 ,  0.04588665,  0.02369252, -0.04817641, -0.02404811,\n",
       "         -0.03262407, -0.01784763,  0.02128987,  0.03647913, -0.01208849,\n",
       "          0.02840331,  0.02881254, -0.0313934 , -0.02020936, -0.0109046 ,\n",
       "          0.0033321 ,  0.01262108,  0.02360431,  0.01518716,  0.03210591,\n",
       "         -0.01987057,  0.00957217, -0.01579005, -0.03097498, -0.04053762,\n",
       "         -0.00797368, -0.03997766, -0.03261774, -0.01614944, -0.04255729,\n",
       "          0.01050658,  0.02750127,  0.03751229,  0.02619976, -0.02484912,\n",
       "         -0.02298819,  0.03241647, -0.02462848,  0.02332423,  0.00559973,\n",
       "         -0.02477183,  0.00516224, -0.01597665,  0.01938793, -0.03212832,\n",
       "         -0.0299018 , -0.01360755,  0.0384554 ,  0.03403345,  0.00648155,\n",
       "          0.0200499 ,  0.04552804,  0.01207328,  0.03589824,  0.01733079,\n",
       "          0.01685769,  0.00346895, -0.03348974, -0.00527056, -0.0014535 ,\n",
       "          0.04884484,  0.04587479,  0.00918368,  0.01959381],\n",
       "        [-0.0030684 ,  0.04588665,  0.02369252, -0.04817641, -0.02404811,\n",
       "         -0.03262407, -0.01784763,  0.02128987,  0.03647913, -0.01208849,\n",
       "          0.02840331,  0.02881254, -0.0313934 , -0.02020936, -0.0109046 ,\n",
       "          0.0033321 ,  0.01262108,  0.02360431,  0.01518716,  0.03210591,\n",
       "         -0.01987057,  0.00957217, -0.01579005, -0.03097498, -0.04053762,\n",
       "         -0.00797368, -0.03997766, -0.03261774, -0.01614944, -0.04255729,\n",
       "          0.01050658,  0.02750127,  0.03751229,  0.02619976, -0.02484912,\n",
       "         -0.02298819,  0.03241647, -0.02462848,  0.02332423,  0.00559973,\n",
       "         -0.02477183,  0.00516224, -0.01597665,  0.01938793, -0.03212832,\n",
       "         -0.0299018 , -0.01360755,  0.0384554 ,  0.03403345,  0.00648155,\n",
       "          0.0200499 ,  0.04552804,  0.01207328,  0.03589824,  0.01733079,\n",
       "          0.01685769,  0.00346895, -0.03348974, -0.00527056, -0.0014535 ,\n",
       "          0.04884484,  0.04587479,  0.00918368,  0.01959381],\n",
       "        [-0.0030684 ,  0.04588665,  0.02369252, -0.04817641, -0.02404811,\n",
       "         -0.03262407, -0.01784763,  0.02128987,  0.03647913, -0.01208849,\n",
       "          0.02840331,  0.02881254, -0.0313934 , -0.02020936, -0.0109046 ,\n",
       "          0.0033321 ,  0.01262108,  0.02360431,  0.01518716,  0.03210591,\n",
       "         -0.01987057,  0.00957217, -0.01579005, -0.03097498, -0.04053762,\n",
       "         -0.00797368, -0.03997766, -0.03261774, -0.01614944, -0.04255729,\n",
       "          0.01050658,  0.02750127,  0.03751229,  0.02619976, -0.02484912,\n",
       "         -0.02298819,  0.03241647, -0.02462848,  0.02332423,  0.00559973,\n",
       "         -0.02477183,  0.00516224, -0.01597665,  0.01938793, -0.03212832,\n",
       "         -0.0299018 , -0.01360755,  0.0384554 ,  0.03403345,  0.00648155,\n",
       "          0.0200499 ,  0.04552804,  0.01207328,  0.03589824,  0.01733079,\n",
       "          0.01685769,  0.00346895, -0.03348974, -0.00527056, -0.0014535 ,\n",
       "          0.04884484,  0.04587479,  0.00918368,  0.01959381]],\n",
       "       dtype=float32)>,\n",
       " 'ts_weekday': <tf.Tensor: shape=(5, 64), dtype=float32, numpy=\n",
       " array([[-4.19823751e-02, -1.93785783e-02,  4.44820561e-02,\n",
       "          9.76821035e-03,  4.00105976e-02,  4.12032716e-02,\n",
       "          5.93012571e-03,  3.75088938e-02, -3.69864814e-02,\n",
       "         -8.57683271e-03,  8.67878273e-03, -4.55450192e-02,\n",
       "         -2.10463051e-02, -4.37069684e-04,  4.36950848e-03,\n",
       "          4.36126925e-02,  4.87270020e-02,  3.11067142e-02,\n",
       "          7.06966966e-03, -3.49180922e-02, -4.89406846e-02,\n",
       "          1.43691413e-02,  4.05955575e-02, -2.83789765e-02,\n",
       "         -3.84152159e-02, -5.42596728e-03, -4.86534238e-02,\n",
       "         -2.08238512e-03, -1.85219422e-02, -4.11561243e-02,\n",
       "          2.35361122e-02, -1.90199856e-02, -4.63417061e-02,\n",
       "         -4.38380018e-02,  4.27382477e-02, -2.31979489e-02,\n",
       "          1.13886371e-02, -1.42091997e-02, -1.91887263e-02,\n",
       "         -2.33261120e-02, -7.91005045e-03, -1.48665905e-03,\n",
       "         -2.89401896e-02, -2.49172337e-02, -3.91571522e-02,\n",
       "         -1.21685117e-03,  3.24096121e-02,  4.63155545e-02,\n",
       "          3.80791351e-03,  6.39428943e-03, -3.04939281e-02,\n",
       "         -5.42479753e-03,  7.31117651e-03, -9.31024551e-04,\n",
       "          2.56289877e-02,  5.96545637e-04, -1.99855566e-02,\n",
       "         -4.71017472e-02,  4.63163964e-02,  2.55245678e-02,\n",
       "         -2.72022728e-02,  3.50138210e-02,  4.87349741e-02,\n",
       "         -2.36464497e-02],\n",
       "        [ 1.09449625e-02,  4.95490320e-02, -2.39265561e-02,\n",
       "          4.02816646e-02, -2.16596369e-02, -4.87774387e-02,\n",
       "          4.54825163e-03, -2.26555709e-02,  2.32332610e-02,\n",
       "          2.22393759e-02, -8.30131769e-03, -6.32587820e-03,\n",
       "         -4.09127101e-02, -3.04501653e-02, -6.63606077e-03,\n",
       "         -7.26608187e-03, -1.56249404e-02,  2.89039277e-02,\n",
       "          8.59211758e-03,  4.64223363e-02,  2.83742659e-02,\n",
       "         -7.66502693e-03,  2.16143988e-02, -8.36207718e-03,\n",
       "          1.70750543e-03,  7.21357018e-03, -3.80426645e-03,\n",
       "          3.03761028e-02,  2.44193561e-02,  2.87350900e-02,\n",
       "          3.63630541e-02,  8.75229761e-03, -3.19361687e-03,\n",
       "         -7.28652626e-03,  3.77087481e-02,  4.47223298e-02,\n",
       "         -4.19470444e-02, -3.33801731e-02, -1.90015566e-02,\n",
       "          3.67941968e-02,  5.20535558e-03, -2.52614021e-02,\n",
       "         -4.10022251e-02,  1.25989430e-02,  6.35606050e-03,\n",
       "         -1.97826512e-02, -4.25791256e-02, -5.39704412e-03,\n",
       "         -1.59807093e-02, -4.42005880e-02, -8.74318182e-04,\n",
       "          2.75858380e-02,  3.14787030e-06, -2.23382469e-02,\n",
       "         -3.03520206e-02, -2.53317486e-02, -3.87218706e-02,\n",
       "         -8.94113630e-03, -4.15130854e-02,  1.51860975e-02,\n",
       "         -4.54048887e-02, -4.94678617e-02,  1.21919885e-02,\n",
       "          3.24650146e-02],\n",
       "        [ 1.09449625e-02,  4.95490320e-02, -2.39265561e-02,\n",
       "          4.02816646e-02, -2.16596369e-02, -4.87774387e-02,\n",
       "          4.54825163e-03, -2.26555709e-02,  2.32332610e-02,\n",
       "          2.22393759e-02, -8.30131769e-03, -6.32587820e-03,\n",
       "         -4.09127101e-02, -3.04501653e-02, -6.63606077e-03,\n",
       "         -7.26608187e-03, -1.56249404e-02,  2.89039277e-02,\n",
       "          8.59211758e-03,  4.64223363e-02,  2.83742659e-02,\n",
       "         -7.66502693e-03,  2.16143988e-02, -8.36207718e-03,\n",
       "          1.70750543e-03,  7.21357018e-03, -3.80426645e-03,\n",
       "          3.03761028e-02,  2.44193561e-02,  2.87350900e-02,\n",
       "          3.63630541e-02,  8.75229761e-03, -3.19361687e-03,\n",
       "         -7.28652626e-03,  3.77087481e-02,  4.47223298e-02,\n",
       "         -4.19470444e-02, -3.33801731e-02, -1.90015566e-02,\n",
       "          3.67941968e-02,  5.20535558e-03, -2.52614021e-02,\n",
       "         -4.10022251e-02,  1.25989430e-02,  6.35606050e-03,\n",
       "         -1.97826512e-02, -4.25791256e-02, -5.39704412e-03,\n",
       "         -1.59807093e-02, -4.42005880e-02, -8.74318182e-04,\n",
       "          2.75858380e-02,  3.14787030e-06, -2.23382469e-02,\n",
       "         -3.03520206e-02, -2.53317486e-02, -3.87218706e-02,\n",
       "         -8.94113630e-03, -4.15130854e-02,  1.51860975e-02,\n",
       "         -4.54048887e-02, -4.94678617e-02,  1.21919885e-02,\n",
       "          3.24650146e-02],\n",
       "        [ 4.67790626e-02,  1.91339888e-02,  4.74152602e-02,\n",
       "          1.03986152e-02, -2.03654170e-02,  2.65605338e-02,\n",
       "          4.20052446e-02, -6.34356588e-03, -5.34524769e-03,\n",
       "         -1.48167126e-02, -4.38811444e-02,  6.67697191e-03,\n",
       "         -3.44015844e-02,  4.98045944e-02,  3.33523490e-02,\n",
       "          2.09177770e-02,  2.31121890e-02,  3.69027369e-02,\n",
       "         -4.36131470e-02, -2.03788280e-02, -4.63349819e-02,\n",
       "          4.48422916e-02, -1.45630725e-02,  2.20806710e-02,\n",
       "          3.07611488e-02,  4.96350415e-02,  1.08510628e-02,\n",
       "         -1.72563083e-02,  2.52932794e-02, -1.55186430e-02,\n",
       "         -3.03532612e-02,  4.85424884e-02, -3.49160433e-02,\n",
       "         -1.29960179e-02, -1.24430656e-03, -4.94551323e-02,\n",
       "         -2.71460768e-02,  3.09234150e-02, -1.07672438e-02,\n",
       "         -1.94672495e-03, -1.66952610e-02,  3.36360186e-04,\n",
       "         -4.29808386e-02, -2.41777301e-02,  4.44012322e-02,\n",
       "          9.20761377e-04,  4.35690619e-02, -4.27490138e-02,\n",
       "          2.01966055e-02, -1.23505369e-02, -4.07952294e-02,\n",
       "         -1.91741232e-02, -3.33015993e-03,  1.74324773e-02,\n",
       "         -4.64635156e-02,  6.50786236e-03, -1.04216486e-03,\n",
       "         -2.27634907e-02, -4.50870506e-02,  4.69136946e-02,\n",
       "          2.00499929e-02,  3.34136151e-02, -8.77851248e-03,\n",
       "          3.34767364e-02],\n",
       "        [ 4.67790626e-02,  1.91339888e-02,  4.74152602e-02,\n",
       "          1.03986152e-02, -2.03654170e-02,  2.65605338e-02,\n",
       "          4.20052446e-02, -6.34356588e-03, -5.34524769e-03,\n",
       "         -1.48167126e-02, -4.38811444e-02,  6.67697191e-03,\n",
       "         -3.44015844e-02,  4.98045944e-02,  3.33523490e-02,\n",
       "          2.09177770e-02,  2.31121890e-02,  3.69027369e-02,\n",
       "         -4.36131470e-02, -2.03788280e-02, -4.63349819e-02,\n",
       "          4.48422916e-02, -1.45630725e-02,  2.20806710e-02,\n",
       "          3.07611488e-02,  4.96350415e-02,  1.08510628e-02,\n",
       "         -1.72563083e-02,  2.52932794e-02, -1.55186430e-02,\n",
       "         -3.03532612e-02,  4.85424884e-02, -3.49160433e-02,\n",
       "         -1.29960179e-02, -1.24430656e-03, -4.94551323e-02,\n",
       "         -2.71460768e-02,  3.09234150e-02, -1.07672438e-02,\n",
       "         -1.94672495e-03, -1.66952610e-02,  3.36360186e-04,\n",
       "         -4.29808386e-02, -2.41777301e-02,  4.44012322e-02,\n",
       "          9.20761377e-04,  4.35690619e-02, -4.27490138e-02,\n",
       "          2.01966055e-02, -1.23505369e-02, -4.07952294e-02,\n",
       "         -1.91741232e-02, -3.33015993e-03,  1.74324773e-02,\n",
       "         -4.64635156e-02,  6.50786236e-03, -1.04216486e-03,\n",
       "         -2.27634907e-02, -4.50870506e-02,  4.69136946e-02,\n",
       "          2.00499929e-02,  3.34136151e-02, -8.77851248e-03,\n",
       "          3.34767364e-02]], dtype=float32)>,\n",
       " 'ts_hour': <tf.Tensor: shape=(5, 64), dtype=float32, numpy=\n",
       " array([[-0.04651207,  0.00586331,  0.02299477, -0.01273297,  0.04867766,\n",
       "         -0.02417325, -0.01910758, -0.01221398,  0.01230193,  0.01561179,\n",
       "         -0.00794556, -0.04560112, -0.0316868 , -0.00874405,  0.02554084,\n",
       "         -0.01424562, -0.03650367,  0.04424799, -0.03516098,  0.01499026,\n",
       "          0.03665184, -0.04944233,  0.01430172, -0.00562152,  0.01384851,\n",
       "          0.0115919 ,  0.01968792,  0.0367039 , -0.03353722,  0.04502323,\n",
       "         -0.0258903 ,  0.02275829,  0.0206136 , -0.02930069,  0.0461382 ,\n",
       "         -0.01060934,  0.00385437,  0.02524033, -0.01933845, -0.0168856 ,\n",
       "          0.03940621, -0.01729913,  0.02128686,  0.00484041, -0.0308028 ,\n",
       "          0.03048015, -0.00993785,  0.00385543,  0.01457281,  0.01693251,\n",
       "          0.02862975, -0.03530263, -0.03721523, -0.00155859,  0.01316066,\n",
       "          0.04774103,  0.01038804,  0.03046263, -0.01730176,  0.02882541,\n",
       "          0.00040346, -0.041885  , -0.04407042,  0.02400685],\n",
       "        [-0.00538101,  0.0327148 ,  0.01430492,  0.04257282,  0.01279583,\n",
       "         -0.03416727,  0.01251063, -0.03436672,  0.04986403,  0.03769559,\n",
       "         -0.04417038,  0.00563251,  0.00012342, -0.00713191, -0.00151814,\n",
       "          0.01300826, -0.03246976,  0.04145164, -0.02990123,  0.01603513,\n",
       "         -0.04883318,  0.02675542,  0.0186964 ,  0.01695241, -0.02243599,\n",
       "         -0.03317128,  0.0051451 , -0.04458204,  0.02700532, -0.01538222,\n",
       "          0.03019645, -0.03503281,  0.02916049, -0.01344992, -0.01665277,\n",
       "          0.00359117, -0.00890569,  0.025374  , -0.04795355,  0.04826368,\n",
       "          0.00917365,  0.03647562, -0.00766901,  0.02285187, -0.00981996,\n",
       "          0.01531119, -0.01844385, -0.01507163,  0.02446162, -0.03910661,\n",
       "          0.00934652, -0.00771158,  0.02485147,  0.0353195 , -0.03599889,\n",
       "         -0.0488752 , -0.04060938,  0.03071656, -0.0341287 ,  0.04110825,\n",
       "          0.033507  ,  0.03385391, -0.0126112 , -0.03087497],\n",
       "        [-0.00538101,  0.0327148 ,  0.01430492,  0.04257282,  0.01279583,\n",
       "         -0.03416727,  0.01251063, -0.03436672,  0.04986403,  0.03769559,\n",
       "         -0.04417038,  0.00563251,  0.00012342, -0.00713191, -0.00151814,\n",
       "          0.01300826, -0.03246976,  0.04145164, -0.02990123,  0.01603513,\n",
       "         -0.04883318,  0.02675542,  0.0186964 ,  0.01695241, -0.02243599,\n",
       "         -0.03317128,  0.0051451 , -0.04458204,  0.02700532, -0.01538222,\n",
       "          0.03019645, -0.03503281,  0.02916049, -0.01344992, -0.01665277,\n",
       "          0.00359117, -0.00890569,  0.025374  , -0.04795355,  0.04826368,\n",
       "          0.00917365,  0.03647562, -0.00766901,  0.02285187, -0.00981996,\n",
       "          0.01531119, -0.01844385, -0.01507163,  0.02446162, -0.03910661,\n",
       "          0.00934652, -0.00771158,  0.02485147,  0.0353195 , -0.03599889,\n",
       "         -0.0488752 , -0.04060938,  0.03071656, -0.0341287 ,  0.04110825,\n",
       "          0.033507  ,  0.03385391, -0.0126112 , -0.03087497],\n",
       "        [-0.02558988,  0.02004861,  0.03632608, -0.00903027,  0.02518864,\n",
       "         -0.02104011, -0.01231138,  0.03718564,  0.03337726,  0.03683094,\n",
       "          0.03236408,  0.01636505,  0.04816898, -0.04336954,  0.01443019,\n",
       "         -0.02491762, -0.00767267, -0.01506434,  0.01943744,  0.02966107,\n",
       "         -0.04503267,  0.02168934, -0.03691957, -0.00981658, -0.00870224,\n",
       "          0.00654161, -0.03377379,  0.01951125, -0.04726359,  0.03224373,\n",
       "          0.0459874 ,  0.04678011,  0.01199843,  0.02369574, -0.04466616,\n",
       "          0.01341678,  0.03649895, -0.00847411, -0.00891791, -0.0183568 ,\n",
       "         -0.00663913,  0.04663103, -0.01232251, -0.03820997,  0.03700701,\n",
       "          0.00980691, -0.04817262,  0.04483953,  0.0090555 ,  0.04789548,\n",
       "         -0.00798501, -0.04818696, -0.03961714,  0.03531292,  0.01748862,\n",
       "          0.00436326, -0.04361397, -0.01125035, -0.02378423,  0.01683227,\n",
       "         -0.03785568,  0.00070985,  0.03272286,  0.0022187 ],\n",
       "        [-0.02558988,  0.02004861,  0.03632608, -0.00903027,  0.02518864,\n",
       "         -0.02104011, -0.01231138,  0.03718564,  0.03337726,  0.03683094,\n",
       "          0.03236408,  0.01636505,  0.04816898, -0.04336954,  0.01443019,\n",
       "         -0.02491762, -0.00767267, -0.01506434,  0.01943744,  0.02966107,\n",
       "         -0.04503267,  0.02168934, -0.03691957, -0.00981658, -0.00870224,\n",
       "          0.00654161, -0.03377379,  0.01951125, -0.04726359,  0.03224373,\n",
       "          0.0459874 ,  0.04678011,  0.01199843,  0.02369574, -0.04466616,\n",
       "          0.01341678,  0.03649895, -0.00847411, -0.00891791, -0.0183568 ,\n",
       "         -0.00663913,  0.04663103, -0.01232251, -0.03820997,  0.03700701,\n",
       "          0.00980691, -0.04817262,  0.04483953,  0.0090555 ,  0.04789548,\n",
       "         -0.00798501, -0.04818696, -0.03961714,  0.03531292,  0.01748862,\n",
       "          0.00436326, -0.04361397, -0.01125035, -0.02378423,  0.01683227,\n",
       "         -0.03785568,  0.00070985,  0.03272286,  0.0022187 ]],\n",
       "       dtype=float32)>,\n",
       " 'product_id': <tf.Tensor: shape=(5, 64), dtype=float32, numpy=\n",
       " array([[-4.40853015e-02, -1.03484467e-03, -1.96184758e-02,\n",
       "         -3.95669118e-02,  1.01662651e-02, -2.16233730e-03,\n",
       "          5.60976192e-03, -1.65596120e-02,  1.60392411e-02,\n",
       "         -3.70531157e-03,  3.71720456e-02,  2.71531083e-02,\n",
       "          4.06883247e-02, -4.93942760e-02,  5.53332642e-03,\n",
       "          3.45919989e-02,  1.89645179e-02, -2.89118644e-02,\n",
       "         -2.01970935e-02,  7.52497837e-03,  2.10254230e-02,\n",
       "          1.66927651e-03, -3.91763076e-02,  2.37695687e-02,\n",
       "         -1.52077563e-02, -7.50893354e-03, -4.74332944e-02,\n",
       "          7.50224665e-03, -1.88990962e-02, -4.21518683e-02,\n",
       "         -3.93127091e-02,  1.26390345e-02, -3.90355960e-02,\n",
       "         -2.23549847e-02, -1.13588348e-02, -1.29947662e-02,\n",
       "          5.75442240e-03,  3.36312316e-02,  2.81488411e-02,\n",
       "         -1.65375583e-02,  7.78140873e-03,  1.60400756e-02,\n",
       "         -1.08066089e-02, -1.51921064e-04,  4.16132249e-02,\n",
       "         -3.08962949e-02,  8.72987509e-03, -4.08215038e-02,\n",
       "         -1.48976967e-03,  7.37585872e-03,  4.63961400e-02,\n",
       "          2.10954286e-02, -2.01189406e-02,  2.29736604e-02,\n",
       "         -3.32869887e-02,  2.67834105e-02,  4.04792465e-02,\n",
       "          3.58638652e-02, -5.71844727e-03, -3.99334654e-02,\n",
       "          1.05813034e-02,  3.83800305e-02, -2.42374092e-03,\n",
       "         -3.79138216e-02],\n",
       "        [ 2.03888901e-02,  3.23894508e-02, -1.12020485e-02,\n",
       "         -3.21651921e-02, -2.83219665e-03,  2.40064301e-02,\n",
       "          4.75352295e-02,  3.71954702e-02, -6.51395321e-03,\n",
       "          4.29086760e-03, -4.02984731e-02,  2.12131999e-02,\n",
       "          2.15324499e-02,  3.14163901e-02, -4.49922346e-02,\n",
       "          2.30150335e-02, -2.11967472e-02,  4.81251813e-02,\n",
       "         -2.04211473e-03, -1.63692944e-02,  1.33804344e-02,\n",
       "          2.17537172e-02, -4.27142531e-03, -3.00114043e-02,\n",
       "          2.48517431e-02, -3.44627872e-02, -8.39168951e-03,\n",
       "         -3.13131362e-02,  2.40153410e-02,  3.27392854e-02,\n",
       "         -4.00351770e-02, -4.09527868e-03, -3.48922610e-02,\n",
       "         -3.09324507e-02, -3.10245045e-02, -4.27591093e-02,\n",
       "         -6.03925064e-03,  2.40823291e-02,  3.34261768e-02,\n",
       "         -2.00174935e-02, -2.10267305e-03,  5.57588413e-03,\n",
       "         -1.88821554e-02,  3.88133526e-03, -1.28910914e-02,\n",
       "          8.55827332e-03, -2.99094319e-02,  3.15595530e-02,\n",
       "          2.10441016e-02, -3.88727672e-02, -4.65825461e-02,\n",
       "          2.15007924e-02,  3.46484035e-03,  1.89890526e-02,\n",
       "         -4.51072454e-02, -3.52787487e-02, -2.62819771e-02,\n",
       "         -3.43627334e-02,  3.19978110e-02,  2.76144780e-02,\n",
       "          4.27917279e-02,  4.28960361e-02, -4.11958806e-02,\n",
       "         -1.24040134e-02],\n",
       "        [-4.97329347e-02,  2.22157948e-02, -4.03146259e-02,\n",
       "         -1.22216456e-02, -3.54801640e-02, -3.01179644e-02,\n",
       "         -1.67258829e-03, -5.28847054e-03, -3.30112949e-02,\n",
       "         -9.39190388e-03, -3.80048268e-02,  4.26993482e-02,\n",
       "         -4.95028012e-02,  4.55879681e-02, -4.95123640e-02,\n",
       "         -2.46212129e-02,  3.73940580e-02, -4.45630401e-03,\n",
       "         -4.03490290e-02,  8.34830850e-03,  1.79247744e-02,\n",
       "         -4.07701023e-02, -4.58734408e-02, -8.22225958e-03,\n",
       "         -3.97469029e-02, -3.23498622e-02,  2.18987800e-02,\n",
       "         -4.08699140e-02, -3.56181040e-02, -4.89932299e-02,\n",
       "         -2.38360520e-02, -2.46549137e-02,  3.14038880e-02,\n",
       "         -1.61845610e-03,  3.41382660e-02,  1.46112777e-02,\n",
       "          3.55491787e-03,  1.16570480e-02, -1.20612010e-02,\n",
       "          2.04498209e-02, -2.08599493e-03,  8.54108483e-03,\n",
       "          5.52277640e-03,  3.99240106e-03,  3.93434279e-02,\n",
       "         -1.01588964e-02,  3.63431685e-02,  1.18466504e-02,\n",
       "         -4.71050665e-03, -3.98332253e-02,  4.30128090e-02,\n",
       "          1.49634145e-02,  1.49182342e-02,  2.97671668e-02,\n",
       "         -2.46966239e-02,  1.87667944e-02,  5.70485741e-03,\n",
       "          2.98797376e-02, -4.32864428e-02,  3.07236202e-02,\n",
       "         -5.79829141e-03, -2.92147044e-02, -9.24343988e-03,\n",
       "          2.98356526e-02],\n",
       "        [ 2.87698172e-02,  1.11182928e-02,  4.47267629e-02,\n",
       "          3.18273567e-02, -4.75501195e-02, -2.54133698e-02,\n",
       "          3.04008238e-02, -4.56441157e-02, -4.92905490e-02,\n",
       "         -1.22959018e-02, -5.37261367e-05, -3.67329717e-02,\n",
       "         -4.53057289e-02,  3.71155031e-02, -8.73200968e-03,\n",
       "          2.83071510e-02, -2.90948283e-02, -1.52912252e-02,\n",
       "         -4.54111025e-03,  3.59069444e-02,  2.38524117e-02,\n",
       "         -4.45864685e-02,  8.05686787e-03,  3.17866839e-02,\n",
       "         -1.30580664e-02, -1.37606747e-02, -4.13067229e-02,\n",
       "          6.34736940e-03,  3.41786183e-02,  3.66836675e-02,\n",
       "         -2.23493576e-03, -1.90155506e-02,  4.41027917e-02,\n",
       "          6.60230964e-03, -1.71200633e-02, -7.20989704e-03,\n",
       "          3.27741019e-02, -4.45492528e-02, -2.97391061e-02,\n",
       "         -4.78277691e-02,  2.94655897e-02, -3.95375602e-02,\n",
       "         -4.29867506e-02,  2.40831114e-02, -4.73798886e-02,\n",
       "         -1.79921165e-02,  2.84146927e-02,  1.51048563e-02,\n",
       "          1.03761554e-02, -1.14915743e-02,  2.27471478e-02,\n",
       "          3.16214822e-02,  1.14592686e-02, -4.91763465e-02,\n",
       "          3.02035324e-02, -3.95315513e-02, -4.41253781e-02,\n",
       "          2.59938948e-02, -4.78366986e-02,  3.39379944e-02,\n",
       "         -3.55927125e-02, -2.07958817e-02,  2.30246894e-02,\n",
       "          4.12831940e-02],\n",
       "        [-8.64608213e-03, -5.85596636e-03,  4.42345031e-02,\n",
       "          1.24286190e-02,  1.06802955e-02,  4.90869023e-02,\n",
       "          4.94158268e-03, -1.22078881e-02,  1.17499754e-03,\n",
       "         -1.49022453e-02, -3.86313088e-02, -1.45296343e-02,\n",
       "         -4.24982421e-02, -2.34444030e-02, -4.77907807e-03,\n",
       "          4.28121351e-02,  5.58133051e-03, -2.88108476e-02,\n",
       "         -2.21368428e-02, -1.30721331e-02, -2.90992260e-02,\n",
       "          1.78540461e-02, -1.88869722e-02, -6.16117567e-03,\n",
       "         -4.70070839e-02, -3.60406749e-02, -4.54900414e-03,\n",
       "         -4.29449677e-02,  4.57019322e-02, -2.27643605e-02,\n",
       "          3.98987532e-03, -2.06411015e-02, -8.86122137e-03,\n",
       "          4.31088097e-02, -2.83723008e-02, -4.83937152e-02,\n",
       "          3.35340537e-02,  4.13804129e-03,  3.26222889e-02,\n",
       "          2.20466778e-03,  3.00989188e-02, -3.66439596e-02,\n",
       "          4.58201431e-02,  4.83359806e-02,  2.01931112e-02,\n",
       "         -2.50315797e-02, -1.02878809e-02,  7.84908608e-03,\n",
       "         -7.74375349e-03, -9.19083506e-03,  1.29815191e-03,\n",
       "          4.80241664e-02, -4.23914567e-02,  3.15566994e-02,\n",
       "          4.29570563e-02, -3.58828902e-02,  1.67158954e-02,\n",
       "          4.24084552e-02, -6.78676367e-03,  1.94810517e-02,\n",
       "          3.07622440e-02, -3.64274383e-02,  4.38351296e-02,\n",
       "          4.88434099e-02]], dtype=float32)>,\n",
       " 'cat_0': <tf.Tensor: shape=(5, 64), dtype=float32, numpy=\n",
       " array([[-0.00636267,  0.01683556,  0.00897617, -0.00951244, -0.04207134,\n",
       "         -0.02857527, -0.04928524, -0.01788989,  0.04390493, -0.04315853,\n",
       "          0.03921441, -0.04170318, -0.02787645,  0.03218852,  0.03080541,\n",
       "          0.01697835,  0.04635227, -0.04892294, -0.04980729, -0.03437723,\n",
       "         -0.01910523,  0.02188302,  0.02295709, -0.01186819, -0.00266347,\n",
       "          0.03693472,  0.0217953 , -0.04781152,  0.02121462, -0.02398244,\n",
       "         -0.02709858,  0.04814916, -0.01667011, -0.02321284, -0.04191307,\n",
       "         -0.02528832,  0.0052603 ,  0.00328277, -0.03981676,  0.0023147 ,\n",
       "         -0.02965724,  0.00043739,  0.00039063, -0.00089971,  0.03849751,\n",
       "         -0.04206602,  0.03452469, -0.01013087, -0.01629136,  0.03567021,\n",
       "         -0.008373  , -0.04164463,  0.03636735, -0.02391902,  0.00338991,\n",
       "         -0.02058255,  0.01069307, -0.04655005,  0.02290775,  0.04274727,\n",
       "         -0.02773846, -0.04590483, -0.01295622, -0.03036399],\n",
       "        [ 0.01020015, -0.03089835,  0.00901035,  0.0270604 , -0.03700849,\n",
       "         -0.03489929,  0.00385307,  0.030014  , -0.00206082, -0.0280746 ,\n",
       "         -0.00431197, -0.01835595,  0.00382376, -0.04664505, -0.03614347,\n",
       "          0.04826679, -0.00879514,  0.01737647,  0.0478205 , -0.0022514 ,\n",
       "          0.02451502,  0.01486722, -0.0410447 ,  0.03332837,  0.03061532,\n",
       "         -0.00238382,  0.03368647,  0.02995706, -0.02443708,  0.02092806,\n",
       "          0.03568486, -0.04127967,  0.01813421,  0.0064263 ,  0.00676292,\n",
       "         -0.03960361, -0.03227881,  0.01037846, -0.00828922, -0.01238248,\n",
       "         -0.03045145, -0.04934036,  0.02612117,  0.01401723, -0.03145476,\n",
       "         -0.0038721 ,  0.03099087,  0.00626409,  0.0413244 , -0.03038703,\n",
       "         -0.00484581, -0.04226798,  0.03138168, -0.00048884, -0.00483368,\n",
       "         -0.03893967,  0.03919525, -0.02081226, -0.04302229, -0.03953688,\n",
       "          0.04374948, -0.04455377, -0.02696683, -0.02479681],\n",
       "        [-0.00636267,  0.01683556,  0.00897617, -0.00951244, -0.04207134,\n",
       "         -0.02857527, -0.04928524, -0.01788989,  0.04390493, -0.04315853,\n",
       "          0.03921441, -0.04170318, -0.02787645,  0.03218852,  0.03080541,\n",
       "          0.01697835,  0.04635227, -0.04892294, -0.04980729, -0.03437723,\n",
       "         -0.01910523,  0.02188302,  0.02295709, -0.01186819, -0.00266347,\n",
       "          0.03693472,  0.0217953 , -0.04781152,  0.02121462, -0.02398244,\n",
       "         -0.02709858,  0.04814916, -0.01667011, -0.02321284, -0.04191307,\n",
       "         -0.02528832,  0.0052603 ,  0.00328277, -0.03981676,  0.0023147 ,\n",
       "         -0.02965724,  0.00043739,  0.00039063, -0.00089971,  0.03849751,\n",
       "         -0.04206602,  0.03452469, -0.01013087, -0.01629136,  0.03567021,\n",
       "         -0.008373  , -0.04164463,  0.03636735, -0.02391902,  0.00338991,\n",
       "         -0.02058255,  0.01069307, -0.04655005,  0.02290775,  0.04274727,\n",
       "         -0.02773846, -0.04590483, -0.01295622, -0.03036399],\n",
       "        [-0.00636267,  0.01683556,  0.00897617, -0.00951244, -0.04207134,\n",
       "         -0.02857527, -0.04928524, -0.01788989,  0.04390493, -0.04315853,\n",
       "          0.03921441, -0.04170318, -0.02787645,  0.03218852,  0.03080541,\n",
       "          0.01697835,  0.04635227, -0.04892294, -0.04980729, -0.03437723,\n",
       "         -0.01910523,  0.02188302,  0.02295709, -0.01186819, -0.00266347,\n",
       "          0.03693472,  0.0217953 , -0.04781152,  0.02121462, -0.02398244,\n",
       "         -0.02709858,  0.04814916, -0.01667011, -0.02321284, -0.04191307,\n",
       "         -0.02528832,  0.0052603 ,  0.00328277, -0.03981676,  0.0023147 ,\n",
       "         -0.02965724,  0.00043739,  0.00039063, -0.00089971,  0.03849751,\n",
       "         -0.04206602,  0.03452469, -0.01013087, -0.01629136,  0.03567021,\n",
       "         -0.008373  , -0.04164463,  0.03636735, -0.02391902,  0.00338991,\n",
       "         -0.02058255,  0.01069307, -0.04655005,  0.02290775,  0.04274727,\n",
       "         -0.02773846, -0.04590483, -0.01295622, -0.03036399],\n",
       "        [-0.00636267,  0.01683556,  0.00897617, -0.00951244, -0.04207134,\n",
       "         -0.02857527, -0.04928524, -0.01788989,  0.04390493, -0.04315853,\n",
       "          0.03921441, -0.04170318, -0.02787645,  0.03218852,  0.03080541,\n",
       "          0.01697835,  0.04635227, -0.04892294, -0.04980729, -0.03437723,\n",
       "         -0.01910523,  0.02188302,  0.02295709, -0.01186819, -0.00266347,\n",
       "          0.03693472,  0.0217953 , -0.04781152,  0.02121462, -0.02398244,\n",
       "         -0.02709858,  0.04814916, -0.01667011, -0.02321284, -0.04191307,\n",
       "         -0.02528832,  0.0052603 ,  0.00328277, -0.03981676,  0.0023147 ,\n",
       "         -0.02965724,  0.00043739,  0.00039063, -0.00089971,  0.03849751,\n",
       "         -0.04206602,  0.03452469, -0.01013087, -0.01629136,  0.03567021,\n",
       "         -0.008373  , -0.04164463,  0.03636735, -0.02391902,  0.00338991,\n",
       "         -0.02058255,  0.01069307, -0.04655005,  0.02290775,  0.04274727,\n",
       "         -0.02773846, -0.04590483, -0.01295622, -0.03036399]],\n",
       "       dtype=float32)>,\n",
       " 'cat_1': <tf.Tensor: shape=(5, 64), dtype=float32, numpy=\n",
       " array([[ 0.03712753, -0.03456731, -0.03422433,  0.02341342, -0.04798905,\n",
       "          0.03053758,  0.01712239, -0.03745927, -0.01117102,  0.04596816,\n",
       "          0.01238718,  0.02685043,  0.04869298,  0.01256341,  0.01470185,\n",
       "         -0.00025205,  0.04537834,  0.04319504, -0.03754091, -0.04264751,\n",
       "         -0.00251132,  0.01686362,  0.02716621,  0.02705801, -0.02011706,\n",
       "          0.00765399,  0.02391006, -0.01679873,  0.02904183,  0.02445359,\n",
       "          0.03929187, -0.04990653, -0.04953984, -0.02319062,  0.00510933,\n",
       "         -0.04288052,  0.00624365,  0.04973576,  0.03297481, -0.02166139,\n",
       "          0.00888927,  0.02227649, -0.04933862, -0.03512644,  0.02334335,\n",
       "         -0.03493371,  0.01723006,  0.00515553, -0.00564864,  0.03924786,\n",
       "         -0.0143666 , -0.03322884, -0.01850182,  0.02815297, -0.01942501,\n",
       "          0.00487218, -0.01139738, -0.01773919, -0.01982805, -0.04872631,\n",
       "         -0.04587488,  0.00731537, -0.01240595, -0.04274053],\n",
       "        [-0.03547182, -0.01881781, -0.01635408,  0.00461538,  0.04837709,\n",
       "          0.00426253,  0.00114219,  0.02014099,  0.04262446,  0.02685023,\n",
       "         -0.03411337,  0.0335367 ,  0.01384981, -0.01843504, -0.02763265,\n",
       "         -0.04503286, -0.04488518, -0.02019105,  0.01182903,  0.00286859,\n",
       "         -0.03027119,  0.04192222, -0.02680513,  0.02273839,  0.00408219,\n",
       "          0.03885869,  0.01565715,  0.04745258, -0.03103346,  0.0154642 ,\n",
       "          0.04522467, -0.01009031,  0.02774758, -0.03521153,  0.00035988,\n",
       "         -0.04254457, -0.04228096,  0.04423462,  0.03067229,  0.00196595,\n",
       "          0.02682269, -0.0309809 ,  0.02466733,  0.02986442,  0.01157718,\n",
       "          0.00384646,  0.02636702,  0.015858  ,  0.03413726,  0.03890658,\n",
       "         -0.04026815, -0.01970841, -0.02218783,  0.03363374, -0.01103296,\n",
       "         -0.01898198,  0.03793433,  0.02280105,  0.01616779, -0.02746451,\n",
       "          0.01698602, -0.00420599, -0.02324026,  0.0398829 ],\n",
       "        [ 0.03712753, -0.03456731, -0.03422433,  0.02341342, -0.04798905,\n",
       "          0.03053758,  0.01712239, -0.03745927, -0.01117102,  0.04596816,\n",
       "          0.01238718,  0.02685043,  0.04869298,  0.01256341,  0.01470185,\n",
       "         -0.00025205,  0.04537834,  0.04319504, -0.03754091, -0.04264751,\n",
       "         -0.00251132,  0.01686362,  0.02716621,  0.02705801, -0.02011706,\n",
       "          0.00765399,  0.02391006, -0.01679873,  0.02904183,  0.02445359,\n",
       "          0.03929187, -0.04990653, -0.04953984, -0.02319062,  0.00510933,\n",
       "         -0.04288052,  0.00624365,  0.04973576,  0.03297481, -0.02166139,\n",
       "          0.00888927,  0.02227649, -0.04933862, -0.03512644,  0.02334335,\n",
       "         -0.03493371,  0.01723006,  0.00515553, -0.00564864,  0.03924786,\n",
       "         -0.0143666 , -0.03322884, -0.01850182,  0.02815297, -0.01942501,\n",
       "          0.00487218, -0.01139738, -0.01773919, -0.01982805, -0.04872631,\n",
       "         -0.04587488,  0.00731537, -0.01240595, -0.04274053],\n",
       "        [ 0.03712753, -0.03456731, -0.03422433,  0.02341342, -0.04798905,\n",
       "          0.03053758,  0.01712239, -0.03745927, -0.01117102,  0.04596816,\n",
       "          0.01238718,  0.02685043,  0.04869298,  0.01256341,  0.01470185,\n",
       "         -0.00025205,  0.04537834,  0.04319504, -0.03754091, -0.04264751,\n",
       "         -0.00251132,  0.01686362,  0.02716621,  0.02705801, -0.02011706,\n",
       "          0.00765399,  0.02391006, -0.01679873,  0.02904183,  0.02445359,\n",
       "          0.03929187, -0.04990653, -0.04953984, -0.02319062,  0.00510933,\n",
       "         -0.04288052,  0.00624365,  0.04973576,  0.03297481, -0.02166139,\n",
       "          0.00888927,  0.02227649, -0.04933862, -0.03512644,  0.02334335,\n",
       "         -0.03493371,  0.01723006,  0.00515553, -0.00564864,  0.03924786,\n",
       "         -0.0143666 , -0.03322884, -0.01850182,  0.02815297, -0.01942501,\n",
       "          0.00487218, -0.01139738, -0.01773919, -0.01982805, -0.04872631,\n",
       "         -0.04587488,  0.00731537, -0.01240595, -0.04274053],\n",
       "        [ 0.03712753, -0.03456731, -0.03422433,  0.02341342, -0.04798905,\n",
       "          0.03053758,  0.01712239, -0.03745927, -0.01117102,  0.04596816,\n",
       "          0.01238718,  0.02685043,  0.04869298,  0.01256341,  0.01470185,\n",
       "         -0.00025205,  0.04537834,  0.04319504, -0.03754091, -0.04264751,\n",
       "         -0.00251132,  0.01686362,  0.02716621,  0.02705801, -0.02011706,\n",
       "          0.00765399,  0.02391006, -0.01679873,  0.02904183,  0.02445359,\n",
       "          0.03929187, -0.04990653, -0.04953984, -0.02319062,  0.00510933,\n",
       "         -0.04288052,  0.00624365,  0.04973576,  0.03297481, -0.02166139,\n",
       "          0.00888927,  0.02227649, -0.04933862, -0.03512644,  0.02334335,\n",
       "         -0.03493371,  0.01723006,  0.00515553, -0.00564864,  0.03924786,\n",
       "         -0.0143666 , -0.03322884, -0.01850182,  0.02815297, -0.01942501,\n",
       "          0.00487218, -0.01139738, -0.01773919, -0.01982805, -0.04872631,\n",
       "         -0.04587488,  0.00731537, -0.01240595, -0.04274053]],\n",
       "       dtype=float32)>,\n",
       " 'cat_2': <tf.Tensor: shape=(5, 64), dtype=float32, numpy=\n",
       " array([[-0.04119675, -0.02297912,  0.01868955,  0.0002926 ,  0.02051562,\n",
       "          0.04660592,  0.02789744,  0.0352728 ,  0.02825828, -0.04963627,\n",
       "          0.0489825 , -0.02436614, -0.02373769, -0.03371898,  0.01976723,\n",
       "         -0.04136411, -0.03870358, -0.03852862, -0.0067691 ,  0.02777027,\n",
       "          0.04356383, -0.01766323,  0.0474068 ,  0.02534243,  0.01898922,\n",
       "         -0.04047519,  0.01109938,  0.00614834,  0.04688224,  0.02106563,\n",
       "          0.02595401, -0.01003416, -0.04578965, -0.00048745,  0.01163708,\n",
       "          0.03316139, -0.03232572, -0.01413687, -0.04157253, -0.03709639,\n",
       "          0.00365071,  0.01452489,  0.04457888,  0.04869807, -0.00242842,\n",
       "          0.02065981,  0.03461707, -0.02929614,  0.03568668,  0.02724442,\n",
       "         -0.04951264, -0.00432736,  0.00474299, -0.03308295,  0.00709303,\n",
       "          0.02290902,  0.0343122 , -0.01679396,  0.03194046,  0.01560779,\n",
       "         -0.03819304, -0.04974968, -0.04253386, -0.00656477],\n",
       "        [-0.03575855, -0.00983838, -0.01663982,  0.01816542,  0.01908702,\n",
       "         -0.02793058,  0.0113362 ,  0.04588975, -0.01685052, -0.02190322,\n",
       "          0.00807007, -0.03260535,  0.04826159,  0.04146085,  0.02685435,\n",
       "         -0.02373437,  0.04006528,  0.04757212,  0.01445093, -0.01686115,\n",
       "          0.02758438, -0.04773027, -0.02997901, -0.00083035, -0.02542133,\n",
       "          0.03612217, -0.04609262, -0.01507343, -0.0181391 ,  0.04203916,\n",
       "          0.01835546, -0.02092098,  0.01361034, -0.01648145,  0.00503188,\n",
       "          0.0117535 , -0.02684674, -0.03723501,  0.01521573,  0.00487342,\n",
       "          0.03185393,  0.01859469, -0.00338488,  0.02032833, -0.0203425 ,\n",
       "          0.0242897 ,  0.00014345,  0.03387837, -0.04011701,  0.01406087,\n",
       "          0.04999181, -0.01178264, -0.01741068,  0.01595182,  0.01568079,\n",
       "          0.03401074,  0.04265758,  0.009349  , -0.0384207 , -0.02148795,\n",
       "          0.04324975, -0.04987775,  0.04455641,  0.03179646],\n",
       "        [-0.04119675, -0.02297912,  0.01868955,  0.0002926 ,  0.02051562,\n",
       "          0.04660592,  0.02789744,  0.0352728 ,  0.02825828, -0.04963627,\n",
       "          0.0489825 , -0.02436614, -0.02373769, -0.03371898,  0.01976723,\n",
       "         -0.04136411, -0.03870358, -0.03852862, -0.0067691 ,  0.02777027,\n",
       "          0.04356383, -0.01766323,  0.0474068 ,  0.02534243,  0.01898922,\n",
       "         -0.04047519,  0.01109938,  0.00614834,  0.04688224,  0.02106563,\n",
       "          0.02595401, -0.01003416, -0.04578965, -0.00048745,  0.01163708,\n",
       "          0.03316139, -0.03232572, -0.01413687, -0.04157253, -0.03709639,\n",
       "          0.00365071,  0.01452489,  0.04457888,  0.04869807, -0.00242842,\n",
       "          0.02065981,  0.03461707, -0.02929614,  0.03568668,  0.02724442,\n",
       "         -0.04951264, -0.00432736,  0.00474299, -0.03308295,  0.00709303,\n",
       "          0.02290902,  0.0343122 , -0.01679396,  0.03194046,  0.01560779,\n",
       "         -0.03819304, -0.04974968, -0.04253386, -0.00656477],\n",
       "        [-0.04119675, -0.02297912,  0.01868955,  0.0002926 ,  0.02051562,\n",
       "          0.04660592,  0.02789744,  0.0352728 ,  0.02825828, -0.04963627,\n",
       "          0.0489825 , -0.02436614, -0.02373769, -0.03371898,  0.01976723,\n",
       "         -0.04136411, -0.03870358, -0.03852862, -0.0067691 ,  0.02777027,\n",
       "          0.04356383, -0.01766323,  0.0474068 ,  0.02534243,  0.01898922,\n",
       "         -0.04047519,  0.01109938,  0.00614834,  0.04688224,  0.02106563,\n",
       "          0.02595401, -0.01003416, -0.04578965, -0.00048745,  0.01163708,\n",
       "          0.03316139, -0.03232572, -0.01413687, -0.04157253, -0.03709639,\n",
       "          0.00365071,  0.01452489,  0.04457888,  0.04869807, -0.00242842,\n",
       "          0.02065981,  0.03461707, -0.02929614,  0.03568668,  0.02724442,\n",
       "         -0.04951264, -0.00432736,  0.00474299, -0.03308295,  0.00709303,\n",
       "          0.02290902,  0.0343122 , -0.01679396,  0.03194046,  0.01560779,\n",
       "         -0.03819304, -0.04974968, -0.04253386, -0.00656477],\n",
       "        [-0.04119675, -0.02297912,  0.01868955,  0.0002926 ,  0.02051562,\n",
       "          0.04660592,  0.02789744,  0.0352728 ,  0.02825828, -0.04963627,\n",
       "          0.0489825 , -0.02436614, -0.02373769, -0.03371898,  0.01976723,\n",
       "         -0.04136411, -0.03870358, -0.03852862, -0.0067691 ,  0.02777027,\n",
       "          0.04356383, -0.01766323,  0.0474068 ,  0.02534243,  0.01898922,\n",
       "         -0.04047519,  0.01109938,  0.00614834,  0.04688224,  0.02106563,\n",
       "          0.02595401, -0.01003416, -0.04578965, -0.00048745,  0.01163708,\n",
       "          0.03316139, -0.03232572, -0.01413687, -0.04157253, -0.03709639,\n",
       "          0.00365071,  0.01452489,  0.04457888,  0.04869807, -0.00242842,\n",
       "          0.02065981,  0.03461707, -0.02929614,  0.03568668,  0.02724442,\n",
       "         -0.04951264, -0.00432736,  0.00474299, -0.03308295,  0.00709303,\n",
       "          0.02290902,  0.0343122 , -0.01679396,  0.03194046,  0.01560779,\n",
       "         -0.03819304, -0.04974968, -0.04253386, -0.00656477]],\n",
       "       dtype=float32)>,\n",
       " 'brand': <tf.Tensor: shape=(5, 64), dtype=float32, numpy=\n",
       " array([[ 0.00083982,  0.01295501, -0.04321354,  0.0071988 ,  0.01572731,\n",
       "          0.03007089,  0.01762593, -0.03137705,  0.03363342, -0.04109036,\n",
       "          0.00093781, -0.00979556, -0.00687224, -0.01783388, -0.03432623,\n",
       "          0.02375228,  0.00690197, -0.0274039 ,  0.02078738,  0.0457275 ,\n",
       "          0.03894489,  0.04114846,  0.04631798, -0.03107886,  0.03717998,\n",
       "          0.02400805, -0.00279738,  0.0245839 ,  0.04055437,  0.04791436,\n",
       "          0.01713849, -0.00748254,  0.03559743, -0.01849436,  0.00823826,\n",
       "         -0.03813202,  0.03266089, -0.01439195, -0.01060189, -0.03948068,\n",
       "          0.0336997 , -0.03199493, -0.0140327 , -0.03948561,  0.01724683,\n",
       "          0.04644385, -0.02982094,  0.0174174 ,  0.01639323, -0.00658518,\n",
       "         -0.04030965,  0.04950408,  0.0043731 , -0.03279642,  0.00135666,\n",
       "         -0.04982853,  0.03580445,  0.04821522,  0.00131717, -0.02204537,\n",
       "          0.03441143,  0.03507311,  0.03809584,  0.04294843],\n",
       "        [ 0.03487085,  0.02500114, -0.03497318, -0.03388391, -0.0334181 ,\n",
       "          0.01404517, -0.04149383, -0.02288013, -0.01712625, -0.03130414,\n",
       "         -0.04510477, -0.02978356,  0.00926847,  0.02581156,  0.03974784,\n",
       "          0.0060475 ,  0.01185435,  0.02241043,  0.0164256 , -0.02334598,\n",
       "         -0.0403369 , -0.03555528, -0.02245717,  0.02656591,  0.03152181,\n",
       "          0.02626571,  0.04175339,  0.04177162,  0.00329848, -0.03118836,\n",
       "         -0.03684739,  0.00705619, -0.0230202 , -0.00857735,  0.01681418,\n",
       "         -0.04883594, -0.04842843,  0.02175878,  0.0183509 , -0.0471909 ,\n",
       "          0.00521325,  0.00031459,  0.00435662, -0.04707539, -0.00581949,\n",
       "          0.00999662, -0.02877467,  0.00540905,  0.04096364,  0.0391118 ,\n",
       "          0.04984815, -0.02817776, -0.03349783,  0.04318834, -0.00854464,\n",
       "         -0.00279661,  0.01297519, -0.04037979, -0.03871548,  0.01584793,\n",
       "         -0.04414329, -0.01676725, -0.00126221,  0.00889017],\n",
       "        [ 0.00165007, -0.0428535 ,  0.02871403,  0.03685841, -0.03524781,\n",
       "          0.01602725, -0.0103691 , -0.00898088,  0.04268957,  0.03257317,\n",
       "         -0.00858255, -0.00345024, -0.04188716, -0.03220377,  0.04081695,\n",
       "          0.03961584, -0.03205951, -0.02486243,  0.01994902,  0.02132025,\n",
       "         -0.0392574 , -0.00464793,  0.01298091,  0.01830813, -0.02979802,\n",
       "          0.04500232, -0.03448098, -0.01619141,  0.00121395, -0.03669387,\n",
       "         -0.04084957, -0.02416908,  0.03239833, -0.03039177, -0.04383848,\n",
       "          0.04042094,  0.04375856,  0.00292429, -0.0084833 ,  0.01648811,\n",
       "         -0.02362356,  0.00441645,  0.0340979 ,  0.03751899,  0.0019202 ,\n",
       "          0.04230979,  0.01280742,  0.00298177,  0.00854124, -0.00823857,\n",
       "          0.03156102,  0.04744871, -0.00072682, -0.01009323,  0.01049845,\n",
       "          0.02700328, -0.04628189,  0.01980777, -0.04007798,  0.02843146,\n",
       "          0.0118248 , -0.03149986, -0.00321279, -0.00810949],\n",
       "        [-0.00262824,  0.01029487,  0.04677376,  0.01101171,  0.02188068,\n",
       "         -0.02674911,  0.02379442, -0.02493969, -0.01272633,  0.04292012,\n",
       "          0.04864225, -0.01845421,  0.04149393,  0.0156422 , -0.00193813,\n",
       "         -0.03339404, -0.03910292,  0.01430986,  0.02325919, -0.01904701,\n",
       "         -0.0258216 , -0.01656252,  0.02274282, -0.04022641,  0.04264914,\n",
       "          0.01062967,  0.04416772,  0.00604809, -0.02919792,  0.00346309,\n",
       "          0.04061111,  0.04951719,  0.04704124,  0.0367955 , -0.00630487,\n",
       "          0.00691632, -0.0278098 , -0.04436756,  0.01200718, -0.01458346,\n",
       "          0.01948558,  0.03702626,  0.03972156,  0.03189918, -0.0046615 ,\n",
       "         -0.04060689, -0.01139216, -0.03957494, -0.02074668, -0.03483237,\n",
       "         -0.02896389,  0.01759912, -0.03776455, -0.04912642, -0.02005212,\n",
       "         -0.03649005, -0.00111876, -0.0490433 ,  0.00963406, -0.02320925,\n",
       "          0.0453623 , -0.04402069, -0.01296214, -0.04487739],\n",
       "        [ 0.00083982,  0.01295501, -0.04321354,  0.0071988 ,  0.01572731,\n",
       "          0.03007089,  0.01762593, -0.03137705,  0.03363342, -0.04109036,\n",
       "          0.00093781, -0.00979556, -0.00687224, -0.01783388, -0.03432623,\n",
       "          0.02375228,  0.00690197, -0.0274039 ,  0.02078738,  0.0457275 ,\n",
       "          0.03894489,  0.04114846,  0.04631798, -0.03107886,  0.03717998,\n",
       "          0.02400805, -0.00279738,  0.0245839 ,  0.04055437,  0.04791436,\n",
       "          0.01713849, -0.00748254,  0.03559743, -0.01849436,  0.00823826,\n",
       "         -0.03813202,  0.03266089, -0.01439195, -0.01060189, -0.03948068,\n",
       "          0.0336997 , -0.03199493, -0.0140327 , -0.03948561,  0.01724683,\n",
       "          0.04644385, -0.02982094,  0.0174174 ,  0.01639323, -0.00658518,\n",
       "         -0.04030965,  0.04950408,  0.0043731 , -0.03279642,  0.00135666,\n",
       "         -0.04982853,  0.03580445,  0.04821522,  0.00131717, -0.02204537,\n",
       "          0.03441143,  0.03507311,  0.03809584,  0.04294843]],\n",
       "       dtype=float32)>}"
      ]
     },
     "execution_count": 11,
     "metadata": {},
     "output_type": "execute_result"
    }
   ],
   "source": [
    "embeddings_block = mm.Embeddings(\n",
    "    schema.select_by_tag(Tags.CATEGORICAL),\n",
    "    dim = 64\n",
    ")\n",
    "embeddings_block(batch)"
   ]
  },
  {
   "cell_type": "markdown",
   "id": "83549e41-bc35-4f54-9d47-ac83d6b3d1c7",
   "metadata": {},
   "source": [
    "Let's combine the output of continuous and categorical blocks into one dictionary using a `ParallelBlock` instance."
   ]
  },
  {
   "cell_type": "code",
   "execution_count": 12,
   "id": "1eb9c543-1898-46bb-9239-46f78f80ef80",
   "metadata": {},
   "outputs": [],
   "source": [
    "dlrm_input_block = mm.ParallelBlock(\n",
    "    {\"embeddings\": embeddings_block, \"bottom_block\": bottom_block}\n",
    ")"
   ]
  },
  {
   "cell_type": "markdown",
   "id": "b539fb75-0124-4b57-b0cd-593f76de462c",
   "metadata": {},
   "source": [
    "By looking at the output, we can see that the ParallelBlock class applies embedding and continuous blocks, in parallel, to the same input batch. Additionally, it merges the resulting tensors into one dictionary."
   ]
  },
  {
   "cell_type": "code",
   "execution_count": 13,
   "id": "ddc10d12-4d5d-4aba-8961-96caf4ae74d3",
   "metadata": {},
   "outputs": [
    {
     "name": "stdout",
     "output_type": "stream",
     "text": [
      "Output shapes of DLRM input block:\n",
      "\tuser_id : (5, 64)\n",
      "\tts_weekday : (5, 64)\n",
      "\tts_hour : (5, 64)\n",
      "\tproduct_id : (5, 64)\n",
      "\tcat_0 : (5, 64)\n",
      "\tcat_1 : (5, 64)\n",
      "\tcat_2 : (5, 64)\n",
      "\tbrand : (5, 64)\n",
      "\tbottom_block : (5, 64)\n"
     ]
    }
   ],
   "source": [
    "print(\"Output shapes of DLRM input block:\")\n",
    "for key, val in dlrm_input_block(batch).items():\n",
    "    print(\"\\t%s : %s\" % (key, val.shape))"
   ]
  },
  {
   "cell_type": "markdown",
   "id": "a4c07a42-ae9e-4f75-8915-6d11e8ef7c4f",
   "metadata": {},
   "source": [
    "**Define the interaction block**"
   ]
  },
  {
   "cell_type": "markdown",
   "id": "79cf6470-495e-475e-a8e0-d33970c9a2b3",
   "metadata": {},
   "source": [
    "Now that we have a vector representation of each input feature, we will create the DLRM interaction block. It consists of three operations:\n",
    "\n",
    "- Apply a dot product between all continuous and categorical features to learn pairwise interactions\n",
    "- Concat the resulting pairwise interaction with the deep representation of continuous features (skip-connection)\n",
    "- Apply an `MLPBlock` with a series of dense layers to the concatenated tensor.\n",
    "\n",
    "First, we use the `connect_with_shortcut` method to create first two operations of the DLRM interaction block:"
   ]
  },
  {
   "cell_type": "code",
   "execution_count": 14,
   "id": "97493d5a-3f1e-4e2a-a985-a4400d1e0a95",
   "metadata": {},
   "outputs": [],
   "source": [
    "from merlin.models.tf.blocks.dlrm import DotProductInteractionBlock\n",
    "\n",
    "dlrm_interaction = dlrm_input_block.connect_with_shortcut(\n",
    "    DotProductInteractionBlock(), shortcut_filter=mm.Filter(\"bottom_block\"), aggregation=\"concat\"\n",
    ")"
   ]
  },
  {
   "cell_type": "markdown",
   "id": "be103b68-4ec0-4216-a765-41ca901b312e",
   "metadata": {},
   "source": [
    "The `Filter` operation allows us to select the deep_continuous tensor from the dlrm_input_block outputs."
   ]
  },
  {
   "cell_type": "markdown",
   "id": "8f2cfb12-334f-49b4-833b-e6f394ecd293",
   "metadata": {},
   "source": [
    "The following diagram provides a visualization of the operations that we constructed in the dlrm_interaction object.\n",
    "\n",
    "<img src=\"./images/residual_interaction.png\" width=\"300\" height=\"200\">"
   ]
  },
  {
   "cell_type": "markdown",
   "id": "3a91a9b3-0fe2-4f44-a088-124ef42bcec4",
   "metadata": {},
   "source": [
    "Print the tensor outputs from `dlrm_interaction` block."
   ]
  },
  {
   "cell_type": "code",
   "execution_count": 15,
   "id": "8794c83b-81ec-4f36-ad30-07e0a69c8c64",
   "metadata": {},
   "outputs": [
    {
     "data": {
      "text/plain": [
       "<tf.Tensor: shape=(5, 100), dtype=float32, numpy=\n",
       "array([[ 2.41680667e-01,  0.00000000e+00,  0.00000000e+00,\n",
       "         0.00000000e+00,  0.00000000e+00,  1.24573484e-01,\n",
       "         6.81590289e-02,  0.00000000e+00,  3.31627160e-01,\n",
       "         0.00000000e+00,  3.38037729e-01,  3.54673803e-01,\n",
       "         1.87536523e-01,  2.36096680e-01,  0.00000000e+00,\n",
       "         0.00000000e+00,  1.22427046e-01,  0.00000000e+00,\n",
       "         2.77687907e-01,  0.00000000e+00,  1.12425454e-01,\n",
       "         4.19532925e-01,  0.00000000e+00,  0.00000000e+00,\n",
       "         1.66073292e-02,  1.12129331e-01,  1.74946129e-01,\n",
       "         2.14694202e-01,  4.35730636e-01,  1.88416839e-02,\n",
       "         3.41726393e-02,  1.18542440e-01,  6.27250314e-01,\n",
       "         0.00000000e+00,  7.25741461e-02,  0.00000000e+00,\n",
       "         2.81984597e-01,  2.07295656e-01,  0.00000000e+00,\n",
       "         5.77057481e-01,  0.00000000e+00,  4.36456576e-02,\n",
       "         1.27549469e-03,  0.00000000e+00,  0.00000000e+00,\n",
       "         0.00000000e+00,  0.00000000e+00,  1.25121802e-01,\n",
       "         0.00000000e+00,  0.00000000e+00,  0.00000000e+00,\n",
       "         0.00000000e+00,  0.00000000e+00,  0.00000000e+00,\n",
       "         0.00000000e+00,  3.55895132e-01,  0.00000000e+00,\n",
       "         0.00000000e+00,  1.17360249e-01,  0.00000000e+00,\n",
       "         1.61312789e-01,  0.00000000e+00,  2.38844812e-01,\n",
       "         3.29666287e-02,  6.78987727e-02, -7.41772447e-03,\n",
       "         5.67044830e-03, -5.58833368e-02, -2.58773547e-02,\n",
       "        -5.03951460e-02, -6.75387979e-02,  5.31070940e-02,\n",
       "        -1.02907578e-02, -7.12629734e-03,  1.99476327e-03,\n",
       "        -3.25881690e-03, -1.88284821e-03, -3.83946835e-03,\n",
       "        -1.56144064e-03,  4.06220742e-03,  7.73472711e-03,\n",
       "        -1.03868148e-03, -5.69989998e-03,  6.06388506e-03,\n",
       "        -1.48330524e-04, -8.66822898e-03,  7.45245023e-03,\n",
       "        -1.24834310e-02,  6.08049612e-03, -1.49454195e-02,\n",
       "        -4.86418232e-03,  1.14683378e-02,  1.78690651e-03,\n",
       "        -1.59687474e-02, -4.23745997e-03, -5.62199252e-03,\n",
       "         5.77559136e-03, -5.46721835e-03, -9.10611637e-03,\n",
       "         4.57479944e-03],\n",
       "       [ 0.00000000e+00,  2.40420371e-01,  1.28467992e-01,\n",
       "         1.95977569e-01,  0.00000000e+00,  0.00000000e+00,\n",
       "         6.95366636e-02,  0.00000000e+00,  1.46061733e-01,\n",
       "         5.00100106e-02,  0.00000000e+00,  0.00000000e+00,\n",
       "         0.00000000e+00,  1.61343247e-01,  3.20494235e-01,\n",
       "         3.60692561e-01,  0.00000000e+00,  0.00000000e+00,\n",
       "         4.49347228e-01,  0.00000000e+00,  0.00000000e+00,\n",
       "         0.00000000e+00,  0.00000000e+00,  4.36583251e-01,\n",
       "         0.00000000e+00,  0.00000000e+00,  3.73387367e-01,\n",
       "         5.20608425e-01,  6.57751858e-02,  0.00000000e+00,\n",
       "         4.81574804e-01,  0.00000000e+00,  5.79608202e-01,\n",
       "         2.44187713e-02,  1.55692235e-01,  0.00000000e+00,\n",
       "         1.05046988e-01,  0.00000000e+00,  1.95491970e-01,\n",
       "         5.21496758e-02,  2.33404800e-01,  0.00000000e+00,\n",
       "         5.29036343e-01,  0.00000000e+00,  2.02810362e-01,\n",
       "         3.23456466e-01,  0.00000000e+00,  0.00000000e+00,\n",
       "         0.00000000e+00,  1.98495716e-01,  3.13642740e-01,\n",
       "         4.00741398e-02,  0.00000000e+00,  3.86242777e-01,\n",
       "         0.00000000e+00,  4.53860074e-01,  0.00000000e+00,\n",
       "         0.00000000e+00,  4.41378713e-01,  5.31944394e-01,\n",
       "         6.09447360e-02,  0.00000000e+00,  0.00000000e+00,\n",
       "         2.48725250e-01,  6.50212467e-02,  1.01992227e-02,\n",
       "         8.13838020e-02,  3.15486379e-02, -8.26785639e-02,\n",
       "         1.48519436e-02, -1.53354239e-02, -3.11029144e-05,\n",
       "         4.13856935e-03,  8.19814508e-04,  1.62026833e-03,\n",
       "         1.28790984e-04, -9.99922305e-03, -4.35423013e-03,\n",
       "        -6.25230884e-03,  1.38597786e-02,  3.05909431e-03,\n",
       "         7.99107016e-04,  3.60304490e-04,  1.45708816e-03,\n",
       "        -2.91655771e-03,  6.39674719e-04,  9.31470073e-04,\n",
       "         1.87474315e-03, -6.85232319e-03, -4.45625745e-03,\n",
       "        -1.05483374e-02, -1.09216515e-02, -7.54087814e-05,\n",
       "         2.49841018e-04,  1.05933174e-02, -6.11499837e-03,\n",
       "         5.82452724e-03,  1.14636999e-02,  4.48059849e-03,\n",
       "        -3.55921825e-03],\n",
       "       [ 1.27776384e-01,  0.00000000e+00,  0.00000000e+00,\n",
       "         0.00000000e+00,  0.00000000e+00,  1.70878977e-01,\n",
       "         1.41649216e-01,  0.00000000e+00,  4.60390151e-01,\n",
       "         0.00000000e+00,  4.03609395e-01,  3.62291932e-01,\n",
       "         2.71675348e-01,  3.68284822e-01,  0.00000000e+00,\n",
       "         0.00000000e+00,  3.13073635e-01,  0.00000000e+00,\n",
       "         3.71092230e-01,  0.00000000e+00,  6.71418160e-02,\n",
       "         5.90258658e-01,  0.00000000e+00,  1.09939352e-02,\n",
       "         0.00000000e+00,  1.03668906e-02,  2.89334297e-01,\n",
       "         3.47937942e-01,  5.05935073e-01,  0.00000000e+00,\n",
       "         1.07337385e-02,  6.07597344e-02,  8.07337582e-01,\n",
       "         0.00000000e+00,  1.55806661e-01,  0.00000000e+00,\n",
       "         2.48016119e-01,  8.48235041e-02,  0.00000000e+00,\n",
       "         7.12094367e-01,  0.00000000e+00,  7.34527409e-03,\n",
       "         0.00000000e+00,  0.00000000e+00,  0.00000000e+00,\n",
       "         0.00000000e+00,  0.00000000e+00,  1.28007680e-01,\n",
       "         0.00000000e+00,  0.00000000e+00,  0.00000000e+00,\n",
       "         2.90914774e-02,  0.00000000e+00,  0.00000000e+00,\n",
       "         0.00000000e+00,  4.32760239e-01,  2.05172896e-02,\n",
       "         0.00000000e+00,  2.32713133e-01,  4.49412465e-02,\n",
       "         1.33973271e-01,  0.00000000e+00,  2.76446790e-01,\n",
       "         9.08576697e-02,  1.55414864e-02, -7.26557057e-03,\n",
       "        -3.96740483e-03, -5.50711155e-02, -2.96324082e-02,\n",
       "         1.22453487e-02, -9.47130006e-03,  5.79819493e-02,\n",
       "         2.84685520e-03, -1.23885563e-02, -8.31343059e-04,\n",
       "         1.47617538e-03,  1.32125616e-02,  1.68167939e-03,\n",
       "         5.69901150e-03,  4.06220742e-03,  7.73472711e-03,\n",
       "         4.48495382e-04, -4.22631763e-03, -5.72781451e-03,\n",
       "        -1.48330524e-04, -8.66822898e-03, -6.57993834e-03,\n",
       "         1.14080298e-03, -6.27499446e-03, -1.49454195e-02,\n",
       "        -1.28276180e-02, -1.11601911e-02,  7.61321513e-04,\n",
       "        -1.59687474e-02,  6.55264501e-03,  4.72538779e-03,\n",
       "         6.06219843e-03,  1.14636999e-02,  4.48059849e-03,\n",
       "        -3.55921825e-03],\n",
       "       [ 8.91265050e-02,  0.00000000e+00,  0.00000000e+00,\n",
       "         0.00000000e+00,  0.00000000e+00,  2.68283069e-01,\n",
       "         1.06837787e-01,  0.00000000e+00,  3.13265920e-01,\n",
       "         0.00000000e+00,  3.97276461e-01,  3.87749523e-01,\n",
       "         2.15696394e-01,  3.05871129e-01,  0.00000000e+00,\n",
       "         0.00000000e+00,  1.30853653e-01,  0.00000000e+00,\n",
       "         3.70264828e-01,  0.00000000e+00,  1.03841864e-01,\n",
       "         4.85080808e-01,  0.00000000e+00,  9.39216018e-02,\n",
       "         0.00000000e+00,  0.00000000e+00,  1.89215630e-01,\n",
       "         2.44529545e-01,  3.89778674e-01,  0.00000000e+00,\n",
       "         0.00000000e+00,  3.80865447e-02,  6.82452023e-01,\n",
       "         0.00000000e+00,  9.34361592e-02,  0.00000000e+00,\n",
       "         1.20445073e-01,  1.56148016e-01,  0.00000000e+00,\n",
       "         6.18871808e-01,  0.00000000e+00,  1.39754355e-01,\n",
       "         0.00000000e+00,  0.00000000e+00,  0.00000000e+00,\n",
       "         8.01475719e-02,  0.00000000e+00,  7.49486238e-02,\n",
       "         0.00000000e+00,  0.00000000e+00,  0.00000000e+00,\n",
       "         1.03611194e-01,  1.39923975e-01,  0.00000000e+00,\n",
       "         0.00000000e+00,  3.81258845e-01,  1.23533309e-01,\n",
       "         0.00000000e+00,  5.99724725e-02,  0.00000000e+00,\n",
       "         0.00000000e+00,  0.00000000e+00,  3.87092113e-01,\n",
       "         1.44783214e-01, -1.08915661e-02, -2.94021089e-02,\n",
       "        -3.43673024e-03, -3.25391814e-02, -5.80185167e-02,\n",
       "         1.40904468e-02, -5.51982224e-03,  4.35035378e-02,\n",
       "        -2.52437312e-04, -8.01238324e-03,  5.17193135e-03,\n",
       "        -3.14598018e-03,  4.56216745e-03, -7.55347777e-03,\n",
       "        -2.49837665e-03,  4.06220742e-03,  7.73472711e-03,\n",
       "        -1.77779607e-03, -2.55804555e-03,  1.63797494e-02,\n",
       "        -1.48330524e-04, -8.66822898e-03, -9.32455435e-03,\n",
       "        -8.21314286e-04,  1.28673967e-02, -1.49454195e-02,\n",
       "         4.00715275e-04, -6.53146254e-03, -1.03493547e-02,\n",
       "        -1.59687474e-02, -9.79616493e-03, -1.34591002e-03,\n",
       "         3.28167109e-04, -8.39399267e-03,  1.16298469e-02,\n",
       "        -3.32021248e-03],\n",
       "       [ 2.96225429e-01,  0.00000000e+00,  0.00000000e+00,\n",
       "         0.00000000e+00,  0.00000000e+00,  9.41953957e-02,\n",
       "         5.81726357e-02,  0.00000000e+00,  2.90680885e-01,\n",
       "         0.00000000e+00,  2.95534730e-01,  3.46888423e-01,\n",
       "         1.68137640e-01,  1.86908960e-01,  2.40267515e-02,\n",
       "         0.00000000e+00,  7.70581663e-02,  0.00000000e+00,\n",
       "         2.27610767e-01,  0.00000000e+00,  1.34721205e-01,\n",
       "         3.74503374e-01,  0.00000000e+00,  0.00000000e+00,\n",
       "         7.22986460e-02,  1.54253528e-01,  1.37234047e-01,\n",
       "         1.53010607e-01,  4.38148618e-01,  3.29980105e-02,\n",
       "         3.48682255e-02,  1.54786140e-01,  5.73315024e-01,\n",
       "         0.00000000e+00,  3.91624793e-02,  0.00000000e+00,\n",
       "         3.30047965e-01,  2.41350740e-01,  0.00000000e+00,\n",
       "         5.46063900e-01,  0.00000000e+00,  2.56540999e-02,\n",
       "         2.71106362e-02,  0.00000000e+00,  0.00000000e+00,\n",
       "         0.00000000e+00,  0.00000000e+00,  1.15164220e-01,\n",
       "         0.00000000e+00,  0.00000000e+00,  0.00000000e+00,\n",
       "         0.00000000e+00,  0.00000000e+00,  0.00000000e+00,\n",
       "         0.00000000e+00,  3.16737980e-01,  0.00000000e+00,\n",
       "         0.00000000e+00,  1.16262347e-01,  1.57681704e-02,\n",
       "         2.02464223e-01,  0.00000000e+00,  1.90083772e-01,\n",
       "         0.00000000e+00,  6.54419363e-02, -1.25236809e-03,\n",
       "         4.71522473e-03, -5.53875491e-02, -1.61878448e-02,\n",
       "         1.73947774e-02,  1.03269927e-02,  5.03096133e-02,\n",
       "        -1.02907578e-02, -7.12629734e-03,  1.99476327e-03,\n",
       "         7.87991192e-03, -5.53248590e-03, -3.62498732e-03,\n",
       "        -1.56144064e-03,  4.06220742e-03,  7.73472711e-03,\n",
       "        -9.35780816e-04, -2.55804555e-03,  1.63797494e-02,\n",
       "        -1.48330524e-04, -8.66822898e-03, -8.31350777e-03,\n",
       "        -8.21314286e-04,  1.28673967e-02, -1.49454195e-02,\n",
       "        -2.49375124e-03, -6.53146254e-03, -1.03493547e-02,\n",
       "        -1.59687474e-02, -6.39322586e-03,  2.16217851e-03,\n",
       "         8.73481482e-03, -8.39399267e-03,  1.16298469e-02,\n",
       "        -3.32021248e-03]], dtype=float32)>"
      ]
     },
     "execution_count": 15,
     "metadata": {},
     "output_type": "execute_result"
    }
   ],
   "source": [
    "dlrm_interaction(batch)"
   ]
  },
  {
   "cell_type": "code",
   "execution_count": 16,
   "id": "ec9bff2a-5ca2-430d-9aed-4bbf408e65ad",
   "metadata": {},
   "outputs": [],
   "source": [
    "top_mlp = mm.MLPBlock([128, 64, 32])\n",
    "dlrm_body = dlrm_interaction.connect(top_mlp)"
   ]
  },
  {
   "cell_type": "markdown",
   "id": "600b6df6-81b8-4171-b339-efd258f2fced",
   "metadata": {},
   "source": [
    "**Define the Prediction block**"
   ]
  },
  {
   "cell_type": "markdown",
   "id": "940dcd77-b9b4-44d0-bc82-72b573850673",
   "metadata": {},
   "source": [
    "At this stage, we have created the DLRM block that accepts a dictionary of categorical and continuous tensors as input. The output of this block is the interaction representation vector of shape 32. The next step is to use this hidden representation to conduct a given prediction task.\n",
    "\n",
    "We use the BinaryClassificationTask class and evaluate the performances using the AUC metric."
   ]
  },
  {
   "cell_type": "code",
   "execution_count": 17,
   "id": "b1ab00ac-2fc3-4165-8009-2d370ae217a8",
   "metadata": {},
   "outputs": [],
   "source": [
    "binary_task = mm.BinaryClassificationTask(schema)"
   ]
  },
  {
   "cell_type": "markdown",
   "id": "e6d315f8-7c5d-4959-9c3a-02ca3bed3491",
   "metadata": {},
   "source": [
    "We connect the deep DLRM interaction layer to the binary task head and the method automatically generates the Model class for us. We note that the Model class inherits from `tf.keras.Model` class."
   ]
  },
  {
   "cell_type": "code",
   "execution_count": 18,
   "id": "9bbade0a-a3e3-485a-9de2-03c44d0a9097",
   "metadata": {},
   "outputs": [],
   "source": [
    "model = mm.Model(dlrm_body, binary_task)"
   ]
  },
  {
   "cell_type": "code",
   "execution_count": 19,
   "id": "c08ff2fc-492e-4247-90cf-c0e14858ce02",
   "metadata": {},
   "outputs": [
    {
     "name": "stdout",
     "output_type": "stream",
     "text": [
      "Epoch 1/2\n",
      "735/735 [==============================] - 21s 17ms/step - loss: 0.5757 - auc: 0.7672 - regularization_loss: 0.0000e+00 - val_loss: 0.7220 - val_auc: 0.6388 - val_regularization_loss: 0.0000e+00\n",
      "Epoch 2/2\n",
      "735/735 [==============================] - 11s 14ms/step - loss: 0.4307 - auc: 0.8818 - regularization_loss: 0.0000e+00 - val_loss: 0.8016 - val_auc: 0.6311 - val_regularization_loss: 0.0000e+00\n",
      "CPU times: user 47 s, sys: 7.48 s, total: 54.5 s\n",
      "Wall time: 34.1 s\n"
     ]
    },
    {
     "data": {
      "text/plain": [
       "<keras.callbacks.History at 0x7fad775d8250>"
      ]
     },
     "execution_count": 19,
     "metadata": {},
     "output_type": "execute_result"
    }
   ],
   "source": [
    "%%time \n",
    "model.compile(optimizer='adam', run_eagerly=False, metrics=[tf.keras.metrics.AUC()])\n",
    "model.fit(train, validation_data=valid, batch_size=4096, epochs=2)"
   ]
  },
  {
   "cell_type": "markdown",
   "id": "f5e8fa86-fc75-4859-b75f-3e99d7751cc8",
   "metadata": {},
   "source": [
    "### 3.3. Customize DLRM architecture: Add Cross-Product features to DLRM Model"
   ]
  },
  {
   "cell_type": "markdown",
   "id": "2f3f1feb-1504-47e0-8c54-6883e50f6d15",
   "metadata": {},
   "source": [
    "We can synthetically form new features by multiplying (crossing) two or more sparse features. Crossing combinations of features can provide predictive abilities beyond what those features provide individually (see ref [website](https://developers.google.com/machine-learning/crash-course/feature-crosses/video-lecture#:~:text=A%20feature%20cross%20is%20a,an%20understanding%20of%20feature%20crosses)). In particular, cross-product feature transformations help the model memorize the niche/rare interactions seen in the user’s past history. Feature crossing has been used as an efficient technique in well-known DL architectures such as [Wide & Deep](https://arxiv.org/abs/1606.07792) in the Wide part. The `HashedCross` class in Merlin Models allows us to perform cross-product transformations between two or multiple sparse categorical features. By using the <i>hashing trick</i>, we can control the dimension of the resulting crossed features. Conceptually, the transformation can be thought of as: `hash(concatenation of features) % num_bins`. \n",
    "\n",
    "The purpose of this use case is to illustrate how two categorical variables can be combined to generate one cross-product feature. In more general situations, where you want to create multiple crossed features from a list of categorical variables, you can use the `HashCrossAll` class."
   ]
  },
  {
   "cell_type": "markdown",
   "id": "a0baa8a7-c951-4bbf-a871-0efc1f3ee5a7",
   "metadata": {},
   "source": [
    "Instead of re-building main blocks from scratch, at this step, we can use `DLRMBlock` instead to define the same DLRM architecture defined above."
   ]
  },
  {
   "cell_type": "code",
   "execution_count": 20,
   "id": "5fb09ce4-cccf-47bf-a87e-ff9d9cf157e2",
   "metadata": {},
   "outputs": [],
   "source": [
    "dlrm_body = mm.DLRMBlock(schema, embedding_dim=64, bottom_block=mm.MLPBlock([128,64]), top_block= mm.MLPBlock([128, 64, 32]))"
   ]
  },
  {
   "cell_type": "code",
   "execution_count": 21,
   "id": "8285b6f0-982e-483c-a741-2fa33f133716",
   "metadata": {},
   "outputs": [
    {
     "data": {
      "text/plain": [
       "<tf.Tensor: shape=(5, 32), dtype=float32, numpy=\n",
       "array([[0.        , 0.02928996, 0.0473752 , 0.06288711, 0.        ,\n",
       "        0.0638621 , 0.        , 0.02099078, 0.        , 0.00656151,\n",
       "        0.01406717, 0.00405715, 0.02685894, 0.        , 0.08501423,\n",
       "        0.        , 0.        , 0.        , 0.04040261, 0.        ,\n",
       "        0.06904767, 0.00144228, 0.        , 0.        , 0.00687732,\n",
       "        0.        , 0.024181  , 0.03958534, 0.        , 0.        ,\n",
       "        0.        , 0.        ],\n",
       "       [0.        , 0.        , 0.02827137, 0.04741701, 0.        ,\n",
       "        0.01240498, 0.00037761, 0.06874807, 0.04542917, 0.        ,\n",
       "        0.0212361 , 0.        , 0.05115933, 0.        , 0.14823578,\n",
       "        0.        , 0.        , 0.        , 0.07170902, 0.01802336,\n",
       "        0.05887214, 0.00694745, 0.02424705, 0.        , 0.        ,\n",
       "        0.04553917, 0.03927574, 0.        , 0.08305362, 0.03873212,\n",
       "        0.        , 0.        ],\n",
       "       [0.        , 0.02731217, 0.05164035, 0.09959982, 0.        ,\n",
       "        0.07022698, 0.        , 0.04056957, 0.        , 0.03415136,\n",
       "        0.00853518, 0.00286614, 0.05249799, 0.        , 0.13875659,\n",
       "        0.        , 0.        , 0.        , 0.01803401, 0.        ,\n",
       "        0.10477301, 0.0188208 , 0.        , 0.        , 0.        ,\n",
       "        0.        , 0.01477207, 0.05183046, 0.        , 0.01870842,\n",
       "        0.        , 0.        ],\n",
       "       [0.        , 0.06694078, 0.04770913, 0.06230027, 0.        ,\n",
       "        0.06163558, 0.        , 0.03133943, 0.        , 0.01458019,\n",
       "        0.01683656, 0.00883985, 0.01789494, 0.        , 0.08862974,\n",
       "        0.        , 0.        , 0.        , 0.04296421, 0.        ,\n",
       "        0.08128531, 0.01570249, 0.        , 0.        , 0.        ,\n",
       "        0.        , 0.02221729, 0.05271024, 0.        , 0.        ,\n",
       "        0.        , 0.        ],\n",
       "       [0.        , 0.0172195 , 0.0535767 , 0.05303648, 0.        ,\n",
       "        0.06223053, 0.        , 0.01804297, 0.        , 0.0080241 ,\n",
       "        0.01247285, 0.        , 0.02850666, 0.        , 0.07800937,\n",
       "        0.        , 0.        , 0.        , 0.03384147, 0.        ,\n",
       "        0.06924057, 0.00031734, 0.        , 0.        , 0.        ,\n",
       "        0.        , 0.02317066, 0.03692444, 0.        , 0.00081753,\n",
       "        0.        , 0.01091799]], dtype=float32)>"
      ]
     },
     "execution_count": 21,
     "metadata": {},
     "output_type": "execute_result"
    }
   ],
   "source": [
    "dlrm_body(batch)"
   ]
  },
  {
   "cell_type": "markdown",
   "id": "f5175d67-0634-4776-85fb-bcdf95489f4c",
   "metadata": {},
   "source": [
    "Define `cross_features` transformation block."
   ]
  },
  {
   "cell_type": "code",
   "execution_count": 22,
   "id": "a39548bc-d877-4255-855e-f462d98f632a",
   "metadata": {},
   "outputs": [],
   "source": [
    "cross_schema = schema.select_by_name(names=[\"cat_0\", \"cat_1\"])\n",
    "cross_features = mm.HashedCross(cross_schema, num_bins=100, output_mode=\"one_hot\")"
   ]
  },
  {
   "cell_type": "markdown",
   "id": "f045ddf8-e5ba-4136-ae1a-57d54a0e72dc",
   "metadata": {},
   "source": [
    "Print the tensor outputs from `cross_features` block."
   ]
  },
  {
   "cell_type": "code",
   "execution_count": 23,
   "id": "2aed13e8-9f3e-4881-8f3f-fd99b35a6006",
   "metadata": {},
   "outputs": [
    {
     "data": {
      "text/plain": [
       "{'cross_cat_0_cat_1': <tf.Tensor: shape=(5, 100), dtype=float32, numpy=\n",
       " array([[0., 0., 0., 0., 0., 0., 0., 0., 0., 0., 0., 0., 0., 0., 0., 0.,\n",
       "         0., 0., 0., 0., 0., 0., 0., 0., 0., 0., 0., 0., 0., 0., 0., 0.,\n",
       "         0., 0., 0., 0., 0., 0., 0., 0., 0., 1., 0., 0., 0., 0., 0., 0.,\n",
       "         0., 0., 0., 0., 0., 0., 0., 0., 0., 0., 0., 0., 0., 0., 0., 0.,\n",
       "         0., 0., 0., 0., 0., 0., 0., 0., 0., 0., 0., 0., 0., 0., 0., 0.,\n",
       "         0., 0., 0., 0., 0., 0., 0., 0., 0., 0., 0., 0., 0., 0., 0., 0.,\n",
       "         0., 0., 0., 0.],\n",
       "        [0., 0., 0., 0., 0., 0., 0., 0., 0., 0., 0., 0., 0., 0., 0., 0.,\n",
       "         0., 0., 0., 0., 0., 0., 0., 0., 0., 0., 0., 0., 0., 0., 0., 0.,\n",
       "         0., 0., 0., 0., 0., 0., 0., 0., 0., 0., 0., 0., 0., 0., 0., 0.,\n",
       "         0., 0., 0., 0., 0., 0., 0., 0., 0., 0., 0., 0., 0., 0., 0., 0.,\n",
       "         0., 0., 0., 0., 0., 0., 0., 0., 0., 0., 0., 0., 0., 0., 0., 0.,\n",
       "         0., 0., 0., 0., 1., 0., 0., 0., 0., 0., 0., 0., 0., 0., 0., 0.,\n",
       "         0., 0., 0., 0.],\n",
       "        [0., 0., 0., 0., 0., 0., 0., 0., 0., 0., 0., 0., 0., 0., 0., 0.,\n",
       "         0., 0., 0., 0., 0., 0., 0., 0., 0., 0., 0., 0., 0., 0., 0., 0.,\n",
       "         0., 0., 0., 0., 0., 0., 0., 0., 0., 1., 0., 0., 0., 0., 0., 0.,\n",
       "         0., 0., 0., 0., 0., 0., 0., 0., 0., 0., 0., 0., 0., 0., 0., 0.,\n",
       "         0., 0., 0., 0., 0., 0., 0., 0., 0., 0., 0., 0., 0., 0., 0., 0.,\n",
       "         0., 0., 0., 0., 0., 0., 0., 0., 0., 0., 0., 0., 0., 0., 0., 0.,\n",
       "         0., 0., 0., 0.],\n",
       "        [0., 0., 0., 0., 0., 0., 0., 0., 0., 0., 0., 0., 0., 0., 0., 0.,\n",
       "         0., 0., 0., 0., 0., 0., 0., 0., 0., 0., 0., 0., 0., 0., 0., 0.,\n",
       "         0., 0., 0., 0., 0., 0., 0., 0., 0., 1., 0., 0., 0., 0., 0., 0.,\n",
       "         0., 0., 0., 0., 0., 0., 0., 0., 0., 0., 0., 0., 0., 0., 0., 0.,\n",
       "         0., 0., 0., 0., 0., 0., 0., 0., 0., 0., 0., 0., 0., 0., 0., 0.,\n",
       "         0., 0., 0., 0., 0., 0., 0., 0., 0., 0., 0., 0., 0., 0., 0., 0.,\n",
       "         0., 0., 0., 0.],\n",
       "        [0., 0., 0., 0., 0., 0., 0., 0., 0., 0., 0., 0., 0., 0., 0., 0.,\n",
       "         0., 0., 0., 0., 0., 0., 0., 0., 0., 0., 0., 0., 0., 0., 0., 0.,\n",
       "         0., 0., 0., 0., 0., 0., 0., 0., 0., 1., 0., 0., 0., 0., 0., 0.,\n",
       "         0., 0., 0., 0., 0., 0., 0., 0., 0., 0., 0., 0., 0., 0., 0., 0.,\n",
       "         0., 0., 0., 0., 0., 0., 0., 0., 0., 0., 0., 0., 0., 0., 0., 0.,\n",
       "         0., 0., 0., 0., 0., 0., 0., 0., 0., 0., 0., 0., 0., 0., 0., 0.,\n",
       "         0., 0., 0., 0.]], dtype=float32)>}"
      ]
     },
     "execution_count": 23,
     "metadata": {},
     "output_type": "execute_result"
    }
   ],
   "source": [
    "cross_features(batch)"
   ]
  },
  {
   "cell_type": "markdown",
   "id": "4916fdd1-2326-4d98-8cfc-a2fdd4eff59f",
   "metadata": {},
   "source": [
    "To learn more about the `HashedCross` class arguments (e.g., num_bins, output_mode, etc) you can visit [here](https://github.com/NVIDIA-Merlin/models/blob/main/merlin/models/tf/core/transformations.py#L825-L846)."
   ]
  },
  {
   "cell_type": "markdown",
   "id": "fef2fe76-7223-43f1-ba1c-4647d67f276a",
   "metadata": {},
   "source": [
    "For large cardinality, it is important to set `sparse=True` for `HashedCross`, `HashedCrossAll` and `CategoryEncoding`, as it makes output sparse (otherwise this might cause OOM). But for this example is fine to keep it as the default `sparse=False`."
   ]
  },
  {
   "cell_type": "markdown",
   "id": "4e62f7c8-4915-4e49-83d7-6e8c9e4b8aea",
   "metadata": {},
   "source": [
    "We add another feature interaction representation based on the weighted sum of feature crosses, thefore, we connect the `HashedCross` transformation block with a simple single-neuron linear MLP architecture."
   ]
  },
  {
   "cell_type": "code",
   "execution_count": 24,
   "id": "fa0b1982-d047-4b8d-8ba0-ee1148d1fecf",
   "metadata": {},
   "outputs": [],
   "source": [
    "# wide part: \n",
    "\n",
    "wide_body = cross_features.connect(\n",
    "    mm.MLPBlock([1], no_activation_last_layer=True), block_name='cross_model'\n",
    ")"
   ]
  },
  {
   "cell_type": "code",
   "execution_count": 25,
   "id": "164ae640-9ecf-4dc3-8fd0-4f4c8b5505bd",
   "metadata": {},
   "outputs": [
    {
     "data": {
      "text/plain": [
       "<tf.Tensor: shape=(5, 1), dtype=float32, numpy=\n",
       "array([[-0.15635493],\n",
       "       [ 0.2237919 ],\n",
       "       [-0.15635493],\n",
       "       [-0.15635493],\n",
       "       [-0.15635493]], dtype=float32)>"
      ]
     },
     "execution_count": 25,
     "metadata": {},
     "output_type": "execute_result"
    }
   ],
   "source": [
    "wide_body(batch)"
   ]
  },
  {
   "cell_type": "markdown",
   "id": "df54aba8-fbce-4f8f-972d-4fecdc2bd187",
   "metadata": {},
   "source": [
    "Concat `wide_body` layer to `dlrm_body` layer using `ParallelBlock`."
   ]
  },
  {
   "cell_type": "code",
   "execution_count": 26,
   "id": "08fe4109-edc7-42cd-9f07-5e47a8249479",
   "metadata": {},
   "outputs": [
    {
     "data": {
      "text/plain": [
       "<tf.Tensor: shape=(5, 33), dtype=float32, numpy=\n",
       "array([[ 0.        ,  0.02928996,  0.0473752 ,  0.06288711,  0.        ,\n",
       "         0.0638621 ,  0.        ,  0.02099078,  0.        ,  0.00656151,\n",
       "         0.01406717,  0.00405715,  0.02685894,  0.        ,  0.08501423,\n",
       "         0.        ,  0.        ,  0.        ,  0.04040261,  0.        ,\n",
       "         0.06904767,  0.00144228,  0.        ,  0.        ,  0.00687732,\n",
       "         0.        ,  0.024181  ,  0.03958534,  0.        ,  0.        ,\n",
       "         0.        ,  0.        , -0.15635493],\n",
       "       [ 0.        ,  0.        ,  0.02827137,  0.04741701,  0.        ,\n",
       "         0.01240498,  0.00037761,  0.06874807,  0.04542917,  0.        ,\n",
       "         0.0212361 ,  0.        ,  0.05115933,  0.        ,  0.14823578,\n",
       "         0.        ,  0.        ,  0.        ,  0.07170902,  0.01802336,\n",
       "         0.05887214,  0.00694745,  0.02424705,  0.        ,  0.        ,\n",
       "         0.04553917,  0.03927574,  0.        ,  0.08305362,  0.03873212,\n",
       "         0.        ,  0.        ,  0.2237919 ],\n",
       "       [ 0.        ,  0.02731217,  0.05164035,  0.09959982,  0.        ,\n",
       "         0.07022698,  0.        ,  0.04056957,  0.        ,  0.03415136,\n",
       "         0.00853518,  0.00286614,  0.05249799,  0.        ,  0.13875659,\n",
       "         0.        ,  0.        ,  0.        ,  0.01803401,  0.        ,\n",
       "         0.10477301,  0.0188208 ,  0.        ,  0.        ,  0.        ,\n",
       "         0.        ,  0.01477207,  0.05183046,  0.        ,  0.01870842,\n",
       "         0.        ,  0.        , -0.15635493],\n",
       "       [ 0.        ,  0.06694078,  0.04770913,  0.06230027,  0.        ,\n",
       "         0.06163558,  0.        ,  0.03133943,  0.        ,  0.01458019,\n",
       "         0.01683656,  0.00883985,  0.01789494,  0.        ,  0.08862974,\n",
       "         0.        ,  0.        ,  0.        ,  0.04296421,  0.        ,\n",
       "         0.08128531,  0.01570249,  0.        ,  0.        ,  0.        ,\n",
       "         0.        ,  0.02221729,  0.05271024,  0.        ,  0.        ,\n",
       "         0.        ,  0.        , -0.15635493],\n",
       "       [ 0.        ,  0.0172195 ,  0.0535767 ,  0.05303648,  0.        ,\n",
       "         0.06223053,  0.        ,  0.01804297,  0.        ,  0.0080241 ,\n",
       "         0.01247285,  0.        ,  0.02850666,  0.        ,  0.07800937,\n",
       "         0.        ,  0.        ,  0.        ,  0.03384147,  0.        ,\n",
       "         0.06924057,  0.00031734,  0.        ,  0.        ,  0.        ,\n",
       "         0.        ,  0.02317066,  0.03692444,  0.        ,  0.00081753,\n",
       "         0.        ,  0.01091799, -0.15635493]], dtype=float32)>"
      ]
     },
     "execution_count": 26,
     "metadata": {},
     "output_type": "execute_result"
    }
   ],
   "source": [
    "# wide-and-dlrm\n",
    "wide_and_dlrm = mm.ParallelBlock({'wide':wide_body, \"dlrm\": dlrm_body}, aggregation=\"concat\")\n",
    "wide_and_dlrm(batch)"
   ]
  },
  {
   "cell_type": "code",
   "execution_count": 25,
   "id": "59c8b4ab-ef4a-41c1-b4f4-63a05abf15d3",
   "metadata": {},
   "outputs": [],
   "source": [
    "binary_task = mm.BinaryClassificationTask(schema)\n",
    "model = mm.Model(wide_and_dlrm, binary_task)"
   ]
  },
  {
   "cell_type": "code",
   "execution_count": 26,
   "id": "d5a5388f-36ac-4210-978f-be1b870167c6",
   "metadata": {},
   "outputs": [
    {
     "name": "stdout",
     "output_type": "stream",
     "text": [
      "Epoch 1/2\n",
      "735/735 [==============================] - 20s 20ms/step - loss: 0.5723 - auc_1: 0.7713 - regularization_loss: 0.0000e+00 - val_loss: 0.7445 - val_auc_1: 0.6391 - val_regularization_loss: 0.0000e+00\n",
      "Epoch 2/2\n",
      "735/735 [==============================] - 14s 18ms/step - loss: 0.4417 - auc_1: 0.8748 - regularization_loss: 0.0000e+00 - val_loss: 0.8070 - val_auc_1: 0.6350 - val_regularization_loss: 0.0000e+00\n",
      "CPU times: user 53 s, sys: 7.1 s, total: 1min\n",
      "Wall time: 35.1 s\n"
     ]
    },
    {
     "data": {
      "text/plain": [
       "<keras.callbacks.History at 0x7f98c1dde1c0>"
      ]
     },
     "execution_count": 26,
     "metadata": {},
     "output_type": "execute_result"
    }
   ],
   "source": [
    "%%time \n",
    "model.compile(optimizer='adam', run_eagerly=False, metrics=[tf.keras.metrics.AUC()])\n",
    "model.fit(train, validation_data=valid, batch_size=4096, epochs=2)"
   ]
  },
  {
   "cell_type": "markdown",
   "id": "7fbb593a-7630-415b-a4ca-707d4821885d",
   "metadata": {},
   "source": [
    "### 3.4. Replace DotProductInteractionBlock with CrossBlock"
   ]
  },
  {
   "cell_type": "markdown",
   "id": "b5610910-2711-47cb-bb33-bc6e3754567e",
   "metadata": {},
   "source": [
    "In this section, we will replace DotProductInteractionBlock layer with `CrossBlock` that is used in [DCN-v2](https://arxiv.org/pdf/2008.13535.pdf) architecture. CrossBlock uses `Cross` layer which creates interactions of all input features. When used inside `CrossBlock`, stacked `Cross` layers can be used to do high-order features interaction."
   ]
  },
  {
   "cell_type": "markdown",
   "id": "00c0f315-6c5b-4ea2-9338-3feafdb386ea",
   "metadata": {},
   "source": [
    "We will keep bottom layer same as we did above."
   ]
  },
  {
   "cell_type": "code",
   "execution_count": 27,
   "id": "5a909456-3b7d-4000-8cc5-73d75ce22b4e",
   "metadata": {},
   "outputs": [],
   "source": [
    "continuous_block = mm.ContinuousFeatures.from_schema(schema, tags=Tags.CONTINUOUS)\n",
    "bottom_block = continuous_block.connect(mm.MLPBlock([128,64]))"
   ]
  },
  {
   "cell_type": "code",
   "execution_count": 28,
   "id": "5fbd8642-f428-4608-82c9-24b5ae5acfa4",
   "metadata": {},
   "outputs": [
    {
     "data": {
      "text/plain": [
       "(dict_keys(['user_id', 'ts_weekday', 'ts_hour', 'product_id', 'cat_0', 'cat_1', 'cat_2', 'brand']),\n",
       " TensorShape([5, 64]))"
      ]
     },
     "execution_count": 28,
     "metadata": {},
     "output_type": "execute_result"
    }
   ],
   "source": [
    "embeddings_block = mm.Embeddings(\n",
    "    schema.select_by_tag(Tags.CATEGORICAL),\n",
    "    dim = 64\n",
    ")\n",
    "embeddings = embeddings_block(batch)\n",
    "embeddings.keys(), embeddings[\"user_id\"].shape"
   ]
  },
  {
   "cell_type": "code",
   "execution_count": 29,
   "id": "25516092-a8b1-4b6b-9831-bc6ebb7ab759",
   "metadata": {},
   "outputs": [],
   "source": [
    "dlrm_input_block = mm.ParallelBlock(\n",
    "    {\"embeddings\": embeddings_block, \"bottom_block\": bottom_block},\n",
    "    aggregation=\"concat\"\n",
    ")"
   ]
  },
  {
   "cell_type": "markdown",
   "id": "dfd25814-3c68-497a-bca4-7ea325c18dea",
   "metadata": {},
   "source": [
    "`CrossBlock` block provides a way to create high-order feature interactions by a number of stacked Cross Layers. We set the depth, which is the number of cross-layers to be stacked, to 2."
   ]
  },
  {
   "cell_type": "code",
   "execution_count": 30,
   "id": "1bfdf45e-d33e-428d-8cf7-bc14f08a0474",
   "metadata": {},
   "outputs": [
    {
     "data": {
      "text/plain": [
       "<tf.Tensor: shape=(5, 576), dtype=float32, numpy=\n",
       "array([[ 0.01346518,  0.01996166,  0.10235769, ..., -0.01322006,\n",
       "        -0.00873787, -0.03701539],\n",
       "       [ 0.13175648,  0.03475271,  0.        , ..., -0.01474485,\n",
       "        -0.00794951, -0.03636587],\n",
       "       [ 0.        ,  0.05581063,  0.10123038, ..., -0.0129318 ,\n",
       "        -0.00880974, -0.03923511],\n",
       "       [ 0.        ,  0.04674373,  0.12530845, ..., -0.0126127 ,\n",
       "        -0.00837193, -0.04131868],\n",
       "       [ 0.01239133,  0.02843624,  0.11145297, ..., -0.01299973,\n",
       "        -0.00858843, -0.03969663]], dtype=float32)>"
      ]
     },
     "execution_count": 30,
     "metadata": {},
     "output_type": "execute_result"
    }
   ],
   "source": [
    "#stacked\n",
    "cross_inter_body = dlrm_input_block.connect(mm.CrossBlock(2))\n",
    "cross_inter_body(batch)"
   ]
  },
  {
   "cell_type": "markdown",
   "id": "5e4586b0-034f-4344-ae9c-3681ee3303a0",
   "metadata": {},
   "source": [
    "Concat `cross_inter_body` layer to bottom block using ParallelBlock."
   ]
  },
  {
   "cell_type": "code",
   "execution_count": 31,
   "id": "bded3273-e725-4695-9c59-6636c99f56dd",
   "metadata": {},
   "outputs": [],
   "source": [
    "dlrm_interaction = mm.ParallelBlock(\n",
    "    {\"cross_inter_body\": cross_inter_body, \"bottom_block\": bottom_block},\n",
    "    aggregation=\"concat\"\n",
    ")                                                "
   ]
  },
  {
   "cell_type": "markdown",
   "id": "6577414f-c75a-45ba-a0ad-497671b51ddf",
   "metadata": {},
   "source": [
    "Then, we project the learned interaction using a series of dense layers, this defines the top block."
   ]
  },
  {
   "cell_type": "code",
   "execution_count": 32,
   "id": "f59d8df5-5c03-4f4c-84d4-ac61d22060f3",
   "metadata": {},
   "outputs": [],
   "source": [
    "deep_dlrm_interaction = dlrm_interaction.connect(mm.MLPBlock([128, 64, 32]))"
   ]
  },
  {
   "cell_type": "code",
   "execution_count": 33,
   "id": "267c9422-4f32-4b8c-bdaf-ffb8a36ca775",
   "metadata": {},
   "outputs": [],
   "source": [
    "binary_task = mm.BinaryClassificationTask(schema)"
   ]
  },
  {
   "cell_type": "markdown",
   "id": "62dfa5cf-c504-40bf-91a6-610422a7c9a2",
   "metadata": {},
   "source": [
    "We connect the deep DLRM interaction layer to the binary task head, and automatically generate the Model class."
   ]
  },
  {
   "cell_type": "code",
   "execution_count": 34,
   "id": "bff8aa41-cee8-40f3-b494-7bc31efce1d8",
   "metadata": {},
   "outputs": [],
   "source": [
    "model = mm.Model(deep_dlrm_interaction, binary_task)"
   ]
  },
  {
   "cell_type": "code",
   "execution_count": 35,
   "id": "ff6cf67b-72d8-4402-80cc-c169efbe85e3",
   "metadata": {},
   "outputs": [
    {
     "name": "stdout",
     "output_type": "stream",
     "text": [
      "Epoch 1/2\n",
      "735/735 [==============================] - 18s 19ms/step - loss: 0.5677 - auc_2: 0.7759 - regularization_loss: 0.0000e+00 - val_loss: 0.7465 - val_auc_2: 0.6404 - val_regularization_loss: 0.0000e+00\n",
      "Epoch 2/2\n",
      "735/735 [==============================] - 12s 16ms/step - loss: 0.4573 - auc_2: 0.8644 - regularization_loss: 0.0000e+00 - val_loss: 0.8592 - val_auc_2: 0.6394 - val_regularization_loss: 0.0000e+00\n",
      "CPU times: user 46.4 s, sys: 6.91 s, total: 53.3 s\n",
      "Wall time: 32.2 s\n"
     ]
    },
    {
     "data": {
      "text/plain": [
       "<keras.callbacks.History at 0x7f98c1236a00>"
      ]
     },
     "execution_count": 35,
     "metadata": {},
     "output_type": "execute_result"
    }
   ],
   "source": [
    "%%time \n",
    "model.compile(optimizer='adam', run_eagerly=False, metrics=[tf.keras.metrics.AUC()])\n",
    "model.fit(train, validation_data=valid, batch_size=4096, epochs=2)"
   ]
  },
  {
   "cell_type": "markdown",
   "id": "e3c502f0-1c0c-4e58-9801-a9b296dba374",
   "metadata": {},
   "source": [
    "### Summary "
   ]
  },
  {
   "cell_type": "markdown",
   "id": "44e94162-fd41-477b-ab10-f2e603dc6bd2",
   "metadata": {},
   "source": [
    "In this hands-on lab we learned how to\n",
    "\n",
    "- use a subset of pre-existing blocks to create a DLRM model\n",
    "- add cross-product transformation block to the DLRM Model\n",
    "- replace DotProductInteractionBlock with CrossBlock"
   ]
  },
  {
   "cell_type": "markdown",
   "id": "218e00ae-59e1-4934-ae69-dd05d13a246c",
   "metadata": {},
   "source": [
    "Please execute the cell below to shut down the kernel before moving on to the next notebook, `04-Building-multi-stage-RecSys-with-Merlin-Systems`."
   ]
  },
  {
   "cell_type": "code",
   "execution_count": 36,
   "id": "e4e28231-85dd-4f17-8243-75a4d9c94b1e",
   "metadata": {},
   "outputs": [
    {
     "data": {
      "text/plain": [
       "{'status': 'ok', 'restart': True}"
      ]
     },
     "execution_count": 36,
     "metadata": {},
     "output_type": "execute_result"
    }
   ],
   "source": [
    "import IPython\n",
    "app = IPython.Application.instance()\n",
    "app.kernel.do_shutdown(True)"
   ]
  }
 ],
 "metadata": {
  "kernelspec": {
   "display_name": "Python 3 (ipykernel)",
   "language": "python",
   "name": "python3"
  },
  "language_info": {
   "codemirror_mode": {
    "name": "ipython",
    "version": 3
   },
   "file_extension": ".py",
   "mimetype": "text/x-python",
   "name": "python",
   "nbconvert_exporter": "python",
   "pygments_lexer": "ipython3",
   "version": "3.8.10"
  }
 },
 "nbformat": 4,
 "nbformat_minor": 5
}
