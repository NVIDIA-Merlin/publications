{
 "cells": [
  {
   "cell_type": "code",
   "execution_count": 1,
   "id": "f62c3c8c-b14e-4933-8b70-fc5a833f2e5e",
   "metadata": {},
   "outputs": [],
   "source": [
    "# Copyright 2022 NVIDIA Corporation. All Rights Reserved.\n",
    "#\n",
    "# Licensed under the Apache License, Version 2.0 (the \"License\");\n",
    "# you may not use this file except in compliance with the License.\n",
    "# You may obtain a copy of the License at\n",
    "#\n",
    "#     http://www.apache.org/licenses/LICENSE-2.0\n",
    "#\n",
    "# Unless required by applicable law or agreed to in writing, software\n",
    "# distributed under the License is distributed on an \"AS IS\" BASIS,\n",
    "# WITHOUT WARRANTIES OR CONDITIONS OF ANY KIND, either express or implied.\n",
    "# See the License for the specific language governing permissions and\n",
    "# limitations under the License.\n",
    "# ====="
   ]
  },
  {
   "cell_type": "markdown",
   "id": "6b4cca29-4c9e-411d-8aa8-dd10b7d7aa00",
   "metadata": {},
   "source": [
    "## 3. Customize and Extend Merlin Models"
   ]
  },
  {
   "cell_type": "markdown",
   "id": "ebc9c8c6-9fab-435f-958b-923b0f3d6ff4",
   "metadata": {},
   "source": [
    "Merlin Models provides common and state-of-the-art RecSys architectures in a high-level API as well as all the required low-level building blocks (e.g., input blocks, MLP layers, prediction tasks, loss functions, etc.) or you to create your own architecture. \n",
    "\n",
    "In this lab, we define DLRM model architecture from scratch and customize it with Merlin Models."
   ]
  },
  {
   "cell_type": "markdown",
   "id": "4bbe7611-8697-487d-983c-a8ec0187f773",
   "metadata": {},
   "source": [
    "**Learning Objectives**\n",
    "\n",
    "- Understand the building blocks of Merlin Models\n",
    "- Define DLRM model architecture from scratch and customize it with Merlin Models: \n",
    "    - add HashedCross features to DLRM Model\n",
    "    - replace DotProductInteractionBlock with CrossBlock"
   ]
  },
  {
   "cell_type": "markdown",
   "id": "3b54d3c6-fe6c-4a41-ab5e-c80c92efd91d",
   "metadata": {},
   "source": [
    "**Import Required Libraries**"
   ]
  },
  {
   "cell_type": "code",
   "execution_count": 2,
   "id": "1423d7a5-1ec7-4c9b-a65d-4ac6216f9817",
   "metadata": {},
   "outputs": [
    {
     "name": "stderr",
     "output_type": "stream",
     "text": [
      "2022-09-02 19:45:17.346126: I tensorflow/core/platform/cpu_feature_guard.cc:194] This TensorFlow binary is optimized with oneAPI Deep Neural Network Library (oneDNN) to use the following CPU instructions in performance-critical operations:  SSE3 SSE4.1 SSE4.2 AVX\n",
      "To enable them in other operations, rebuild TensorFlow with the appropriate compiler flags.\n",
      "2022-09-02 19:45:24.353773: I tensorflow/core/common_runtime/gpu/gpu_device.cc:1532] Created device /job:localhost/replica:0/task:0/device:GPU:0 with 8080 MB memory:  -> device: 0, name: Tesla V100-SXM2-16GB-N, pci bus id: 0000:06:00.0, compute capability: 7.0\n"
     ]
    }
   ],
   "source": [
    "import os\n",
    "\n",
    "import glob\n",
    "import cudf \n",
    "import pandas as pd\n",
    "import numpy as np\n",
    "import nvtabular as nvt\n",
    "from nvtabular.ops import *\n",
    "import gc\n",
    "\n",
    "from merlin.schema.tags import Tags\n",
    "import merlin.models.tf as mm\n",
    "from merlin.io.dataset import Dataset\n",
    "\n",
    "import tensorflow as tf"
   ]
  },
  {
   "cell_type": "code",
   "execution_count": 3,
   "id": "a85c3587-4c2f-41b8-bf64-a15a6fe73c48",
   "metadata": {},
   "outputs": [],
   "source": [
    "seed = 42\n",
    "tf.random.set_seed(seed)\n",
    "np.random.seed(seed)"
   ]
  },
  {
   "cell_type": "markdown",
   "id": "83e50199-066b-4475-8a9e-4ee0cc230b1b",
   "metadata": {},
   "source": [
    "Define data paths."
   ]
  },
  {
   "cell_type": "code",
   "execution_count": 4,
   "id": "8efaea78-8cc2-4483-a200-21fbb88f1125",
   "metadata": {},
   "outputs": [],
   "source": [
    "data_path = '/workspace/data/ecom/'\n",
    "output_path = os.path.join(data_path,'processed_nvt')"
   ]
  },
  {
   "cell_type": "markdown",
   "id": "372a3a0c-ba22-4efe-b32b-58b3833cfabd",
   "metadata": {},
   "source": [
    "Read processed parquet files as Dataset objects."
   ]
  },
  {
   "cell_type": "code",
   "execution_count": 5,
   "id": "b1a8f783-91e9-4890-801b-46adfe504d6c",
   "metadata": {},
   "outputs": [
    {
     "name": "stderr",
     "output_type": "stream",
     "text": [
      "/usr/local/lib/python3.8/dist-packages/cudf/core/frame.py:384: UserWarning: The deep parameter is ignored and is only included for pandas compatibility.\n",
      "  warnings.warn(\n"
     ]
    }
   ],
   "source": [
    "train = Dataset(os.path.join(output_path, \"train\", \"*.parquet\"), part_size=\"500MB\")\n",
    "valid = Dataset(os.path.join(output_path, \"valid\", \"*.parquet\"), part_size=\"500MB\")\n",
    "\n",
    "# define schema object\n",
    "schema = train.schema.without(['event_time_ts', 'user_id_raw', 'product_id_raw'])"
   ]
  },
  {
   "cell_type": "code",
   "execution_count": 6,
   "id": "68f54857-5c5e-4720-aa4b-dff9f81ef3a4",
   "metadata": {},
   "outputs": [
    {
     "data": {
      "text/plain": [
       "'target'"
      ]
     },
     "execution_count": 6,
     "metadata": {},
     "output_type": "execute_result"
    }
   ],
   "source": [
    "target_column = schema.select_by_tag(Tags.TARGET).column_names[0]\n",
    "target_column"
   ]
  },
  {
   "cell_type": "code",
   "execution_count": 7,
   "id": "ac158690-458b-4030-a6b7-e98842a7baac",
   "metadata": {},
   "outputs": [
    {
     "data": {
      "text/html": [
       "<div>\n",
       "<style scoped>\n",
       "    .dataframe tbody tr th:only-of-type {\n",
       "        vertical-align: middle;\n",
       "    }\n",
       "\n",
       "    .dataframe tbody tr th {\n",
       "        vertical-align: top;\n",
       "    }\n",
       "\n",
       "    .dataframe thead th {\n",
       "        text-align: right;\n",
       "    }\n",
       "</style>\n",
       "<table border=\"1\" class=\"dataframe\">\n",
       "  <thead>\n",
       "    <tr style=\"text-align: right;\">\n",
       "      <th></th>\n",
       "      <th>name</th>\n",
       "      <th>tags</th>\n",
       "      <th>dtype</th>\n",
       "      <th>is_list</th>\n",
       "      <th>is_ragged</th>\n",
       "      <th>properties.num_buckets</th>\n",
       "      <th>properties.freq_threshold</th>\n",
       "      <th>properties.max_size</th>\n",
       "      <th>properties.start_index</th>\n",
       "      <th>properties.cat_path</th>\n",
       "      <th>properties.embedding_sizes.cardinality</th>\n",
       "      <th>properties.embedding_sizes.dimension</th>\n",
       "      <th>properties.domain.min</th>\n",
       "      <th>properties.domain.max</th>\n",
       "    </tr>\n",
       "  </thead>\n",
       "  <tbody>\n",
       "    <tr>\n",
       "      <th>0</th>\n",
       "      <td>user_id</td>\n",
       "      <td>(Tags.USER_ID, Tags.CATEGORICAL, Tags.USER)</td>\n",
       "      <td>int32</td>\n",
       "      <td>False</td>\n",
       "      <td>False</td>\n",
       "      <td>NaN</td>\n",
       "      <td>0.0</td>\n",
       "      <td>0.0</td>\n",
       "      <td>0.0</td>\n",
       "      <td>.//categories/unique.user_id.parquet</td>\n",
       "      <td>351050.0</td>\n",
       "      <td>512.0</td>\n",
       "      <td>0.0</td>\n",
       "      <td>351049.0</td>\n",
       "    </tr>\n",
       "    <tr>\n",
       "      <th>1</th>\n",
       "      <td>ts_weekday</td>\n",
       "      <td>(Tags.CATEGORICAL, Tags.USER)</td>\n",
       "      <td>int32</td>\n",
       "      <td>False</td>\n",
       "      <td>False</td>\n",
       "      <td>NaN</td>\n",
       "      <td>0.0</td>\n",
       "      <td>0.0</td>\n",
       "      <td>0.0</td>\n",
       "      <td>.//categories/unique.ts_weekday.parquet</td>\n",
       "      <td>8.0</td>\n",
       "      <td>16.0</td>\n",
       "      <td>0.0</td>\n",
       "      <td>7.0</td>\n",
       "    </tr>\n",
       "    <tr>\n",
       "      <th>2</th>\n",
       "      <td>ts_hour</td>\n",
       "      <td>(Tags.CATEGORICAL, Tags.USER)</td>\n",
       "      <td>int32</td>\n",
       "      <td>False</td>\n",
       "      <td>False</td>\n",
       "      <td>NaN</td>\n",
       "      <td>0.0</td>\n",
       "      <td>0.0</td>\n",
       "      <td>0.0</td>\n",
       "      <td>.//categories/unique.ts_hour.parquet</td>\n",
       "      <td>25.0</td>\n",
       "      <td>16.0</td>\n",
       "      <td>0.0</td>\n",
       "      <td>24.0</td>\n",
       "    </tr>\n",
       "    <tr>\n",
       "      <th>3</th>\n",
       "      <td>product_id</td>\n",
       "      <td>(Tags.ITEM_ID, Tags.ITEM, Tags.CATEGORICAL)</td>\n",
       "      <td>int32</td>\n",
       "      <td>False</td>\n",
       "      <td>False</td>\n",
       "      <td>NaN</td>\n",
       "      <td>0.0</td>\n",
       "      <td>0.0</td>\n",
       "      <td>0.0</td>\n",
       "      <td>.//categories/unique.product_id.parquet</td>\n",
       "      <td>51425.0</td>\n",
       "      <td>512.0</td>\n",
       "      <td>0.0</td>\n",
       "      <td>51424.0</td>\n",
       "    </tr>\n",
       "    <tr>\n",
       "      <th>4</th>\n",
       "      <td>cat_0</td>\n",
       "      <td>(Tags.ITEM, Tags.CATEGORICAL)</td>\n",
       "      <td>int32</td>\n",
       "      <td>False</td>\n",
       "      <td>False</td>\n",
       "      <td>NaN</td>\n",
       "      <td>0.0</td>\n",
       "      <td>0.0</td>\n",
       "      <td>0.0</td>\n",
       "      <td>.//categories/unique.cat_0.parquet</td>\n",
       "      <td>14.0</td>\n",
       "      <td>16.0</td>\n",
       "      <td>0.0</td>\n",
       "      <td>13.0</td>\n",
       "    </tr>\n",
       "    <tr>\n",
       "      <th>5</th>\n",
       "      <td>cat_1</td>\n",
       "      <td>(Tags.ITEM, Tags.CATEGORICAL)</td>\n",
       "      <td>int32</td>\n",
       "      <td>False</td>\n",
       "      <td>False</td>\n",
       "      <td>NaN</td>\n",
       "      <td>0.0</td>\n",
       "      <td>0.0</td>\n",
       "      <td>0.0</td>\n",
       "      <td>.//categories/unique.cat_1.parquet</td>\n",
       "      <td>61.0</td>\n",
       "      <td>16.0</td>\n",
       "      <td>0.0</td>\n",
       "      <td>60.0</td>\n",
       "    </tr>\n",
       "    <tr>\n",
       "      <th>6</th>\n",
       "      <td>cat_2</td>\n",
       "      <td>(Tags.ITEM, Tags.CATEGORICAL)</td>\n",
       "      <td>int32</td>\n",
       "      <td>False</td>\n",
       "      <td>False</td>\n",
       "      <td>NaN</td>\n",
       "      <td>0.0</td>\n",
       "      <td>0.0</td>\n",
       "      <td>0.0</td>\n",
       "      <td>.//categories/unique.cat_2.parquet</td>\n",
       "      <td>90.0</td>\n",
       "      <td>20.0</td>\n",
       "      <td>0.0</td>\n",
       "      <td>89.0</td>\n",
       "    </tr>\n",
       "    <tr>\n",
       "      <th>7</th>\n",
       "      <td>brand</td>\n",
       "      <td>(Tags.ITEM, Tags.CATEGORICAL)</td>\n",
       "      <td>int32</td>\n",
       "      <td>False</td>\n",
       "      <td>False</td>\n",
       "      <td>NaN</td>\n",
       "      <td>0.0</td>\n",
       "      <td>0.0</td>\n",
       "      <td>0.0</td>\n",
       "      <td>.//categories/unique.brand.parquet</td>\n",
       "      <td>2654.0</td>\n",
       "      <td>132.0</td>\n",
       "      <td>0.0</td>\n",
       "      <td>2653.0</td>\n",
       "    </tr>\n",
       "    <tr>\n",
       "      <th>8</th>\n",
       "      <td>price</td>\n",
       "      <td>(Tags.ITEM, Tags.CONTINUOUS)</td>\n",
       "      <td>float32</td>\n",
       "      <td>False</td>\n",
       "      <td>False</td>\n",
       "      <td>NaN</td>\n",
       "      <td>NaN</td>\n",
       "      <td>NaN</td>\n",
       "      <td>NaN</td>\n",
       "      <td>NaN</td>\n",
       "      <td>NaN</td>\n",
       "      <td>NaN</td>\n",
       "      <td>NaN</td>\n",
       "      <td>NaN</td>\n",
       "    </tr>\n",
       "    <tr>\n",
       "      <th>9</th>\n",
       "      <td>relative_price</td>\n",
       "      <td>(Tags.ITEM, Tags.CONTINUOUS)</td>\n",
       "      <td>float32</td>\n",
       "      <td>False</td>\n",
       "      <td>False</td>\n",
       "      <td>NaN</td>\n",
       "      <td>NaN</td>\n",
       "      <td>NaN</td>\n",
       "      <td>NaN</td>\n",
       "      <td>NaN</td>\n",
       "      <td>NaN</td>\n",
       "      <td>NaN</td>\n",
       "      <td>NaN</td>\n",
       "      <td>NaN</td>\n",
       "    </tr>\n",
       "    <tr>\n",
       "      <th>10</th>\n",
       "      <td>TE_user_id_target</td>\n",
       "      <td>(Tags.ITEM, Tags.CONTINUOUS)</td>\n",
       "      <td>float32</td>\n",
       "      <td>False</td>\n",
       "      <td>False</td>\n",
       "      <td>NaN</td>\n",
       "      <td>NaN</td>\n",
       "      <td>NaN</td>\n",
       "      <td>NaN</td>\n",
       "      <td>NaN</td>\n",
       "      <td>NaN</td>\n",
       "      <td>NaN</td>\n",
       "      <td>NaN</td>\n",
       "      <td>NaN</td>\n",
       "    </tr>\n",
       "    <tr>\n",
       "      <th>11</th>\n",
       "      <td>TE_brand_target</td>\n",
       "      <td>(Tags.ITEM, Tags.CONTINUOUS)</td>\n",
       "      <td>float32</td>\n",
       "      <td>False</td>\n",
       "      <td>False</td>\n",
       "      <td>NaN</td>\n",
       "      <td>NaN</td>\n",
       "      <td>NaN</td>\n",
       "      <td>NaN</td>\n",
       "      <td>NaN</td>\n",
       "      <td>NaN</td>\n",
       "      <td>NaN</td>\n",
       "      <td>NaN</td>\n",
       "      <td>NaN</td>\n",
       "    </tr>\n",
       "    <tr>\n",
       "      <th>12</th>\n",
       "      <td>TE_cat_1_target</td>\n",
       "      <td>(Tags.ITEM, Tags.CONTINUOUS)</td>\n",
       "      <td>float32</td>\n",
       "      <td>False</td>\n",
       "      <td>False</td>\n",
       "      <td>NaN</td>\n",
       "      <td>NaN</td>\n",
       "      <td>NaN</td>\n",
       "      <td>NaN</td>\n",
       "      <td>NaN</td>\n",
       "      <td>NaN</td>\n",
       "      <td>NaN</td>\n",
       "      <td>NaN</td>\n",
       "      <td>NaN</td>\n",
       "    </tr>\n",
       "    <tr>\n",
       "      <th>13</th>\n",
       "      <td>TE_cat_2_target</td>\n",
       "      <td>(Tags.ITEM, Tags.CONTINUOUS)</td>\n",
       "      <td>float32</td>\n",
       "      <td>False</td>\n",
       "      <td>False</td>\n",
       "      <td>NaN</td>\n",
       "      <td>NaN</td>\n",
       "      <td>NaN</td>\n",
       "      <td>NaN</td>\n",
       "      <td>NaN</td>\n",
       "      <td>NaN</td>\n",
       "      <td>NaN</td>\n",
       "      <td>NaN</td>\n",
       "      <td>NaN</td>\n",
       "    </tr>\n",
       "    <tr>\n",
       "      <th>14</th>\n",
       "      <td>target</td>\n",
       "      <td>(Tags.BINARY_CLASSIFICATION, Tags.TARGET)</td>\n",
       "      <td>int32</td>\n",
       "      <td>False</td>\n",
       "      <td>False</td>\n",
       "      <td>NaN</td>\n",
       "      <td>NaN</td>\n",
       "      <td>NaN</td>\n",
       "      <td>NaN</td>\n",
       "      <td>NaN</td>\n",
       "      <td>NaN</td>\n",
       "      <td>NaN</td>\n",
       "      <td>NaN</td>\n",
       "      <td>NaN</td>\n",
       "    </tr>\n",
       "  </tbody>\n",
       "</table>\n",
       "</div>"
      ],
      "text/plain": [
       "[{'name': 'user_id', 'tags': {<Tags.USER_ID: 'user_id'>, <Tags.CATEGORICAL: 'categorical'>, <Tags.USER: 'user'>}, 'properties': {'num_buckets': None, 'freq_threshold': 0.0, 'max_size': 0.0, 'start_index': 0.0, 'cat_path': './/categories/unique.user_id.parquet', 'embedding_sizes': {'cardinality': 351050.0, 'dimension': 512.0}, 'domain': {'min': 0, 'max': 351049}}, 'dtype': dtype('int32'), 'is_list': False, 'is_ragged': False}, {'name': 'ts_weekday', 'tags': {<Tags.CATEGORICAL: 'categorical'>, <Tags.USER: 'user'>}, 'properties': {'num_buckets': None, 'freq_threshold': 0.0, 'max_size': 0.0, 'start_index': 0.0, 'cat_path': './/categories/unique.ts_weekday.parquet', 'embedding_sizes': {'cardinality': 8.0, 'dimension': 16.0}, 'domain': {'min': 0, 'max': 7}}, 'dtype': dtype('int32'), 'is_list': False, 'is_ragged': False}, {'name': 'ts_hour', 'tags': {<Tags.CATEGORICAL: 'categorical'>, <Tags.USER: 'user'>}, 'properties': {'num_buckets': None, 'freq_threshold': 0.0, 'max_size': 0.0, 'start_index': 0.0, 'cat_path': './/categories/unique.ts_hour.parquet', 'embedding_sizes': {'cardinality': 25.0, 'dimension': 16.0}, 'domain': {'min': 0, 'max': 24}}, 'dtype': dtype('int32'), 'is_list': False, 'is_ragged': False}, {'name': 'product_id', 'tags': {<Tags.ITEM_ID: 'item_id'>, <Tags.ITEM: 'item'>, <Tags.CATEGORICAL: 'categorical'>}, 'properties': {'num_buckets': None, 'freq_threshold': 0.0, 'max_size': 0.0, 'start_index': 0.0, 'cat_path': './/categories/unique.product_id.parquet', 'embedding_sizes': {'cardinality': 51425.0, 'dimension': 512.0}, 'domain': {'min': 0, 'max': 51424}}, 'dtype': dtype('int32'), 'is_list': False, 'is_ragged': False}, {'name': 'cat_0', 'tags': {<Tags.ITEM: 'item'>, <Tags.CATEGORICAL: 'categorical'>}, 'properties': {'num_buckets': None, 'freq_threshold': 0.0, 'max_size': 0.0, 'start_index': 0.0, 'cat_path': './/categories/unique.cat_0.parquet', 'embedding_sizes': {'cardinality': 14.0, 'dimension': 16.0}, 'domain': {'min': 0, 'max': 13}}, 'dtype': dtype('int32'), 'is_list': False, 'is_ragged': False}, {'name': 'cat_1', 'tags': {<Tags.ITEM: 'item'>, <Tags.CATEGORICAL: 'categorical'>}, 'properties': {'num_buckets': None, 'freq_threshold': 0.0, 'max_size': 0.0, 'start_index': 0.0, 'cat_path': './/categories/unique.cat_1.parquet', 'embedding_sizes': {'cardinality': 61.0, 'dimension': 16.0}, 'domain': {'min': 0, 'max': 60}}, 'dtype': dtype('int32'), 'is_list': False, 'is_ragged': False}, {'name': 'cat_2', 'tags': {<Tags.ITEM: 'item'>, <Tags.CATEGORICAL: 'categorical'>}, 'properties': {'num_buckets': None, 'freq_threshold': 0.0, 'max_size': 0.0, 'start_index': 0.0, 'cat_path': './/categories/unique.cat_2.parquet', 'embedding_sizes': {'cardinality': 90.0, 'dimension': 20.0}, 'domain': {'min': 0, 'max': 89}}, 'dtype': dtype('int32'), 'is_list': False, 'is_ragged': False}, {'name': 'brand', 'tags': {<Tags.ITEM: 'item'>, <Tags.CATEGORICAL: 'categorical'>}, 'properties': {'num_buckets': None, 'freq_threshold': 0.0, 'max_size': 0.0, 'start_index': 0.0, 'cat_path': './/categories/unique.brand.parquet', 'embedding_sizes': {'cardinality': 2654.0, 'dimension': 132.0}, 'domain': {'min': 0, 'max': 2653}}, 'dtype': dtype('int32'), 'is_list': False, 'is_ragged': False}, {'name': 'price', 'tags': {<Tags.ITEM: 'item'>, <Tags.CONTINUOUS: 'continuous'>}, 'properties': {}, 'dtype': dtype('float32'), 'is_list': False, 'is_ragged': False}, {'name': 'relative_price', 'tags': {<Tags.ITEM: 'item'>, <Tags.CONTINUOUS: 'continuous'>}, 'properties': {}, 'dtype': dtype('float32'), 'is_list': False, 'is_ragged': False}, {'name': 'TE_user_id_target', 'tags': {<Tags.ITEM: 'item'>, <Tags.CONTINUOUS: 'continuous'>}, 'properties': {}, 'dtype': dtype('float32'), 'is_list': False, 'is_ragged': False}, {'name': 'TE_brand_target', 'tags': {<Tags.ITEM: 'item'>, <Tags.CONTINUOUS: 'continuous'>}, 'properties': {}, 'dtype': dtype('float32'), 'is_list': False, 'is_ragged': False}, {'name': 'TE_cat_1_target', 'tags': {<Tags.ITEM: 'item'>, <Tags.CONTINUOUS: 'continuous'>}, 'properties': {}, 'dtype': dtype('float32'), 'is_list': False, 'is_ragged': False}, {'name': 'TE_cat_2_target', 'tags': {<Tags.ITEM: 'item'>, <Tags.CONTINUOUS: 'continuous'>}, 'properties': {}, 'dtype': dtype('float32'), 'is_list': False, 'is_ragged': False}, {'name': 'target', 'tags': {<Tags.BINARY_CLASSIFICATION: 'binary_classification'>, <Tags.TARGET: 'target'>}, 'properties': {}, 'dtype': dtype('int32'), 'is_list': False, 'is_ragged': False}]"
      ]
     },
     "execution_count": 7,
     "metadata": {},
     "output_type": "execute_result"
    }
   ],
   "source": [
    "schema"
   ]
  },
  {
   "cell_type": "markdown",
   "id": "68cb8a3b-e60e-4815-9d72-c7d0e6c6ca6f",
   "metadata": {},
   "source": [
    "## 3.1. Introduction to Merlin-models core building blocks"
   ]
  },
  {
   "cell_type": "markdown",
   "id": "e3798197-6498-4f13-bc11-e85438e6909e",
   "metadata": {},
   "source": [
    "Let's explain the functions and blocks that we use to build our DLRM model from scratch. The `Block` is the core abstraction in Merlin Models and is the class from which all blocks inherit. The class extends the `tf.keras.layers.Layer` base class and implements a number of properties that simplify the creation of custom blocks and models. These properties include the Schema object for determining the embedding dimensions, input shapes, and output shapes. Additionally, the Block has a ModelContext instance to store and retrieve public variables and share them with other blocks in the same model as additional meta-data."
   ]
  },
  {
   "cell_type": "markdown",
   "id": "8ef933f6-6d90-4b28-92c3-e50f67a4f6dd",
   "metadata": {},
   "source": [
    "**Features Blocks** <br>\n",
    "\n",
    "`Embeddings:` Creates a ParallelBlock with an EmbeddingTable for each categorical feature in the schema. <br>\n",
    "`ContinuousFeatures:` Input block for continuous features."
   ]
  },
  {
   "cell_type": "markdown",
   "id": "28bbe8bf-43c5-4cc4-aa48-032eb51bdb3f",
   "metadata": {},
   "source": [
    "**Connects Methods** <br>\n",
    "The base class `Block` implements different connects methods that control how to link a given block to other blocks:\n",
    "\n",
    "- `connect:` Connect the block to other blocks sequentially. The output is a tensor returned by the last block.\n",
    "- `connect_branch:` Link the block to other blocks in parallel. The output is a dictionary containing the output tensor of each block.\n",
    "- `connect_with_shortcut:` Connect the block to other blocks sequentially and apply a skip connection with the block's output.\n",
    "- `connect_with_residual:` Connect the block to other blocks sequentially and apply a residual sum with the block's output."
   ]
  },
  {
   "cell_type": "markdown",
   "id": "ed5820ac-184c-4537-8d54-e29fb46f8855",
   "metadata": {},
   "source": [
    "### 3.2. Build a custom DLRM model"
   ]
  },
  {
   "cell_type": "markdown",
   "id": "e38bcf17-ca8f-49d2-ada0-fd446f61ce50",
   "metadata": {},
   "source": [
    "Let's  convert the first five rows of the valid dataset to a batch of input tensors, so that we can check out the outputs from each block below."
   ]
  },
  {
   "cell_type": "code",
   "execution_count": 8,
   "id": "599f2326-d921-4085-886c-39b0e190fedc",
   "metadata": {},
   "outputs": [],
   "source": [
    "batch = mm.sample_batch(valid, batch_size=5, shuffle=False, include_targets=False)"
   ]
  },
  {
   "cell_type": "markdown",
   "id": "4efbdfc1-ea3b-4e48-8f4b-d4c0353f2c9a",
   "metadata": {},
   "source": [
    "We define the continuous layer based on the schema."
   ]
  },
  {
   "cell_type": "code",
   "execution_count": 28,
   "id": "8e00940a-ea06-4cc5-8903-eec4dc632da8",
   "metadata": {},
   "outputs": [],
   "source": [
    "continuous_block = mm.ContinuousFeatures.from_schema(schema, tags=Tags.CONTINUOUS)"
   ]
  },
  {
   "cell_type": "markdown",
   "id": "8c78e389-f55d-4eba-82db-97ce12a93df2",
   "metadata": {},
   "source": [
    "We connect the continuous block to an `MLPBlock` to project them into the same dimensionality as the embedding width of categorical features."
   ]
  },
  {
   "cell_type": "code",
   "execution_count": 29,
   "id": "47d2b697-7225-40c8-926a-057b4d350e1f",
   "metadata": {},
   "outputs": [
    {
     "data": {
      "text/plain": [
       "TensorShape([5, 64])"
      ]
     },
     "execution_count": 29,
     "metadata": {},
     "output_type": "execute_result"
    }
   ],
   "source": [
    "bottom_block = continuous_block.connect(mm.MLPBlock([128,64]))\n",
    "bottom_block(batch).shape"
   ]
  },
  {
   "cell_type": "markdown",
   "id": "ea9c77c0-b8cd-4a07-a602-45b3dfc4f00d",
   "metadata": {},
   "source": [
    "We define the categorical embedding block based on the schema."
   ]
  },
  {
   "cell_type": "code",
   "execution_count": 30,
   "id": "ab7f6ef7-c516-458f-bf9c-11ceb76ea72a",
   "metadata": {},
   "outputs": [],
   "source": [
    "from merlin.models.utils.schema_utils import infer_embedding_dim\n",
    "\n",
    "embeddings_block = mm.Embeddings(\n",
    "    schema.select_by_tag(Tags.CATEGORICAL),\n",
    "    dim = 64\n",
    ")"
   ]
  },
  {
   "cell_type": "markdown",
   "id": "0ef7931e-86f4-4221-9b94-542fc85e4c7d",
   "metadata": {},
   "source": [
    "We display the output tensor of the categorical embedding block using the data from the first batch. We can see the embeddings tensors of categorical features with a default dimension of 64."
   ]
  },
  {
   "cell_type": "code",
   "execution_count": 31,
   "id": "9a8ae0c7-df6a-46e1-9a09-c9dc0586513b",
   "metadata": {},
   "outputs": [
    {
     "data": {
      "text/plain": [
       "(dict_keys(['user_id', 'ts_weekday', 'ts_hour', 'product_id', 'cat_0', 'cat_1', 'cat_2', 'brand']),\n",
       " TensorShape([5, 64]))"
      ]
     },
     "execution_count": 31,
     "metadata": {},
     "output_type": "execute_result"
    }
   ],
   "source": [
    "embeddings = embeddings_block(batch)\n",
    "embeddings.keys(), embeddings[\"user_id\"].shape"
   ]
  },
  {
   "cell_type": "markdown",
   "id": "83549e41-bc35-4f54-9d47-ac83d6b3d1c7",
   "metadata": {},
   "source": [
    "Let's store the continuous and categorical representations in a single dictionary using a ParallelBlock instance."
   ]
  },
  {
   "cell_type": "code",
   "execution_count": 32,
   "id": "1eb9c543-1898-46bb-9239-46f78f80ef80",
   "metadata": {},
   "outputs": [],
   "source": [
    "dlrm_input_block = mm.ParallelBlock(\n",
    "    {\"embeddings\": embeddings_block, \"bottom_block\": bottom_block}\n",
    ")"
   ]
  },
  {
   "cell_type": "markdown",
   "id": "b539fb75-0124-4b57-b0cd-593f76de462c",
   "metadata": {},
   "source": [
    "By looking at the output, we can see that the ParallelBlock class applies embedding and continuous blocks, in parallel, to the same input batch. Additionally, it merges the resulting tensors into one dictionary."
   ]
  },
  {
   "cell_type": "code",
   "execution_count": 33,
   "id": "ddc10d12-4d5d-4aba-8961-96caf4ae74d3",
   "metadata": {},
   "outputs": [
    {
     "name": "stdout",
     "output_type": "stream",
     "text": [
      "Output shapes of DLRM input block:\n",
      "\tuser_id : (5, 64)\n",
      "\tts_weekday : (5, 64)\n",
      "\tts_hour : (5, 64)\n",
      "\tproduct_id : (5, 64)\n",
      "\tcat_0 : (5, 64)\n",
      "\tcat_1 : (5, 64)\n",
      "\tcat_2 : (5, 64)\n",
      "\tbrand : (5, 64)\n",
      "\tbottom_block : (5, 64)\n"
     ]
    }
   ],
   "source": [
    "print(\"Output shapes of DLRM input block:\")\n",
    "for key, val in dlrm_input_block(batch).items():\n",
    "    print(\"\\t%s : %s\" % (key, val.shape))"
   ]
  },
  {
   "cell_type": "markdown",
   "id": "a4c07a42-ae9e-4f75-8915-6d11e8ef7c4f",
   "metadata": {},
   "source": [
    "**Define the interaction block**"
   ]
  },
  {
   "cell_type": "markdown",
   "id": "79cf6470-495e-475e-a8e0-d33970c9a2b3",
   "metadata": {},
   "source": [
    "Now that we have a vector representation of each input feature, we will create the DLRM interaction block. It consists of three operations:\n",
    "\n",
    "- Apply a dot product between all continuous and categorical features to learn pairwise interactions.\n",
    "- Concat the resulting pairwise interaction with the deep representation of conitnuous features (skip-connection).\n",
    "- Apply an `MLPBlock` with a series of dense layers to the concatenated tensor.\n",
    "\n",
    "First, we use the `connect_with_shortcut` method to create first two operations of the DLRM interaction block:"
   ]
  },
  {
   "cell_type": "code",
   "execution_count": 34,
   "id": "97493d5a-3f1e-4e2a-a985-a4400d1e0a95",
   "metadata": {},
   "outputs": [],
   "source": [
    "from merlin.models.tf.blocks.dlrm import DotProductInteractionBlock\n",
    "\n",
    "dlrm_interaction = dlrm_input_block.connect_with_shortcut(\n",
    "    DotProductInteractionBlock(), shortcut_filter=mm.Filter(\"bottom_block\"), aggregation=\"concat\"\n",
    ")"
   ]
  },
  {
   "cell_type": "markdown",
   "id": "be103b68-4ec0-4216-a765-41ca901b312e",
   "metadata": {},
   "source": [
    "The `Filter` operation allows us to select the deep_continuous tensor from the dlrm_input_block outputs."
   ]
  },
  {
   "cell_type": "markdown",
   "id": "3a91a9b3-0fe2-4f44-a088-124ef42bcec4",
   "metadata": {},
   "source": [
    "Comment out the line below if you want to see the tensor outputs from `dlrm_interaction` block."
   ]
  },
  {
   "cell_type": "code",
   "execution_count": 35,
   "id": "8794c83b-81ec-4f36-ad30-07e0a69c8c64",
   "metadata": {},
   "outputs": [],
   "source": [
    "#dlrm_interaction(batch)"
   ]
  },
  {
   "cell_type": "markdown",
   "id": "f5e8fa86-fc75-4859-b75f-3e99d7751cc8",
   "metadata": {},
   "source": [
    "**Add HashedCross features to DLRM Model**"
   ]
  },
  {
   "cell_type": "markdown",
   "id": "94c73683-edf8-46db-973f-9c18abb4eb6c",
   "metadata": {},
   "source": [
    "We can syntheticly form new features by multiplying (crossing) two or more features. Crossing combinations of features can provide predictive abilities beyond  those features provide individually (see ref [website](https://developers.google.com/machine-learning/crash-course/feature-crosses/video-lecture#:~:text=A%20feature%20cross%20is%20a,an%20understanding%20of%20feature%20crosses)). Merlin Models has `HashedCross` class that allows us to create new features and add non-linearity. `HashedCross` is a transformation block which crosses categorical features using the \"hashing trick\". Conceptually, the transformation can be thought of as: `hash(concatenation of features) % num_bins`"
   ]
  },
  {
   "cell_type": "code",
   "execution_count": 36,
   "id": "a39548bc-d877-4255-855e-f462d98f632a",
   "metadata": {},
   "outputs": [],
   "source": [
    "cross_schema = schema.select_by_name(names=[\"cat_0\", \"cat_1\"])\n",
    "cross = mm.HashedCross(cross_schema, num_bins=10, output_mode=\"one_hot\")"
   ]
  },
  {
   "cell_type": "code",
   "execution_count": 37,
   "id": "e28be3e6-77d4-4ce5-9523-e1648f45e3c7",
   "metadata": {},
   "outputs": [
    {
     "data": {
      "text/plain": [
       "{'cross_cat_0_cat_1': <tf.Tensor: shape=(5, 10), dtype=float32, numpy=\n",
       " array([[0., 1., 0., 0., 0., 0., 0., 0., 0., 0.],\n",
       "        [0., 1., 0., 0., 0., 0., 0., 0., 0., 0.],\n",
       "        [0., 1., 0., 0., 0., 0., 0., 0., 0., 0.],\n",
       "        [0., 1., 0., 0., 0., 0., 0., 0., 0., 0.],\n",
       "        [0., 1., 0., 0., 0., 0., 0., 0., 0., 0.]], dtype=float32)>}"
      ]
     },
     "execution_count": 37,
     "metadata": {},
     "output_type": "execute_result"
    }
   ],
   "source": [
    "cross(batch)"
   ]
  },
  {
   "cell_type": "code",
   "execution_count": 38,
   "id": "fa0b1982-d047-4b8d-8ba0-ee1148d1fecf",
   "metadata": {},
   "outputs": [],
   "source": [
    "cross_body = mm.HashedCross(cross_schema, num_bins=1000, output_mode=\"one_hot\").connect(\n",
    "    mm.MLPBlock([1], no_activation_last_layer=True), block_name='cross_model'\n",
    ")"
   ]
  },
  {
   "cell_type": "code",
   "execution_count": 45,
   "id": "164ae640-9ecf-4dc3-8fd0-4f4c8b5505bd",
   "metadata": {},
   "outputs": [
    {
     "data": {
      "text/plain": [
       "<tf.Tensor: shape=(5, 1), dtype=float32, numpy=\n",
       "array([[-0.100559  ],\n",
       "       [-0.04721604],\n",
       "       [-0.04721604],\n",
       "       [-0.04721604],\n",
       "       [-0.04721604]], dtype=float32)>"
      ]
     },
     "execution_count": 45,
     "metadata": {},
     "output_type": "execute_result"
    }
   ],
   "source": [
    "cross_body(batch)"
   ]
  },
  {
   "cell_type": "markdown",
   "id": "89a10fc4-8186-4437-b697-e2619c104ddb",
   "metadata": {},
   "source": [
    "Concat `cross_body` layer to interaction layer using `ParallelBlock`."
   ]
  },
  {
   "cell_type": "code",
   "execution_count": 39,
   "id": "566f3558-7e13-442b-9298-9153a0a577e3",
   "metadata": {},
   "outputs": [],
   "source": [
    "dlrm_with_crossbody = mm.ParallelBlock(\n",
    "    {\"dlrm_interaction\": dlrm_interaction, \"cross_body\": cross_body},\n",
    "    aggregation=\"concat\"\n",
    ")"
   ]
  },
  {
   "cell_type": "markdown",
   "id": "2fce5d0f-df5e-4740-8d96-a4fc60b35b4c",
   "metadata": {},
   "source": [
    "Then, we project the learned interaction using a series of dense layers, this defines the top block."
   ]
  },
  {
   "cell_type": "code",
   "execution_count": 40,
   "id": "d7350831-a4fa-46b0-af7e-731ba60c9fdd",
   "metadata": {},
   "outputs": [],
   "source": [
    "dlrm_with_cross = dlrm_with_crossbody.connect(mm.MLPBlock([64, 128, 256]))"
   ]
  },
  {
   "cell_type": "code",
   "execution_count": 41,
   "id": "2cb07dce-4b4d-4d02-9db5-2648fdccb7e4",
   "metadata": {},
   "outputs": [
    {
     "data": {
      "text/plain": [
       "<tf.Tensor: shape=(5, 256), dtype=float32, numpy=\n",
       "array([[0.01488442, 0.        , 0.06350309, ..., 0.        , 0.        ,\n",
       "        0.01973904],\n",
       "       [0.01538824, 0.00798569, 0.0539087 , ..., 0.01523179, 0.00435049,\n",
       "        0.03548171],\n",
       "       [0.01885886, 0.01465276, 0.05206125, ..., 0.012095  , 0.        ,\n",
       "        0.05857629],\n",
       "       [0.00554505, 0.        , 0.04383301, ..., 0.00032771, 0.        ,\n",
       "        0.04733135],\n",
       "       [0.01442945, 0.00686804, 0.05356035, ..., 0.01299383, 0.00503429,\n",
       "        0.03631819]], dtype=float32)>"
      ]
     },
     "execution_count": 41,
     "metadata": {},
     "output_type": "execute_result"
    }
   ],
   "source": [
    "dlrm_with_cross(batch)"
   ]
  },
  {
   "cell_type": "markdown",
   "id": "0ac720cf-d6fe-43ee-9326-c3ec77c33c17",
   "metadata": {},
   "source": [
    "**Define the Prediction block**"
   ]
  },
  {
   "cell_type": "markdown",
   "id": "5ac177e0-0075-4d82-9c0c-3c2d0e36637b",
   "metadata": {},
   "source": [
    "At this stage, we have created the DLRM block that accepts a dictionary of categorical and continuous tensors as input. The output of this block is the interaction representation vector of shape 256. The next step is to use this hidden representation to conduct a given prediction task. In our case, we use the label rating_binary and the objective is: to predict if a user A will give a high rating to a movie B or not.\n",
    "\n",
    "We use the BinaryClassificationTask class and evaluate the performances using the AUC metric. We also use the LogitsTemperatureScaler block as a pre-transformation operation that scales the logits returned by the task before computing the loss and metrics:"
   ]
  },
  {
   "cell_type": "code",
   "execution_count": 42,
   "id": "529180ad-06c0-4a98-85e0-f5262cbc2438",
   "metadata": {},
   "outputs": [],
   "source": [
    "from merlin.models.tf.core.transformations import LogitsTemperatureScaler\n",
    "\n",
    "binary_task = mm.BinaryClassificationTask(\n",
    "    schema,\n",
    "    pre=LogitsTemperatureScaler(temperature=2),\n",
    ")"
   ]
  },
  {
   "cell_type": "markdown",
   "id": "75606e06-e2da-4afb-9bba-c9e5fb4c7b2f",
   "metadata": {},
   "source": [
    "**LogitsTemperatureScaler:** It scales the output tensor of predicted logits to lower the model's confidence."
   ]
  },
  {
   "cell_type": "markdown",
   "id": "9c96023a-4d7a-4817-a0d6-e536794b719c",
   "metadata": {},
   "source": [
    "We connect the deep DLRM interaction to the binary task and the method automatically generates the Model class for us. We note that the Model class inherits from `tf.keras.Model` class."
   ]
  },
  {
   "cell_type": "code",
   "execution_count": 43,
   "id": "90df314f-d97f-4283-a96e-17bb2aedcddf",
   "metadata": {},
   "outputs": [],
   "source": [
    "model = mm.Model(dlrm_with_cross, binary_task)"
   ]
  },
  {
   "cell_type": "code",
   "execution_count": 44,
   "id": "9d379252-5cb9-45ed-a2fb-6c804a2a7d01",
   "metadata": {},
   "outputs": [
    {
     "name": "stdout",
     "output_type": "stream",
     "text": [
      "Epoch 1/2\n",
      "736/736 [==============================] - 31s 26ms/step - loss: 0.6379 - auc: 0.7341 - regularization_loss: 0.0000e+00 - val_loss: 0.7078 - val_auc: 0.6302 - val_regularization_loss: 0.0000e+00\n",
      "Epoch 2/2\n",
      "736/736 [==============================] - 19s 23ms/step - loss: 0.5639 - auc: 0.7974 - regularization_loss: 0.0000e+00 - val_loss: 0.7504 - val_auc: 0.6196 - val_regularization_loss: 0.0000e+00\n",
      "CPU times: user 1min 16s, sys: 13.4 s, total: 1min 30s\n",
      "Wall time: 52.8 s\n"
     ]
    },
    {
     "data": {
      "text/plain": [
       "<keras.callbacks.History at 0x7f9e37672700>"
      ]
     },
     "execution_count": 44,
     "metadata": {},
     "output_type": "execute_result"
    }
   ],
   "source": [
    "%%time \n",
    "model.compile(optimizer='adam', run_eagerly=False, metrics=[tf.keras.metrics.AUC()])\n",
    "model.fit(train, validation_data=valid, batch_size=4096, epochs=2)"
   ]
  },
  {
   "cell_type": "markdown",
   "id": "7fbb593a-7630-415b-a4ca-707d4821885d",
   "metadata": {},
   "source": [
    "**Replace `DotProductInteractionBlock` with `CrossBlock`**"
   ]
  },
  {
   "cell_type": "markdown",
   "id": "b5610910-2711-47cb-bb33-bc6e3754567e",
   "metadata": {},
   "source": [
    "In this section, we will replace DotProductInteractionBlock layer with `CrossBlock` that is used in DCN architecture. We will keep bottom layer same as we did above."
   ]
  },
  {
   "cell_type": "code",
   "execution_count": 50,
   "id": "5a909456-3b7d-4000-8cc5-73d75ce22b4e",
   "metadata": {},
   "outputs": [],
   "source": [
    "continuous_block = mm.ContinuousFeatures.from_schema(schema, tags=Tags.CONTINUOUS)\n",
    "bottom_block = continuous_block.connect(mm.MLPBlock([128,64]))"
   ]
  },
  {
   "cell_type": "code",
   "execution_count": 51,
   "id": "5fbd8642-f428-4608-82c9-24b5ae5acfa4",
   "metadata": {},
   "outputs": [],
   "source": [
    "embeddings_block = mm.Embeddings(\n",
    "    schema.select_by_tag(Tags.CATEGORICAL),\n",
    "    dim = 64\n",
    ")"
   ]
  },
  {
   "cell_type": "code",
   "execution_count": 52,
   "id": "07637d5e-7b1a-41d0-8524-af984010edb6",
   "metadata": {},
   "outputs": [
    {
     "data": {
      "text/plain": [
       "(dict_keys(['user_id', 'ts_weekday', 'ts_hour', 'product_id', 'cat_0', 'cat_1', 'cat_2', 'brand']),\n",
       " TensorShape([5, 64]))"
      ]
     },
     "execution_count": 52,
     "metadata": {},
     "output_type": "execute_result"
    }
   ],
   "source": [
    "embeddings = embeddings_block(batch)\n",
    "embeddings.keys(), embeddings[\"user_id\"].shape"
   ]
  },
  {
   "cell_type": "code",
   "execution_count": 53,
   "id": "e08b40d5-ae35-4021-83f2-9d92f2ff0caf",
   "metadata": {},
   "outputs": [
    {
     "data": {
      "text/plain": [
       "(dict_keys(['user_id', 'ts_weekday', 'ts_hour', 'product_id', 'cat_0', 'cat_1', 'cat_2', 'brand']),\n",
       " TensorShape([5, 64]))"
      ]
     },
     "execution_count": 53,
     "metadata": {},
     "output_type": "execute_result"
    }
   ],
   "source": [
    "embeddings.keys(), embeddings[\"cat_0\"].shape"
   ]
  },
  {
   "cell_type": "code",
   "execution_count": 54,
   "id": "25516092-a8b1-4b6b-9831-bc6ebb7ab759",
   "metadata": {},
   "outputs": [],
   "source": [
    "dlrm_input_block = mm.ParallelBlock(\n",
    "    {\"embeddings\": embeddings_block, \"bottom_block\": bottom_block},\n",
    "    aggregation=\"concat\"\n",
    ")"
   ]
  },
  {
   "cell_type": "code",
   "execution_count": 55,
   "id": "85094466-458f-47a4-9715-fdc98eed7595",
   "metadata": {},
   "outputs": [
    {
     "data": {
      "text/plain": [
       "<tf.Tensor: shape=(5, 576), dtype=float32, numpy=\n",
       "array([[ 0.        ,  0.        ,  0.20814615, ...,  0.04508896,\n",
       "        -0.04613587, -0.03192444],\n",
       "       [ 0.10800916,  0.12711321,  0.        , ...,  0.04508896,\n",
       "        -0.04613587, -0.03192444],\n",
       "       [ 0.05967027,  0.21339999,  0.        , ...,  0.04508896,\n",
       "        -0.04613587, -0.03192444],\n",
       "       [ 0.11435552,  0.21084045,  0.03167137, ...,  0.04508896,\n",
       "        -0.04613587, -0.03192444],\n",
       "       [ 0.10668534,  0.1265437 ,  0.        , ...,  0.04508896,\n",
       "        -0.04613587, -0.03192444]], dtype=float32)>"
      ]
     },
     "execution_count": 55,
     "metadata": {},
     "output_type": "execute_result"
    }
   ],
   "source": [
    "dlrm_input_block(batch)"
   ]
  },
  {
   "cell_type": "code",
   "execution_count": 56,
   "id": "1bfdf45e-d33e-428d-8cf7-bc14f08a0474",
   "metadata": {},
   "outputs": [],
   "source": [
    "#stacked\n",
    "cross_inter_body = dlrm_input_block.connect(mm.CrossBlock(2))"
   ]
  },
  {
   "cell_type": "code",
   "execution_count": 57,
   "id": "66967ff1-584e-4d74-b1f4-c554528e4a0f",
   "metadata": {},
   "outputs": [
    {
     "data": {
      "text/plain": [
       "<tf.Tensor: shape=(5, 576), dtype=float32, numpy=\n",
       "array([[ 0.        ,  0.        ,  0.2026599 , ...,  0.0473071 ,\n",
       "        -0.04986251, -0.03376845],\n",
       "       [ 0.1138205 ,  0.13566758,  0.        , ...,  0.04329231,\n",
       "        -0.04455113, -0.03160335],\n",
       "       [ 0.0614365 ,  0.21829154,  0.        , ...,  0.0454263 ,\n",
       "        -0.04787958, -0.03412252],\n",
       "       [ 0.12333938,  0.21843155,  0.03011557, ...,  0.04480383,\n",
       "        -0.04538551, -0.03175518],\n",
       "       [ 0.10927905,  0.13214834,  0.        , ...,  0.04289481,\n",
       "        -0.04829   , -0.03109186]], dtype=float32)>"
      ]
     },
     "execution_count": 57,
     "metadata": {},
     "output_type": "execute_result"
    }
   ],
   "source": [
    "cross_inter_body(batch)"
   ]
  },
  {
   "cell_type": "code",
   "execution_count": 58,
   "id": "bded3273-e725-4695-9c59-6636c99f56dd",
   "metadata": {},
   "outputs": [],
   "source": [
    "dlrm_interaction = mm.ParallelBlock(\n",
    "    {\"cross_inter_body\": cross_inter_body, \"bottom_block\": bottom_block},\n",
    "    aggregation=\"concat\"\n",
    ")                                                "
   ]
  },
  {
   "cell_type": "code",
   "execution_count": 59,
   "id": "f59d8df5-5c03-4f4c-84d4-ac61d22060f3",
   "metadata": {},
   "outputs": [
    {
     "data": {
      "text/plain": [
       "<tf.Tensor: shape=(5, 512), dtype=float32, numpy=\n",
       "array([[0.        , 0.        , 0.00709292, ..., 0.        , 0.        ,\n",
       "        0.        ],\n",
       "       [0.        , 0.        , 0.01600555, ..., 0.        , 0.00905023,\n",
       "        0.        ],\n",
       "       [0.        , 0.        , 0.00627399, ..., 0.        , 0.00516872,\n",
       "        0.        ],\n",
       "       [0.        , 0.        , 0.0034229 , ..., 0.        , 0.        ,\n",
       "        0.        ],\n",
       "       [0.        , 0.        , 0.00772928, ..., 0.        , 0.00478202,\n",
       "        0.        ]], dtype=float32)>"
      ]
     },
     "execution_count": 59,
     "metadata": {},
     "output_type": "execute_result"
    }
   ],
   "source": [
    "deep_dlrm_interaction = dlrm_interaction.connect(mm.MLPBlock([64, 128, 512]))\n",
    "deep_dlrm_interaction(batch)"
   ]
  },
  {
   "cell_type": "code",
   "execution_count": 60,
   "id": "267c9422-4f32-4b8c-bdaf-ffb8a36ca775",
   "metadata": {},
   "outputs": [],
   "source": [
    "from merlin.models.tf.core.transformations import LogitsTemperatureScaler\n",
    "\n",
    "binary_task = mm.BinaryClassificationTask(\n",
    "    schema,\n",
    "    pre=LogitsTemperatureScaler(temperature=2),\n",
    ")"
   ]
  },
  {
   "cell_type": "code",
   "execution_count": 61,
   "id": "bff8aa41-cee8-40f3-b494-7bc31efce1d8",
   "metadata": {},
   "outputs": [],
   "source": [
    "model = mm.Model(deep_dlrm_interaction, binary_task)"
   ]
  },
  {
   "cell_type": "code",
   "execution_count": 62,
   "id": "ff6cf67b-72d8-4402-80cc-c169efbe85e3",
   "metadata": {},
   "outputs": [
    {
     "name": "stdout",
     "output_type": "stream",
     "text": [
      "Epoch 1/2\n",
      "736/736 [==============================] - 24s 22ms/step - loss: 0.6370 - auc_1: 0.7315 - regularization_loss: 0.0000e+00 - val_loss: 0.7060 - val_auc_1: 0.6331 - val_regularization_loss: 0.0000e+00\n",
      "Epoch 2/2\n",
      "736/736 [==============================] - 16s 19ms/step - loss: 0.5831 - auc_1: 0.7878 - regularization_loss: 0.0000e+00 - val_loss: 0.7362 - val_auc_1: 0.6245 - val_regularization_loss: 0.0000e+00\n",
      "CPU times: user 47.2 s, sys: 8.23 s, total: 55.5 s\n",
      "Wall time: 42.1 s\n"
     ]
    },
    {
     "data": {
      "text/plain": [
       "<keras.callbacks.History at 0x7f9e357c85b0>"
      ]
     },
     "execution_count": 62,
     "metadata": {},
     "output_type": "execute_result"
    }
   ],
   "source": [
    "%%time \n",
    "model.compile(optimizer='adam', run_eagerly=False, metrics=[tf.keras.metrics.AUC()])\n",
    "model.fit(train, validation_data=valid, batch_size=4096, epochs=2)"
   ]
  },
  {
   "cell_type": "markdown",
   "id": "e3c502f0-1c0c-4e58-9801-a9b296dba374",
   "metadata": {},
   "source": [
    "### Summary "
   ]
  },
  {
   "cell_type": "markdown",
   "id": "44e94162-fd41-477b-ab10-f2e603dc6bd2",
   "metadata": {},
   "source": [
    "In this hands-on lab we learned\n",
    "\n",
    "- how to use a subset of these pre-existing blocks to create the DLRM model\n",
    "- how to add HashedCross features to DLRM Model\n",
    "- how to replace DotProductInteractionBlock with CrossBlock"
   ]
  },
  {
   "cell_type": "markdown",
   "id": "218e00ae-59e1-4934-ae69-dd05d13a246c",
   "metadata": {},
   "source": [
    "Please execute the cell below to shut down the kernel before moving on to the next notebook, `04-Building-multi-stage-RecSys-with-Merlin-Systems`."
   ]
  },
  {
   "cell_type": "code",
   "execution_count": null,
   "id": "e4e28231-85dd-4f17-8243-75a4d9c94b1e",
   "metadata": {},
   "outputs": [],
   "source": [
    "import IPython\n",
    "app = IPython.Application.instance()\n",
    "app.kernel.do_shutdown(True)"
   ]
  }
 ],
 "metadata": {
  "kernelspec": {
   "display_name": "Python 3 (ipykernel)",
   "language": "python",
   "name": "python3"
  },
  "language_info": {
   "codemirror_mode": {
    "name": "ipython",
    "version": 3
   },
   "file_extension": ".py",
   "mimetype": "text/x-python",
   "name": "python",
   "nbconvert_exporter": "python",
   "pygments_lexer": "ipython3",
   "version": "3.8.10"
  }
 },
 "nbformat": 4,
 "nbformat_minor": 5
}
