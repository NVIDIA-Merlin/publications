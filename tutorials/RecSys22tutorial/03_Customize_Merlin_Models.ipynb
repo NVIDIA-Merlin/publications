{
 "cells": [
  {
   "cell_type": "code",
   "execution_count": 1,
   "id": "f62c3c8c-b14e-4933-8b70-fc5a833f2e5e",
   "metadata": {},
   "outputs": [],
   "source": [
    "# Copyright 2021 NVIDIA Corporation. All Rights Reserved.\n",
    "#\n",
    "# Licensed under the Apache License, Version 2.0 (the \"License\");\n",
    "# you may not use this file except in compliance with the License.\n",
    "# You may obtain a copy of the License at\n",
    "#\n",
    "#     http://www.apache.org/licenses/LICENSE-2.0\n",
    "#\n",
    "# Unless required by applicable law or agreed to in writing, software\n",
    "# distributed under the License is distributed on an \"AS IS\" BASIS,\n",
    "# WITHOUT WARRANTIES OR CONDITIONS OF ANY KIND, either express or implied.\n",
    "# See the License for the specific language governing permissions and\n",
    "# limitations under the License.\n",
    "# ====="
   ]
  },
  {
   "cell_type": "markdown",
   "id": "6b4cca29-4c9e-411d-8aa8-dd10b7d7aa00",
   "metadata": {},
   "source": [
    "## 3. Customize and Extend Merlin Models"
   ]
  },
  {
   "cell_type": "markdown",
   "id": "ebc9c8c6-9fab-435f-958b-923b0f3d6ff4",
   "metadata": {},
   "source": [
    "In this lab, .."
   ]
  },
  {
   "cell_type": "markdown",
   "id": "4bbe7611-8697-487d-983c-a8ec0187f773",
   "metadata": {},
   "source": [
    "**Learning Objectives of this lab**\n",
    "\n",
    "- Customize and extend recommende models with Merlin Models"
   ]
  },
  {
   "cell_type": "markdown",
   "id": "3b54d3c6-fe6c-4a41-ab5e-c80c92efd91d",
   "metadata": {},
   "source": [
    "**Import Required Libraries**"
   ]
  },
  {
   "cell_type": "code",
   "execution_count": 2,
   "id": "1423d7a5-1ec7-4c9b-a65d-4ac6216f9817",
   "metadata": {},
   "outputs": [
    {
     "name": "stderr",
     "output_type": "stream",
     "text": [
      "2022-08-19 15:08:18.909473: I tensorflow/core/platform/cpu_feature_guard.cc:194] This TensorFlow binary is optimized with oneAPI Deep Neural Network Library (oneDNN) to use the following CPU instructions in performance-critical operations:  SSE3 SSE4.1 SSE4.2 AVX\n",
      "To enable them in other operations, rebuild TensorFlow with the appropriate compiler flags.\n",
      "2022-08-19 15:08:21.351720: I tensorflow/core/common_runtime/gpu/gpu_device.cc:1532] Created device /job:localhost/replica:0/task:0/device:GPU:0 with 8080 MB memory:  -> device: 0, name: Tesla V100-SXM2-16GB-N, pci bus id: 0000:06:00.0, compute capability: 7.0\n",
      "2022-08-19 15:08:21.511773: I tensorflow/stream_executor/cuda/cuda_driver.cc:739] failed to allocate 7.89G (8472494080 bytes) from device: CUDA_ERROR_OUT_OF_MEMORY: out of memory\n",
      "2022-08-19 15:08:21.597146: I tensorflow/stream_executor/cuda/cuda_driver.cc:739] failed to allocate 7.10G (7625244672 bytes) from device: CUDA_ERROR_OUT_OF_MEMORY: out of memory\n",
      "2022-08-19 15:08:21.601677: I tensorflow/stream_executor/cuda/cuda_driver.cc:739] failed to allocate 6.39G (6862720000 bytes) from device: CUDA_ERROR_OUT_OF_MEMORY: out of memory\n"
     ]
    }
   ],
   "source": [
    "import os\n",
    "\n",
    "import glob\n",
    "import cudf \n",
    "import pandas as pd\n",
    "import numpy as np\n",
    "import nvtabular as nvt\n",
    "from nvtabular.ops import *\n",
    "import gc\n",
    "\n",
    "from merlin.schema.tags import Tags\n",
    "import merlin.models.tf as mm\n",
    "from merlin.io.dataset import Dataset\n",
    "\n",
    "import tensorflow as tf"
   ]
  },
  {
   "cell_type": "code",
   "execution_count": 3,
   "id": "a85c3587-4c2f-41b8-bf64-a15a6fe73c48",
   "metadata": {},
   "outputs": [],
   "source": [
    "seed = 42\n",
    "tf.random.set_seed(seed)\n",
    "np.random.seed(seed)"
   ]
  },
  {
   "cell_type": "code",
   "execution_count": 4,
   "id": "8efaea78-8cc2-4483-a200-21fbb88f1125",
   "metadata": {},
   "outputs": [],
   "source": [
    "data_path = '/workspace/data/ecom/'\n",
    "output_path = os.path.join(data_path,'processed_nvt')"
   ]
  },
  {
   "cell_type": "markdown",
   "id": "372a3a0c-ba22-4efe-b32b-58b3833cfabd",
   "metadata": {},
   "source": [
    "Read processed parquet files as Dataset objects."
   ]
  },
  {
   "cell_type": "code",
   "execution_count": 5,
   "id": "b1a8f783-91e9-4890-801b-46adfe504d6c",
   "metadata": {},
   "outputs": [
    {
     "name": "stderr",
     "output_type": "stream",
     "text": [
      "/usr/local/lib/python3.8/dist-packages/cudf/core/frame.py:384: UserWarning: The deep parameter is ignored and is only included for pandas compatibility.\n",
      "  warnings.warn(\n"
     ]
    }
   ],
   "source": [
    "train = Dataset(os.path.join(output_path, \"train\", \"*.parquet\"), part_size=\"500MB\")\n",
    "valid = Dataset(os.path.join(output_path, \"valid\", \"*.parquet\"), part_size=\"500MB\")\n",
    "\n",
    "# define schema object\n",
    "schema = train.schema"
   ]
  },
  {
   "cell_type": "code",
   "execution_count": 6,
   "id": "68f54857-5c5e-4720-aa4b-dff9f81ef3a4",
   "metadata": {},
   "outputs": [
    {
     "data": {
      "text/plain": [
       "'target'"
      ]
     },
     "execution_count": 6,
     "metadata": {},
     "output_type": "execute_result"
    }
   ],
   "source": [
    "target_column = schema.select_by_tag(Tags.TARGET).column_names[0]\n",
    "target_column"
   ]
  },
  {
   "cell_type": "code",
   "execution_count": 7,
   "id": "ac158690-458b-4030-a6b7-e98842a7baac",
   "metadata": {},
   "outputs": [
    {
     "data": {
      "text/html": [
       "<div>\n",
       "<style scoped>\n",
       "    .dataframe tbody tr th:only-of-type {\n",
       "        vertical-align: middle;\n",
       "    }\n",
       "\n",
       "    .dataframe tbody tr th {\n",
       "        vertical-align: top;\n",
       "    }\n",
       "\n",
       "    .dataframe thead th {\n",
       "        text-align: right;\n",
       "    }\n",
       "</style>\n",
       "<table border=\"1\" class=\"dataframe\">\n",
       "  <thead>\n",
       "    <tr style=\"text-align: right;\">\n",
       "      <th></th>\n",
       "      <th>name</th>\n",
       "      <th>tags</th>\n",
       "      <th>dtype</th>\n",
       "      <th>is_list</th>\n",
       "      <th>is_ragged</th>\n",
       "      <th>properties.num_buckets</th>\n",
       "      <th>properties.freq_threshold</th>\n",
       "      <th>properties.max_size</th>\n",
       "      <th>properties.start_index</th>\n",
       "      <th>properties.cat_path</th>\n",
       "      <th>properties.embedding_sizes.cardinality</th>\n",
       "      <th>properties.embedding_sizes.dimension</th>\n",
       "      <th>properties.domain.min</th>\n",
       "      <th>properties.domain.max</th>\n",
       "    </tr>\n",
       "  </thead>\n",
       "  <tbody>\n",
       "    <tr>\n",
       "      <th>0</th>\n",
       "      <td>user_id</td>\n",
       "      <td>(Tags.CATEGORICAL, Tags.USER_ID, Tags.USER)</td>\n",
       "      <td>int32</td>\n",
       "      <td>False</td>\n",
       "      <td>False</td>\n",
       "      <td>NaN</td>\n",
       "      <td>0.0</td>\n",
       "      <td>0.0</td>\n",
       "      <td>0.0</td>\n",
       "      <td>.//categories/unique.user_id.parquet</td>\n",
       "      <td>351050.0</td>\n",
       "      <td>512.0</td>\n",
       "      <td>0.0</td>\n",
       "      <td>351050.0</td>\n",
       "    </tr>\n",
       "    <tr>\n",
       "      <th>1</th>\n",
       "      <td>ts_weekday</td>\n",
       "      <td>(Tags.CATEGORICAL, Tags.USER)</td>\n",
       "      <td>int32</td>\n",
       "      <td>False</td>\n",
       "      <td>False</td>\n",
       "      <td>NaN</td>\n",
       "      <td>0.0</td>\n",
       "      <td>0.0</td>\n",
       "      <td>0.0</td>\n",
       "      <td>.//categories/unique.ts_weekday.parquet</td>\n",
       "      <td>8.0</td>\n",
       "      <td>16.0</td>\n",
       "      <td>0.0</td>\n",
       "      <td>8.0</td>\n",
       "    </tr>\n",
       "    <tr>\n",
       "      <th>2</th>\n",
       "      <td>ts_hour</td>\n",
       "      <td>(Tags.CATEGORICAL, Tags.USER)</td>\n",
       "      <td>int32</td>\n",
       "      <td>False</td>\n",
       "      <td>False</td>\n",
       "      <td>NaN</td>\n",
       "      <td>0.0</td>\n",
       "      <td>0.0</td>\n",
       "      <td>0.0</td>\n",
       "      <td>.//categories/unique.ts_hour.parquet</td>\n",
       "      <td>25.0</td>\n",
       "      <td>16.0</td>\n",
       "      <td>0.0</td>\n",
       "      <td>25.0</td>\n",
       "    </tr>\n",
       "    <tr>\n",
       "      <th>3</th>\n",
       "      <td>product_id</td>\n",
       "      <td>(Tags.CATEGORICAL, Tags.ITEM_ID, Tags.ITEM)</td>\n",
       "      <td>int32</td>\n",
       "      <td>False</td>\n",
       "      <td>False</td>\n",
       "      <td>NaN</td>\n",
       "      <td>0.0</td>\n",
       "      <td>0.0</td>\n",
       "      <td>0.0</td>\n",
       "      <td>.//categories/unique.product_id.parquet</td>\n",
       "      <td>51425.0</td>\n",
       "      <td>512.0</td>\n",
       "      <td>0.0</td>\n",
       "      <td>51425.0</td>\n",
       "    </tr>\n",
       "    <tr>\n",
       "      <th>4</th>\n",
       "      <td>cat_0</td>\n",
       "      <td>(Tags.CATEGORICAL, Tags.ITEM)</td>\n",
       "      <td>int32</td>\n",
       "      <td>False</td>\n",
       "      <td>False</td>\n",
       "      <td>NaN</td>\n",
       "      <td>0.0</td>\n",
       "      <td>0.0</td>\n",
       "      <td>0.0</td>\n",
       "      <td>.//categories/unique.cat_0.parquet</td>\n",
       "      <td>14.0</td>\n",
       "      <td>16.0</td>\n",
       "      <td>0.0</td>\n",
       "      <td>14.0</td>\n",
       "    </tr>\n",
       "    <tr>\n",
       "      <th>5</th>\n",
       "      <td>cat_1</td>\n",
       "      <td>(Tags.CATEGORICAL, Tags.ITEM)</td>\n",
       "      <td>int32</td>\n",
       "      <td>False</td>\n",
       "      <td>False</td>\n",
       "      <td>NaN</td>\n",
       "      <td>0.0</td>\n",
       "      <td>0.0</td>\n",
       "      <td>0.0</td>\n",
       "      <td>.//categories/unique.cat_1.parquet</td>\n",
       "      <td>61.0</td>\n",
       "      <td>16.0</td>\n",
       "      <td>0.0</td>\n",
       "      <td>61.0</td>\n",
       "    </tr>\n",
       "    <tr>\n",
       "      <th>6</th>\n",
       "      <td>cat_2</td>\n",
       "      <td>(Tags.CATEGORICAL, Tags.ITEM)</td>\n",
       "      <td>int32</td>\n",
       "      <td>False</td>\n",
       "      <td>False</td>\n",
       "      <td>NaN</td>\n",
       "      <td>0.0</td>\n",
       "      <td>0.0</td>\n",
       "      <td>0.0</td>\n",
       "      <td>.//categories/unique.cat_2.parquet</td>\n",
       "      <td>90.0</td>\n",
       "      <td>20.0</td>\n",
       "      <td>0.0</td>\n",
       "      <td>90.0</td>\n",
       "    </tr>\n",
       "    <tr>\n",
       "      <th>7</th>\n",
       "      <td>brand</td>\n",
       "      <td>(Tags.CATEGORICAL, Tags.ITEM)</td>\n",
       "      <td>int32</td>\n",
       "      <td>False</td>\n",
       "      <td>False</td>\n",
       "      <td>NaN</td>\n",
       "      <td>0.0</td>\n",
       "      <td>0.0</td>\n",
       "      <td>0.0</td>\n",
       "      <td>.//categories/unique.brand.parquet</td>\n",
       "      <td>2654.0</td>\n",
       "      <td>132.0</td>\n",
       "      <td>0.0</td>\n",
       "      <td>2654.0</td>\n",
       "    </tr>\n",
       "    <tr>\n",
       "      <th>8</th>\n",
       "      <td>price</td>\n",
       "      <td>(Tags.CONTINUOUS, Tags.ITEM)</td>\n",
       "      <td>float32</td>\n",
       "      <td>False</td>\n",
       "      <td>False</td>\n",
       "      <td>NaN</td>\n",
       "      <td>NaN</td>\n",
       "      <td>NaN</td>\n",
       "      <td>NaN</td>\n",
       "      <td>NaN</td>\n",
       "      <td>NaN</td>\n",
       "      <td>NaN</td>\n",
       "      <td>NaN</td>\n",
       "      <td>NaN</td>\n",
       "    </tr>\n",
       "    <tr>\n",
       "      <th>9</th>\n",
       "      <td>relative_price</td>\n",
       "      <td>(Tags.CONTINUOUS, Tags.ITEM)</td>\n",
       "      <td>float32</td>\n",
       "      <td>False</td>\n",
       "      <td>False</td>\n",
       "      <td>NaN</td>\n",
       "      <td>NaN</td>\n",
       "      <td>NaN</td>\n",
       "      <td>NaN</td>\n",
       "      <td>NaN</td>\n",
       "      <td>NaN</td>\n",
       "      <td>NaN</td>\n",
       "      <td>NaN</td>\n",
       "      <td>NaN</td>\n",
       "    </tr>\n",
       "    <tr>\n",
       "      <th>10</th>\n",
       "      <td>TE_user_id_target</td>\n",
       "      <td>(Tags.CONTINUOUS, Tags.ITEM)</td>\n",
       "      <td>float32</td>\n",
       "      <td>False</td>\n",
       "      <td>False</td>\n",
       "      <td>NaN</td>\n",
       "      <td>NaN</td>\n",
       "      <td>NaN</td>\n",
       "      <td>NaN</td>\n",
       "      <td>NaN</td>\n",
       "      <td>NaN</td>\n",
       "      <td>NaN</td>\n",
       "      <td>NaN</td>\n",
       "      <td>NaN</td>\n",
       "    </tr>\n",
       "    <tr>\n",
       "      <th>11</th>\n",
       "      <td>TE_brand_target</td>\n",
       "      <td>(Tags.CONTINUOUS, Tags.ITEM)</td>\n",
       "      <td>float32</td>\n",
       "      <td>False</td>\n",
       "      <td>False</td>\n",
       "      <td>NaN</td>\n",
       "      <td>NaN</td>\n",
       "      <td>NaN</td>\n",
       "      <td>NaN</td>\n",
       "      <td>NaN</td>\n",
       "      <td>NaN</td>\n",
       "      <td>NaN</td>\n",
       "      <td>NaN</td>\n",
       "      <td>NaN</td>\n",
       "    </tr>\n",
       "    <tr>\n",
       "      <th>12</th>\n",
       "      <td>TE_cat_1_target</td>\n",
       "      <td>(Tags.CONTINUOUS, Tags.ITEM)</td>\n",
       "      <td>float32</td>\n",
       "      <td>False</td>\n",
       "      <td>False</td>\n",
       "      <td>NaN</td>\n",
       "      <td>NaN</td>\n",
       "      <td>NaN</td>\n",
       "      <td>NaN</td>\n",
       "      <td>NaN</td>\n",
       "      <td>NaN</td>\n",
       "      <td>NaN</td>\n",
       "      <td>NaN</td>\n",
       "      <td>NaN</td>\n",
       "    </tr>\n",
       "    <tr>\n",
       "      <th>13</th>\n",
       "      <td>TE_cat_2_target</td>\n",
       "      <td>(Tags.CONTINUOUS, Tags.ITEM)</td>\n",
       "      <td>float32</td>\n",
       "      <td>False</td>\n",
       "      <td>False</td>\n",
       "      <td>NaN</td>\n",
       "      <td>NaN</td>\n",
       "      <td>NaN</td>\n",
       "      <td>NaN</td>\n",
       "      <td>NaN</td>\n",
       "      <td>NaN</td>\n",
       "      <td>NaN</td>\n",
       "      <td>NaN</td>\n",
       "      <td>NaN</td>\n",
       "    </tr>\n",
       "    <tr>\n",
       "      <th>14</th>\n",
       "      <td>event_time_ts</td>\n",
       "      <td>(Tags.TIME)</td>\n",
       "      <td>int64</td>\n",
       "      <td>False</td>\n",
       "      <td>False</td>\n",
       "      <td>NaN</td>\n",
       "      <td>NaN</td>\n",
       "      <td>NaN</td>\n",
       "      <td>NaN</td>\n",
       "      <td>NaN</td>\n",
       "      <td>NaN</td>\n",
       "      <td>NaN</td>\n",
       "      <td>NaN</td>\n",
       "      <td>NaN</td>\n",
       "    </tr>\n",
       "    <tr>\n",
       "      <th>15</th>\n",
       "      <td>target</td>\n",
       "      <td>(Tags.TARGET, Tags.BINARY_CLASSIFICATION)</td>\n",
       "      <td>int32</td>\n",
       "      <td>False</td>\n",
       "      <td>False</td>\n",
       "      <td>NaN</td>\n",
       "      <td>NaN</td>\n",
       "      <td>NaN</td>\n",
       "      <td>NaN</td>\n",
       "      <td>NaN</td>\n",
       "      <td>NaN</td>\n",
       "      <td>NaN</td>\n",
       "      <td>NaN</td>\n",
       "      <td>NaN</td>\n",
       "    </tr>\n",
       "  </tbody>\n",
       "</table>\n",
       "</div>"
      ],
      "text/plain": [
       "[{'name': 'user_id', 'tags': {<Tags.CATEGORICAL: 'categorical'>, <Tags.USER_ID: 'user_id'>, <Tags.USER: 'user'>}, 'properties': {'num_buckets': None, 'freq_threshold': 0.0, 'max_size': 0.0, 'start_index': 0.0, 'cat_path': './/categories/unique.user_id.parquet', 'embedding_sizes': {'cardinality': 351050.0, 'dimension': 512.0}, 'domain': {'min': 0, 'max': 351050}}, 'dtype': dtype('int32'), 'is_list': False, 'is_ragged': False}, {'name': 'ts_weekday', 'tags': {<Tags.CATEGORICAL: 'categorical'>, <Tags.USER: 'user'>}, 'properties': {'num_buckets': None, 'freq_threshold': 0.0, 'max_size': 0.0, 'start_index': 0.0, 'cat_path': './/categories/unique.ts_weekday.parquet', 'embedding_sizes': {'cardinality': 8.0, 'dimension': 16.0}, 'domain': {'min': 0, 'max': 8}}, 'dtype': dtype('int32'), 'is_list': False, 'is_ragged': False}, {'name': 'ts_hour', 'tags': {<Tags.CATEGORICAL: 'categorical'>, <Tags.USER: 'user'>}, 'properties': {'num_buckets': None, 'freq_threshold': 0.0, 'max_size': 0.0, 'start_index': 0.0, 'cat_path': './/categories/unique.ts_hour.parquet', 'embedding_sizes': {'cardinality': 25.0, 'dimension': 16.0}, 'domain': {'min': 0, 'max': 25}}, 'dtype': dtype('int32'), 'is_list': False, 'is_ragged': False}, {'name': 'product_id', 'tags': {<Tags.CATEGORICAL: 'categorical'>, <Tags.ITEM_ID: 'item_id'>, <Tags.ITEM: 'item'>}, 'properties': {'num_buckets': None, 'freq_threshold': 0.0, 'max_size': 0.0, 'start_index': 0.0, 'cat_path': './/categories/unique.product_id.parquet', 'embedding_sizes': {'cardinality': 51425.0, 'dimension': 512.0}, 'domain': {'min': 0, 'max': 51425}}, 'dtype': dtype('int32'), 'is_list': False, 'is_ragged': False}, {'name': 'cat_0', 'tags': {<Tags.CATEGORICAL: 'categorical'>, <Tags.ITEM: 'item'>}, 'properties': {'num_buckets': None, 'freq_threshold': 0.0, 'max_size': 0.0, 'start_index': 0.0, 'cat_path': './/categories/unique.cat_0.parquet', 'embedding_sizes': {'cardinality': 14.0, 'dimension': 16.0}, 'domain': {'min': 0, 'max': 14}}, 'dtype': dtype('int32'), 'is_list': False, 'is_ragged': False}, {'name': 'cat_1', 'tags': {<Tags.CATEGORICAL: 'categorical'>, <Tags.ITEM: 'item'>}, 'properties': {'num_buckets': None, 'freq_threshold': 0.0, 'max_size': 0.0, 'start_index': 0.0, 'cat_path': './/categories/unique.cat_1.parquet', 'embedding_sizes': {'cardinality': 61.0, 'dimension': 16.0}, 'domain': {'min': 0, 'max': 61}}, 'dtype': dtype('int32'), 'is_list': False, 'is_ragged': False}, {'name': 'cat_2', 'tags': {<Tags.CATEGORICAL: 'categorical'>, <Tags.ITEM: 'item'>}, 'properties': {'num_buckets': None, 'freq_threshold': 0.0, 'max_size': 0.0, 'start_index': 0.0, 'cat_path': './/categories/unique.cat_2.parquet', 'embedding_sizes': {'cardinality': 90.0, 'dimension': 20.0}, 'domain': {'min': 0, 'max': 90}}, 'dtype': dtype('int32'), 'is_list': False, 'is_ragged': False}, {'name': 'brand', 'tags': {<Tags.CATEGORICAL: 'categorical'>, <Tags.ITEM: 'item'>}, 'properties': {'num_buckets': None, 'freq_threshold': 0.0, 'max_size': 0.0, 'start_index': 0.0, 'cat_path': './/categories/unique.brand.parquet', 'embedding_sizes': {'cardinality': 2654.0, 'dimension': 132.0}, 'domain': {'min': 0, 'max': 2654}}, 'dtype': dtype('int32'), 'is_list': False, 'is_ragged': False}, {'name': 'price', 'tags': {<Tags.CONTINUOUS: 'continuous'>, <Tags.ITEM: 'item'>}, 'properties': {}, 'dtype': dtype('float32'), 'is_list': False, 'is_ragged': False}, {'name': 'relative_price', 'tags': {<Tags.CONTINUOUS: 'continuous'>, <Tags.ITEM: 'item'>}, 'properties': {}, 'dtype': dtype('float32'), 'is_list': False, 'is_ragged': False}, {'name': 'TE_user_id_target', 'tags': {<Tags.CONTINUOUS: 'continuous'>, <Tags.ITEM: 'item'>}, 'properties': {}, 'dtype': dtype('float32'), 'is_list': False, 'is_ragged': False}, {'name': 'TE_brand_target', 'tags': {<Tags.CONTINUOUS: 'continuous'>, <Tags.ITEM: 'item'>}, 'properties': {}, 'dtype': dtype('float32'), 'is_list': False, 'is_ragged': False}, {'name': 'TE_cat_1_target', 'tags': {<Tags.CONTINUOUS: 'continuous'>, <Tags.ITEM: 'item'>}, 'properties': {}, 'dtype': dtype('float32'), 'is_list': False, 'is_ragged': False}, {'name': 'TE_cat_2_target', 'tags': {<Tags.CONTINUOUS: 'continuous'>, <Tags.ITEM: 'item'>}, 'properties': {}, 'dtype': dtype('float32'), 'is_list': False, 'is_ragged': False}, {'name': 'event_time_ts', 'tags': {<Tags.TIME: 'time'>}, 'properties': {}, 'dtype': dtype('int64'), 'is_list': False, 'is_ragged': False}, {'name': 'target', 'tags': {<Tags.TARGET: 'target'>, <Tags.BINARY_CLASSIFICATION: 'binary_classification'>}, 'properties': {}, 'dtype': dtype('int32'), 'is_list': False, 'is_ragged': False}]"
      ]
     },
     "execution_count": 7,
     "metadata": {},
     "output_type": "execute_result"
    }
   ],
   "source": [
    "schema"
   ]
  },
  {
   "cell_type": "code",
   "execution_count": 8,
   "id": "55dc7fe8-77cc-498c-b09a-52649f516ff7",
   "metadata": {},
   "outputs": [],
   "source": [
    "batch = mm.sample_batch(train, batch_size=16, shuffle=False, include_targets=False)"
   ]
  },
  {
   "cell_type": "markdown",
   "id": "68cb8a3b-e60e-4815-9d72-c7d0e6c6ca6f",
   "metadata": {},
   "source": [
    "### 1. Add HashedCross features to DLRM Model"
   ]
  },
  {
   "cell_type": "code",
   "execution_count": 16,
   "id": "8e00940a-ea06-4cc5-8903-eec4dc632da8",
   "metadata": {},
   "outputs": [],
   "source": [
    "continuous_block = mm.ContinuousFeatures.from_schema(schema, tags=Tags.CONTINUOUS)\n",
    "bottom_block = continuous_block.connect(mm.MLPBlock([128,64]))"
   ]
  },
  {
   "cell_type": "code",
   "execution_count": 24,
   "id": "ab7f6ef7-c516-458f-bf9c-11ceb76ea72a",
   "metadata": {},
   "outputs": [],
   "source": [
    "# emb_init = tf.keras.initializers.TruncatedNormal(\n",
    "#     mean=0.0, stddev=0.05\n",
    "# )\n",
    "\n",
    "from merlin.models.utils.schema_utils import infer_embedding_dim\n",
    "\n",
    "embeddings_block = mm.Embeddings(\n",
    "    schema.select_by_tag(Tags.CATEGORICAL),\n",
    "    dim = 64,\n",
    "    infer_dim_fn = infer_embedding_dim\n",
    ")"
   ]
  },
  {
   "cell_type": "code",
   "execution_count": 25,
   "id": "92add915-f0a6-4047-8f33-606856c4d217",
   "metadata": {},
   "outputs": [
    {
     "data": {
      "text/plain": [
       "ParallelBlock(\n",
       "  (parallel_layers): Dict(\n",
       "    (user_id): EmbeddingTable(\n",
       "      (table): Embedding()\n",
       "    )\n",
       "    (ts_weekday): EmbeddingTable(\n",
       "      (table): Embedding()\n",
       "    )\n",
       "    (ts_hour): EmbeddingTable(\n",
       "      (table): Embedding()\n",
       "    )\n",
       "    (product_id): EmbeddingTable(\n",
       "      (table): Embedding()\n",
       "    )\n",
       "    (cat_0): EmbeddingTable(\n",
       "      (table): Embedding()\n",
       "    )\n",
       "    (cat_1): EmbeddingTable(\n",
       "      (table): Embedding()\n",
       "    )\n",
       "    (cat_2): EmbeddingTable(\n",
       "      (table): Embedding()\n",
       "    )\n",
       "    (brand): EmbeddingTable(\n",
       "      (table): Embedding()\n",
       "    )\n",
       "  )\n",
       ")"
      ]
     },
     "execution_count": 25,
     "metadata": {},
     "output_type": "execute_result"
    }
   ],
   "source": [
    "embeddings_block"
   ]
  },
  {
   "cell_type": "code",
   "execution_count": 26,
   "id": "1eb9c543-1898-46bb-9239-46f78f80ef80",
   "metadata": {},
   "outputs": [],
   "source": [
    "dlrm_input_block = mm.ParallelBlock(\n",
    "    {\"embeddings\": embeddings_block, \"bottom_block\": bottom_block}\n",
    ")"
   ]
  },
  {
   "cell_type": "code",
   "execution_count": 27,
   "id": "97493d5a-3f1e-4e2a-a985-a4400d1e0a95",
   "metadata": {},
   "outputs": [],
   "source": [
    "from merlin.models.tf.blocks.dlrm import DotProductInteractionBlock\n",
    "\n",
    "dlrm_interaction = dlrm_input_block.connect_with_shortcut(\n",
    "    DotProductInteractionBlock(), shortcut_filter=mm.Filter(\"bottom_block\"), aggregation=\"concat\"\n",
    ")"
   ]
  },
  {
   "cell_type": "code",
   "execution_count": null,
   "id": "a39548bc-d877-4255-855e-f462d98f632a",
   "metadata": {},
   "outputs": [],
   "source": [
    "cross_schema = schema.select_by_name(names=[\"cat_0\", \"cat_1\"])\n",
    "cross = mm.HashedCross(cross_schema, num_bins=10, output_mode=\"one_hot\")"
   ]
  },
  {
   "cell_type": "code",
   "execution_count": null,
   "id": "e28be3e6-77d4-4ce5-9523-e1648f45e3c7",
   "metadata": {},
   "outputs": [],
   "source": [
    "cross(batch)"
   ]
  },
  {
   "cell_type": "code",
   "execution_count": null,
   "id": "fa0b1982-d047-4b8d-8ba0-ee1148d1fecf",
   "metadata": {},
   "outputs": [],
   "source": [
    "'''\n",
    "feature crossing with HashedCross class, creates a new feature\n",
    "take the weighted some \n",
    "'''\n",
    "\n",
    "cross_body = mm.HashedCross(cross_schema, num_bins=1000, output_mode=\"one_hot\").connect(\n",
    "    mm.MLPBlock([1], no_activation_last_layer=True), block_name='cross_model'\n",
    ")"
   ]
  },
  {
   "cell_type": "code",
   "execution_count": 28,
   "id": "566f3558-7e13-442b-9298-9153a0a577e3",
   "metadata": {},
   "outputs": [],
   "source": [
    "dlrm_with_crossbody = mm.ParallelBlock(\n",
    "    {\"dlrm_interaction\": dlrm_interaction, \"cross_body\": cross_body},\n",
    "    aggregation=\"concat\"\n",
    ")"
   ]
  },
  {
   "cell_type": "code",
   "execution_count": 29,
   "id": "d7350831-a4fa-46b0-af7e-731ba60c9fdd",
   "metadata": {},
   "outputs": [],
   "source": [
    "dlrm_with_cross = dlrm_with_crossbody.connect(mm.MLPBlock([64, 128, 256]))"
   ]
  },
  {
   "cell_type": "code",
   "execution_count": 30,
   "id": "529180ad-06c0-4a98-85e0-f5262cbc2438",
   "metadata": {},
   "outputs": [],
   "source": [
    "from merlin.models.tf.core.transformations import LogitsTemperatureScaler\n",
    "\n",
    "binary_task = mm.BinaryClassificationTask(\n",
    "    schema,\n",
    "    pre=LogitsTemperatureScaler(temperature=2),\n",
    ")"
   ]
  },
  {
   "cell_type": "code",
   "execution_count": 31,
   "id": "90df314f-d97f-4283-a96e-17bb2aedcddf",
   "metadata": {},
   "outputs": [],
   "source": [
    "model = mm.Model(dlrm_with_cross, binary_task)"
   ]
  },
  {
   "cell_type": "code",
   "execution_count": 32,
   "id": "9d379252-5cb9-45ed-a2fb-6c804a2a7d01",
   "metadata": {},
   "outputs": [
    {
     "name": "stdout",
     "output_type": "stream",
     "text": [
      "Epoch 1/2\n",
      "736/736 [==============================] - 25s 19ms/step - loss: 0.6379 - auc: 0.7335 - regularization_loss: 0.0000e+00 - val_loss: 0.7022 - val_auc: 0.6285 - val_regularization_loss: 0.0000e+00\n",
      "Epoch 2/2\n",
      "736/736 [==============================] - 12s 16ms/step - loss: 0.5584 - auc: 0.8030 - regularization_loss: 0.0000e+00 - val_loss: 0.7478 - val_auc: 0.6162 - val_regularization_loss: 0.0000e+00\n",
      "CPU times: user 59.2 s, sys: 6.98 s, total: 1min 6s\n",
      "Wall time: 39.1 s\n"
     ]
    },
    {
     "data": {
      "text/plain": [
       "<keras.callbacks.History at 0x7fed66227790>"
      ]
     },
     "execution_count": 32,
     "metadata": {},
     "output_type": "execute_result"
    }
   ],
   "source": [
    "%%time \n",
    "model.compile(optimizer='adam', run_eagerly=False, metrics=[tf.keras.metrics.AUC()])\n",
    "model.fit(train, validation_data=valid, batch_size=4096, epochs=2)"
   ]
  },
  {
   "cell_type": "markdown",
   "id": "7fbb593a-7630-415b-a4ca-707d4821885d",
   "metadata": {},
   "source": [
    "### 2. Replace `DotProductInteractionBlock` with `CrossBlock`"
   ]
  },
  {
   "cell_type": "code",
   "execution_count": 23,
   "id": "5a909456-3b7d-4000-8cc5-73d75ce22b4e",
   "metadata": {},
   "outputs": [],
   "source": [
    "continuous_block = mm.ContinuousFeatures.from_schema(schema, tags=Tags.CONTINUOUS)\n",
    "bottom_block = continuous_block.connect(mm.MLPBlock([128,64]))"
   ]
  },
  {
   "cell_type": "code",
   "execution_count": 24,
   "id": "5fbd8642-f428-4608-82c9-24b5ae5acfa4",
   "metadata": {},
   "outputs": [],
   "source": [
    "emb_init = tf.keras.initializers.TruncatedNormal(\n",
    "    mean=0.0, stddev=0.05\n",
    ")\n",
    "\n",
    "embeddings_block = mm.Embeddings(\n",
    "    schema.select_by_tag(Tags.CATEGORICAL),\n",
    "    dim = 64\n",
    ")"
   ]
  },
  {
   "cell_type": "code",
   "execution_count": 25,
   "id": "f41dfd9d-4f41-4ae6-b138-1ac0215cd8cc",
   "metadata": {},
   "outputs": [
    {
     "data": {
      "text/plain": [
       "ParallelBlock(\n",
       "  (parallel_layers): Dict(\n",
       "    (user_id): EmbeddingTable(\n",
       "      (table): Embedding()\n",
       "    )\n",
       "    (ts_weekday): EmbeddingTable(\n",
       "      (table): Embedding()\n",
       "    )\n",
       "    (ts_hour): EmbeddingTable(\n",
       "      (table): Embedding()\n",
       "    )\n",
       "    (product_id): EmbeddingTable(\n",
       "      (table): Embedding()\n",
       "    )\n",
       "    (cat_0): EmbeddingTable(\n",
       "      (table): Embedding()\n",
       "    )\n",
       "    (cat_1): EmbeddingTable(\n",
       "      (table): Embedding()\n",
       "    )\n",
       "    (cat_2): EmbeddingTable(\n",
       "      (table): Embedding()\n",
       "    )\n",
       "    (brand): EmbeddingTable(\n",
       "      (table): Embedding()\n",
       "    )\n",
       "  )\n",
       ")"
      ]
     },
     "execution_count": 25,
     "metadata": {},
     "output_type": "execute_result"
    }
   ],
   "source": [
    "embeddings_block"
   ]
  },
  {
   "cell_type": "code",
   "execution_count": 26,
   "id": "07637d5e-7b1a-41d0-8524-af984010edb6",
   "metadata": {},
   "outputs": [
    {
     "data": {
      "text/plain": [
       "(dict_keys(['user_id', 'ts_weekday', 'ts_hour', 'product_id', 'cat_0', 'cat_1', 'cat_2', 'brand']),\n",
       " TensorShape([16, 64]))"
      ]
     },
     "execution_count": 26,
     "metadata": {},
     "output_type": "execute_result"
    }
   ],
   "source": [
    "embeddings = embeddings_block(batch)\n",
    "embeddings.keys(), embeddings[\"user_id\"].shape"
   ]
  },
  {
   "cell_type": "code",
   "execution_count": 27,
   "id": "e08b40d5-ae35-4021-83f2-9d92f2ff0caf",
   "metadata": {},
   "outputs": [
    {
     "data": {
      "text/plain": [
       "(dict_keys(['user_id', 'ts_weekday', 'ts_hour', 'product_id', 'cat_0', 'cat_1', 'cat_2', 'brand']),\n",
       " TensorShape([16, 64]))"
      ]
     },
     "execution_count": 27,
     "metadata": {},
     "output_type": "execute_result"
    }
   ],
   "source": [
    "embeddings.keys(), embeddings[\"cat_0\"].shape"
   ]
  },
  {
   "cell_type": "code",
   "execution_count": 33,
   "id": "25516092-a8b1-4b6b-9831-bc6ebb7ab759",
   "metadata": {},
   "outputs": [],
   "source": [
    "dlrm_input_block = mm.ParallelBlock(\n",
    "    {\"embeddings\": embeddings_block, \"bottom_block\": bottom_block},\n",
    "    aggregation=\"concat\"\n",
    ")\n",
    "\n",
    "# print(\"Output shapes of DLRM input block:\")\n",
    "# for key, val in dlrm_input_block(batch).items():\n",
    "#     print(\"\\t%s : %s\" % (key, val.shape))"
   ]
  },
  {
   "cell_type": "code",
   "execution_count": 35,
   "id": "85094466-458f-47a4-9715-fdc98eed7595",
   "metadata": {},
   "outputs": [],
   "source": [
    "#dlrm_input_block"
   ]
  },
  {
   "cell_type": "code",
   "execution_count": 36,
   "id": "1bfdf45e-d33e-428d-8cf7-bc14f08a0474",
   "metadata": {},
   "outputs": [],
   "source": [
    "\n",
    "#stacked\n",
    "dcn_body = dlrm_input_block.connect(mm.CrossBlock(2))"
   ]
  },
  {
   "cell_type": "code",
   "execution_count": 27,
   "id": "66967ff1-584e-4d74-b1f4-c554528e4a0f",
   "metadata": {},
   "outputs": [],
   "source": [
    "#dcn_body"
   ]
  },
  {
   "cell_type": "code",
   "execution_count": 37,
   "id": "bded3273-e725-4695-9c59-6636c99f56dd",
   "metadata": {},
   "outputs": [],
   "source": [
    "dlrm_interaction = mm.ParallelBlock(\n",
    "    {\"dcn_body\": dcn_body, \"bottom_block\": bottom_block},\n",
    "    aggregation=\"concat\"\n",
    ")                                                "
   ]
  },
  {
   "cell_type": "code",
   "execution_count": 38,
   "id": "f59d8df5-5c03-4f4c-84d4-ac61d22060f3",
   "metadata": {},
   "outputs": [
    {
     "data": {
      "text/plain": [
       "<tf.Tensor: shape=(16, 512), dtype=float32, numpy=\n",
       "array([[0.0249111 , 0.02031652, 0.        , ..., 0.00059985, 0.        ,\n",
       "        0.        ],\n",
       "       [0.01873957, 0.01652094, 0.        , ..., 0.        , 0.        ,\n",
       "        0.        ],\n",
       "       [0.00175109, 0.03225915, 0.0024677 , ..., 0.00148939, 0.        ,\n",
       "        0.        ],\n",
       "       ...,\n",
       "       [0.        , 0.02493227, 0.        , ..., 0.        , 0.        ,\n",
       "        0.        ],\n",
       "       [0.        , 0.01736411, 0.        , ..., 0.        , 0.        ,\n",
       "        0.        ],\n",
       "       [0.        , 0.02748184, 0.        , ..., 0.        , 0.        ,\n",
       "        0.        ]], dtype=float32)>"
      ]
     },
     "execution_count": 38,
     "metadata": {},
     "output_type": "execute_result"
    }
   ],
   "source": [
    "deep_dlrm_interaction = dlrm_interaction.connect(mm.MLPBlock([64, 128, 512]))\n",
    "deep_dlrm_interaction(batch)"
   ]
  },
  {
   "cell_type": "code",
   "execution_count": 44,
   "id": "267c9422-4f32-4b8c-bdaf-ffb8a36ca775",
   "metadata": {},
   "outputs": [],
   "source": [
    "from merlin.models.tf.core.transformations import LogitsTemperatureScaler\n",
    "\n",
    "binary_task = mm.BinaryClassificationTask(\n",
    "    schema,\n",
    "    pre=LogitsTemperatureScaler(temperature=2),\n",
    ")"
   ]
  },
  {
   "cell_type": "code",
   "execution_count": 45,
   "id": "bff8aa41-cee8-40f3-b494-7bc31efce1d8",
   "metadata": {},
   "outputs": [],
   "source": [
    "model = mm.Model(deep_dlrm_interaction, binary_task)"
   ]
  },
  {
   "cell_type": "code",
   "execution_count": 46,
   "id": "ff6cf67b-72d8-4402-80cc-c169efbe85e3",
   "metadata": {},
   "outputs": [
    {
     "name": "stdout",
     "output_type": "stream",
     "text": [
      "Epoch 1/2\n",
      "736/736 [==============================] - 25s 19ms/step - loss: 0.6373 - auc: 0.7301 - regularization_loss: 0.0000e+00 - val_loss: 0.6995 - val_auc: 0.6312 - val_regularization_loss: 0.0000e+00\n",
      "Epoch 2/2\n",
      "736/736 [==============================] - 12s 16ms/step - loss: 0.5829 - auc: 0.7837 - regularization_loss: 0.0000e+00 - val_loss: 0.7548 - val_auc: 0.6255 - val_regularization_loss: 0.0000e+00\n",
      "CPU times: user 52.3 s, sys: 7.52 s, total: 59.8 s\n",
      "Wall time: 37.8 s\n"
     ]
    },
    {
     "data": {
      "text/plain": [
       "<keras.callbacks.History at 0x7f835e8caaf0>"
      ]
     },
     "execution_count": 46,
     "metadata": {},
     "output_type": "execute_result"
    }
   ],
   "source": [
    "%%time \n",
    "model.compile(optimizer='adam', run_eagerly=False, metrics=[tf.keras.metrics.AUC()])\n",
    "model.fit(train, validation_data=valid, batch_size=4096, epochs=2)"
   ]
  },
  {
   "cell_type": "markdown",
   "id": "e3c502f0-1c0c-4e58-9801-a9b296dba374",
   "metadata": {},
   "source": [
    "### Summary "
   ]
  },
  {
   "cell_type": "markdown",
   "id": "44e94162-fd41-477b-ab10-f2e603dc6bd2",
   "metadata": {},
   "source": [
    "In this hands-on lab we learned ..."
   ]
  }
 ],
 "metadata": {
  "kernelspec": {
   "display_name": "Python 3 (ipykernel)",
   "language": "python",
   "name": "python3"
  },
  "language_info": {
   "codemirror_mode": {
    "name": "ipython",
    "version": 3
   },
   "file_extension": ".py",
   "mimetype": "text/x-python",
   "name": "python",
   "nbconvert_exporter": "python",
   "pygments_lexer": "ipython3",
   "version": "3.8.10"
  }
 },
 "nbformat": 4,
 "nbformat_minor": 5
}
