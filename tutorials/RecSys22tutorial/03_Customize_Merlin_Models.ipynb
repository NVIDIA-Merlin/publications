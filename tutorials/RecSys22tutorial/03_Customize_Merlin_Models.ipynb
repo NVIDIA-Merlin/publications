{
 "cells": [
  {
   "cell_type": "code",
   "execution_count": 1,
   "id": "f62c3c8c-b14e-4933-8b70-fc5a833f2e5e",
   "metadata": {},
   "outputs": [],
   "source": [
    "# Copyright 2022 NVIDIA Corporation. All Rights Reserved.\n",
    "#\n",
    "# Licensed under the Apache License, Version 2.0 (the \"License\");\n",
    "# you may not use this file except in compliance with the License.\n",
    "# You may obtain a copy of the License at\n",
    "#\n",
    "#     http://www.apache.org/licenses/LICENSE-2.0\n",
    "#\n",
    "# Unless required by applicable law or agreed to in writing, software\n",
    "# distributed under the License is distributed on an \"AS IS\" BASIS,\n",
    "# WITHOUT WARRANTIES OR CONDITIONS OF ANY KIND, either express or implied.\n",
    "# See the License for the specific language governing permissions and\n",
    "# limitations under the License.\n",
    "# ====="
   ]
  },
  {
   "cell_type": "markdown",
   "id": "6b4cca29-4c9e-411d-8aa8-dd10b7d7aa00",
   "metadata": {},
   "source": [
    "## 3. Customize and Extend Merlin Models"
   ]
  },
  {
   "cell_type": "markdown",
   "id": "ebc9c8c6-9fab-435f-958b-923b0f3d6ff4",
   "metadata": {},
   "source": [
    "Merlin Models provides common and state-of-the-art RecSys architectures in a high-level API as well as all the required low-level building blocks (e.g., input blocks, MLP layers, prediction tasks, loss functions, etc.) or you to create your own architecture. \n",
    "\n",
    "In this lab, we define DLRM model architecture from scratch and customize it with Merlin Models."
   ]
  },
  {
   "cell_type": "markdown",
   "id": "4bbe7611-8697-487d-983c-a8ec0187f773",
   "metadata": {},
   "source": [
    "**Learning Objectives of this lab**\n",
    "\n",
    "- Understand the building blocks of Merlin Models\n",
    "- Define DLRM model architecture from scratch and customize it with Merlin Models"
   ]
  },
  {
   "cell_type": "markdown",
   "id": "3b54d3c6-fe6c-4a41-ab5e-c80c92efd91d",
   "metadata": {},
   "source": [
    "**Import Required Libraries**"
   ]
  },
  {
   "cell_type": "code",
   "execution_count": 2,
   "id": "1423d7a5-1ec7-4c9b-a65d-4ac6216f9817",
   "metadata": {},
   "outputs": [
    {
     "name": "stderr",
     "output_type": "stream",
     "text": [
      "2022-08-25 16:19:42.224269: I tensorflow/stream_executor/cuda/cuda_gpu_executor.cc:991] successful NUMA node read from SysFS had negative value (-1), but there must be at least one NUMA node, so returning NUMA node zero\n",
      "2022-08-25 16:19:42.225779: I tensorflow/stream_executor/cuda/cuda_gpu_executor.cc:991] successful NUMA node read from SysFS had negative value (-1), but there must be at least one NUMA node, so returning NUMA node zero\n",
      "2022-08-25 16:19:42.226754: I tensorflow/stream_executor/cuda/cuda_gpu_executor.cc:991] successful NUMA node read from SysFS had negative value (-1), but there must be at least one NUMA node, so returning NUMA node zero\n",
      "2022-08-25 16:19:42.248948: I tensorflow/core/platform/cpu_feature_guard.cc:194] This TensorFlow binary is optimized with oneAPI Deep Neural Network Library (oneDNN) to use the following CPU instructions in performance-critical operations:  SSE3 SSE4.1 SSE4.2 AVX\n",
      "To enable them in other operations, rebuild TensorFlow with the appropriate compiler flags.\n",
      "2022-08-25 16:19:42.249555: I tensorflow/stream_executor/cuda/cuda_gpu_executor.cc:991] successful NUMA node read from SysFS had negative value (-1), but there must be at least one NUMA node, so returning NUMA node zero\n",
      "2022-08-25 16:19:42.250539: I tensorflow/stream_executor/cuda/cuda_gpu_executor.cc:991] successful NUMA node read from SysFS had negative value (-1), but there must be at least one NUMA node, so returning NUMA node zero\n",
      "2022-08-25 16:19:42.251497: I tensorflow/stream_executor/cuda/cuda_gpu_executor.cc:991] successful NUMA node read from SysFS had negative value (-1), but there must be at least one NUMA node, so returning NUMA node zero\n",
      "2022-08-25 16:19:43.779042: I tensorflow/stream_executor/cuda/cuda_gpu_executor.cc:991] successful NUMA node read from SysFS had negative value (-1), but there must be at least one NUMA node, so returning NUMA node zero\n",
      "2022-08-25 16:19:43.780051: I tensorflow/stream_executor/cuda/cuda_gpu_executor.cc:991] successful NUMA node read from SysFS had negative value (-1), but there must be at least one NUMA node, so returning NUMA node zero\n",
      "2022-08-25 16:19:43.781016: I tensorflow/stream_executor/cuda/cuda_gpu_executor.cc:991] successful NUMA node read from SysFS had negative value (-1), but there must be at least one NUMA node, so returning NUMA node zero\n",
      "2022-08-25 16:19:43.781964: I tensorflow/core/common_runtime/gpu/gpu_device.cc:1532] Created device /job:localhost/replica:0/task:0/device:GPU:0 with 8080 MB memory:  -> device: 0, name: Tesla V100-SXM2-16GB, pci bus id: 0000:00:1e.0, compute capability: 7.0\n"
     ]
    }
   ],
   "source": [
    "import os\n",
    "\n",
    "import glob\n",
    "import cudf \n",
    "import pandas as pd\n",
    "import numpy as np\n",
    "import nvtabular as nvt\n",
    "from nvtabular.ops import *\n",
    "import gc\n",
    "\n",
    "from merlin.schema.tags import Tags\n",
    "import merlin.models.tf as mm\n",
    "from merlin.io.dataset import Dataset\n",
    "\n",
    "import tensorflow as tf"
   ]
  },
  {
   "cell_type": "code",
   "execution_count": 3,
   "id": "a85c3587-4c2f-41b8-bf64-a15a6fe73c48",
   "metadata": {},
   "outputs": [],
   "source": [
    "seed = 42\n",
    "tf.random.set_seed(seed)\n",
    "np.random.seed(seed)"
   ]
  },
  {
   "cell_type": "code",
   "execution_count": 6,
   "id": "8efaea78-8cc2-4483-a200-21fbb88f1125",
   "metadata": {},
   "outputs": [],
   "source": [
    "data_path = '/workspace/data/ecom/'\n",
    "output_path = os.path.join(data_path,'processed_nvt')"
   ]
  },
  {
   "cell_type": "markdown",
   "id": "372a3a0c-ba22-4efe-b32b-58b3833cfabd",
   "metadata": {},
   "source": [
    "Read processed parquet files as Dataset objects."
   ]
  },
  {
   "cell_type": "code",
   "execution_count": 10,
   "id": "b1a8f783-91e9-4890-801b-46adfe504d6c",
   "metadata": {},
   "outputs": [],
   "source": [
    "train = Dataset(os.path.join(output_path, \"train\", \"*.parquet\"), part_size=\"500MB\")\n",
    "valid = Dataset(os.path.join(output_path, \"valid\", \"*.parquet\"), part_size=\"500MB\")\n",
    "\n",
    "# define schema object\n",
    "schema = train.schema.without(['event_time_ts', 'user_id_raw', 'product_id_raw'])"
   ]
  },
  {
   "cell_type": "code",
   "execution_count": 11,
   "id": "68f54857-5c5e-4720-aa4b-dff9f81ef3a4",
   "metadata": {},
   "outputs": [
    {
     "data": {
      "text/plain": [
       "'target'"
      ]
     },
     "execution_count": 11,
     "metadata": {},
     "output_type": "execute_result"
    }
   ],
   "source": [
    "target_column = schema.select_by_tag(Tags.TARGET).column_names[0]\n",
    "target_column"
   ]
  },
  {
   "cell_type": "code",
   "execution_count": 12,
   "id": "ac158690-458b-4030-a6b7-e98842a7baac",
   "metadata": {},
   "outputs": [
    {
     "data": {
      "text/html": [
       "<div>\n",
       "<style scoped>\n",
       "    .dataframe tbody tr th:only-of-type {\n",
       "        vertical-align: middle;\n",
       "    }\n",
       "\n",
       "    .dataframe tbody tr th {\n",
       "        vertical-align: top;\n",
       "    }\n",
       "\n",
       "    .dataframe thead th {\n",
       "        text-align: right;\n",
       "    }\n",
       "</style>\n",
       "<table border=\"1\" class=\"dataframe\">\n",
       "  <thead>\n",
       "    <tr style=\"text-align: right;\">\n",
       "      <th></th>\n",
       "      <th>name</th>\n",
       "      <th>tags</th>\n",
       "      <th>dtype</th>\n",
       "      <th>is_list</th>\n",
       "      <th>is_ragged</th>\n",
       "      <th>properties.num_buckets</th>\n",
       "      <th>properties.freq_threshold</th>\n",
       "      <th>properties.max_size</th>\n",
       "      <th>properties.start_index</th>\n",
       "      <th>properties.cat_path</th>\n",
       "      <th>properties.embedding_sizes.cardinality</th>\n",
       "      <th>properties.embedding_sizes.dimension</th>\n",
       "      <th>properties.domain.min</th>\n",
       "      <th>properties.domain.max</th>\n",
       "    </tr>\n",
       "  </thead>\n",
       "  <tbody>\n",
       "    <tr>\n",
       "      <th>0</th>\n",
       "      <td>user_id</td>\n",
       "      <td>(Tags.CATEGORICAL, Tags.USER, Tags.USER_ID)</td>\n",
       "      <td>int32</td>\n",
       "      <td>False</td>\n",
       "      <td>False</td>\n",
       "      <td>NaN</td>\n",
       "      <td>0.0</td>\n",
       "      <td>0.0</td>\n",
       "      <td>0.0</td>\n",
       "      <td>.//categories/unique.user_id.parquet</td>\n",
       "      <td>351050.0</td>\n",
       "      <td>512.0</td>\n",
       "      <td>0.0</td>\n",
       "      <td>351049.0</td>\n",
       "    </tr>\n",
       "    <tr>\n",
       "      <th>1</th>\n",
       "      <td>ts_weekday</td>\n",
       "      <td>(Tags.CATEGORICAL, Tags.USER)</td>\n",
       "      <td>int32</td>\n",
       "      <td>False</td>\n",
       "      <td>False</td>\n",
       "      <td>NaN</td>\n",
       "      <td>0.0</td>\n",
       "      <td>0.0</td>\n",
       "      <td>0.0</td>\n",
       "      <td>.//categories/unique.ts_weekday.parquet</td>\n",
       "      <td>8.0</td>\n",
       "      <td>16.0</td>\n",
       "      <td>0.0</td>\n",
       "      <td>7.0</td>\n",
       "    </tr>\n",
       "    <tr>\n",
       "      <th>2</th>\n",
       "      <td>ts_hour</td>\n",
       "      <td>(Tags.CATEGORICAL, Tags.USER)</td>\n",
       "      <td>int32</td>\n",
       "      <td>False</td>\n",
       "      <td>False</td>\n",
       "      <td>NaN</td>\n",
       "      <td>0.0</td>\n",
       "      <td>0.0</td>\n",
       "      <td>0.0</td>\n",
       "      <td>.//categories/unique.ts_hour.parquet</td>\n",
       "      <td>25.0</td>\n",
       "      <td>16.0</td>\n",
       "      <td>0.0</td>\n",
       "      <td>24.0</td>\n",
       "    </tr>\n",
       "    <tr>\n",
       "      <th>3</th>\n",
       "      <td>product_id</td>\n",
       "      <td>(Tags.ITEM, Tags.ITEM_ID, Tags.CATEGORICAL)</td>\n",
       "      <td>int32</td>\n",
       "      <td>False</td>\n",
       "      <td>False</td>\n",
       "      <td>NaN</td>\n",
       "      <td>0.0</td>\n",
       "      <td>0.0</td>\n",
       "      <td>0.0</td>\n",
       "      <td>.//categories/unique.product_id.parquet</td>\n",
       "      <td>51425.0</td>\n",
       "      <td>512.0</td>\n",
       "      <td>0.0</td>\n",
       "      <td>51424.0</td>\n",
       "    </tr>\n",
       "    <tr>\n",
       "      <th>4</th>\n",
       "      <td>cat_0</td>\n",
       "      <td>(Tags.ITEM, Tags.CATEGORICAL)</td>\n",
       "      <td>int32</td>\n",
       "      <td>False</td>\n",
       "      <td>False</td>\n",
       "      <td>NaN</td>\n",
       "      <td>0.0</td>\n",
       "      <td>0.0</td>\n",
       "      <td>0.0</td>\n",
       "      <td>.//categories/unique.cat_0.parquet</td>\n",
       "      <td>14.0</td>\n",
       "      <td>16.0</td>\n",
       "      <td>0.0</td>\n",
       "      <td>13.0</td>\n",
       "    </tr>\n",
       "    <tr>\n",
       "      <th>5</th>\n",
       "      <td>cat_1</td>\n",
       "      <td>(Tags.ITEM, Tags.CATEGORICAL)</td>\n",
       "      <td>int32</td>\n",
       "      <td>False</td>\n",
       "      <td>False</td>\n",
       "      <td>NaN</td>\n",
       "      <td>0.0</td>\n",
       "      <td>0.0</td>\n",
       "      <td>0.0</td>\n",
       "      <td>.//categories/unique.cat_1.parquet</td>\n",
       "      <td>61.0</td>\n",
       "      <td>16.0</td>\n",
       "      <td>0.0</td>\n",
       "      <td>60.0</td>\n",
       "    </tr>\n",
       "    <tr>\n",
       "      <th>6</th>\n",
       "      <td>cat_2</td>\n",
       "      <td>(Tags.ITEM, Tags.CATEGORICAL)</td>\n",
       "      <td>int32</td>\n",
       "      <td>False</td>\n",
       "      <td>False</td>\n",
       "      <td>NaN</td>\n",
       "      <td>0.0</td>\n",
       "      <td>0.0</td>\n",
       "      <td>0.0</td>\n",
       "      <td>.//categories/unique.cat_2.parquet</td>\n",
       "      <td>90.0</td>\n",
       "      <td>20.0</td>\n",
       "      <td>0.0</td>\n",
       "      <td>89.0</td>\n",
       "    </tr>\n",
       "    <tr>\n",
       "      <th>7</th>\n",
       "      <td>brand</td>\n",
       "      <td>(Tags.ITEM, Tags.CATEGORICAL)</td>\n",
       "      <td>int32</td>\n",
       "      <td>False</td>\n",
       "      <td>False</td>\n",
       "      <td>NaN</td>\n",
       "      <td>0.0</td>\n",
       "      <td>0.0</td>\n",
       "      <td>0.0</td>\n",
       "      <td>.//categories/unique.brand.parquet</td>\n",
       "      <td>2654.0</td>\n",
       "      <td>132.0</td>\n",
       "      <td>0.0</td>\n",
       "      <td>2653.0</td>\n",
       "    </tr>\n",
       "    <tr>\n",
       "      <th>8</th>\n",
       "      <td>price</td>\n",
       "      <td>(Tags.ITEM, Tags.CONTINUOUS)</td>\n",
       "      <td>float32</td>\n",
       "      <td>False</td>\n",
       "      <td>False</td>\n",
       "      <td>NaN</td>\n",
       "      <td>NaN</td>\n",
       "      <td>NaN</td>\n",
       "      <td>NaN</td>\n",
       "      <td>NaN</td>\n",
       "      <td>NaN</td>\n",
       "      <td>NaN</td>\n",
       "      <td>NaN</td>\n",
       "      <td>NaN</td>\n",
       "    </tr>\n",
       "    <tr>\n",
       "      <th>9</th>\n",
       "      <td>relative_price</td>\n",
       "      <td>(Tags.ITEM, Tags.CONTINUOUS)</td>\n",
       "      <td>float32</td>\n",
       "      <td>False</td>\n",
       "      <td>False</td>\n",
       "      <td>NaN</td>\n",
       "      <td>NaN</td>\n",
       "      <td>NaN</td>\n",
       "      <td>NaN</td>\n",
       "      <td>NaN</td>\n",
       "      <td>NaN</td>\n",
       "      <td>NaN</td>\n",
       "      <td>NaN</td>\n",
       "      <td>NaN</td>\n",
       "    </tr>\n",
       "    <tr>\n",
       "      <th>10</th>\n",
       "      <td>TE_user_id_target</td>\n",
       "      <td>(Tags.ITEM, Tags.CONTINUOUS)</td>\n",
       "      <td>float32</td>\n",
       "      <td>False</td>\n",
       "      <td>False</td>\n",
       "      <td>NaN</td>\n",
       "      <td>NaN</td>\n",
       "      <td>NaN</td>\n",
       "      <td>NaN</td>\n",
       "      <td>NaN</td>\n",
       "      <td>NaN</td>\n",
       "      <td>NaN</td>\n",
       "      <td>NaN</td>\n",
       "      <td>NaN</td>\n",
       "    </tr>\n",
       "    <tr>\n",
       "      <th>11</th>\n",
       "      <td>TE_brand_target</td>\n",
       "      <td>(Tags.ITEM, Tags.CONTINUOUS)</td>\n",
       "      <td>float32</td>\n",
       "      <td>False</td>\n",
       "      <td>False</td>\n",
       "      <td>NaN</td>\n",
       "      <td>NaN</td>\n",
       "      <td>NaN</td>\n",
       "      <td>NaN</td>\n",
       "      <td>NaN</td>\n",
       "      <td>NaN</td>\n",
       "      <td>NaN</td>\n",
       "      <td>NaN</td>\n",
       "      <td>NaN</td>\n",
       "    </tr>\n",
       "    <tr>\n",
       "      <th>12</th>\n",
       "      <td>TE_cat_1_target</td>\n",
       "      <td>(Tags.ITEM, Tags.CONTINUOUS)</td>\n",
       "      <td>float32</td>\n",
       "      <td>False</td>\n",
       "      <td>False</td>\n",
       "      <td>NaN</td>\n",
       "      <td>NaN</td>\n",
       "      <td>NaN</td>\n",
       "      <td>NaN</td>\n",
       "      <td>NaN</td>\n",
       "      <td>NaN</td>\n",
       "      <td>NaN</td>\n",
       "      <td>NaN</td>\n",
       "      <td>NaN</td>\n",
       "    </tr>\n",
       "    <tr>\n",
       "      <th>13</th>\n",
       "      <td>TE_cat_2_target</td>\n",
       "      <td>(Tags.ITEM, Tags.CONTINUOUS)</td>\n",
       "      <td>float32</td>\n",
       "      <td>False</td>\n",
       "      <td>False</td>\n",
       "      <td>NaN</td>\n",
       "      <td>NaN</td>\n",
       "      <td>NaN</td>\n",
       "      <td>NaN</td>\n",
       "      <td>NaN</td>\n",
       "      <td>NaN</td>\n",
       "      <td>NaN</td>\n",
       "      <td>NaN</td>\n",
       "      <td>NaN</td>\n",
       "    </tr>\n",
       "    <tr>\n",
       "      <th>14</th>\n",
       "      <td>target</td>\n",
       "      <td>(Tags.TARGET, Tags.BINARY_CLASSIFICATION)</td>\n",
       "      <td>int32</td>\n",
       "      <td>False</td>\n",
       "      <td>False</td>\n",
       "      <td>NaN</td>\n",
       "      <td>NaN</td>\n",
       "      <td>NaN</td>\n",
       "      <td>NaN</td>\n",
       "      <td>NaN</td>\n",
       "      <td>NaN</td>\n",
       "      <td>NaN</td>\n",
       "      <td>NaN</td>\n",
       "      <td>NaN</td>\n",
       "    </tr>\n",
       "  </tbody>\n",
       "</table>\n",
       "</div>"
      ],
      "text/plain": [
       "[{'name': 'user_id', 'tags': {<Tags.CATEGORICAL: 'categorical'>, <Tags.USER: 'user'>, <Tags.USER_ID: 'user_id'>}, 'properties': {'num_buckets': None, 'freq_threshold': 0.0, 'max_size': 0.0, 'start_index': 0.0, 'cat_path': './/categories/unique.user_id.parquet', 'embedding_sizes': {'cardinality': 351050.0, 'dimension': 512.0}, 'domain': {'min': 0, 'max': 351049}}, 'dtype': dtype('int32'), 'is_list': False, 'is_ragged': False}, {'name': 'ts_weekday', 'tags': {<Tags.CATEGORICAL: 'categorical'>, <Tags.USER: 'user'>}, 'properties': {'num_buckets': None, 'freq_threshold': 0.0, 'max_size': 0.0, 'start_index': 0.0, 'cat_path': './/categories/unique.ts_weekday.parquet', 'embedding_sizes': {'cardinality': 8.0, 'dimension': 16.0}, 'domain': {'min': 0, 'max': 7}}, 'dtype': dtype('int32'), 'is_list': False, 'is_ragged': False}, {'name': 'ts_hour', 'tags': {<Tags.CATEGORICAL: 'categorical'>, <Tags.USER: 'user'>}, 'properties': {'num_buckets': None, 'freq_threshold': 0.0, 'max_size': 0.0, 'start_index': 0.0, 'cat_path': './/categories/unique.ts_hour.parquet', 'embedding_sizes': {'cardinality': 25.0, 'dimension': 16.0}, 'domain': {'min': 0, 'max': 24}}, 'dtype': dtype('int32'), 'is_list': False, 'is_ragged': False}, {'name': 'product_id', 'tags': {<Tags.ITEM: 'item'>, <Tags.ITEM_ID: 'item_id'>, <Tags.CATEGORICAL: 'categorical'>}, 'properties': {'num_buckets': None, 'freq_threshold': 0.0, 'max_size': 0.0, 'start_index': 0.0, 'cat_path': './/categories/unique.product_id.parquet', 'embedding_sizes': {'cardinality': 51425.0, 'dimension': 512.0}, 'domain': {'min': 0, 'max': 51424}}, 'dtype': dtype('int32'), 'is_list': False, 'is_ragged': False}, {'name': 'cat_0', 'tags': {<Tags.ITEM: 'item'>, <Tags.CATEGORICAL: 'categorical'>}, 'properties': {'num_buckets': None, 'freq_threshold': 0.0, 'max_size': 0.0, 'start_index': 0.0, 'cat_path': './/categories/unique.cat_0.parquet', 'embedding_sizes': {'cardinality': 14.0, 'dimension': 16.0}, 'domain': {'min': 0, 'max': 13}}, 'dtype': dtype('int32'), 'is_list': False, 'is_ragged': False}, {'name': 'cat_1', 'tags': {<Tags.ITEM: 'item'>, <Tags.CATEGORICAL: 'categorical'>}, 'properties': {'num_buckets': None, 'freq_threshold': 0.0, 'max_size': 0.0, 'start_index': 0.0, 'cat_path': './/categories/unique.cat_1.parquet', 'embedding_sizes': {'cardinality': 61.0, 'dimension': 16.0}, 'domain': {'min': 0, 'max': 60}}, 'dtype': dtype('int32'), 'is_list': False, 'is_ragged': False}, {'name': 'cat_2', 'tags': {<Tags.ITEM: 'item'>, <Tags.CATEGORICAL: 'categorical'>}, 'properties': {'num_buckets': None, 'freq_threshold': 0.0, 'max_size': 0.0, 'start_index': 0.0, 'cat_path': './/categories/unique.cat_2.parquet', 'embedding_sizes': {'cardinality': 90.0, 'dimension': 20.0}, 'domain': {'min': 0, 'max': 89}}, 'dtype': dtype('int32'), 'is_list': False, 'is_ragged': False}, {'name': 'brand', 'tags': {<Tags.ITEM: 'item'>, <Tags.CATEGORICAL: 'categorical'>}, 'properties': {'num_buckets': None, 'freq_threshold': 0.0, 'max_size': 0.0, 'start_index': 0.0, 'cat_path': './/categories/unique.brand.parquet', 'embedding_sizes': {'cardinality': 2654.0, 'dimension': 132.0}, 'domain': {'min': 0, 'max': 2653}}, 'dtype': dtype('int32'), 'is_list': False, 'is_ragged': False}, {'name': 'price', 'tags': {<Tags.ITEM: 'item'>, <Tags.CONTINUOUS: 'continuous'>}, 'properties': {}, 'dtype': dtype('float32'), 'is_list': False, 'is_ragged': False}, {'name': 'relative_price', 'tags': {<Tags.ITEM: 'item'>, <Tags.CONTINUOUS: 'continuous'>}, 'properties': {}, 'dtype': dtype('float32'), 'is_list': False, 'is_ragged': False}, {'name': 'TE_user_id_target', 'tags': {<Tags.ITEM: 'item'>, <Tags.CONTINUOUS: 'continuous'>}, 'properties': {}, 'dtype': dtype('float32'), 'is_list': False, 'is_ragged': False}, {'name': 'TE_brand_target', 'tags': {<Tags.ITEM: 'item'>, <Tags.CONTINUOUS: 'continuous'>}, 'properties': {}, 'dtype': dtype('float32'), 'is_list': False, 'is_ragged': False}, {'name': 'TE_cat_1_target', 'tags': {<Tags.ITEM: 'item'>, <Tags.CONTINUOUS: 'continuous'>}, 'properties': {}, 'dtype': dtype('float32'), 'is_list': False, 'is_ragged': False}, {'name': 'TE_cat_2_target', 'tags': {<Tags.ITEM: 'item'>, <Tags.CONTINUOUS: 'continuous'>}, 'properties': {}, 'dtype': dtype('float32'), 'is_list': False, 'is_ragged': False}, {'name': 'target', 'tags': {<Tags.TARGET: 'target'>, <Tags.BINARY_CLASSIFICATION: 'binary_classification'>}, 'properties': {}, 'dtype': dtype('int32'), 'is_list': False, 'is_ragged': False}]"
      ]
     },
     "execution_count": 12,
     "metadata": {},
     "output_type": "execute_result"
    }
   ],
   "source": [
    "schema"
   ]
  },
  {
   "cell_type": "code",
   "execution_count": 13,
   "id": "55dc7fe8-77cc-498c-b09a-52649f516ff7",
   "metadata": {},
   "outputs": [],
   "source": [
    "batch = mm.sample_batch(train, batch_size=16, shuffle=False, include_targets=False)"
   ]
  },
  {
   "cell_type": "markdown",
   "id": "68cb8a3b-e60e-4815-9d72-c7d0e6c6ca6f",
   "metadata": {},
   "source": [
    "### 1. Add HashedCross features to DLRM Model"
   ]
  },
  {
   "cell_type": "markdown",
   "id": "e3798197-6498-4f13-bc11-e85438e6909e",
   "metadata": {},
   "source": [
    "Let's explain the functions and blocks that we use to build our DLRM model from scratch. The `Block` is the core abstraction in Merlin Models and is the class from which all blocks inherit. The class extends the tf.keras.layers.Layer base class and implements a number of properties that simplify the creation of custom blocks and models. These properties include the Schema object for determining the embedding dimensions, input shapes, and output shapes. Additionally, the Block has a ModelContext instance to store and retrieve public variables and share them with other blocks in the same model as additional meta-data."
   ]
  },
  {
   "cell_type": "markdown",
   "id": "8ef933f6-6d90-4b28-92c3-e50f67a4f6dd",
   "metadata": {},
   "source": [
    "**Features Blocks** <br>\n",
    "\n",
    "`Embeddings:` Creates a ParallelBlock with an EmbeddingTable for each categorical feature in the schema. <br>\n",
    "`ContinuousFeatures:` Input block for continuous features."
   ]
  },
  {
   "cell_type": "markdown",
   "id": "28bbe8bf-43c5-4cc4-aa48-032eb51bdb3f",
   "metadata": {},
   "source": [
    "**Connects Methods** <br>\n",
    "The base class Block implements different connects methods that control how to link a given block to other blocks:\n",
    "\n",
    "- `connect:` Connect the block to other blocks sequentially. The output is a tensor returned by the last block.\n",
    "- `connect_branch:` Link the block to other blocks in parallel. The output is a dictionary containing the output tensor of each block.\n",
    "- `connect_with_shortcut:` Connect the block to other blocks sequentially and apply a skip connection with the block's output.\n",
    "- `connect_with_residual:` Connect the block to other blocks sequentially and apply a residual sum with the block's output."
   ]
  },
  {
   "cell_type": "code",
   "execution_count": 14,
   "id": "8e00940a-ea06-4cc5-8903-eec4dc632da8",
   "metadata": {},
   "outputs": [],
   "source": [
    "continuous_block = mm.ContinuousFeatures.from_schema(schema, tags=Tags.CONTINUOUS)"
   ]
  },
  {
   "cell_type": "code",
   "execution_count": null,
   "id": "07ba9ea1-cdc2-47d8-b967-609c82fc7502",
   "metadata": {},
   "outputs": [],
   "source": [
    "Define bottom block where we "
   ]
  },
  {
   "cell_type": "code",
   "execution_count": null,
   "id": "47d2b697-7225-40c8-926a-057b4d350e1f",
   "metadata": {},
   "outputs": [],
   "source": [
    "bottom_block = continuous_block.connect(mm.MLPBlock([128,64]))"
   ]
  },
  {
   "cell_type": "code",
   "execution_count": 15,
   "id": "ab7f6ef7-c516-458f-bf9c-11ceb76ea72a",
   "metadata": {},
   "outputs": [],
   "source": [
    "from merlin.models.utils.schema_utils import infer_embedding_dim\n",
    "\n",
    "embeddings_block = mm.Embeddings(\n",
    "    schema.select_by_tag(Tags.CATEGORICAL),\n",
    "    dim = 64,\n",
    "    infer_dim_fn = infer_embedding_dim\n",
    ")"
   ]
  },
  {
   "cell_type": "code",
   "execution_count": 17,
   "id": "1eb9c543-1898-46bb-9239-46f78f80ef80",
   "metadata": {},
   "outputs": [],
   "source": [
    "dlrm_input_block = mm.ParallelBlock(\n",
    "    {\"embeddings\": embeddings_block, \"bottom_block\": bottom_block}\n",
    ")"
   ]
  },
  {
   "cell_type": "code",
   "execution_count": 18,
   "id": "97493d5a-3f1e-4e2a-a985-a4400d1e0a95",
   "metadata": {},
   "outputs": [],
   "source": [
    "from merlin.models.tf.blocks.dlrm import DotProductInteractionBlock\n",
    "\n",
    "dlrm_interaction = dlrm_input_block.connect_with_shortcut(\n",
    "    DotProductInteractionBlock(), shortcut_filter=mm.Filter(\"bottom_block\"), aggregation=\"concat\"\n",
    ")"
   ]
  },
  {
   "cell_type": "code",
   "execution_count": 19,
   "id": "a39548bc-d877-4255-855e-f462d98f632a",
   "metadata": {},
   "outputs": [],
   "source": [
    "cross_schema = schema.select_by_name(names=[\"cat_0\", \"cat_1\"])\n",
    "cross = mm.HashedCross(cross_schema, num_bins=10, output_mode=\"one_hot\")"
   ]
  },
  {
   "cell_type": "code",
   "execution_count": 20,
   "id": "e28be3e6-77d4-4ce5-9523-e1648f45e3c7",
   "metadata": {},
   "outputs": [
    {
     "data": {
      "text/plain": [
       "{'cross_cat_0_cat_1': <tf.Tensor: shape=(16, 10), dtype=float32, numpy=\n",
       " array([[0., 0., 0., 0., 0., 0., 1., 0., 0., 0.],\n",
       "        [0., 0., 0., 0., 0., 0., 1., 0., 0., 0.],\n",
       "        [0., 0., 0., 0., 0., 0., 0., 0., 1., 0.],\n",
       "        [0., 0., 0., 0., 0., 0., 0., 0., 1., 0.],\n",
       "        [0., 0., 0., 0., 0., 0., 0., 0., 1., 0.],\n",
       "        [0., 1., 0., 0., 0., 0., 0., 0., 0., 0.],\n",
       "        [0., 1., 0., 0., 0., 0., 0., 0., 0., 0.],\n",
       "        [0., 0., 0., 0., 1., 0., 0., 0., 0., 0.],\n",
       "        [0., 0., 0., 0., 0., 1., 0., 0., 0., 0.],\n",
       "        [0., 0., 0., 0., 0., 1., 0., 0., 0., 0.],\n",
       "        [0., 0., 0., 0., 0., 1., 0., 0., 0., 0.],\n",
       "        [0., 0., 0., 0., 0., 1., 0., 0., 0., 0.],\n",
       "        [0., 0., 0., 0., 0., 1., 0., 0., 0., 0.],\n",
       "        [0., 0., 0., 0., 0., 1., 0., 0., 0., 0.],\n",
       "        [0., 0., 0., 0., 0., 1., 0., 0., 0., 0.],\n",
       "        [0., 0., 0., 0., 1., 0., 0., 0., 0., 0.]], dtype=float32)>}"
      ]
     },
     "execution_count": 20,
     "metadata": {},
     "output_type": "execute_result"
    }
   ],
   "source": [
    "cross(batch)"
   ]
  },
  {
   "cell_type": "code",
   "execution_count": 21,
   "id": "fa0b1982-d047-4b8d-8ba0-ee1148d1fecf",
   "metadata": {},
   "outputs": [],
   "source": [
    "'''\n",
    "feature crossing with HashedCross class, creates a new feature\n",
    "take the weighted some \n",
    "'''\n",
    "\n",
    "cross_body = mm.HashedCross(cross_schema, num_bins=1000, output_mode=\"one_hot\").connect(\n",
    "    mm.MLPBlock([1], no_activation_last_layer=True), block_name='cross_model'\n",
    ")"
   ]
  },
  {
   "cell_type": "code",
   "execution_count": 22,
   "id": "566f3558-7e13-442b-9298-9153a0a577e3",
   "metadata": {},
   "outputs": [],
   "source": [
    "dlrm_with_crossbody = mm.ParallelBlock(\n",
    "    {\"dlrm_interaction\": dlrm_interaction, \"cross_body\": cross_body},\n",
    "    aggregation=\"concat\"\n",
    ")"
   ]
  },
  {
   "cell_type": "code",
   "execution_count": 23,
   "id": "d7350831-a4fa-46b0-af7e-731ba60c9fdd",
   "metadata": {},
   "outputs": [],
   "source": [
    "dlrm_with_cross = dlrm_with_crossbody.connect(mm.MLPBlock([64, 128, 256]))"
   ]
  },
  {
   "cell_type": "code",
   "execution_count": 24,
   "id": "529180ad-06c0-4a98-85e0-f5262cbc2438",
   "metadata": {},
   "outputs": [],
   "source": [
    "from merlin.models.tf.core.transformations import LogitsTemperatureScaler\n",
    "\n",
    "binary_task = mm.BinaryClassificationTask(\n",
    "    schema,\n",
    "    pre=LogitsTemperatureScaler(temperature=2),\n",
    ")"
   ]
  },
  {
   "cell_type": "markdown",
   "id": "75606e06-e2da-4afb-9bba-c9e5fb4c7b2f",
   "metadata": {},
   "source": [
    "**LogitsTemperatureScaler:** It scales the output tensor of predicted logits to lower the model's confidence."
   ]
  },
  {
   "cell_type": "code",
   "execution_count": 25,
   "id": "90df314f-d97f-4283-a96e-17bb2aedcddf",
   "metadata": {},
   "outputs": [],
   "source": [
    "model = mm.Model(dlrm_with_cross, binary_task)"
   ]
  },
  {
   "cell_type": "code",
   "execution_count": 26,
   "id": "9d379252-5cb9-45ed-a2fb-6c804a2a7d01",
   "metadata": {},
   "outputs": [
    {
     "name": "stdout",
     "output_type": "stream",
     "text": [
      "Epoch 1/2\n",
      "736/736 [==============================] - 18s 16ms/step - loss: 0.6381 - auc: 0.7338 - regularization_loss: 0.0000e+00 - val_loss: 0.6981 - val_auc: 0.6285 - val_regularization_loss: 0.0000e+00\n",
      "Epoch 2/2\n",
      "736/736 [==============================] - 11s 15ms/step - loss: 0.5579 - auc: 0.8046 - regularization_loss: 0.0000e+00 - val_loss: 0.7334 - val_auc: 0.6183 - val_regularization_loss: 0.0000e+00\n",
      "CPU times: user 53.2 s, sys: 8.23 s, total: 1min 1s\n",
      "Wall time: 30.6 s\n"
     ]
    },
    {
     "data": {
      "text/plain": [
       "<keras.callbacks.History at 0x7f00aece8f70>"
      ]
     },
     "execution_count": 26,
     "metadata": {},
     "output_type": "execute_result"
    }
   ],
   "source": [
    "%%time \n",
    "model.compile(optimizer='adam', run_eagerly=False, metrics=[tf.keras.metrics.AUC()])\n",
    "model.fit(train, validation_data=valid, batch_size=4096, epochs=2)"
   ]
  },
  {
   "cell_type": "markdown",
   "id": "7fbb593a-7630-415b-a4ca-707d4821885d",
   "metadata": {},
   "source": [
    "### 2. Replace `DotProductInteractionBlock` with `CrossBlock`"
   ]
  },
  {
   "cell_type": "code",
   "execution_count": 27,
   "id": "5a909456-3b7d-4000-8cc5-73d75ce22b4e",
   "metadata": {},
   "outputs": [],
   "source": [
    "continuous_block = mm.ContinuousFeatures.from_schema(schema, tags=Tags.CONTINUOUS)\n",
    "bottom_block = continuous_block.connect(mm.MLPBlock([128,64]))"
   ]
  },
  {
   "cell_type": "code",
   "execution_count": 28,
   "id": "5fbd8642-f428-4608-82c9-24b5ae5acfa4",
   "metadata": {},
   "outputs": [],
   "source": [
    "emb_init = tf.keras.initializers.TruncatedNormal(\n",
    "    mean=0.0, stddev=0.05\n",
    ")\n",
    "\n",
    "embeddings_block = mm.Embeddings(\n",
    "    schema.select_by_tag(Tags.CATEGORICAL),\n",
    "    dim = 64\n",
    ")"
   ]
  },
  {
   "cell_type": "code",
   "execution_count": 29,
   "id": "f41dfd9d-4f41-4ae6-b138-1ac0215cd8cc",
   "metadata": {},
   "outputs": [
    {
     "data": {
      "text/plain": [
       "ParallelBlock(\n",
       "  (parallel_layers): Dict(\n",
       "    (user_id): EmbeddingTable(\n",
       "      (table): Embedding()\n",
       "    )\n",
       "    (ts_weekday): EmbeddingTable(\n",
       "      (table): Embedding()\n",
       "    )\n",
       "    (ts_hour): EmbeddingTable(\n",
       "      (table): Embedding()\n",
       "    )\n",
       "    (product_id): EmbeddingTable(\n",
       "      (table): Embedding()\n",
       "    )\n",
       "    (cat_0): EmbeddingTable(\n",
       "      (table): Embedding()\n",
       "    )\n",
       "    (cat_1): EmbeddingTable(\n",
       "      (table): Embedding()\n",
       "    )\n",
       "    (cat_2): EmbeddingTable(\n",
       "      (table): Embedding()\n",
       "    )\n",
       "    (brand): EmbeddingTable(\n",
       "      (table): Embedding()\n",
       "    )\n",
       "  )\n",
       ")"
      ]
     },
     "execution_count": 29,
     "metadata": {},
     "output_type": "execute_result"
    }
   ],
   "source": [
    "embeddings_block"
   ]
  },
  {
   "cell_type": "code",
   "execution_count": 30,
   "id": "07637d5e-7b1a-41d0-8524-af984010edb6",
   "metadata": {},
   "outputs": [
    {
     "data": {
      "text/plain": [
       "(dict_keys(['user_id', 'ts_weekday', 'ts_hour', 'product_id', 'cat_0', 'cat_1', 'cat_2', 'brand']),\n",
       " TensorShape([16, 64]))"
      ]
     },
     "execution_count": 30,
     "metadata": {},
     "output_type": "execute_result"
    }
   ],
   "source": [
    "embeddings = embeddings_block(batch)\n",
    "embeddings.keys(), embeddings[\"user_id\"].shape"
   ]
  },
  {
   "cell_type": "code",
   "execution_count": 31,
   "id": "e08b40d5-ae35-4021-83f2-9d92f2ff0caf",
   "metadata": {},
   "outputs": [
    {
     "data": {
      "text/plain": [
       "(dict_keys(['user_id', 'ts_weekday', 'ts_hour', 'product_id', 'cat_0', 'cat_1', 'cat_2', 'brand']),\n",
       " TensorShape([16, 64]))"
      ]
     },
     "execution_count": 31,
     "metadata": {},
     "output_type": "execute_result"
    }
   ],
   "source": [
    "embeddings.keys(), embeddings[\"cat_0\"].shape"
   ]
  },
  {
   "cell_type": "code",
   "execution_count": 32,
   "id": "25516092-a8b1-4b6b-9831-bc6ebb7ab759",
   "metadata": {},
   "outputs": [],
   "source": [
    "dlrm_input_block = mm.ParallelBlock(\n",
    "    {\"embeddings\": embeddings_block, \"bottom_block\": bottom_block},\n",
    "    aggregation=\"concat\"\n",
    ")"
   ]
  },
  {
   "cell_type": "code",
   "execution_count": 35,
   "id": "85094466-458f-47a4-9715-fdc98eed7595",
   "metadata": {},
   "outputs": [
    {
     "data": {
      "text/plain": [
       "<tf.Tensor: shape=(16, 576), dtype=float32, numpy=\n",
       "array([[ 0.01392121,  0.45913607,  0.2622238 , ...,  0.04994252,\n",
       "         0.03101527,  0.04198844],\n",
       "       [ 0.        ,  0.41646555,  0.19901349, ...,  0.04994252,\n",
       "         0.03101527,  0.04198844],\n",
       "       [ 0.52526206,  0.20520255,  0.15573373, ...,  0.04994252,\n",
       "         0.03101527,  0.04198844],\n",
       "       ...,\n",
       "       [ 0.        ,  0.        ,  0.        , ..., -0.01256059,\n",
       "        -0.02746077,  0.03332857],\n",
       "       [ 0.        ,  0.        ,  0.        , ..., -0.01256059,\n",
       "        -0.02746077,  0.03332857],\n",
       "       [ 0.4295384 ,  0.12559405,  0.37185472, ..., -0.0059145 ,\n",
       "        -0.00363963, -0.04372158]], dtype=float32)>"
      ]
     },
     "execution_count": 35,
     "metadata": {},
     "output_type": "execute_result"
    }
   ],
   "source": [
    "dlrm_input_block(batch)"
   ]
  },
  {
   "cell_type": "code",
   "execution_count": 36,
   "id": "1bfdf45e-d33e-428d-8cf7-bc14f08a0474",
   "metadata": {},
   "outputs": [],
   "source": [
    "#stacked\n",
    "dcn_body = dlrm_input_block.connect(mm.CrossBlock(2))"
   ]
  },
  {
   "cell_type": "code",
   "execution_count": 37,
   "id": "66967ff1-584e-4d74-b1f4-c554528e4a0f",
   "metadata": {},
   "outputs": [
    {
     "data": {
      "text/plain": [
       "<tf.Tensor: shape=(16, 576), dtype=float32, numpy=\n",
       "array([[ 0.0170048 ,  0.5523888 ,  0.23968421, ...,  0.03922804,\n",
       "         0.0300741 ,  0.0384398 ],\n",
       "       [ 0.        ,  0.5237767 ,  0.18938303, ...,  0.03893476,\n",
       "         0.03084259,  0.03894754],\n",
       "       [ 0.55330867,  0.20533781,  0.14267543, ...,  0.04886024,\n",
       "         0.02984576,  0.03495263],\n",
       "       ...,\n",
       "       [ 0.        ,  0.        ,  0.        , ..., -0.0125942 ,\n",
       "        -0.02835404,  0.03097234],\n",
       "       [ 0.        ,  0.        ,  0.        , ..., -0.01287693,\n",
       "        -0.02807443,  0.03240041],\n",
       "       [ 0.51761013,  0.1155797 ,  0.3613554 , ..., -0.00556562,\n",
       "        -0.003835  , -0.04395641]], dtype=float32)>"
      ]
     },
     "execution_count": 37,
     "metadata": {},
     "output_type": "execute_result"
    }
   ],
   "source": [
    "dcn_body(batch)"
   ]
  },
  {
   "cell_type": "code",
   "execution_count": 38,
   "id": "bded3273-e725-4695-9c59-6636c99f56dd",
   "metadata": {},
   "outputs": [],
   "source": [
    "dlrm_interaction = mm.ParallelBlock(\n",
    "    {\"dcn_body\": dcn_body, \"bottom_block\": bottom_block},\n",
    "    aggregation=\"concat\"\n",
    ")                                                "
   ]
  },
  {
   "cell_type": "code",
   "execution_count": 39,
   "id": "f59d8df5-5c03-4f4c-84d4-ac61d22060f3",
   "metadata": {},
   "outputs": [
    {
     "data": {
      "text/plain": [
       "<tf.Tensor: shape=(16, 512), dtype=float32, numpy=\n",
       "array([[0.        , 0.        , 0.        , ..., 0.        , 0.        ,\n",
       "        0.00122097],\n",
       "       [0.        , 0.        , 0.        , ..., 0.        , 0.        ,\n",
       "        0.        ],\n",
       "       [0.        , 0.01111526, 0.01226175, ..., 0.        , 0.        ,\n",
       "        0.        ],\n",
       "       ...,\n",
       "       [0.        , 0.01572819, 0.        , ..., 0.00240139, 0.        ,\n",
       "        0.00226653],\n",
       "       [0.        , 0.01243099, 0.00301217, ..., 0.01021571, 0.00198259,\n",
       "        0.        ],\n",
       "       [0.        , 0.        , 0.        , ..., 0.02407214, 0.        ,\n",
       "        0.03056245]], dtype=float32)>"
      ]
     },
     "execution_count": 39,
     "metadata": {},
     "output_type": "execute_result"
    }
   ],
   "source": [
    "deep_dlrm_interaction = dlrm_interaction.connect(mm.MLPBlock([64, 128, 512]))\n",
    "deep_dlrm_interaction(batch)"
   ]
  },
  {
   "cell_type": "code",
   "execution_count": 40,
   "id": "267c9422-4f32-4b8c-bdaf-ffb8a36ca775",
   "metadata": {},
   "outputs": [],
   "source": [
    "from merlin.models.tf.core.transformations import LogitsTemperatureScaler\n",
    "\n",
    "binary_task = mm.BinaryClassificationTask(\n",
    "    schema,\n",
    "    pre=LogitsTemperatureScaler(temperature=2),\n",
    ")"
   ]
  },
  {
   "cell_type": "code",
   "execution_count": 41,
   "id": "bff8aa41-cee8-40f3-b494-7bc31efce1d8",
   "metadata": {},
   "outputs": [],
   "source": [
    "model = mm.Model(deep_dlrm_interaction, binary_task)"
   ]
  },
  {
   "cell_type": "code",
   "execution_count": 42,
   "id": "ff6cf67b-72d8-4402-80cc-c169efbe85e3",
   "metadata": {},
   "outputs": [
    {
     "name": "stdout",
     "output_type": "stream",
     "text": [
      "Epoch 1/2\n",
      "736/736 [==============================] - 16s 17ms/step - loss: 0.6378 - auc_1: 0.7299 - regularization_loss: 0.0000e+00 - val_loss: 0.7210 - val_auc_1: 0.6354 - val_regularization_loss: 0.0000e+00\n",
      "Epoch 2/2\n",
      "736/736 [==============================] - 11s 15ms/step - loss: 0.5834 - auc_1: 0.7942 - regularization_loss: 0.0000e+00 - val_loss: 0.7422 - val_auc_1: 0.6272 - val_regularization_loss: 0.0000e+00\n",
      "CPU times: user 46.2 s, sys: 8.2 s, total: 54.4 s\n",
      "Wall time: 27.5 s\n"
     ]
    },
    {
     "data": {
      "text/plain": [
       "<keras.callbacks.History at 0x7f00a3f5f5b0>"
      ]
     },
     "execution_count": 42,
     "metadata": {},
     "output_type": "execute_result"
    }
   ],
   "source": [
    "%%time \n",
    "model.compile(optimizer='adam', run_eagerly=False, metrics=[tf.keras.metrics.AUC()])\n",
    "model.fit(train, validation_data=valid, batch_size=4096, epochs=2)"
   ]
  },
  {
   "cell_type": "markdown",
   "id": "e3c502f0-1c0c-4e58-9801-a9b296dba374",
   "metadata": {},
   "source": [
    "### Summary "
   ]
  },
  {
   "cell_type": "markdown",
   "id": "44e94162-fd41-477b-ab10-f2e603dc6bd2",
   "metadata": {},
   "source": [
    "In this hands-on lab we learned\n",
    "\n",
    "- how to use a subset of these pre-existing blocks to create the DLRM model\n",
    "- how to add HashedCross features to DLRM Model\n",
    "- how to replace DotProductInteractionBlock with CrossBlock"
   ]
  },
  {
   "cell_type": "markdown",
   "id": "218e00ae-59e1-4934-ae69-dd05d13a246c",
   "metadata": {},
   "source": [
    "Please execute the cell below to shut down the kernel before moving on to the next notebook, `04-Building-multi-stage-RecSys-with-Merlin-Systems`."
   ]
  },
  {
   "cell_type": "code",
   "execution_count": null,
   "id": "e4e28231-85dd-4f17-8243-75a4d9c94b1e",
   "metadata": {},
   "outputs": [],
   "source": [
    "import IPython\n",
    "app = IPython.Application.instance()\n",
    "app.kernel.do_shutdown(True)"
   ]
  }
 ],
 "metadata": {
  "kernelspec": {
   "display_name": "Python 3",
   "language": "python",
   "name": "python3"
  },
  "language_info": {
   "codemirror_mode": {
    "name": "ipython",
    "version": 3
   },
   "file_extension": ".py",
   "mimetype": "text/x-python",
   "name": "python",
   "nbconvert_exporter": "python",
   "pygments_lexer": "ipython3",
   "version": "3.8.12"
  }
 },
 "nbformat": 4,
 "nbformat_minor": 5
}
